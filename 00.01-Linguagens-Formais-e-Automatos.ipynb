{
 "cells": [
  {
   "cell_type": "markdown",
   "metadata": {
    "slideshow": {
     "slide_type": "skip"
    }
   },
   "source": [
    "<a target=\"_blank\" href=\"https://colab.research.google.com/github/paulotguerra/QXD0046/blob/main/00.01-Linguagens-Formais-e-Automatos.ipynb\">\n",
    "  <img src=\"https://colab.research.google.com/assets/colab-badge.svg\" alt=\"Open In Colab\"/>\n",
    "</a>"
   ]
  },
  {
   "cell_type": "markdown",
   "metadata": {
    "slideshow": {
     "slide_type": "slide"
    }
   },
   "source": [
    "## QXD0046 - Teoria da Computação\n",
    "# Revisão: Linguagens Formais e Autômatos\n",
    "**Professor**: Paulo de Tarso Guerra ([paulodetarso@ufc.br](mailto:paulodetarso@ufc.br))"
   ]
  },
  {
   "cell_type": "markdown",
   "metadata": {
    "id": "VabmJSkYCxVy",
    "slideshow": {
     "slide_type": "slide"
    }
   },
   "source": [
    "# Autômato Finito Determinístico"
   ]
  },
  {
   "cell_type": "markdown",
   "metadata": {
    "id": "FF48mzgKvC7u",
    "slideshow": {
     "slide_type": "subslide"
    }
   },
   "source": [
    "Os **autômatos finitos determinísticos** (AFD) são modelos de computação que representam o que chamamos de máquina de estados: uma representação conceitual da dinâmica de execução de um computador perante uma determinada entrada. Os AFDs autômatos são capazes de realizar tarefas simples, como reconhecer ou não cadeias de uma linguagem."
   ]
  },
  {
   "cell_type": "markdown",
   "metadata": {
    "slideshow": {
     "slide_type": "subslide"
    }
   },
   "source": [
    "Graficamente, descrevemos um AFD por meio de uma representação de círculos, representando estados, ligados por arestas rotuladas, que descrevem os elementos motivam a transição de estados."
   ]
  },
  {
   "cell_type": "markdown",
   "metadata": {
    "id": "wCdcZpY0_EkY",
    "slideshow": {
     "slide_type": "subslide"
    }
   },
   "source": [
    "**Figura 1**: Exemplo de diagrama de estados de um AFD.\n",
    "\n",
    "![image.png](data:image/png;base64,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)"
   ]
  },
  {
   "cell_type": "markdown",
   "metadata": {
    "id": "Fu_kp84oAXcf",
    "slideshow": {
     "slide_type": "fragment"
    }
   },
   "source": [
    "A figura acima representa um autômato com dois estados, `q0` e `q1`. O autômato inicia no estado `q0`, indicado por uma seta sem origem em outro estado. Os rótulos das setas indicam os possíveis fatos motivadores de uma mudança de estado. "
   ]
  },
  {
   "cell_type": "markdown",
   "metadata": {
    "id": "Fu_kp84oAXcf",
    "slideshow": {
     "slide_type": "fragment"
    }
   },
   "source": [
    "Por exemplo, no estado `q0`, a leitura de um símbolo `b` faz com que o autômato altere seu estado de `q0` para `q1`. Neste mesmo estado, porém, a leitura de um símbolo `a` não desencadeia a mudança para outro estado, permanecendo em `q0`. O autômato aceita uma cadeia se após as transições ele parar em no estado de aceitação `q1`, indicado na figura por um duplo círculo."
   ]
  },
  {
   "cell_type": "markdown",
   "metadata": {
    "id": "qxCW2B0E3AUn",
    "slideshow": {
     "slide_type": "subslide"
    }
   },
   "source": [
    "Os AFDs são formalmente definidos como segue:\n",
    "\n",
    "**Definição 1**: Um autômato finito determinístico é uma tupla $(Q, \\Sigma, \\delta, q_0, F)$, onde:\n",
    "1. $Q$ é um conjunto finito de símbolos de estado,\n",
    "1. $\\Sigma$ é um conjunto finito de símbolos de alfabeto,\n",
    "1. $\\delta : Q \\times \\Sigma \\rightarrow Q$ é a função de transição,\n",
    "1. $q_0 \\in Q$ é o estado inicial, e\n",
    "1. $F \\subseteq Q$ é o conjunto de estados de aceitação."
   ]
  },
  {
   "cell_type": "markdown",
   "metadata": {
    "slideshow": {
     "slide_type": "subslide"
    }
   },
   "source": [
    "Podemos definir o AFD ilustrado na Figura 1 formalmente como\n",
    "\n",
    "$$M = (\\{q_0,q_1\\}, \\{a,b\\}, \\delta, q_0, \\{q_1\\})$$\n",
    "\n",
    "onde $\\delta(q_0,a)=q_0, \\delta(q_0,b)=q_1, \\delta(q_1,a)=q_1 $ e $\\delta(q_1,b)=q_1$."
   ]
  },
  {
   "cell_type": "markdown",
   "metadata": {
    "slideshow": {
     "slide_type": "subslide"
    }
   },
   "source": [
    "Seja $M = (Q, \\Sigma, \\delta, q_0, F)$ um AFD e $w = w_1w_2...w_n$ uma cadeia sobre $\\Sigma$, dizemos que $M$ **aceita** $w$ se existe uma sequência $(s_0,s_1,...,s_n)$ tal que\n",
    "1. $s_0 = q_0$,\n",
    "1. $s_{i+1} = \\delta(s_i,w_{i+1})$, para $0 \\leq i < n$,\n",
    "1. $s_n \\in F$.\n",
    "\n",
    "Por exemplo, o AFD $M$ ilustrado na Figura 1 aceita a cadeia $w = aabb$, dado que a sequência (q0, q0, q1, q1) satisfaz as condições acima."
   ]
  },
  {
   "cell_type": "markdown",
   "metadata": {
    "id": "C6y_elpML52T",
    "slideshow": {
     "slide_type": "slide"
    }
   },
   "source": [
    "## Implementação em Python"
   ]
  },
  {
   "cell_type": "markdown",
   "metadata": {
    "id": "C6y_elpML52T",
    "slideshow": {
     "slide_type": "subslide"
    }
   },
   "source": [
    "Em nossa implementação, um autômato finito determinístico é representado pela classe `AFD`, cujo construtor segue a definição apresentada:\n",
    "\n",
    ">`M = AFD(Q,Sigma,delta,q0,F)`\n",
    "\n",
    "A seguir temos o exemplo do AFD da Figura 1. Os elementos `Q`, `Sigma` e `F` são elementos do tipo `set()`. O elemento `q0` deve ser um elemento de `Q`. A função de transição `delta` é um elemento do tipo `dict()` cuja construção deve ter domínio e contradomínio como indicado na Definição 1."
   ]
  },
  {
   "cell_type": "markdown",
   "metadata": {
    "id": "C6y_elpML52T",
    "slideshow": {
     "slide_type": "subslide"
    }
   },
   "source": [
    "A seguir temos o exemplo do AFD da Figura 1. Os elementos `Q`, `Sigma` e `F` são elementos do tipo `set()`. O elemento `q0` deve ser um elemento de `Q`. A função de transição `delta` é um elemento do tipo `dict()` cuja construção deve ter domínio e contradomínio como indicado na Definição 1."
   ]
  },
  {
   "cell_type": "code",
   "execution_count": null,
   "metadata": {
    "colab": {
     "base_uri": "https://localhost:8080/"
    },
    "id": "MGXIScVK-A3N",
    "outputId": "16486fc9-a623-4f70-9a60-cc61171a0551",
    "slideshow": {
     "slide_type": "-"
    }
   },
   "outputs": [],
   "source": [
    "Q = {'q0','q1'}\n",
    "Sigma = {'a','b'}\n",
    "delta = {('q0','a'):'q0',\n",
    "         ('q0','b'):'q1',\n",
    "         ('q1','a'):'q1',\n",
    "         ('q1','b'):'q1'}\n",
    "q0 = 'q0'\n",
    "F = {'q1'}\n",
    "\n",
    "M = AFD(Q,Sigma,delta,q0,F)\n",
    "M"
   ]
  },
  {
   "cell_type": "markdown",
   "metadata": {
    "id": "4RsMpFG04-Ky",
    "slideshow": {
     "slide_type": "subslide"
    }
   },
   "source": [
    "Definido o autômato `M`, podemos usar a função `M.aceita(entrada)` para verificar a aceitação de cadeias, onde `entrada` deve ser composta por uma sequência de símbolos pertencentes a `Sigma`. A aceitação de uma palavra retornará o valor `True`."
   ]
  },
  {
   "cell_type": "code",
   "execution_count": null,
   "metadata": {
    "colab": {
     "base_uri": "https://localhost:8080/"
    },
    "id": "YPfyRler9cm-",
    "outputId": "79bf7c01-a9c5-4e64-a0eb-86ef42008fb7"
   },
   "outputs": [
    {
     "data": {
      "text/plain": [
       "True"
      ]
     },
     "execution_count": 21,
     "metadata": {
      "tags": []
     },
     "output_type": "execute_result"
    }
   ],
   "source": [
    "M.aceita(\"aabb\")"
   ]
  },
  {
   "cell_type": "markdown",
   "metadata": {
    "id": "2qQRWltb-HyP",
    "slideshow": {
     "slide_type": "subslide"
    }
   },
   "source": [
    "A rejeição de uma palavra retornará o valor `False`."
   ]
  },
  {
   "cell_type": "code",
   "execution_count": null,
   "metadata": {
    "colab": {
     "base_uri": "https://localhost:8080/"
    },
    "id": "DRS7hVsj-MdF",
    "outputId": "7f507433-88af-42e3-a331-011ea309f300"
   },
   "outputs": [
    {
     "data": {
      "text/plain": [
       "False"
      ]
     },
     "execution_count": 22,
     "metadata": {
      "tags": []
     },
     "output_type": "execute_result"
    }
   ],
   "source": [
    "M.aceita(\"aaaa\")"
   ]
  },
  {
   "cell_type": "markdown",
   "metadata": {
    "id": "PWbmD2si_WR0",
    "slideshow": {
     "slide_type": "subslide"
    }
   },
   "source": [
    "Você pode também realizar múltiplos testes utilizando listas com casos de teste:"
   ]
  },
  {
   "cell_type": "code",
   "execution_count": null,
   "metadata": {
    "colab": {
     "base_uri": "https://localhost:8080/"
    },
    "id": "9VIzgVmp_Sfn",
    "outputId": "18675ce9-1c79-413e-b3b4-96db2b93def6"
   },
   "outputs": [
    {
     "data": {
      "text/plain": [
       "[True, True, True, True, True, True, True, True]"
      ]
     },
     "execution_count": 23,
     "metadata": {
      "tags": []
     },
     "output_type": "execute_result"
    }
   ],
   "source": [
    "testes = [(\"ab\",True), (\"aab\",True), (\"abb\",True), (\"aabb\",True), (\"b\",True), (\"a\",False), (\"aa\",False), (\"\",False)]\n",
    "[M.aceita(entrada) == saida for entrada, saida in testes]"
   ]
  },
  {
   "cell_type": "markdown",
   "metadata": {
    "id": "6Jk1N-HLAshp",
    "slideshow": {
     "slide_type": "subslide"
    }
   },
   "source": [
    "Por fim, é possível gerar a representação gráfica do AFD `M` por meio da função `M.visualizar()`. O diagrama de estados é gerado utilizando da biblioteca [`graphviz`]()."
   ]
  },
  {
   "cell_type": "code",
   "execution_count": null,
   "metadata": {
    "colab": {
     "base_uri": "https://localhost:8080/",
     "height": 142
    },
    "id": "R1qq7QpyAVx4",
    "outputId": "57ba2766-02b2-484f-bc34-77b5de371dd8"
   },
   "outputs": [
    {
     "data": {
      "image/svg+xml": [
       "<?xml version=\"1.0\" encoding=\"UTF-8\" standalone=\"no\"?>\n",
       "<!DOCTYPE svg PUBLIC \"-//W3C//DTD SVG 1.1//EN\"\n",
       " \"http://www.w3.org/Graphics/SVG/1.1/DTD/svg11.dtd\">\n",
       "<!-- Generated by graphviz version 2.40.1 (20161225.0304)\n",
       " -->\n",
       "<!-- Title: finite_state_machine Pages: 1 -->\n",
       "<svg width=\"184pt\" height=\"91pt\"\n",
       " viewBox=\"0.00 0.00 183.79 90.60\" xmlns=\"http://www.w3.org/2000/svg\" xmlns:xlink=\"http://www.w3.org/1999/xlink\">\n",
       "<g id=\"graph0\" class=\"graph\" transform=\"scale(1 1) rotate(0) translate(4 86.5963)\">\n",
       "<title>finite_state_machine</title>\n",
       "<polygon fill=\"#ffffff\" stroke=\"transparent\" points=\"-4,4 -4,-86.5963 179.7926,-86.5963 179.7926,4 -4,4\"/>\n",
       "<g id=\"node1\" class=\"node\">\n",
       "<title></title>\n",
       "<ellipse fill=\"#000000\" stroke=\"#000000\" cx=\"1.8\" cy=\"-24.7982\" rx=\"1.8\" ry=\"1.8\"/>\n",
       "</g>\n",
       "<!-- q0 -->\n",
       "<g id=\"node3\" class=\"node\">\n",
       "<title>q0</title>\n",
       "<ellipse fill=\"none\" stroke=\"#000000\" cx=\"61.3982\" cy=\"-24.7982\" rx=\"20.5982\" ry=\"20.5982\"/>\n",
       "<text text-anchor=\"middle\" x=\"61.3982\" y=\"-21.0982\" font-family=\"Times,serif\" font-size=\"14.00\" fill=\"#000000\">q0</text>\n",
       "</g>\n",
       "<!-- &#45;&gt;q0 -->\n",
       "<g id=\"edge1\" class=\"edge\">\n",
       "<title>&#45;&gt;q0</title>\n",
       "<path fill=\"none\" stroke=\"#000000\" d=\"M3.7829,-24.7982C8.1437,-24.7982 19.0721,-24.7982 30.2536,-24.7982\"/>\n",
       "<polygon fill=\"#000000\" stroke=\"#000000\" points=\"30.4123,-28.2983 40.4123,-24.7982 30.4122,-21.2983 30.4123,-28.2983\"/>\n",
       "</g>\n",
       "<!-- q1 -->\n",
       "<g id=\"node2\" class=\"node\">\n",
       "<title>q1</title>\n",
       "<ellipse fill=\"none\" stroke=\"#000000\" cx=\"150.9945\" cy=\"-24.7982\" rx=\"20.6302\" ry=\"20.6302\"/>\n",
       "<ellipse fill=\"none\" stroke=\"#000000\" cx=\"150.9945\" cy=\"-24.7982\" rx=\"24.5979\" ry=\"24.5979\"/>\n",
       "<text text-anchor=\"middle\" x=\"150.9945\" y=\"-21.0982\" font-family=\"Times,serif\" font-size=\"14.00\" fill=\"#000000\">q1</text>\n",
       "</g>\n",
       "<!-- q1&#45;&gt;q1 -->\n",
       "<g id=\"edge4\" class=\"edge\">\n",
       "<title>q1&#45;&gt;q1</title>\n",
       "<path fill=\"none\" stroke=\"#000000\" d=\"M142.5042,-48.1303C141.6956,-58.5686 144.5257,-67.5963 150.9945,-67.5963 155.1385,-67.5963 157.7892,-63.8913 158.9467,-58.484\"/>\n",
       "<polygon fill=\"#000000\" stroke=\"#000000\" points=\"162.4609,-58.2984 159.4847,-48.1303 155.4704,-57.9351 162.4609,-58.2984\"/>\n",
       "<text text-anchor=\"middle\" x=\"150.9945\" y=\"-71.3963\" font-family=\"Times,serif\" font-size=\"14.00\" fill=\"#000000\">a,b</text>\n",
       "</g>\n",
       "<!-- q0&#45;&gt;q1 -->\n",
       "<g id=\"edge3\" class=\"edge\">\n",
       "<title>q0&#45;&gt;q1</title>\n",
       "<path fill=\"none\" stroke=\"#000000\" d=\"M82.6312,-24.7982C92.6153,-24.7982 104.7825,-24.7982 116.0696,-24.7982\"/>\n",
       "<polygon fill=\"#000000\" stroke=\"#000000\" points=\"116.1002,-28.2983 126.1001,-24.7982 116.1001,-21.2983 116.1002,-28.2983\"/>\n",
       "<text text-anchor=\"middle\" x=\"104.1963\" y=\"-28.5982\" font-family=\"Times,serif\" font-size=\"14.00\" fill=\"#000000\">b</text>\n",
       "</g>\n",
       "<!-- q0&#45;&gt;q0 -->\n",
       "<g id=\"edge2\" class=\"edge\">\n",
       "<title>q0&#45;&gt;q0</title>\n",
       "<path fill=\"none\" stroke=\"#000000\" d=\"M54.4836,-44.7606C53.5269,-54.7161 55.8317,-63.5963 61.3982,-63.5963 64.8772,-63.5963 67.0821,-60.1275 68.013,-55.0953\"/>\n",
       "<polygon fill=\"#000000\" stroke=\"#000000\" points=\"71.5213,-54.8579 68.3127,-44.7606 64.5242,-54.6549 71.5213,-54.8579\"/>\n",
       "<text text-anchor=\"middle\" x=\"61.3982\" y=\"-67.3963\" font-family=\"Times,serif\" font-size=\"14.00\" fill=\"#000000\">a</text>\n",
       "</g>\n",
       "</g>\n",
       "</svg>\n"
      ],
      "text/plain": [
       "<graphviz.dot.Digraph at 0x7f649cd9a4a8>"
      ]
     },
     "execution_count": 24,
     "metadata": {
      "tags": []
     },
     "output_type": "execute_result"
    }
   ],
   "source": [
    "M.visualizar()"
   ]
  },
  {
   "cell_type": "markdown",
   "metadata": {
    "id": "Oz1hWQpoKw8b",
    "slideshow": {
     "slide_type": "subslide"
    }
   },
   "source": [
    "Observe que os conjuntos de estados e do alfabeto podem ser compostos por elementos diferentes de `str`. Podemos, por exemplo, ter números inteiros representando os estados e *comprehensions* para definir AFDs mais complexos."
   ]
  },
  {
   "cell_type": "code",
   "execution_count": null,
   "metadata": {
    "colab": {
     "base_uri": "https://localhost:8080/",
     "height": 501
    },
    "id": "vGKl93lrDZ06",
    "outputId": "e89223c2-af87-4d3d-be93-95968f6b8c28",
    "slideshow": {
     "slide_type": "subslide"
    }
   },
   "outputs": [
    {
     "data": {
      "image/svg+xml": [
       "<?xml version=\"1.0\" encoding=\"UTF-8\" standalone=\"no\"?>\n",
       "<!DOCTYPE svg PUBLIC \"-//W3C//DTD SVG 1.1//EN\"\n",
       " \"http://www.w3.org/Graphics/SVG/1.1/DTD/svg11.dtd\">\n",
       "<!-- Generated by graphviz version 2.40.1 (20161225.0304)\n",
       " -->\n",
       "<!-- Title: finite_state_machine Pages: 1 -->\n",
       "<svg width=\"177pt\" height=\"360pt\"\n",
       " viewBox=\"0.00 0.00 177.19 360.00\" xmlns=\"http://www.w3.org/2000/svg\" xmlns:xlink=\"http://www.w3.org/1999/xlink\">\n",
       "<g id=\"graph0\" class=\"graph\" transform=\"scale(.218 .218) rotate(0) translate(4 1647)\">\n",
       "<title>finite_state_machine</title>\n",
       "<polygon fill=\"#ffffff\" stroke=\"transparent\" points=\"-4,4 -4,-1647 808.6,-1647 808.6,4 -4,4\"/>\n",
       "<g id=\"node1\" class=\"node\">\n",
       "<title></title>\n",
       "<ellipse fill=\"#000000\" stroke=\"#000000\" cx=\"1.8\" cy=\"-928\" rx=\"1.8\" ry=\"1.8\"/>\n",
       "</g>\n",
       "<!-- 0 -->\n",
       "<g id=\"node3\" class=\"node\">\n",
       "<title>0</title>\n",
       "<ellipse fill=\"none\" stroke=\"#000000\" cx=\"58.6\" cy=\"-928\" rx=\"18\" ry=\"18\"/>\n",
       "<text text-anchor=\"middle\" x=\"58.6\" y=\"-924.3\" font-family=\"Times,serif\" font-size=\"14.00\" fill=\"#000000\">0</text>\n",
       "</g>\n",
       "<!-- &#45;&gt;0 -->\n",
       "<g id=\"edge1\" class=\"edge\">\n",
       "<title>&#45;&gt;0</title>\n",
       "<path fill=\"none\" stroke=\"#000000\" d=\"M3.6898,-928C8.0522,-928 19.3107,-928 30.5058,-928\"/>\n",
       "<polygon fill=\"#000000\" stroke=\"#000000\" points=\"30.5696,-931.5001 40.5696,-928 30.5696,-924.5001 30.5696,-931.5001\"/>\n",
       "</g>\n",
       "<!-- 9 -->\n",
       "<g id=\"node2\" class=\"node\">\n",
       "<title>9</title>\n",
       "<ellipse fill=\"none\" stroke=\"#000000\" cx=\"142.6\" cy=\"-928\" rx=\"18\" ry=\"18\"/>\n",
       "<ellipse fill=\"none\" stroke=\"#000000\" cx=\"142.6\" cy=\"-928\" rx=\"22\" ry=\"22\"/>\n",
       "<text text-anchor=\"middle\" x=\"142.6\" y=\"-924.3\" font-family=\"Times,serif\" font-size=\"14.00\" fill=\"#000000\">9</text>\n",
       "</g>\n",
       "<!-- 9&#45;&gt;9 -->\n",
       "<g id=\"edge91\" class=\"edge\">\n",
       "<title>9&#45;&gt;9</title>\n",
       "<path fill=\"none\" stroke=\"#000000\" d=\"M134.5937,-948.5808C133.4859,-958.8447 136.1547,-968 142.6,-968 146.729,-968 149.3082,-964.2427 150.3374,-958.8436\"/>\n",
       "<polygon fill=\"#000000\" stroke=\"#000000\" points=\"153.8431,-958.6691 150.6063,-948.5808 146.8455,-958.4857 153.8431,-958.6691\"/>\n",
       "<text text-anchor=\"middle\" x=\"142.6\" y=\"-971.8\" font-family=\"Times,serif\" font-size=\"14.00\" fill=\"#000000\">9</text>\n",
       "</g>\n",
       "<!-- 1 -->\n",
       "<g id=\"node4\" class=\"node\">\n",
       "<title>1</title>\n",
       "<ellipse fill=\"none\" stroke=\"#000000\" cx=\"226.6\" cy=\"-771\" rx=\"18\" ry=\"18\"/>\n",
       "<text text-anchor=\"middle\" x=\"226.6\" y=\"-767.3\" font-family=\"Times,serif\" font-size=\"14.00\" fill=\"#000000\">1</text>\n",
       "</g>\n",
       "<!-- 9&#45;&gt;1 -->\n",
       "<g id=\"edge83\" class=\"edge\">\n",
       "<title>9&#45;&gt;1</title>\n",
       "<path fill=\"none\" stroke=\"#000000\" d=\"M154.6047,-909.2434C164.6715,-893.2288 179.1899,-869.4496 190.6,-848 199.4687,-831.3278 208.4665,-812.0832 215.2482,-797.0039\"/>\n",
       "<polygon fill=\"#000000\" stroke=\"#000000\" points=\"218.4916,-798.3241 219.3611,-787.765 212.0966,-795.4772 218.4916,-798.3241\"/>\n",
       "<text text-anchor=\"middle\" x=\"186.6\" y=\"-864.8\" font-family=\"Times,serif\" font-size=\"14.00\" fill=\"#000000\">1</text>\n",
       "</g>\n",
       "<!-- 2 -->\n",
       "<g id=\"node5\" class=\"node\">\n",
       "<title>2</title>\n",
       "<ellipse fill=\"none\" stroke=\"#000000\" cx=\"786.6\" cy=\"-1055\" rx=\"18\" ry=\"18\"/>\n",
       "<text text-anchor=\"middle\" x=\"786.6\" y=\"-1051.3\" font-family=\"Times,serif\" font-size=\"14.00\" fill=\"#000000\">2</text>\n",
       "</g>\n",
       "<!-- 9&#45;&gt;2 -->\n",
       "<g id=\"edge84\" class=\"edge\">\n",
       "<title>9&#45;&gt;2</title>\n",
       "<path fill=\"none\" stroke=\"#000000\" d=\"M144.3192,-950.2065C150.8062,-1031.1423 175.1405,-1309.8643 208.6,-1392 224.3694,-1430.7103 238.5839,-1434.7891 262.6,-1469 299.1727,-1521.0979 282.9466,-1585 346.6,-1585 346.6,-1585 346.6,-1585 706.6,-1585 757.8201,-1585 780.1108,-1192.9819 785.3473,-1083.2427\"/>\n",
       "<polygon fill=\"#000000\" stroke=\"#000000\" points=\"788.8438,-1083.3962 785.8141,-1073.2438 781.8514,-1083.0697 788.8438,-1083.3962\"/>\n",
       "<text text-anchor=\"middle\" x=\"466.6\" y=\"-1588.8\" font-family=\"Times,serif\" font-size=\"14.00\" fill=\"#000000\">2</text>\n",
       "</g>\n",
       "<!-- 3 -->\n",
       "<g id=\"node6\" class=\"node\">\n",
       "<title>3</title>\n",
       "<ellipse fill=\"none\" stroke=\"#000000\" cx=\"706.6\" cy=\"-684\" rx=\"18\" ry=\"18\"/>\n",
       "<text text-anchor=\"middle\" x=\"706.6\" y=\"-680.3\" font-family=\"Times,serif\" font-size=\"14.00\" fill=\"#000000\">3</text>\n",
       "</g>\n",
       "<!-- 9&#45;&gt;3 -->\n",
       "<g id=\"edge85\" class=\"edge\">\n",
       "<title>9&#45;&gt;3</title>\n",
       "<path fill=\"none\" stroke=\"#000000\" d=\"M154.6067,-909.51C158.5599,-902.4426 162.4825,-894.1247 164.6,-886 183.0174,-815.3332 156.6935,-297.2778 182.6,-229 188.9792,-212.1874 192.8834,-206.7376 208.6,-198 357.4758,-115.2334 501.0205,-84.1213 590.6,-229 607.7284,-256.7021 663.6032,-479.1907 670.6,-511 681.6194,-561.0968 677.088,-575.0142 688.6,-625 691.0438,-635.6112 694.386,-647.1009 697.5273,-657.0971\"/>\n",
       "<polygon fill=\"#000000\" stroke=\"#000000\" points=\"694.2803,-658.4322 700.6821,-666.8742 700.9421,-656.2826 694.2803,-658.4322\"/>\n",
       "<text text-anchor=\"middle\" x=\"426.6\" y=\"-132.8\" font-family=\"Times,serif\" font-size=\"14.00\" fill=\"#000000\">3</text>\n",
       "</g>\n",
       "<!-- 4 -->\n",
       "<g id=\"node7\" class=\"node\">\n",
       "<title>4</title>\n",
       "<ellipse fill=\"none\" stroke=\"#000000\" cx=\"626.6\" cy=\"-1055\" rx=\"18\" ry=\"18\"/>\n",
       "<text text-anchor=\"middle\" x=\"626.6\" y=\"-1051.3\" font-family=\"Times,serif\" font-size=\"14.00\" fill=\"#000000\">4</text>\n",
       "</g>\n",
       "<!-- 9&#45;&gt;4 -->\n",
       "<g id=\"edge86\" class=\"edge\">\n",
       "<title>9&#45;&gt;4</title>\n",
       "<path fill=\"none\" stroke=\"#000000\" d=\"M143.8238,-950.1279C147.4647,-1003.189 161.1355,-1140.9111 208.6,-1244 248.8611,-1331.4437 275.3595,-1366.0506 368.6,-1390 472.0457,-1416.5707 539.7702,-1391.9326 590.6,-1298 610.4685,-1261.2834 600.1637,-1151.8863 608.6,-1111 610.6092,-1101.2627 613.6935,-1090.8321 616.7447,-1081.6441\"/>\n",
       "<polygon fill=\"#000000\" stroke=\"#000000\" points=\"620.1534,-1082.4963 620.1164,-1071.9015 613.5384,-1080.2069 620.1534,-1082.4963\"/>\n",
       "<text text-anchor=\"middle\" x=\"386.6\" y=\"-1400.8\" font-family=\"Times,serif\" font-size=\"14.00\" fill=\"#000000\">4</text>\n",
       "</g>\n",
       "<!-- 5 -->\n",
       "<g id=\"node8\" class=\"node\">\n",
       "<title>5</title>\n",
       "<ellipse fill=\"none\" stroke=\"#000000\" cx=\"546.6\" cy=\"-546\" rx=\"18\" ry=\"18\"/>\n",
       "<text text-anchor=\"middle\" x=\"546.6\" y=\"-542.3\" font-family=\"Times,serif\" font-size=\"14.00\" fill=\"#000000\">5</text>\n",
       "</g>\n",
       "<!-- 9&#45;&gt;5 -->\n",
       "<g id=\"edge87\" class=\"edge\">\n",
       "<title>9&#45;&gt;5</title>\n",
       "<path fill=\"none\" stroke=\"#000000\" d=\"M154.4179,-908.9722C158.2521,-901.9845 162.1459,-893.8571 164.6,-886 203.6368,-761.0197 159.7776,-386.0648 262.6,-305 370.7111,-219.7655 495.4194,-442.9696 534.3512,-520.5528\"/>\n",
       "<polygon fill=\"#000000\" stroke=\"#000000\" points=\"531.2933,-522.2648 538.8677,-529.6728 537.5662,-519.1582 531.2933,-522.2648\"/>\n",
       "<text text-anchor=\"middle\" x=\"346.6\" y=\"-297.8\" font-family=\"Times,serif\" font-size=\"14.00\" fill=\"#000000\">5</text>\n",
       "</g>\n",
       "<!-- 6 -->\n",
       "<g id=\"node9\" class=\"node\">\n",
       "<title>6</title>\n",
       "<ellipse fill=\"none\" stroke=\"#000000\" cx=\"466.6\" cy=\"-991\" rx=\"18\" ry=\"18\"/>\n",
       "<text text-anchor=\"middle\" x=\"466.6\" y=\"-987.3\" font-family=\"Times,serif\" font-size=\"14.00\" fill=\"#000000\">6</text>\n",
       "</g>\n",
       "<!-- 9&#45;&gt;6 -->\n",
       "<g id=\"edge88\" class=\"edge\">\n",
       "<title>9&#45;&gt;6</title>\n",
       "<path fill=\"none\" stroke=\"#000000\" d=\"M147.8436,-949.5407C162.4042,-1008.1265 203.7601,-1166 226.6,-1166 226.6,-1166 226.6,-1166 386.6,-1166 418.6453,-1166 447.5907,-1067.7126 460.0845,-1018.4565\"/>\n",
       "<polygon fill=\"#000000\" stroke=\"#000000\" points=\"463.4833,-1019.2917 462.496,-1008.743 456.6896,-1017.605 463.4833,-1019.2917\"/>\n",
       "<text text-anchor=\"middle\" x=\"306.6\" y=\"-1169.8\" font-family=\"Times,serif\" font-size=\"14.00\" fill=\"#000000\">6</text>\n",
       "</g>\n",
       "<!-- 7 -->\n",
       "<g id=\"node10\" class=\"node\">\n",
       "<title>7</title>\n",
       "<ellipse fill=\"none\" stroke=\"#000000\" cx=\"386.6\" cy=\"-656\" rx=\"18\" ry=\"18\"/>\n",
       "<text text-anchor=\"middle\" x=\"386.6\" y=\"-652.3\" font-family=\"Times,serif\" font-size=\"14.00\" fill=\"#000000\">7</text>\n",
       "</g>\n",
       "<!-- 9&#45;&gt;7 -->\n",
       "<g id=\"edge89\" class=\"edge\">\n",
       "<title>9&#45;&gt;7</title>\n",
       "<path fill=\"none\" stroke=\"#000000\" d=\"M153.8606,-908.7782C157.6424,-901.7723 161.6456,-893.683 164.6,-886 176.1294,-856.0171 174.4355,-847.0683 182.6,-816 217.4543,-683.3693 153.7846,-601.4561 262.6,-518 312.3344,-479.8561 358.1067,-579.4374 377.2037,-629.4049\"/>\n",
       "<polygon fill=\"#000000\" stroke=\"#000000\" points=\"373.9938,-630.8145 380.7634,-638.9645 380.5537,-628.3717 373.9938,-630.8145\"/>\n",
       "<text text-anchor=\"middle\" x=\"266.6\" y=\"-521.8\" font-family=\"Times,serif\" font-size=\"14.00\" fill=\"#000000\">7</text>\n",
       "</g>\n",
       "<!-- 8 -->\n",
       "<g id=\"node11\" class=\"node\">\n",
       "<title>8</title>\n",
       "<ellipse fill=\"none\" stroke=\"#000000\" cx=\"306.6\" cy=\"-951\" rx=\"18\" ry=\"18\"/>\n",
       "<text text-anchor=\"middle\" x=\"306.6\" y=\"-947.3\" font-family=\"Times,serif\" font-size=\"14.00\" fill=\"#000000\">8</text>\n",
       "</g>\n",
       "<!-- 9&#45;&gt;8 -->\n",
       "<g id=\"edge90\" class=\"edge\">\n",
       "<title>9&#45;&gt;8</title>\n",
       "<path fill=\"none\" stroke=\"#000000\" d=\"M161.0525,-940.1487C173.8178,-947.8002 191.5187,-956.9677 208.6,-961 232.021,-966.5289 259.3027,-962.9587 279.1251,-958.6217\"/>\n",
       "<polygon fill=\"#000000\" stroke=\"#000000\" points=\"280.1109,-961.9848 289.0243,-956.2574 278.4847,-955.1763 280.1109,-961.9848\"/>\n",
       "<text text-anchor=\"middle\" x=\"226.6\" y=\"-966.8\" font-family=\"Times,serif\" font-size=\"14.00\" fill=\"#000000\">8</text>\n",
       "</g>\n",
       "<!-- 0&#45;&gt;9 -->\n",
       "<g id=\"edge10\" class=\"edge\">\n",
       "<title>0&#45;&gt;9</title>\n",
       "<path fill=\"none\" stroke=\"#000000\" d=\"M76.8267,-928C86.6536,-928 99.0694,-928 110.4597,-928\"/>\n",
       "<polygon fill=\"#000000\" stroke=\"#000000\" points=\"110.5283,-931.5001 120.5283,-928 110.5282,-924.5001 110.5283,-931.5001\"/>\n",
       "<text text-anchor=\"middle\" x=\"98.6\" y=\"-931.8\" font-family=\"Times,serif\" font-size=\"14.00\" fill=\"#000000\">9</text>\n",
       "</g>\n",
       "<!-- 0&#45;&gt;1 -->\n",
       "<g id=\"edge2\" class=\"edge\">\n",
       "<title>0&#45;&gt;1</title>\n",
       "<path fill=\"none\" stroke=\"#000000\" d=\"M71.7827,-915.6805C100.8358,-888.5297 170.5769,-823.3549 205.6754,-790.5545\"/>\n",
       "<polygon fill=\"#000000\" stroke=\"#000000\" points=\"208.0954,-793.0834 213.0119,-783.6984 203.3159,-787.9691 208.0954,-793.0834\"/>\n",
       "<text text-anchor=\"middle\" x=\"142.6\" y=\"-870.8\" font-family=\"Times,serif\" font-size=\"14.00\" fill=\"#000000\">1</text>\n",
       "</g>\n",
       "<!-- 0&#45;&gt;2 -->\n",
       "<g id=\"edge3\" class=\"edge\">\n",
       "<title>0&#45;&gt;2</title>\n",
       "<path fill=\"none\" stroke=\"#000000\" d=\"M58.8144,-946.0069C60.3498,-1055.573 71.7612,-1628 142.6,-1628 142.6,-1628 142.6,-1628 706.6,-1628 762.2464,-1628 781.4997,-1198.6412 785.6691,-1083.2563\"/>\n",
       "<polygon fill=\"#000000\" stroke=\"#000000\" points=\"789.1727,-1083.2119 786.0262,-1073.0951 782.177,-1082.966 789.1727,-1083.2119\"/>\n",
       "<text text-anchor=\"middle\" x=\"426.6\" y=\"-1631.8\" font-family=\"Times,serif\" font-size=\"14.00\" fill=\"#000000\">2</text>\n",
       "</g>\n",
       "<!-- 0&#45;&gt;3 -->\n",
       "<g id=\"edge4\" class=\"edge\">\n",
       "<title>0&#45;&gt;3</title>\n",
       "<path fill=\"none\" stroke=\"#000000\" d=\"M59.1211,-909.7929C61.4604,-831.4075 71.8848,-514.9612 94.6,-256 104.7153,-140.6823 26.8395,0 142.6,0 142.6,0 142.6,0 506.6,0 561.1797,0 630.8307,-164.2411 644.6,-199 663.1015,-245.7049 662.4029,-259.4373 670.6,-309 691.8426,-437.4401 701.8156,-592.8569 705.2016,-655.6501\"/>\n",
       "<polygon fill=\"#000000\" stroke=\"#000000\" points=\"701.7219,-656.1303 705.7413,-665.9331 708.7123,-655.7633 701.7219,-656.1303\"/>\n",
       "<text text-anchor=\"middle\" x=\"386.6\" y=\"-3.8\" font-family=\"Times,serif\" font-size=\"14.00\" fill=\"#000000\">3</text>\n",
       "</g>\n",
       "<!-- 0&#45;&gt;4 -->\n",
       "<g id=\"edge5\" class=\"edge\">\n",
       "<title>0&#45;&gt;4</title>\n",
       "<path fill=\"none\" stroke=\"#000000\" d=\"M59.1883,-946.1493C62.6802,-1041.1487 84.0334,-1479.8685 182.6,-1561 255.9547,-1621.3793 498.6267,-1437.3674 564.6,-1369 582.267,-1350.6919 583.5909,-1342.4577 590.6,-1318 616.0407,-1229.2263 590.3559,-1201.5271 608.6,-1111 610.5642,-1101.2535 613.6379,-1090.8208 616.693,-1081.6335\"/>\n",
       "<polygon fill=\"#000000\" stroke=\"#000000\" points=\"620.1013,-1082.4877 620.0743,-1071.8929 613.4884,-1080.1921 620.1013,-1082.4877\"/>\n",
       "<text text-anchor=\"middle\" x=\"346.6\" y=\"-1534.8\" font-family=\"Times,serif\" font-size=\"14.00\" fill=\"#000000\">4</text>\n",
       "</g>\n",
       "<!-- 0&#45;&gt;5 -->\n",
       "<g id=\"edge6\" class=\"edge\">\n",
       "<title>0&#45;&gt;5</title>\n",
       "<path fill=\"none\" stroke=\"#000000\" d=\"M59.3418,-910.0025C64.6224,-784.6582 97.6108,-47 142.6,-47 142.6,-47 142.6,-47 266.6,-47 346.204,-47 350.4495,-101.3683 422.6,-135 460.4596,-152.6476 485.2051,-134.8354 510.6,-168 531.7436,-195.6126 542.4911,-434.5531 545.6148,-517.656\"/>\n",
       "<polygon fill=\"#000000\" stroke=\"#000000\" points=\"542.1253,-518.0089 545.9897,-527.8738 549.1206,-517.7521 542.1253,-518.0089\"/>\n",
       "<text text-anchor=\"middle\" x=\"306.6\" y=\"-65.8\" font-family=\"Times,serif\" font-size=\"14.00\" fill=\"#000000\">5</text>\n",
       "</g>\n",
       "<!-- 0&#45;&gt;6 -->\n",
       "<g id=\"edge7\" class=\"edge\">\n",
       "<title>0&#45;&gt;6</title>\n",
       "<path fill=\"none\" stroke=\"#000000\" d=\"M64.583,-945.3601C73.857,-970.6271 93.4991,-1018.1992 120.6,-1052 197.667,-1148.1195 222.4158,-1190.9068 342.6,-1218 427.2639,-1237.0858 427.2557,-1138.1229 448.6,-1054 451.5892,-1042.2188 455.219,-1029.2968 458.4338,-1018.2388\"/>\n",
       "<polygon fill=\"#000000\" stroke=\"#000000\" points=\"461.8912,-1018.8872 461.3544,-1008.306 455.1755,-1016.9125 461.8912,-1018.8872\"/>\n",
       "<text text-anchor=\"middle\" x=\"266.6\" y=\"-1197.8\" font-family=\"Times,serif\" font-size=\"14.00\" fill=\"#000000\">6</text>\n",
       "</g>\n",
       "<!-- 0&#45;&gt;7 -->\n",
       "<g id=\"edge8\" class=\"edge\">\n",
       "<title>0&#45;&gt;7</title>\n",
       "<path fill=\"none\" stroke=\"#000000\" d=\"M58.887,-909.9823C60.8821,-810.5458 75.9984,-330.0831 182.6,-241 303.75,-139.7593 288.2573,-408.9469 350.6,-554 361.3204,-578.9433 371.4139,-608.2448 378.1695,-629.0267\"/>\n",
       "<polygon fill=\"#000000\" stroke=\"#000000\" points=\"374.9072,-630.3155 381.2946,-638.7684 381.5726,-628.1772 374.9072,-630.3155\"/>\n",
       "<text text-anchor=\"middle\" x=\"226.6\" y=\"-227.8\" font-family=\"Times,serif\" font-size=\"14.00\" fill=\"#000000\">7</text>\n",
       "</g>\n",
       "<!-- 0&#45;&gt;8 -->\n",
       "<g id=\"edge9\" class=\"edge\">\n",
       "<title>0&#45;&gt;8</title>\n",
       "<path fill=\"none\" stroke=\"#000000\" d=\"M67.1173,-944.3601C84.1767,-975.1053 125.8231,-1040.6865 182.6,-1066 232.5189,-1088.256 275.4057,-1017.3384 295.0925,-976.9823\"/>\n",
       "<polygon fill=\"#000000\" stroke=\"#000000\" points=\"298.3741,-978.2296 299.4799,-967.6926 292.0445,-975.2402 298.3741,-978.2296\"/>\n",
       "<text text-anchor=\"middle\" x=\"186.6\" y=\"-1071.8\" font-family=\"Times,serif\" font-size=\"14.00\" fill=\"#000000\">8</text>\n",
       "</g>\n",
       "<!-- 1&#45;&gt;9 -->\n",
       "<g id=\"edge19\" class=\"edge\">\n",
       "<title>1&#45;&gt;9</title>\n",
       "<path fill=\"none\" stroke=\"#000000\" d=\"M215.1682,-785.1885C205.6795,-797.3877 192.2281,-815.7003 182.6,-833 171.0391,-853.7725 160.7054,-878.568 153.4384,-897.6175\"/>\n",
       "<polygon fill=\"#000000\" stroke=\"#000000\" points=\"150.1528,-896.4113 149.9275,-907.0038 156.7092,-898.8638 150.1528,-896.4113\"/>\n",
       "<text text-anchor=\"middle\" x=\"186.6\" y=\"-836.8\" font-family=\"Times,serif\" font-size=\"14.00\" fill=\"#000000\">9</text>\n",
       "</g>\n",
       "<!-- 1&#45;&gt;1 -->\n",
       "<g id=\"edge11\" class=\"edge\">\n",
       "<title>1&#45;&gt;1</title>\n",
       "<path fill=\"none\" stroke=\"#000000\" d=\"M219.5687,-787.6641C218.0062,-797.625 220.35,-807 226.6,-807 230.6039,-807 233.0047,-803.1525 233.8023,-797.7682\"/>\n",
       "<polygon fill=\"#000000\" stroke=\"#000000\" points=\"237.3001,-797.6033 233.6312,-787.6641 230.3011,-797.7219 237.3001,-797.6033\"/>\n",
       "<text text-anchor=\"middle\" x=\"226.6\" y=\"-810.8\" font-family=\"Times,serif\" font-size=\"14.00\" fill=\"#000000\">1</text>\n",
       "</g>\n",
       "<!-- 1&#45;&gt;2 -->\n",
       "<g id=\"edge12\" class=\"edge\">\n",
       "<title>1&#45;&gt;2</title>\n",
       "<path fill=\"none\" stroke=\"#000000\" d=\"M227.999,-752.6302C233.2689,-686.7864 253.4342,-463.27 288.6,-402 305.4188,-372.6963 472.8127,-190 506.6,-190 506.6,-190 506.6,-190 706.6,-190 736.2015,-190 739.5406,-212.5421 750.6,-240 780.4515,-314.1139 785.6482,-890.8154 786.4607,-1026.4873\"/>\n",
       "<polygon fill=\"#000000\" stroke=\"#000000\" points=\"782.9628,-1026.8829 786.5193,-1036.8629 789.9627,-1026.8433 782.9628,-1026.8829\"/>\n",
       "<text text-anchor=\"middle\" x=\"506.6\" y=\"-194.8\" font-family=\"Times,serif\" font-size=\"14.00\" fill=\"#000000\">2</text>\n",
       "</g>\n",
       "<!-- 1&#45;&gt;3 -->\n",
       "<g id=\"edge13\" class=\"edge\">\n",
       "<title>1&#45;&gt;3</title>\n",
       "<path fill=\"none\" stroke=\"#000000\" d=\"M229.1251,-752.8104C233.6536,-722.6645 244.42,-660.74 262.6,-611 310.0198,-481.2608 324.0266,-421.6856 448.6,-362 473.9909,-349.8347 488.5737,-357.4634 510.6,-375 554.3179,-409.8067 643.98,-519.8661 670.6,-569 671.6838,-571.0004 687.9254,-623.4086 698.219,-656.7774\"/>\n",
       "<polygon fill=\"#000000\" stroke=\"#000000\" points=\"694.9086,-657.92 701.1992,-666.4451 701.598,-655.8578 694.9086,-657.92\"/>\n",
       "<text text-anchor=\"middle\" x=\"466.6\" y=\"-365.8\" font-family=\"Times,serif\" font-size=\"14.00\" fill=\"#000000\">3</text>\n",
       "</g>\n",
       "<!-- 1&#45;&gt;4 -->\n",
       "<g id=\"edge14\" class=\"edge\">\n",
       "<title>1&#45;&gt;4</title>\n",
       "<path fill=\"none\" stroke=\"#000000\" d=\"M228.7356,-789.1569C237.0059,-858.7032 267.512,-1108.0757 288.6,-1185 306.7813,-1251.3214 287.6693,-1288.6273 342.6,-1330 393.0168,-1367.973 424.6243,-1351.6652 484.6,-1332 498.1291,-1327.564 583.1923,-1272.159 590.6,-1260 625.3046,-1203.0353 594.3292,-1176.1592 608.6,-1111 610.7271,-1101.2878 613.8398,-1090.8632 616.8806,-1081.673\"/>\n",
       "<polygon fill=\"#000000\" stroke=\"#000000\" points=\"620.2904,-1082.5197 620.2271,-1071.925 613.6697,-1080.2468 620.2904,-1082.5197\"/>\n",
       "<text text-anchor=\"middle\" x=\"426.6\" y=\"-1353.8\" font-family=\"Times,serif\" font-size=\"14.00\" fill=\"#000000\">4</text>\n",
       "</g>\n",
       "<!-- 1&#45;&gt;5 -->\n",
       "<g id=\"edge15\" class=\"edge\">\n",
       "<title>1&#45;&gt;5</title>\n",
       "<path fill=\"none\" stroke=\"#000000\" d=\"M228.6097,-752.7231C232.1114,-727.1414 241.1287,-679.9839 262.6,-646 270.8406,-632.9571 275.9859,-631.883 288.6,-623 351.3559,-578.8066 373.4038,-573.3913 448.6,-558 471.8371,-553.2438 498.5862,-550.1233 518.2616,-548.2598\"/>\n",
       "<polygon fill=\"#000000\" stroke=\"#000000\" points=\"518.7497,-551.7302 528.3973,-547.3514 518.1248,-544.7581 518.7497,-551.7302\"/>\n",
       "<text text-anchor=\"middle\" x=\"386.6\" y=\"-580.8\" font-family=\"Times,serif\" font-size=\"14.00\" fill=\"#000000\">5</text>\n",
       "</g>\n",
       "<!-- 1&#45;&gt;6 -->\n",
       "<g id=\"edge16\" class=\"edge\">\n",
       "<title>1&#45;&gt;6</title>\n",
       "<path fill=\"none\" stroke=\"#000000\" d=\"M244.8109,-769.9428C270.2833,-769.3057 317.176,-771.2664 350.6,-791 384.1333,-810.7981 384.1447,-826.8635 404.6,-860 425.8127,-894.3634 444.7965,-937.1291 456.0084,-964.255\"/>\n",
       "<polygon fill=\"#000000\" stroke=\"#000000\" points=\"452.8978,-965.8962 459.9135,-973.8354 459.38,-963.254 452.8978,-965.8962\"/>\n",
       "<text text-anchor=\"middle\" x=\"346.6\" y=\"-794.8\" font-family=\"Times,serif\" font-size=\"14.00\" fill=\"#000000\">6</text>\n",
       "</g>\n",
       "<!-- 1&#45;&gt;7 -->\n",
       "<g id=\"edge17\" class=\"edge\">\n",
       "<title>1&#45;&gt;7</title>\n",
       "<path fill=\"none\" stroke=\"#000000\" d=\"M235.1787,-755.1678C251.6174,-726.7228 290.5916,-667.8118 342.6,-645 348.3281,-642.4875 354.738,-642.5935 360.855,-643.9348\"/>\n",
       "<polygon fill=\"#000000\" stroke=\"#000000\" points=\"360.1092,-647.3718 370.7009,-647.1141 362.2602,-640.7105 360.1092,-647.3718\"/>\n",
       "<text text-anchor=\"middle\" x=\"306.6\" y=\"-686.8\" font-family=\"Times,serif\" font-size=\"14.00\" fill=\"#000000\">7</text>\n",
       "</g>\n",
       "<!-- 1&#45;&gt;8 -->\n",
       "<g id=\"edge18\" class=\"edge\">\n",
       "<title>1&#45;&gt;8</title>\n",
       "<path fill=\"none\" stroke=\"#000000\" d=\"M234.1573,-787.4391C242.9897,-806.7025 258.002,-839.6028 270.6,-868 279.0395,-887.0235 288.3867,-908.5893 295.4412,-924.9696\"/>\n",
       "<polygon fill=\"#000000\" stroke=\"#000000\" points=\"292.3432,-926.6253 299.5087,-934.4295 298.7739,-923.8602 292.3432,-926.6253\"/>\n",
       "<text text-anchor=\"middle\" x=\"266.6\" y=\"-871.8\" font-family=\"Times,serif\" font-size=\"14.00\" fill=\"#000000\">8</text>\n",
       "</g>\n",
       "<!-- 2&#45;&gt;9 -->\n",
       "<g id=\"edge28\" class=\"edge\">\n",
       "<title>2&#45;&gt;9</title>\n",
       "<path fill=\"none\" stroke=\"#000000\" d=\"M785.5577,-1073.0527C780.2606,-1160.7369 754.6762,-1538 706.6,-1538 586.6,-1538 586.6,-1538 586.6,-1538 532.1959,-1538 388.704,-1546.883 342.6,-1518 208.5231,-1434.0042 215.915,-1354.6674 182.6,-1200 164.1154,-1114.1839 151.5449,-1011.2831 145.9315,-960.1391\"/>\n",
       "<polygon fill=\"#000000\" stroke=\"#000000\" points=\"149.3939,-959.6019 144.8396,-950.0359 142.4344,-960.3541 149.3939,-959.6019\"/>\n",
       "<text text-anchor=\"middle\" x=\"466.6\" y=\"-1542.8\" font-family=\"Times,serif\" font-size=\"14.00\" fill=\"#000000\">9</text>\n",
       "</g>\n",
       "<!-- 2&#45;&gt;1 -->\n",
       "<g id=\"edge20\" class=\"edge\">\n",
       "<title>2&#45;&gt;1</title>\n",
       "<path fill=\"none\" stroke=\"#000000\" d=\"M786.4669,-1036.959C785.5833,-930.339 779.6707,-381.6784 750.6,-216 739.3279,-151.7585 771.8229,-76 706.6,-76 506.6,-76 506.6,-76 506.6,-76 463.3791,-76 451.4013,-92.7737 422.6,-125 369.8251,-184.0509 394.3361,-221.9746 350.6,-288 328.3744,-321.5526 306.4547,-317.9311 288.6,-354 257.4168,-416.9941 273.1809,-440.5113 262.6,-510 249.7282,-594.5341 236.4587,-694.7838 230.236,-742.7207\"/>\n",
       "<polygon fill=\"#000000\" stroke=\"#000000\" points=\"226.7261,-742.5718 228.9136,-752.9384 233.6682,-743.4703 226.7261,-742.5718\"/>\n",
       "<text text-anchor=\"middle\" x=\"506.6\" y=\"-80.8\" font-family=\"Times,serif\" font-size=\"14.00\" fill=\"#000000\">1</text>\n",
       "</g>\n",
       "<!-- 2&#45;&gt;2 -->\n",
       "<g id=\"edge21\" class=\"edge\">\n",
       "<title>2&#45;&gt;2</title>\n",
       "<path fill=\"none\" stroke=\"#000000\" d=\"M779.5687,-1071.6641C778.0062,-1081.625 780.35,-1091 786.6,-1091 790.6039,-1091 793.0047,-1087.1525 793.8023,-1081.7682\"/>\n",
       "<polygon fill=\"#000000\" stroke=\"#000000\" points=\"797.3001,-1081.6033 793.6312,-1071.6641 790.3011,-1081.7219 797.3001,-1081.6033\"/>\n",
       "<text text-anchor=\"middle\" x=\"786.6\" y=\"-1094.8\" font-family=\"Times,serif\" font-size=\"14.00\" fill=\"#000000\">2</text>\n",
       "</g>\n",
       "<!-- 2&#45;&gt;3 -->\n",
       "<g id=\"edge22\" class=\"edge\">\n",
       "<title>2&#45;&gt;3</title>\n",
       "<path fill=\"none\" stroke=\"#000000\" d=\"M782.6747,-1037.263C774.9345,-1002.2457 757.1884,-921.7481 742.6,-854 731.8267,-803.9689 719.5232,-745.5951 712.4483,-711.9048\"/>\n",
       "<polygon fill=\"#000000\" stroke=\"#000000\" points=\"715.8229,-710.9435 710.3435,-701.8756 708.9721,-712.3812 715.8229,-710.9435\"/>\n",
       "<text text-anchor=\"middle\" x=\"746.6\" y=\"-889.8\" font-family=\"Times,serif\" font-size=\"14.00\" fill=\"#000000\">3</text>\n",
       "</g>\n",
       "<!-- 2&#45;&gt;4 -->\n",
       "<g id=\"edge23\" class=\"edge\">\n",
       "<title>2&#45;&gt;4</title>\n",
       "<path fill=\"none\" stroke=\"#000000\" d=\"M768.3774,-1055C740.6596,-1055 687.6744,-1055 654.9125,-1055\"/>\n",
       "<polygon fill=\"#000000\" stroke=\"#000000\" points=\"654.643,-1051.5001 644.643,-1055 654.643,-1058.5001 654.643,-1051.5001\"/>\n",
       "<text text-anchor=\"middle\" x=\"706.6\" y=\"-1058.8\" font-family=\"Times,serif\" font-size=\"14.00\" fill=\"#000000\">4</text>\n",
       "</g>\n",
       "<!-- 2&#45;&gt;5 -->\n",
       "<g id=\"edge24\" class=\"edge\">\n",
       "<title>2&#45;&gt;5</title>\n",
       "<path fill=\"none\" stroke=\"#000000\" d=\"M786.2674,-1036.9103C784.2151,-929.2637 772.6314,-376.7573 750.6,-349 703.9435,-290.2176 628.1536,-306.3589 582.6,-366 564.6846,-389.4557 553.8478,-473.2021 549.2252,-517.7136\"/>\n",
       "<polygon fill=\"#000000\" stroke=\"#000000\" points=\"545.7223,-517.5687 548.208,-527.8678 552.6874,-518.2665 545.7223,-517.5687\"/>\n",
       "<text text-anchor=\"middle\" x=\"666.6\" y=\"-317.8\" font-family=\"Times,serif\" font-size=\"14.00\" fill=\"#000000\">5</text>\n",
       "</g>\n",
       "<!-- 2&#45;&gt;6 -->\n",
       "<g id=\"edge25\" class=\"edge\">\n",
       "<title>2&#45;&gt;6</title>\n",
       "<path fill=\"none\" stroke=\"#000000\" d=\"M773.3139,-1067.3635C766.8148,-1072.9628 758.6669,-1079.3528 750.6,-1084 694.6262,-1116.2455 670.2905,-1134.1604 608.6,-1115 553.1737,-1097.7851 506.3997,-1044.9221 482.8858,-1014.0569\"/>\n",
       "<polygon fill=\"#000000\" stroke=\"#000000\" points=\"485.6579,-1011.9193 476.8826,-1005.9826 480.0404,-1016.0959 485.6579,-1011.9193\"/>\n",
       "<text text-anchor=\"middle\" x=\"626.6\" y=\"-1125.8\" font-family=\"Times,serif\" font-size=\"14.00\" fill=\"#000000\">6</text>\n",
       "</g>\n",
       "<!-- 2&#45;&gt;7 -->\n",
       "<g id=\"edge26\" class=\"edge\">\n",
       "<title>2&#45;&gt;7</title>\n",
       "<path fill=\"none\" stroke=\"#000000\" d=\"M786.4458,-1036.6914C785.3791,-919.7799 778.2979,-281.6255 750.6,-252 699.315,-197.146 656.0581,-218.4111 582.6,-234 556.9085,-239.4521 546.6724,-238.9431 528.6,-258 501.7041,-286.3612 421.1821,-543.3169 394.9566,-628.6184\"/>\n",
       "<polygon fill=\"#000000\" stroke=\"#000000\" points=\"391.5528,-627.7803 391.9663,-638.367 398.2451,-629.8331 391.5528,-627.7803\"/>\n",
       "<text text-anchor=\"middle\" x=\"586.6\" y=\"-237.8\" font-family=\"Times,serif\" font-size=\"14.00\" fill=\"#000000\">7</text>\n",
       "</g>\n",
       "<!-- 2&#45;&gt;8 -->\n",
       "<g id=\"edge27\" class=\"edge\">\n",
       "<title>2&#45;&gt;8</title>\n",
       "<path fill=\"none\" stroke=\"#000000\" d=\"M779.9819,-1072.0766C770.9285,-1092.8535 752.5478,-1127.119 724.6,-1143 607.8615,-1209.3352 539.0306,-1201.8743 422.6,-1135 362.2486,-1100.3359 328.6717,-1020.215 314.5982,-978.0559\"/>\n",
       "<polygon fill=\"#000000\" stroke=\"#000000\" points=\"317.9025,-976.8982 311.5106,-968.4486 311.2381,-979.0399 317.9025,-976.8982\"/>\n",
       "<text text-anchor=\"middle\" x=\"546.6\" y=\"-1191.8\" font-family=\"Times,serif\" font-size=\"14.00\" fill=\"#000000\">8</text>\n",
       "</g>\n",
       "<!-- 3&#45;&gt;9 -->\n",
       "<g id=\"edge37\" class=\"edge\">\n",
       "<title>3&#45;&gt;9</title>\n",
       "<path fill=\"none\" stroke=\"#000000\" d=\"M705.3085,-665.9994C701.8969,-621.6005 691.442,-503.4608 670.6,-407 668.9929,-399.5621 594.3065,-151.6458 590.6,-145 564.3696,-97.969 558.9481,-77.7153 510.6,-54 407.6338,-3.4939 447.615,-43.2717 422.6,-49 364.8583,-62.2225 214.7036,-115.2175 182.6,-165 160.8848,-198.6734 174.658,-847.2149 164.6,-886 163.3486,-890.8255 161.458,-895.7185 159.3008,-900.3769\"/>\n",
       "<polygon fill=\"#000000\" stroke=\"#000000\" points=\"156.0647,-899.0172 154.6174,-909.5127 162.2939,-902.2106 156.0647,-899.0172\"/>\n",
       "<text text-anchor=\"middle\" x=\"426.6\" y=\"-52.8\" font-family=\"Times,serif\" font-size=\"14.00\" fill=\"#000000\">9</text>\n",
       "</g>\n",
       "<!-- 3&#45;&gt;1 -->\n",
       "<g id=\"edge29\" class=\"edge\">\n",
       "<title>3&#45;&gt;1</title>\n",
       "<path fill=\"none\" stroke=\"#000000\" d=\"M701.0747,-666.775C697.3792,-655.0468 692.4983,-639.1442 688.6,-625 670.4797,-559.2541 679.2089,-536.763 644.6,-478 631.0202,-454.9427 585.0427,-405.2668 564.6,-388 532.5683,-360.9446 524.904,-349.559 484.6,-338 469.22,-333.5891 464.0778,-333.9456 448.6,-338 362.0937,-360.6604 331.8481,-381.7284 288.6,-460 261.6124,-508.8429 238.4892,-675.3404 230.0325,-742.5357\"/>\n",
       "<polygon fill=\"#000000\" stroke=\"#000000\" points=\"226.5173,-742.4422 228.7583,-752.7973 233.4639,-743.3048 226.5173,-742.4422\"/>\n",
       "<text text-anchor=\"middle\" x=\"466.6\" y=\"-341.8\" font-family=\"Times,serif\" font-size=\"14.00\" fill=\"#000000\">1</text>\n",
       "</g>\n",
       "<!-- 3&#45;&gt;2 -->\n",
       "<g id=\"edge30\" class=\"edge\">\n",
       "<title>3&#45;&gt;2</title>\n",
       "<path fill=\"none\" stroke=\"#000000\" d=\"M712.4484,-701.4865C721.623,-729.4309 739.495,-786.0004 750.6,-835 766.0632,-903.23 777.6383,-984.7947 783.1063,-1026.8434\"/>\n",
       "<polygon fill=\"#000000\" stroke=\"#000000\" points=\"779.6511,-1027.4171 784.394,-1036.8911 786.5943,-1026.5273 779.6511,-1027.4171\"/>\n",
       "<text text-anchor=\"middle\" x=\"746.6\" y=\"-838.8\" font-family=\"Times,serif\" font-size=\"14.00\" fill=\"#000000\">2</text>\n",
       "</g>\n",
       "<!-- 3&#45;&gt;3 -->\n",
       "<g id=\"edge31\" class=\"edge\">\n",
       "<title>3&#45;&gt;3</title>\n",
       "<path fill=\"none\" stroke=\"#000000\" d=\"M699.5687,-700.6641C698.0062,-710.625 700.35,-720 706.6,-720 710.6039,-720 713.0047,-716.1525 713.8023,-710.7682\"/>\n",
       "<polygon fill=\"#000000\" stroke=\"#000000\" points=\"717.3001,-710.6033 713.6312,-700.6641 710.3011,-710.7219 717.3001,-710.6033\"/>\n",
       "<text text-anchor=\"middle\" x=\"706.6\" y=\"-723.8\" font-family=\"Times,serif\" font-size=\"14.00\" fill=\"#000000\">3</text>\n",
       "</g>\n",
       "<!-- 3&#45;&gt;4 -->\n",
       "<g id=\"edge32\" class=\"edge\">\n",
       "<title>3&#45;&gt;4</title>\n",
       "<path fill=\"none\" stroke=\"#000000\" d=\"M705.9354,-702.1045C703.5515,-761.2483 694.2794,-948.1161 670.6,-1003 665.3823,-1015.0936 656.3764,-1026.5067 647.8662,-1035.5424\"/>\n",
       "<polygon fill=\"#000000\" stroke=\"#000000\" points=\"645.1911,-1033.2689 640.6227,-1042.8282 650.1553,-1038.2042 645.1911,-1033.2689\"/>\n",
       "<text text-anchor=\"middle\" x=\"666.6\" y=\"-1018.8\" font-family=\"Times,serif\" font-size=\"14.00\" fill=\"#000000\">4</text>\n",
       "</g>\n",
       "<!-- 3&#45;&gt;5 -->\n",
       "<g id=\"edge33\" class=\"edge\">\n",
       "<title>3&#45;&gt;5</title>\n",
       "<path fill=\"none\" stroke=\"#000000\" d=\"M700.0599,-667.2122C694.0127,-653.313 683.9471,-633.6939 670.6,-620 642.2365,-590.8994 600.0778,-568.9828 572.965,-556.8196\"/>\n",
       "<polygon fill=\"#000000\" stroke=\"#000000\" points=\"574.2757,-553.5729 563.7102,-552.7845 571.4779,-559.9895 574.2757,-553.5729\"/>\n",
       "<text text-anchor=\"middle\" x=\"626.6\" y=\"-600.8\" font-family=\"Times,serif\" font-size=\"14.00\" fill=\"#000000\">5</text>\n",
       "</g>\n",
       "<!-- 3&#45;&gt;6 -->\n",
       "<g id=\"edge34\" class=\"edge\">\n",
       "<title>3&#45;&gt;6</title>\n",
       "<path fill=\"none\" stroke=\"#000000\" d=\"M698.8246,-700.8449C692.6965,-712.3422 683.1019,-727.0554 670.6,-736 637.5329,-759.6581 617.2849,-739.7847 582.6,-761 552.5542,-779.3778 548.3603,-789.8448 528.6,-819 497.7745,-864.4812 480.2893,-927.0926 472.197,-962.8762\"/>\n",
       "<polygon fill=\"#000000\" stroke=\"#000000\" points=\"468.6849,-962.5565 469.9828,-973.0715 475.5255,-964.0421 468.6849,-962.5565\"/>\n",
       "<text text-anchor=\"middle\" x=\"586.6\" y=\"-764.8\" font-family=\"Times,serif\" font-size=\"14.00\" fill=\"#000000\">6</text>\n",
       "</g>\n",
       "<!-- 3&#45;&gt;7 -->\n",
       "<g id=\"edge35\" class=\"edge\">\n",
       "<title>3&#45;&gt;7</title>\n",
       "<path fill=\"none\" stroke=\"#000000\" d=\"M689.9417,-676.8923C683.9195,-674.4911 677.0216,-671.9322 670.6,-670 609.3779,-651.5784 591.4503,-635.2806 528.6,-647 507.9908,-650.8429 505.2092,-660.1571 484.6,-664 468.8711,-666.9329 464.597,-664.3075 448.6,-664 437.038,-663.7777 434.0874,-664.3298 422.6,-663 419.906,-662.6881 417.1119,-662.2863 414.3256,-661.833\"/>\n",
       "<polygon fill=\"#000000\" stroke=\"#000000\" points=\"414.9263,-658.3849 404.4607,-660.0349 413.671,-665.2715 414.9263,-658.3849\"/>\n",
       "<text text-anchor=\"middle\" x=\"546.6\" y=\"-650.8\" font-family=\"Times,serif\" font-size=\"14.00\" fill=\"#000000\">7</text>\n",
       "</g>\n",
       "<!-- 3&#45;&gt;8 -->\n",
       "<g id=\"edge36\" class=\"edge\">\n",
       "<title>3&#45;&gt;8</title>\n",
       "<path fill=\"none\" stroke=\"#000000\" d=\"M689.7184,-690.352C650.156,-705.5004 552.9567,-744.3221 528.6,-769 515.1897,-782.5871 522.0886,-792.7534 510.6,-808 482.3435,-845.4995 472.3988,-855.6107 430.6,-877 394.8051,-895.317 375.6906,-875.1571 342.6,-898 332.5778,-904.9185 324.5435,-915.6132 318.6298,-925.5888\"/>\n",
       "<polygon fill=\"#000000\" stroke=\"#000000\" points=\"315.5281,-923.966 313.7989,-934.4188 321.6691,-927.3258 315.5281,-923.966\"/>\n",
       "<text text-anchor=\"middle\" x=\"506.6\" y=\"-821.8\" font-family=\"Times,serif\" font-size=\"14.00\" fill=\"#000000\">8</text>\n",
       "</g>\n",
       "<!-- 4&#45;&gt;9 -->\n",
       "<g id=\"edge46\" class=\"edge\">\n",
       "<title>4&#45;&gt;9</title>\n",
       "<path fill=\"none\" stroke=\"#000000\" d=\"M620.1714,-1071.913C616.2443,-1082.8992 611.446,-1097.615 608.6,-1111 593.1661,-1183.5876 619.7008,-1208.7336 590.6,-1277 583.5485,-1293.5419 578.5479,-1296.6504 564.6,-1308 513.8442,-1349.3005 495.1911,-1358.5183 430.6,-1369 403.2732,-1373.4345 394.6543,-1372.3592 368.6,-1363 233.5208,-1314.4767 222.7292,-1236.8061 182.6,-1099 171.9251,-1062.3418 173.2816,-1052.1807 164.6,-1015 160.2582,-996.4054 155.0311,-975.6742 150.7616,-959.1142\"/>\n",
       "<polygon fill=\"#000000\" stroke=\"#000000\" points=\"154.1406,-958.2007 148.2435,-949.3988 147.3645,-959.9571 154.1406,-958.2007\"/>\n",
       "<text text-anchor=\"middle\" x=\"386.6\" y=\"-1374.8\" font-family=\"Times,serif\" font-size=\"14.00\" fill=\"#000000\">9</text>\n",
       "</g>\n",
       "<!-- 4&#45;&gt;1 -->\n",
       "<g id=\"edge38\" class=\"edge\">\n",
       "<title>4&#45;&gt;1</title>\n",
       "<path fill=\"none\" stroke=\"#000000\" d=\"M617.3317,-1070.92C580.7894,-1131.7976 443.749,-1342.1909 342.6,-1256 323.4129,-1239.6503 332.26,-1168.0163 324.6,-1144 313.6074,-1109.5354 300.3557,-1105.2118 288.6,-1071 255.2918,-974.0654 236.9959,-853.0573 229.9863,-799.1588\"/>\n",
       "<polygon fill=\"#000000\" stroke=\"#000000\" points=\"233.4288,-798.4839 228.697,-789.0044 226.4846,-799.3656 233.4288,-798.4839\"/>\n",
       "<text text-anchor=\"middle\" x=\"426.6\" y=\"-1275.8\" font-family=\"Times,serif\" font-size=\"14.00\" fill=\"#000000\">1</text>\n",
       "</g>\n",
       "<!-- 4&#45;&gt;2 -->\n",
       "<g id=\"edge39\" class=\"edge\">\n",
       "<title>4&#45;&gt;2</title>\n",
       "<path fill=\"none\" stroke=\"#000000\" d=\"M643.2333,-1062.1926C649.2532,-1064.6017 656.156,-1067.1439 662.6,-1069 689.165,-1076.6515 697.0796,-1076.6222 724.6,-1074 736.3142,-1072.8839 739.2924,-1072.2569 750.6,-1069 753.822,-1068.072 757.1587,-1066.9724 760.4424,-1065.8037\"/>\n",
       "<polygon fill=\"#000000\" stroke=\"#000000\" points=\"761.857,-1069.0105 769.9667,-1062.1926 759.3753,-1062.4652 761.857,-1069.0105\"/>\n",
       "<text text-anchor=\"middle\" x=\"706.6\" y=\"-1078.8\" font-family=\"Times,serif\" font-size=\"14.00\" fill=\"#000000\">2</text>\n",
       "</g>\n",
       "<!-- 4&#45;&gt;3 -->\n",
       "<g id=\"edge40\" class=\"edge\">\n",
       "<title>4&#45;&gt;3</title>\n",
       "<path fill=\"none\" stroke=\"#000000\" d=\"M634.9348,-1038.6874C647.0481,-1014.8715 668.329,-972.5806 670.6,-965 684.6807,-917.9983 698.6805,-773.5733 704.1725,-712.1341\"/>\n",
       "<polygon fill=\"#000000\" stroke=\"#000000\" points=\"707.6737,-712.2733 705.0679,-702.0039 700.7009,-711.6569 707.6737,-712.2733\"/>\n",
       "<text text-anchor=\"middle\" x=\"666.6\" y=\"-985.8\" font-family=\"Times,serif\" font-size=\"14.00\" fill=\"#000000\">3</text>\n",
       "</g>\n",
       "<!-- 4&#45;&gt;4 -->\n",
       "<g id=\"edge41\" class=\"edge\">\n",
       "<title>4&#45;&gt;4</title>\n",
       "<path fill=\"none\" stroke=\"#000000\" d=\"M619.5687,-1071.6641C618.0062,-1081.625 620.35,-1091 626.6,-1091 630.6039,-1091 633.0047,-1087.1525 633.8023,-1081.7682\"/>\n",
       "<polygon fill=\"#000000\" stroke=\"#000000\" points=\"637.3001,-1081.6033 633.6312,-1071.6641 630.3011,-1081.7219 637.3001,-1081.6033\"/>\n",
       "<text text-anchor=\"middle\" x=\"626.6\" y=\"-1094.8\" font-family=\"Times,serif\" font-size=\"14.00\" fill=\"#000000\">4</text>\n",
       "</g>\n",
       "<!-- 4&#45;&gt;5 -->\n",
       "<g id=\"edge42\" class=\"edge\">\n",
       "<title>4&#45;&gt;5</title>\n",
       "<path fill=\"none\" stroke=\"#000000\" d=\"M624.6825,-1036.9834C620.4518,-999.3966 609.19,-910.0486 590.6,-837 587.9308,-826.5114 584.873,-824.5816 582.6,-814 563.5779,-725.4438 580.7531,-700.1242 564.6,-611 562.2904,-598.2568 558.6166,-584.392 555.1886,-572.7534\"/>\n",
       "<polygon fill=\"#000000\" stroke=\"#000000\" points=\"558.5365,-571.7327 552.2797,-563.1827 551.839,-573.7684 558.5365,-571.7327\"/>\n",
       "<text text-anchor=\"middle\" x=\"586.6\" y=\"-840.8\" font-family=\"Times,serif\" font-size=\"14.00\" fill=\"#000000\">5</text>\n",
       "</g>\n",
       "<!-- 4&#45;&gt;6 -->\n",
       "<g id=\"edge43\" class=\"edge\">\n",
       "<title>4&#45;&gt;6</title>\n",
       "<path fill=\"none\" stroke=\"#000000\" d=\"M612.1694,-1043.306C600.1179,-1034.0883 582.1356,-1021.5673 564.6,-1014 542.0217,-1004.2566 514.6563,-998.2754 494.5876,-994.8644\"/>\n",
       "<polygon fill=\"#000000\" stroke=\"#000000\" points=\"494.97,-991.3813 484.5444,-993.2673 493.8706,-998.2944 494.97,-991.3813\"/>\n",
       "<text text-anchor=\"middle\" x=\"546.6\" y=\"-1017.8\" font-family=\"Times,serif\" font-size=\"14.00\" fill=\"#000000\">6</text>\n",
       "</g>\n",
       "<!-- 4&#45;&gt;7 -->\n",
       "<g id=\"edge44\" class=\"edge\">\n",
       "<title>4&#45;&gt;7</title>\n",
       "<path fill=\"none\" stroke=\"#000000\" d=\"M614.1422,-1041.5959C579.071,-1003.1922 478.4328,-888.2951 422.6,-776 407.6874,-746.0067 397.689,-708.6738 392.0888,-683.6857\"/>\n",
       "<polygon fill=\"#000000\" stroke=\"#000000\" points=\"395.4845,-682.8281 389.9566,-673.7896 388.6415,-684.3025 395.4845,-682.8281\"/>\n",
       "<text text-anchor=\"middle\" x=\"506.6\" y=\"-917.8\" font-family=\"Times,serif\" font-size=\"14.00\" fill=\"#000000\">7</text>\n",
       "</g>\n",
       "<!-- 4&#45;&gt;8 -->\n",
       "<g id=\"edge45\" class=\"edge\">\n",
       "<title>4&#45;&gt;8</title>\n",
       "<path fill=\"none\" stroke=\"#000000\" d=\"M608.7277,-1058.577C602.9662,-1059.5693 596.5357,-1060.5087 590.6,-1061 587.0566,-1061.2933 586.1554,-1061.0329 582.6,-1061 511.3241,-1060.3401 489.4682,-1074.6846 422.6,-1050 381.2742,-1034.7445 344.6665,-997.5002 324.1006,-973.2938\"/>\n",
       "<polygon fill=\"#000000\" stroke=\"#000000\" points=\"326.5852,-970.8063 317.5137,-965.3328 321.1919,-975.2687 326.5852,-970.8063\"/>\n",
       "<text text-anchor=\"middle\" x=\"466.6\" y=\"-1067.8\" font-family=\"Times,serif\" font-size=\"14.00\" fill=\"#000000\">8</text>\n",
       "</g>\n",
       "<!-- 5&#45;&gt;9 -->\n",
       "<g id=\"edge55\" class=\"edge\">\n",
       "<title>5&#45;&gt;9</title>\n",
       "<path fill=\"none\" stroke=\"#000000\" d=\"M545.3973,-527.8564C542.7706,-497.9261 534.6758,-437.0387 510.6,-392 486.0667,-346.1054 398.3416,-241.7108 350.6,-221 281.6174,-191.0746 233.145,-185.3284 182.6,-241 158.5036,-267.5404 173.6495,-851.3138 164.6,-886 163.3415,-890.8237 161.4472,-895.7157 159.2884,-900.3737\"/>\n",
       "<polygon fill=\"#000000\" stroke=\"#000000\" points=\"156.0523,-899.0139 154.6044,-909.5094 162.2814,-902.2076 156.0523,-899.0139\"/>\n",
       "<text text-anchor=\"middle\" x=\"346.6\" y=\"-224.8\" font-family=\"Times,serif\" font-size=\"14.00\" fill=\"#000000\">9</text>\n",
       "</g>\n",
       "<!-- 5&#45;&gt;1 -->\n",
       "<g id=\"edge47\" class=\"edge\">\n",
       "<title>5&#45;&gt;1</title>\n",
       "<path fill=\"none\" stroke=\"#000000\" d=\"M528.1889,-545.9388C520.3079,-545.9285 511.0025,-545.9373 502.6,-546 443.0395,-546.4445 425.9556,-531.9378 368.6,-548 328.8901,-559.1206 319.1015,-567.2475 288.6,-595 245.9995,-633.7611 232.6667,-703.5687 228.4962,-742.6067\"/>\n",
       "<polygon fill=\"#000000\" stroke=\"#000000\" points=\"224.994,-742.4672 227.5461,-752.75 231.9635,-743.12 224.994,-742.4672\"/>\n",
       "<text text-anchor=\"middle\" x=\"386.6\" y=\"-551.8\" font-family=\"Times,serif\" font-size=\"14.00\" fill=\"#000000\">1</text>\n",
       "</g>\n",
       "<!-- 5&#45;&gt;2 -->\n",
       "<g id=\"edge48\" class=\"edge\">\n",
       "<title>5&#45;&gt;2</title>\n",
       "<path fill=\"none\" stroke=\"#000000\" d=\"M564.0496,-541.3172C569.9004,-539.9633 576.4903,-538.6707 582.6,-538 600.425,-536.0433 606.2827,-529.5816 644.6,-540 705.3867,-556.5278 704.1425,-597.4208 724.6,-657 770.3146,-790.1362 782.471,-959.9746 785.579,-1026.4822\"/>\n",
       "<polygon fill=\"#000000\" stroke=\"#000000\" points=\"782.0879,-1026.7659 786.0182,-1036.6048 789.0813,-1026.4624 782.0879,-1026.7659\"/>\n",
       "<text text-anchor=\"middle\" x=\"666.6\" y=\"-554.8\" font-family=\"Times,serif\" font-size=\"14.00\" fill=\"#000000\">2</text>\n",
       "</g>\n",
       "<!-- 5&#45;&gt;3 -->\n",
       "<g id=\"edge49\" class=\"edge\">\n",
       "<title>5&#45;&gt;3</title>\n",
       "<path fill=\"none\" stroke=\"#000000\" d=\"M564.6221,-542.9889C585.7266,-540.4781 620.8179,-539.575 644.6,-556 678.2227,-579.2213 694.2841,-625.9093 701.4385,-656.0207\"/>\n",
       "<polygon fill=\"#000000\" stroke=\"#000000\" points=\"698.0477,-656.8983 703.6118,-665.9145 704.8847,-655.3964 698.0477,-656.8983\"/>\n",
       "<text text-anchor=\"middle\" x=\"626.6\" y=\"-559.8\" font-family=\"Times,serif\" font-size=\"14.00\" fill=\"#000000\">3</text>\n",
       "</g>\n",
       "<!-- 5&#45;&gt;4 -->\n",
       "<g id=\"edge50\" class=\"edge\">\n",
       "<title>5&#45;&gt;4</title>\n",
       "<path fill=\"none\" stroke=\"#000000\" d=\"M552.3467,-563.1708C556.4484,-576.155 561.7283,-594.5036 564.6,-611 583.0207,-716.8181 560.7724,-746.8318 582.6,-852 584.7994,-862.5971 587.7542,-864.5579 590.6,-875 605.0665,-928.0827 616.3935,-991.4311 622.2363,-1027.0581\"/>\n",
       "<polygon fill=\"#000000\" stroke=\"#000000\" points=\"618.8217,-1027.8685 623.8709,-1037.1827 625.7322,-1026.7527 618.8217,-1027.8685\"/>\n",
       "<text text-anchor=\"middle\" x=\"586.6\" y=\"-878.8\" font-family=\"Times,serif\" font-size=\"14.00\" fill=\"#000000\">4</text>\n",
       "</g>\n",
       "<!-- 5&#45;&gt;5 -->\n",
       "<g id=\"edge51\" class=\"edge\">\n",
       "<title>5&#45;&gt;5</title>\n",
       "<path fill=\"none\" stroke=\"#000000\" d=\"M539.5687,-562.6641C538.0062,-572.625 540.35,-582 546.6,-582 550.6039,-582 553.0047,-578.1525 553.8023,-572.7682\"/>\n",
       "<polygon fill=\"#000000\" stroke=\"#000000\" points=\"557.3001,-572.6033 553.6312,-562.6641 550.3011,-572.7219 557.3001,-572.6033\"/>\n",
       "<text text-anchor=\"middle\" x=\"546.6\" y=\"-585.8\" font-family=\"Times,serif\" font-size=\"14.00\" fill=\"#000000\">5</text>\n",
       "</g>\n",
       "<!-- 5&#45;&gt;6 -->\n",
       "<g id=\"edge52\" class=\"edge\">\n",
       "<title>5&#45;&gt;6</title>\n",
       "<path fill=\"none\" stroke=\"#000000\" d=\"M541.6469,-563.3432C537.9502,-576.4153 532.8293,-594.7984 528.6,-611 516.348,-657.9348 511.5508,-669.3254 502.6,-717 485.8568,-806.1798 474.2044,-913.1351 469.2589,-962.9306\"/>\n",
       "<polygon fill=\"#000000\" stroke=\"#000000\" points=\"465.7702,-962.6456 468.2793,-972.939 472.7369,-963.3275 465.7702,-962.6456\"/>\n",
       "<text text-anchor=\"middle\" x=\"506.6\" y=\"-720.8\" font-family=\"Times,serif\" font-size=\"14.00\" fill=\"#000000\">6</text>\n",
       "</g>\n",
       "<!-- 5&#45;&gt;7 -->\n",
       "<g id=\"edge53\" class=\"edge\">\n",
       "<title>5&#45;&gt;7</title>\n",
       "<path fill=\"none\" stroke=\"#000000\" d=\"M531.471,-556.4012C503.5385,-575.6048 443.684,-616.7548 410.3137,-639.6968\"/>\n",
       "<polygon fill=\"#000000\" stroke=\"#000000\" points=\"407.91,-637.102 401.6524,-645.6515 411.8757,-642.8703 407.91,-637.102\"/>\n",
       "<text text-anchor=\"middle\" x=\"466.6\" y=\"-614.8\" font-family=\"Times,serif\" font-size=\"14.00\" fill=\"#000000\">7</text>\n",
       "</g>\n",
       "<!-- 5&#45;&gt;8 -->\n",
       "<g id=\"edge54\" class=\"edge\">\n",
       "<title>5&#45;&gt;8</title>\n",
       "<path fill=\"none\" stroke=\"#000000\" d=\"M539.6896,-562.7756C532.8925,-578.8079 521.9162,-603.5004 510.6,-624 500.353,-642.5628 497.807,-647.4122 484.6,-664 438.3962,-722.0312 406.0966,-719.9967 368.6,-784 354.5267,-808.0219 359.9055,-817.7603 350.6,-844 340.6316,-872.1089 327.4244,-903.6074 318.0891,-925.1071\"/>\n",
       "<polygon fill=\"#000000\" stroke=\"#000000\" points=\"314.7743,-923.9518 313.9734,-934.5164 321.1876,-926.7572 314.7743,-923.9518\"/>\n",
       "<text text-anchor=\"middle\" x=\"426.6\" y=\"-724.8\" font-family=\"Times,serif\" font-size=\"14.00\" fill=\"#000000\">8</text>\n",
       "</g>\n",
       "<!-- 6&#45;&gt;9 -->\n",
       "<g id=\"edge64\" class=\"edge\">\n",
       "<title>6&#45;&gt;9</title>\n",
       "<path fill=\"none\" stroke=\"#000000\" d=\"M456.3534,-1006.0787C442.7275,-1024.1425 416.8159,-1052 386.6,-1052 226.6,-1052 226.6,-1052 226.6,-1052 181.9167,-1052 159.372,-996.1261 149.3782,-959.3906\"/>\n",
       "<polygon fill=\"#000000\" stroke=\"#000000\" points=\"152.7443,-958.4259 146.8843,-949.5992 145.9609,-960.1537 152.7443,-958.4259\"/>\n",
       "<text text-anchor=\"middle\" x=\"306.6\" y=\"-1055.8\" font-family=\"Times,serif\" font-size=\"14.00\" fill=\"#000000\">9</text>\n",
       "</g>\n",
       "<!-- 6&#45;&gt;1 -->\n",
       "<g id=\"edge56\" class=\"edge\">\n",
       "<title>6&#45;&gt;1</title>\n",
       "<path fill=\"none\" stroke=\"#000000\" d=\"M453.158,-978.6781C413.3363,-942.1749 295.7651,-834.4013 247.5698,-790.2223\"/>\n",
       "<polygon fill=\"#000000\" stroke=\"#000000\" points=\"249.9277,-787.6357 240.1911,-783.4585 245.1976,-792.7958 249.9277,-787.6357\"/>\n",
       "<text text-anchor=\"middle\" x=\"346.6\" y=\"-886.8\" font-family=\"Times,serif\" font-size=\"14.00\" fill=\"#000000\">1</text>\n",
       "</g>\n",
       "<!-- 6&#45;&gt;2 -->\n",
       "<g id=\"edge57\" class=\"edge\">\n",
       "<title>6&#45;&gt;2</title>\n",
       "<path fill=\"none\" stroke=\"#000000\" d=\"M474.8663,-1007.0344C481.8812,-1020.3602 492.4038,-1039.7065 502.6,-1056 534.6341,-1107.1902 550.4039,-1124.8806 608.6,-1141 659.0179,-1154.965 677.8749,-1144.532 724.6,-1121 743.6146,-1111.4238 759.8617,-1093.5101 770.9483,-1078.7596\"/>\n",
       "<polygon fill=\"#000000\" stroke=\"#000000\" points=\"773.8703,-1080.691 776.8615,-1070.5272 768.1849,-1076.6073 773.8703,-1080.691\"/>\n",
       "<text text-anchor=\"middle\" x=\"626.6\" y=\"-1150.8\" font-family=\"Times,serif\" font-size=\"14.00\" fill=\"#000000\">2</text>\n",
       "</g>\n",
       "<!-- 6&#45;&gt;3 -->\n",
       "<g id=\"edge58\" class=\"edge\">\n",
       "<title>6&#45;&gt;3</title>\n",
       "<path fill=\"none\" stroke=\"#000000\" d=\"M471.735,-973.7296C477.7468,-954.7351 488.6775,-923.6385 502.6,-899 531.289,-848.2296 537.4323,-831.8859 582.6,-795 616.3162,-767.4658 639.3249,-782.2784 670.6,-752 682.4158,-740.5608 691.1929,-724.3967 697.1213,-710.6981\"/>\n",
       "<polygon fill=\"#000000\" stroke=\"#000000\" points=\"700.4329,-711.8448 700.9374,-701.262 693.9435,-709.2204 700.4329,-711.8448\"/>\n",
       "<text text-anchor=\"middle\" x=\"586.6\" y=\"-798.8\" font-family=\"Times,serif\" font-size=\"14.00\" fill=\"#000000\">3</text>\n",
       "</g>\n",
       "<!-- 6&#45;&gt;4 -->\n",
       "<g id=\"edge59\" class=\"edge\">\n",
       "<title>6&#45;&gt;4</title>\n",
       "<path fill=\"none\" stroke=\"#000000\" d=\"M481.2226,-1001.656C493.3855,-1010.0934 511.4239,-1021.6449 528.6,-1029 551.3689,-1038.75 578.7153,-1045.6369 598.7284,-1049.8624\"/>\n",
       "<polygon fill=\"#000000\" stroke=\"#000000\" points=\"598.244,-1053.3351 608.739,-1051.8839 599.6297,-1046.4737 598.244,-1053.3351\"/>\n",
       "<text text-anchor=\"middle\" x=\"546.6\" y=\"-1044.8\" font-family=\"Times,serif\" font-size=\"14.00\" fill=\"#000000\">4</text>\n",
       "</g>\n",
       "<!-- 6&#45;&gt;5 -->\n",
       "<g id=\"edge60\" class=\"edge\">\n",
       "<title>6&#45;&gt;5</title>\n",
       "<path fill=\"none\" stroke=\"#000000\" d=\"M468.2072,-973.0166C472.0071,-933.255 482.75,-835.0536 502.6,-755 505.2048,-744.4952 508.0147,-742.5096 510.6,-732 523.5875,-679.2044 517.3238,-664.1874 528.6,-611 531.2589,-598.4588 534.9357,-584.7558 538.2736,-573.1787\"/>\n",
       "<polygon fill=\"#000000\" stroke=\"#000000\" points=\"541.7333,-573.8203 541.2047,-563.2386 535.0192,-571.8404 541.7333,-573.8203\"/>\n",
       "<text text-anchor=\"middle\" x=\"506.6\" y=\"-758.8\" font-family=\"Times,serif\" font-size=\"14.00\" fill=\"#000000\">5</text>\n",
       "</g>\n",
       "<!-- 6&#45;&gt;6 -->\n",
       "<g id=\"edge61\" class=\"edge\">\n",
       "<title>6&#45;&gt;6</title>\n",
       "<path fill=\"none\" stroke=\"#000000\" d=\"M459.5687,-1007.6641C458.0062,-1017.625 460.35,-1027 466.6,-1027 470.6039,-1027 473.0047,-1023.1525 473.8023,-1017.7682\"/>\n",
       "<polygon fill=\"#000000\" stroke=\"#000000\" points=\"477.3001,-1017.6033 473.6312,-1007.6641 470.3011,-1017.7219 477.3001,-1017.6033\"/>\n",
       "<text text-anchor=\"middle\" x=\"466.6\" y=\"-1030.8\" font-family=\"Times,serif\" font-size=\"14.00\" fill=\"#000000\">6</text>\n",
       "</g>\n",
       "<!-- 6&#45;&gt;7 -->\n",
       "<g id=\"edge62\" class=\"edge\">\n",
       "<title>6&#45;&gt;7</title>\n",
       "<path fill=\"none\" stroke=\"#000000\" d=\"M461.089,-973.8074C452.2247,-945.7758 434.5825,-888.391 422.6,-839 409.386,-784.5327 397.5829,-720.0581 391.3239,-684.0102\"/>\n",
       "<polygon fill=\"#000000\" stroke=\"#000000\" points=\"394.7085,-683.0401 389.564,-673.7781 387.8098,-684.2267 394.7085,-683.0401\"/>\n",
       "<text text-anchor=\"middle\" x=\"426.6\" y=\"-871.8\" font-family=\"Times,serif\" font-size=\"14.00\" fill=\"#000000\">7</text>\n",
       "</g>\n",
       "<!-- 6&#45;&gt;8 -->\n",
       "<g id=\"edge63\" class=\"edge\">\n",
       "<title>6&#45;&gt;8</title>\n",
       "<path fill=\"none\" stroke=\"#000000\" d=\"M449.3429,-985.2737C436.9669,-981.2747 419.8546,-975.9639 404.6,-972 381.0458,-965.8794 353.977,-960.1784 334.2646,-956.2655\"/>\n",
       "<polygon fill=\"#000000\" stroke=\"#000000\" points=\"334.8983,-952.8232 324.4122,-954.3369 333.5536,-959.6928 334.8983,-952.8232\"/>\n",
       "<text text-anchor=\"middle\" x=\"386.6\" y=\"-975.8\" font-family=\"Times,serif\" font-size=\"14.00\" fill=\"#000000\">8</text>\n",
       "</g>\n",
       "<!-- 7&#45;&gt;9 -->\n",
       "<g id=\"edge73\" class=\"edge\">\n",
       "<title>7&#45;&gt;9</title>\n",
       "<path fill=\"none\" stroke=\"#000000\" d=\"M371.8875,-666.4903C362.453,-673.8492 350.5307,-684.4142 342.6,-696 292.2948,-769.4904 334.495,-820.9606 270.6,-883 244.4105,-908.4289 203.0236,-919.5612 174.4356,-924.3874\"/>\n",
       "<polygon fill=\"#000000\" stroke=\"#000000\" points=\"173.8934,-920.9296 164.5341,-925.895 174.9471,-927.8498 173.8934,-920.9296\"/>\n",
       "<text text-anchor=\"middle\" x=\"266.6\" y=\"-892.8\" font-family=\"Times,serif\" font-size=\"14.00\" fill=\"#000000\">9</text>\n",
       "</g>\n",
       "<!-- 7&#45;&gt;1 -->\n",
       "<g id=\"edge65\" class=\"edge\">\n",
       "<title>7&#45;&gt;1</title>\n",
       "<path fill=\"none\" stroke=\"#000000\" d=\"M371.4166,-646.2763C351.0186,-634.5725 314.3572,-618.4347 288.6,-635 251.7363,-658.7082 236.5272,-710.3354 230.4453,-742.7196\"/>\n",
       "<polygon fill=\"#000000\" stroke=\"#000000\" points=\"226.9408,-742.4509 228.7146,-752.8962 233.8417,-743.6246 226.9408,-742.4509\"/>\n",
       "<text text-anchor=\"middle\" x=\"306.6\" y=\"-638.8\" font-family=\"Times,serif\" font-size=\"14.00\" fill=\"#000000\">1</text>\n",
       "</g>\n",
       "<!-- 7&#45;&gt;2 -->\n",
       "<g id=\"edge66\" class=\"edge\">\n",
       "<title>7&#45;&gt;2</title>\n",
       "<path fill=\"none\" stroke=\"#000000\" d=\"M395.4848,-640.2481C427.4631,-583.7761 537.1948,-391.967 582.6,-338 624.0695,-288.7109 665.5559,-283.2527 724.6,-309 740.1665,-315.7881 743.9987,-321.3533 750.6,-337 777.7085,-401.2542 784.9228,-900.6012 786.3175,-1026.3361\"/>\n",
       "<polygon fill=\"#000000\" stroke=\"#000000\" points=\"782.8212,-1026.7155 786.4282,-1036.6774 789.8208,-1026.6404 782.8212,-1026.7155\"/>\n",
       "<text text-anchor=\"middle\" x=\"586.6\" y=\"-341.8\" font-family=\"Times,serif\" font-size=\"14.00\" fill=\"#000000\">2</text>\n",
       "</g>\n",
       "<!-- 7&#45;&gt;3 -->\n",
       "<g id=\"edge67\" class=\"edge\">\n",
       "<title>7&#45;&gt;3</title>\n",
       "<path fill=\"none\" stroke=\"#000000\" d=\"M401.2612,-666.751C407.5173,-670.7372 415.0969,-674.816 422.6,-677 433.7033,-680.232 437.0414,-677.6433 448.6,-678 532.1079,-680.5768 630.8511,-682.5832 678.3258,-683.4829\"/>\n",
       "<polygon fill=\"#000000\" stroke=\"#000000\" points=\"678.3914,-686.9847 688.4552,-683.6728 678.5226,-679.9859 678.3914,-686.9847\"/>\n",
       "<text text-anchor=\"middle\" x=\"546.6\" y=\"-684.8\" font-family=\"Times,serif\" font-size=\"14.00\" fill=\"#000000\">3</text>\n",
       "</g>\n",
       "<!-- 7&#45;&gt;4 -->\n",
       "<g id=\"edge68\" class=\"edge\">\n",
       "<title>7&#45;&gt;4</title>\n",
       "<path fill=\"none\" stroke=\"#000000\" d=\"M394.7245,-672.4134C405.1911,-692.4099 424.889,-726.4344 448.6,-750 472.3851,-773.6392 489.2385,-767.1499 510.6,-793 571.2465,-866.3897 606.0476,-976.4815 619.7516,-1027.3797\"/>\n",
       "<polygon fill=\"#000000\" stroke=\"#000000\" points=\"616.4333,-1028.524 622.3573,-1037.3078 623.204,-1026.7469 616.4333,-1028.524\"/>\n",
       "<text text-anchor=\"middle\" x=\"506.6\" y=\"-796.8\" font-family=\"Times,serif\" font-size=\"14.00\" fill=\"#000000\">4</text>\n",
       "</g>\n",
       "<!-- 7&#45;&gt;5 -->\n",
       "<g id=\"edge69\" class=\"edge\">\n",
       "<title>7&#45;&gt;5</title>\n",
       "<path fill=\"none\" stroke=\"#000000\" d=\"M404.71,-654.7899C425.5824,-652.629 460.1455,-646.628 484.6,-630 506.27,-615.2654 523.2379,-590.3828 533.9035,-571.5136\"/>\n",
       "<polygon fill=\"#000000\" stroke=\"#000000\" points=\"537.0773,-573.0027 538.7619,-562.5427 530.922,-569.6692 537.0773,-573.0027\"/>\n",
       "<text text-anchor=\"middle\" x=\"466.6\" y=\"-648.8\" font-family=\"Times,serif\" font-size=\"14.00\" fill=\"#000000\">5</text>\n",
       "</g>\n",
       "<!-- 7&#45;&gt;6 -->\n",
       "<g id=\"edge70\" class=\"edge\">\n",
       "<title>7&#45;&gt;6</title>\n",
       "<path fill=\"none\" stroke=\"#000000\" d=\"M390.1522,-674.1137C395.7951,-701.8144 407.7082,-756.2035 422.6,-801 425.4904,-809.6946 427.866,-811.255 430.6,-820 445.9571,-869.1214 456.7694,-928.2303 462.3166,-962.52\"/>\n",
       "<polygon fill=\"#000000\" stroke=\"#000000\" points=\"458.9131,-963.4061 463.9317,-972.7369 465.8273,-962.313 458.9131,-963.4061\"/>\n",
       "<text text-anchor=\"middle\" x=\"426.6\" y=\"-823.8\" font-family=\"Times,serif\" font-size=\"14.00\" fill=\"#000000\">6</text>\n",
       "</g>\n",
       "<!-- 7&#45;&gt;7 -->\n",
       "<g id=\"edge71\" class=\"edge\">\n",
       "<title>7&#45;&gt;7</title>\n",
       "<path fill=\"none\" stroke=\"#000000\" d=\"M379.5687,-672.6641C378.0062,-682.625 380.35,-692 386.6,-692 390.6039,-692 393.0047,-688.1525 393.8023,-682.7682\"/>\n",
       "<polygon fill=\"#000000\" stroke=\"#000000\" points=\"397.3001,-682.6033 393.6312,-672.6641 390.3011,-682.7219 397.3001,-682.6033\"/>\n",
       "<text text-anchor=\"middle\" x=\"386.6\" y=\"-695.8\" font-family=\"Times,serif\" font-size=\"14.00\" fill=\"#000000\">7</text>\n",
       "</g>\n",
       "<!-- 7&#45;&gt;8 -->\n",
       "<g id=\"edge72\" class=\"edge\">\n",
       "<title>7&#45;&gt;8</title>\n",
       "<path fill=\"none\" stroke=\"#000000\" d=\"M373.778,-668.7771C363.4412,-679.9438 349.5253,-697.1281 342.6,-715 313.2307,-790.7922 341.5575,-817.505 324.6,-897 322.644,-906.1694 319.6656,-915.9591 316.6912,-924.65\"/>\n",
       "<polygon fill=\"#000000\" stroke=\"#000000\" points=\"313.3318,-923.65 313.2628,-934.2446 319.9236,-926.0054 313.3318,-923.65\"/>\n",
       "<text text-anchor=\"middle\" x=\"346.6\" y=\"-718.8\" font-family=\"Times,serif\" font-size=\"14.00\" fill=\"#000000\">8</text>\n",
       "</g>\n",
       "<!-- 8&#45;&gt;9 -->\n",
       "<g id=\"edge82\" class=\"edge\">\n",
       "<title>8&#45;&gt;9</title>\n",
       "<path fill=\"none\" stroke=\"#000000\" d=\"M288.3609,-948.4421C261.0109,-944.6064 208.9705,-937.3081 175.0426,-932.5499\"/>\n",
       "<polygon fill=\"#000000\" stroke=\"#000000\" points=\"175.107,-929.0247 164.7178,-931.1019 174.1347,-935.9569 175.107,-929.0247\"/>\n",
       "<text text-anchor=\"middle\" x=\"226.6\" y=\"-945.8\" font-family=\"Times,serif\" font-size=\"14.00\" fill=\"#000000\">9</text>\n",
       "</g>\n",
       "<!-- 8&#45;&gt;1 -->\n",
       "<g id=\"edge74\" class=\"edge\">\n",
       "<title>8&#45;&gt;1</title>\n",
       "<path fill=\"none\" stroke=\"#000000\" d=\"M303.0324,-933.1394C297.8817,-909.4301 287.1276,-866.6414 270.6,-833 263.6432,-818.8397 253.5903,-804.386 244.8493,-793\"/>\n",
       "<polygon fill=\"#000000\" stroke=\"#000000\" points=\"247.4363,-790.6283 238.4937,-784.9467 241.9414,-794.9649 247.4363,-790.6283\"/>\n",
       "<text text-anchor=\"middle\" x=\"266.6\" y=\"-836.8\" font-family=\"Times,serif\" font-size=\"14.00\" fill=\"#000000\">1</text>\n",
       "</g>\n",
       "<!-- 8&#45;&gt;2 -->\n",
       "<g id=\"edge75\" class=\"edge\">\n",
       "<title>8&#45;&gt;2</title>\n",
       "<path fill=\"none\" stroke=\"#000000\" d=\"M311.3473,-968.4951C317.6229,-990.9332 329.4351,-1030.9021 342.6,-1064 411.8251,-1238.039 531.5933,-1495 586.6,-1495 586.6,-1495 586.6,-1495 706.6,-1495 748.6058,-1495 776.7617,-1180.5685 784.4657,-1083.315\"/>\n",
       "<polygon fill=\"#000000\" stroke=\"#000000\" points=\"787.9766,-1083.3107 785.2649,-1073.0688 780.9978,-1082.7663 787.9766,-1083.3107\"/>\n",
       "<text text-anchor=\"middle\" x=\"546.6\" y=\"-1487.8\" font-family=\"Times,serif\" font-size=\"14.00\" fill=\"#000000\">2</text>\n",
       "</g>\n",
       "<!-- 8&#45;&gt;3 -->\n",
       "<g id=\"edge76\" class=\"edge\">\n",
       "<title>8&#45;&gt;3</title>\n",
       "<path fill=\"none\" stroke=\"#000000\" d=\"M324.7267,-951.5855C360.8273,-952.2785 443.9671,-951.4988 510.6,-933 548.714,-922.4187 561.0594,-920.3058 590.6,-894 648.3374,-842.585 683.332,-755.3254 698.2098,-711.2318\"/>\n",
       "<polygon fill=\"#000000\" stroke=\"#000000\" points=\"701.6108,-712.0928 701.4015,-701.5001 694.9594,-709.9113 701.6108,-712.0928\"/>\n",
       "<text text-anchor=\"middle\" x=\"506.6\" y=\"-938.8\" font-family=\"Times,serif\" font-size=\"14.00\" fill=\"#000000\">3</text>\n",
       "</g>\n",
       "<!-- 8&#45;&gt;4 -->\n",
       "<g id=\"edge77\" class=\"edge\">\n",
       "<title>8&#45;&gt;4</title>\n",
       "<path fill=\"none\" stroke=\"#000000\" d=\"M315.3328,-966.9234C322.283,-979.243 332.4896,-996.5763 342.6,-1011 375.2894,-1057.6354 393.1722,-1069.9153 448.6,-1083 479.5861,-1090.3148 558.1428,-1084.7286 590.6,-1075 594.5701,-1073.81 598.5881,-1072.1335 602.4288,-1070.2517\"/>\n",
       "<polygon fill=\"#000000\" stroke=\"#000000\" points=\"604.3806,-1073.1739 611.4823,-1065.3116 601.0276,-1067.0292 604.3806,-1073.1739\"/>\n",
       "<text text-anchor=\"middle\" x=\"466.6\" y=\"-1089.8\" font-family=\"Times,serif\" font-size=\"14.00\" fill=\"#000000\">4</text>\n",
       "</g>\n",
       "<!-- 8&#45;&gt;5 -->\n",
       "<g id=\"edge78\" class=\"edge\">\n",
       "<title>8&#45;&gt;5</title>\n",
       "<path fill=\"none\" stroke=\"#000000\" d=\"M307.7138,-932.8235C311.8109,-871.7182 327.9734,-674.9595 368.6,-629 408.955,-583.3478 479.7041,-560.9871 518.7509,-551.6456\"/>\n",
       "<polygon fill=\"#000000\" stroke=\"#000000\" points=\"519.895,-554.975 528.8718,-549.3475 518.345,-548.1487 519.895,-554.975\"/>\n",
       "<text text-anchor=\"middle\" x=\"426.6\" y=\"-589.8\" font-family=\"Times,serif\" font-size=\"14.00\" fill=\"#000000\">5</text>\n",
       "</g>\n",
       "<!-- 8&#45;&gt;6 -->\n",
       "<g id=\"edge79\" class=\"edge\">\n",
       "<title>8&#45;&gt;6</title>\n",
       "<path fill=\"none\" stroke=\"#000000\" d=\"M321.02,-961.8357C333.0653,-970.2588 351.0445,-981.419 368.6,-987 391.2967,-994.2154 418.445,-994.7407 438.406,-993.7322\"/>\n",
       "<polygon fill=\"#000000\" stroke=\"#000000\" points=\"438.6576,-997.2233 448.4044,-993.0698 438.1948,-990.2386 438.6576,-997.2233\"/>\n",
       "<text text-anchor=\"middle\" x=\"386.6\" y=\"-996.8\" font-family=\"Times,serif\" font-size=\"14.00\" fill=\"#000000\">6</text>\n",
       "</g>\n",
       "<!-- 8&#45;&gt;7 -->\n",
       "<g id=\"edge80\" class=\"edge\">\n",
       "<title>8&#45;&gt;7</title>\n",
       "<path fill=\"none\" stroke=\"#000000\" d=\"M313.1473,-934.2192C317.019,-923.6806 321.7145,-909.7212 324.6,-897 338.8675,-834.0998 325.0794,-815.0728 342.6,-753 346.5735,-738.9227 362.4395,-705.2001 373.9819,-681.4891\"/>\n",
       "<polygon fill=\"#000000\" stroke=\"#000000\" points=\"377.2093,-682.8566 378.4641,-672.3363 370.9227,-679.7779 377.2093,-682.8566\"/>\n",
       "<text text-anchor=\"middle\" x=\"346.6\" y=\"-756.8\" font-family=\"Times,serif\" font-size=\"14.00\" fill=\"#000000\">7</text>\n",
       "</g>\n",
       "<!-- 8&#45;&gt;8 -->\n",
       "<g id=\"edge81\" class=\"edge\">\n",
       "<title>8&#45;&gt;8</title>\n",
       "<path fill=\"none\" stroke=\"#000000\" d=\"M299.5687,-967.6641C298.0062,-977.625 300.35,-987 306.6,-987 310.6039,-987 313.0047,-983.1525 313.8023,-977.7682\"/>\n",
       "<polygon fill=\"#000000\" stroke=\"#000000\" points=\"317.3001,-977.6033 313.6312,-967.6641 310.3011,-977.7219 317.3001,-977.6033\"/>\n",
       "<text text-anchor=\"middle\" x=\"306.6\" y=\"-990.8\" font-family=\"Times,serif\" font-size=\"14.00\" fill=\"#000000\">8</text>\n",
       "</g>\n",
       "</g>\n",
       "</svg>\n"
      ],
      "text/plain": [
       "<graphviz.dot.Digraph at 0x7f649cd86780>"
      ]
     },
     "execution_count": 25,
     "metadata": {
      "tags": []
     },
     "output_type": "execute_result"
    }
   ],
   "source": [
    "n_estados = 10\n",
    "Q1 = {q for q in range(0, n_estados)}\n",
    "Sigma1 = {s for s in range(1,n_estados)}\n",
    "delta1 = ({(q,s):s for q in Q1 for s in Sigma1})\n",
    "q01 = 0\n",
    "F1 = {n_estados - 1}\n",
    "\n",
    "M1 = AFD(Q1,Sigma1,delta1,q01,F1)\n",
    "M1.visualizar()"
   ]
  },
  {
   "cell_type": "markdown",
   "metadata": {
    "id": "R8KPZi1ENBxq",
    "slideshow": {
     "slide_type": "subslide"
    }
   },
   "source": [
    "Em outro exemplo, podemos ter um alfabeto composto por três símbolos: `não`, `aceite`, `isso`. Além disso, podemos usar as estruturas de repetição do Python para nos auxiliar na definição da função de transição."
   ]
  },
  {
   "cell_type": "code",
   "execution_count": null,
   "metadata": {
    "colab": {
     "base_uri": "https://localhost:8080/",
     "height": 134
    },
    "id": "hq1ddQarO7E8",
    "outputId": "d5551e4b-34b7-4ef4-dc71-a2c5d1805b2d",
    "slideshow": {
     "slide_type": "subslide"
    }
   },
   "outputs": [
    {
     "data": {
      "image/svg+xml": [
       "<?xml version=\"1.0\" encoding=\"UTF-8\" standalone=\"no\"?>\n",
       "<!DOCTYPE svg PUBLIC \"-//W3C//DTD SVG 1.1//EN\"\n",
       " \"http://www.w3.org/Graphics/SVG/1.1/DTD/svg11.dtd\">\n",
       "<!-- Generated by graphviz version 2.40.1 (20161225.0304)\n",
       " -->\n",
       "<!-- Title: finite_state_machine Pages: 1 -->\n",
       "<svg width=\"424pt\" height=\"85pt\"\n",
       " viewBox=\"0.00 0.00 423.60 85.00\" xmlns=\"http://www.w3.org/2000/svg\" xmlns:xlink=\"http://www.w3.org/1999/xlink\">\n",
       "<g id=\"graph0\" class=\"graph\" transform=\"scale(1 1) rotate(0) translate(4 81)\">\n",
       "<title>finite_state_machine</title>\n",
       "<polygon fill=\"#ffffff\" stroke=\"transparent\" points=\"-4,4 -4,-81 419.6,-81 419.6,4 -4,4\"/>\n",
       "<g id=\"node1\" class=\"node\">\n",
       "<title></title>\n",
       "<ellipse fill=\"#000000\" stroke=\"#000000\" cx=\"1.8\" cy=\"-22\" rx=\"1.8\" ry=\"1.8\"/>\n",
       "</g>\n",
       "<!-- 0 -->\n",
       "<g id=\"node2\" class=\"node\">\n",
       "<title>0</title>\n",
       "<ellipse fill=\"none\" stroke=\"#000000\" cx=\"62.6\" cy=\"-22\" rx=\"18\" ry=\"18\"/>\n",
       "<ellipse fill=\"none\" stroke=\"#000000\" cx=\"62.6\" cy=\"-22\" rx=\"22\" ry=\"22\"/>\n",
       "<text text-anchor=\"middle\" x=\"62.6\" y=\"-18.3\" font-family=\"Times,serif\" font-size=\"14.00\" fill=\"#000000\">0</text>\n",
       "</g>\n",
       "<!-- &#45;&gt;0 -->\n",
       "<g id=\"edge1\" class=\"edge\">\n",
       "<title>&#45;&gt;0</title>\n",
       "<path fill=\"none\" stroke=\"#000000\" d=\"M3.8229,-22C8.2086,-22 19.1055,-22 30.3421,-22\"/>\n",
       "<polygon fill=\"#000000\" stroke=\"#000000\" points=\"30.58,-25.5001 40.58,-22 30.5799,-18.5001 30.58,-25.5001\"/>\n",
       "</g>\n",
       "<!-- 0&#45;&gt;0 -->\n",
       "<g id=\"edge5\" class=\"edge\">\n",
       "<title>0&#45;&gt;0</title>\n",
       "<path fill=\"none\" stroke=\"#000000\" d=\"M55.2831,-42.9908C54.3798,-53.0872 56.8188,-62 62.6,-62 66.3036,-62 68.6356,-58.3422 69.5958,-53.0587\"/>\n",
       "<polygon fill=\"#000000\" stroke=\"#000000\" points=\"73.0963,-53.0973 69.9169,-42.9908 66.0998,-52.8741 73.0963,-53.0973\"/>\n",
       "<text text-anchor=\"middle\" x=\"62.6\" y=\"-65.8\" font-family=\"Times,serif\" font-size=\"14.00\" fill=\"#000000\">aceite,isso</text>\n",
       "</g>\n",
       "<!-- 1 -->\n",
       "<g id=\"node3\" class=\"node\">\n",
       "<title>1</title>\n",
       "<ellipse fill=\"none\" stroke=\"#000000\" cx=\"164.6\" cy=\"-22\" rx=\"18\" ry=\"18\"/>\n",
       "<ellipse fill=\"none\" stroke=\"#000000\" cx=\"164.6\" cy=\"-22\" rx=\"22\" ry=\"22\"/>\n",
       "<text text-anchor=\"middle\" x=\"164.6\" y=\"-18.3\" font-family=\"Times,serif\" font-size=\"14.00\" fill=\"#000000\">1</text>\n",
       "</g>\n",
       "<!-- 0&#45;&gt;1 -->\n",
       "<g id=\"edge2\" class=\"edge\">\n",
       "<title>0&#45;&gt;1</title>\n",
       "<path fill=\"none\" stroke=\"#000000\" d=\"M84.7325,-22C98.6334,-22 116.8007,-22 132.2956,-22\"/>\n",
       "<polygon fill=\"#000000\" stroke=\"#000000\" points=\"132.5107,-25.5001 142.5107,-22 132.5107,-18.5001 132.5107,-25.5001\"/>\n",
       "<text text-anchor=\"middle\" x=\"113.6\" y=\"-25.8\" font-family=\"Times,serif\" font-size=\"14.00\" fill=\"#000000\">não</text>\n",
       "</g>\n",
       "<!-- 1&#45;&gt;1 -->\n",
       "<g id=\"edge6\" class=\"edge\">\n",
       "<title>1&#45;&gt;1</title>\n",
       "<path fill=\"none\" stroke=\"#000000\" d=\"M155.5546,-42.1697C154.163,-52.599 157.1781,-62 164.6,-62 169.4706,-62 172.4434,-57.9513 173.5183,-52.2203\"/>\n",
       "<polygon fill=\"#000000\" stroke=\"#000000\" points=\"177.0186,-52.2132 173.6454,-42.1697 170.0192,-52.1246 177.0186,-52.2132\"/>\n",
       "<text text-anchor=\"middle\" x=\"164.6\" y=\"-65.8\" font-family=\"Times,serif\" font-size=\"14.00\" fill=\"#000000\">não,isso</text>\n",
       "</g>\n",
       "<!-- 2 -->\n",
       "<g id=\"node4\" class=\"node\">\n",
       "<title>2</title>\n",
       "<ellipse fill=\"none\" stroke=\"#000000\" cx=\"276.6\" cy=\"-22\" rx=\"18\" ry=\"18\"/>\n",
       "<ellipse fill=\"none\" stroke=\"#000000\" cx=\"276.6\" cy=\"-22\" rx=\"22\" ry=\"22\"/>\n",
       "<text text-anchor=\"middle\" x=\"276.6\" y=\"-18.3\" font-family=\"Times,serif\" font-size=\"14.00\" fill=\"#000000\">2</text>\n",
       "</g>\n",
       "<!-- 1&#45;&gt;2 -->\n",
       "<g id=\"edge3\" class=\"edge\">\n",
       "<title>1&#45;&gt;2</title>\n",
       "<path fill=\"none\" stroke=\"#000000\" d=\"M186.7276,-22C203.218,-22 225.9855,-22 244.4783,-22\"/>\n",
       "<polygon fill=\"#000000\" stroke=\"#000000\" points=\"244.5184,-25.5001 254.5184,-22 244.5183,-18.5001 244.5184,-25.5001\"/>\n",
       "<text text-anchor=\"middle\" x=\"220.6\" y=\"-25.8\" font-family=\"Times,serif\" font-size=\"14.00\" fill=\"#000000\">aceite</text>\n",
       "</g>\n",
       "<!-- 2&#45;&gt;2 -->\n",
       "<g id=\"edge7\" class=\"edge\">\n",
       "<title>2&#45;&gt;2</title>\n",
       "<path fill=\"none\" stroke=\"#000000\" d=\"M267.5546,-42.1697C266.163,-52.599 269.1781,-62 276.6,-62 281.4706,-62 284.4434,-57.9513 285.5183,-52.2203\"/>\n",
       "<polygon fill=\"#000000\" stroke=\"#000000\" points=\"289.0186,-52.2132 285.6454,-42.1697 282.0192,-52.1246 289.0186,-52.2132\"/>\n",
       "<text text-anchor=\"middle\" x=\"276.6\" y=\"-65.8\" font-family=\"Times,serif\" font-size=\"14.00\" fill=\"#000000\">aceite,não</text>\n",
       "</g>\n",
       "<!-- 3 -->\n",
       "<g id=\"node5\" class=\"node\">\n",
       "<title>3</title>\n",
       "<ellipse fill=\"none\" stroke=\"#000000\" cx=\"374.6\" cy=\"-22\" rx=\"18\" ry=\"18\"/>\n",
       "<text text-anchor=\"middle\" x=\"374.6\" y=\"-18.3\" font-family=\"Times,serif\" font-size=\"14.00\" fill=\"#000000\">3</text>\n",
       "</g>\n",
       "<!-- 2&#45;&gt;3 -->\n",
       "<g id=\"edge4\" class=\"edge\">\n",
       "<title>2&#45;&gt;3</title>\n",
       "<path fill=\"none\" stroke=\"#000000\" d=\"M298.8377,-22C312.8342,-22 331.033,-22 346.086,-22\"/>\n",
       "<polygon fill=\"#000000\" stroke=\"#000000\" points=\"346.3859,-25.5001 356.3859,-22 346.3858,-18.5001 346.3859,-25.5001\"/>\n",
       "<text text-anchor=\"middle\" x=\"327.6\" y=\"-25.8\" font-family=\"Times,serif\" font-size=\"14.00\" fill=\"#000000\">isso</text>\n",
       "</g>\n",
       "<!-- 3&#45;&gt;3 -->\n",
       "<g id=\"edge8\" class=\"edge\">\n",
       "<title>3&#45;&gt;3</title>\n",
       "<path fill=\"none\" stroke=\"#000000\" d=\"M366.5836,-38.2903C364.6505,-48.3892 367.3227,-58 374.6,-58 379.262,-58 382.0341,-54.0557 382.9162,-48.5656\"/>\n",
       "<polygon fill=\"#000000\" stroke=\"#000000\" points=\"386.4067,-48.1839 382.6164,-38.2903 379.4097,-48.3881 386.4067,-48.1839\"/>\n",
       "<text text-anchor=\"middle\" x=\"374.6\" y=\"-61.8\" font-family=\"Times,serif\" font-size=\"14.00\" fill=\"#000000\">aceite,não,isso</text>\n",
       "</g>\n",
       "</g>\n",
       "</svg>\n"
      ],
      "text/plain": [
       "<graphviz.dot.Digraph at 0x7f649cd47320>"
      ]
     },
     "execution_count": 26,
     "metadata": {
      "tags": []
     },
     "output_type": "execute_result"
    }
   ],
   "source": [
    "Q2 = {0,1,2,3}\n",
    "Sigma2 = {\"não\", \"aceite\", \"isso\"}\n",
    "delta2 = {}\n",
    "delta2[0,\"não\"] = 1\n",
    "delta2[1,\"aceite\"] = 2\n",
    "delta2[2,\"isso\"] = 3\n",
    "for q in Q2:\n",
    "  for a in Sigma2:\n",
    "    delta2[q,a] = q if not (q,a) in delta2 else delta2[q,a]\n",
    "q02 = 0\n",
    "F2 = {0,1,2}\n",
    "\n",
    "M2 = AFD(Q2,Sigma2,delta2,q02,F2)\n",
    "\n",
    "M2.visualizar()"
   ]
  },
  {
   "cell_type": "markdown",
   "metadata": {
    "id": "_jf_2MxCRYWJ",
    "slideshow": {
     "slide_type": "subslide"
    }
   },
   "source": [
    "É precisamos contudo ter cuidado contudo com o teste de aceitação, cuja entrada deve ser composta por uma sequência de símbolos presentes no alfabeto de entrada."
   ]
  },
  {
   "cell_type": "code",
   "execution_count": null,
   "metadata": {
    "colab": {
     "base_uri": "https://localhost:8080/"
    },
    "id": "g9hGQvKGRk-N",
    "outputId": "35081a25-94eb-403b-cb35-d261230ca076"
   },
   "outputs": [
    {
     "data": {
      "text/plain": [
       "True"
      ]
     },
     "execution_count": 27,
     "metadata": {
      "tags": []
     },
     "output_type": "execute_result"
    }
   ],
   "source": [
    "M2.aceita((\"aceite\",\"isso\"))"
   ]
  },
  {
   "cell_type": "code",
   "execution_count": null,
   "metadata": {
    "colab": {
     "base_uri": "https://localhost:8080/"
    },
    "id": "UnBqsYk1RtLC",
    "outputId": "ad2a0e19-8a77-498b-d1f1-ffc3c7403298"
   },
   "outputs": [
    {
     "data": {
      "text/plain": [
       "False"
      ]
     },
     "execution_count": 28,
     "metadata": {
      "tags": []
     },
     "output_type": "execute_result"
    }
   ],
   "source": [
    "M2.aceita((\"não\",\"aceite\",\"isso\"))"
   ]
  },
  {
   "cell_type": "markdown",
   "metadata": {
    "id": "vrNeSRQ0BIhv",
    "slideshow": {
     "slide_type": "slide"
    }
   },
   "source": [
    "## Exercícios sobre AFDs"
   ]
  },
  {
   "cell_type": "markdown",
   "metadata": {
    "id": "vrNeSRQ0BIhv",
    "slideshow": {
     "slide_type": "subslide"
    }
   },
   "source": [
    "1. Defina um AFD $M$ que aceite a linguagem $L_1 = \\{w \\in \\{a,b\\}^* ~|~ w \\mbox{ contém a cadeia } aab \\}$."
   ]
  },
  {
   "cell_type": "code",
   "execution_count": 3,
   "metadata": {
    "id": "QZCG5sHQ0WwR"
   },
   "outputs": [],
   "source": [
    "# Insira aqui o código do seu AFD"
   ]
  },
  {
   "cell_type": "markdown",
   "metadata": {
    "id": "kHJp_W6L1Oij",
    "slideshow": {
     "slide_type": "subslide"
    }
   },
   "source": [
    "2. Verifique se seu autômato $M$ aceita as cadeias $aab$, $aaabbb$ e $baabaa$, e se rejeita $ab$, $aaa$ e $\\varepsilon$."
   ]
  },
  {
   "cell_type": "code",
   "execution_count": null,
   "metadata": {
    "id": "8ssaKjuj1kHo"
   },
   "outputs": [],
   "source": [
    "# Insira aqui os testes do seu AFD"
   ]
  },
  {
   "cell_type": "markdown",
   "metadata": {
    "id": "6CmqUCBXC1L9",
    "slideshow": {
     "slide_type": "slide"
    }
   },
   "source": [
    "# Autômato Finito Não-Determinístico"
   ]
  },
  {
   "cell_type": "markdown",
   "metadata": {
    "id": "X2HlKDwr4RPQ",
    "slideshow": {
     "slide_type": "subslide"
    }
   },
   "source": [
    "Os **autômatos finitos não-determinísticos** (AFN) são modelos de computação semelhantes aos autômatos finitos determinísticos, porém neste modelo a leitura de um símbolo em um determinado estado pode levar a várias escolhas de caminhos de computação.\n"
   ]
  },
  {
   "cell_type": "markdown",
   "metadata": {
    "id": "X2HlKDwr4RPQ",
    "slideshow": {
     "slide_type": "subslide"
    }
   },
   "source": [
    "Assim como para AFDs, graficamente descrevemos um AFD por meio de uma representação de estados ligados arestas rotuladas, que descrevem os elementos que motivam a transição de estados. Observe contudo que nem todas as transições precisam estar definidas, bem como existe também há a possibilidade de transicionar entre estados sem consumir símbolos da entrada, indicados na imagem pelo símbolo $\\varepsilon$.\n"
   ]
  },
  {
   "cell_type": "markdown",
   "metadata": {
    "id": "OK-Ht-2ZFLcM",
    "slideshow": {
     "slide_type": "subslide"
    }
   },
   "source": [
    "**Figura 2**: Exemplo de diagrama de estado de um AFN\n",
    "\n",
    "![image.png](data:image/png;base64,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)"
   ]
  },
  {
   "cell_type": "markdown",
   "metadata": {
    "id": "lWLvEquAFvpH",
    "slideshow": {
     "slide_type": "fragment"
    }
   },
   "source": [
    "A Figura 2 representa um autômato com dois estados, `q0` e `q1`. O autômato inicia no estado `q0`, novamente indicado por uma seta sem origem em outro estado. Observe que diferente do AFD descrito na Figura 1, a leitura de um símbolo $a$ indica duas possibilidades para a atualização do estado do autômato: permanecer no estado `q0` ou mudar para o estado `q1`. A existência dessas possibilidades de caminhos é o que chamamos de **não-determinismo**."
   ]
  },
  {
   "cell_type": "markdown",
   "metadata": {
    "id": "lWLvEquAFvpH",
    "slideshow": {
     "slide_type": "fragment"
    }
   },
   "source": [
    "Outro exemplo de não-determinismo está no estado `q1`. A transição $\\varepsilon$ indica que existe a possibilidade de transitar para o estado `q0` sem que seja necessária consumir símbolos da entrada. O não-determinismo se configura assim por duas possibilidades: permanecer em `q1` e continuar a leitura da entrada; ou transitar para o estado `q0` e só então continuar com a leitura da entrada."
   ]
  },
  {
   "cell_type": "markdown",
   "metadata": {
    "id": "KxuQlBBR4RPW",
    "slideshow": {
     "slide_type": "subslide"
    }
   },
   "source": [
    "\n",
    "\n",
    "A definição formal de um AFN é semelhante a de AFD, exceto pela função de transição:\n",
    "\n",
    "**Definição 2**: Um autômato finito não-determinístico é uma tupla $(Q, \\Sigma, \\delta, q_0, F)$, onde:\n",
    "1. $Q$ é um conjunto finito de símbolos de estado,\n",
    "1. $\\Sigma$ é um conjunto finito de símbolos de alfabeto,\n",
    "1. $\\delta : Q \\times \\Sigma_\\varepsilon \\rightarrow \\mathcal{P}(Q)$ é a função de transição,\n",
    "1. $q_0 \\in Q$ é o estado inicial, e\n",
    "1. $F \\subseteq Q$ é o conjunto de estados de aceitação.\n",
    "\n",
    "onde $\\Sigma_\\varepsilon = \\Sigma \\cup \\{\\varepsilon\\}$."
   ]
  },
  {
   "cell_type": "markdown",
   "metadata": {
    "slideshow": {
     "slide_type": "subslide"
    }
   },
   "source": [
    "Podemos definir o AFN ilustrado na Figura 2 formalmente como $N = (\\{q_0,q_1\\}, \\{a,b\\}, \\delta, q_0, \\{q_1\\})$, onde $\\delta(q_0,a) = \\{q_0,q_1\\}, \\delta(q_0,b) = \\{\\}, \\delta(q_0,\\varepsilon) = \\{\\}, \\delta(q_1,a) = \\{ \\},$ $\\delta(q_1,b) = \\{q_1\\} \\mbox{ e } \\delta(q_1,\\varepsilon) = \\{q_0\\}$."
   ]
  },
  {
   "cell_type": "markdown",
   "metadata": {
    "slideshow": {
     "slide_type": "subslide"
    }
   },
   "source": [
    "Seja $N = (Q, \\Sigma, \\delta, q_0, F)$ um AFN e $w = w_1w_2...w_n$ uma cadeia sobre $\\Sigma_\\varepsilon$, dizemos que $N$ **aceita** $w$ se existe uma sequência $(s_0,s_1,...,s_n)$ tal que\n",
    "1. $s_0 = q_0$,\n",
    "1. $s_{i+1} \\in \\delta(s_i,w_{i+1})$, para $0 \\leq i < n$,\n",
    "1. $s_n \\in F$.\n",
    "\n",
    "Por exemplo, o AFN $N$ ilustrado na Figura 2 aceita a cadeia $w = aabb$, dado que sequências como (q0, q_0, q1, q1) e (q0, q1, q0, q1, q1, q1) satisfazem as condições acima."
   ]
  },
  {
   "cell_type": "markdown",
   "metadata": {
    "id": "eqJaKbGY4RPW",
    "slideshow": {
     "slide_type": "slide"
    }
   },
   "source": [
    "## Implementação em Python"
   ]
  },
  {
   "cell_type": "markdown",
   "metadata": {
    "id": "eqJaKbGY4RPW",
    "slideshow": {
     "slide_type": "subslide"
    }
   },
   "source": [
    "Em nossa implementação, um autômato finito não-determinístico é representado pela classe `AFN`, cujo construtor segue a Definição 2:\n",
    "\n",
    ">`N = AFN(Q,Sigma,delta,q0,F)`\n",
    "\n",
    "A principal diferença para a construção de AFDs é que a função de transição `delta` deve ser um elemento do tipo `dict()` mapeando não mais para elementos de `Q`, e sim para um conjunto destes elementos. "
   ]
  },
  {
   "cell_type": "markdown",
   "metadata": {
    "slideshow": {
     "slide_type": "subslide"
    }
   },
   "source": [
    "A seguir um exemplo de construção de AFN."
   ]
  },
  {
   "cell_type": "code",
   "execution_count": null,
   "metadata": {
    "colab": {
     "base_uri": "https://localhost:8080/"
    },
    "id": "eeFCFK_54RPW",
    "outputId": "1f2c0dc3-f65b-41a1-fba7-bd2c78594a41",
    "slideshow": {
     "slide_type": "-"
    }
   },
   "outputs": [
    {
     "data": {
      "text/plain": [
       "<__main__.AFN at 0x7f649cd6ada0>"
      ]
     },
     "execution_count": 31,
     "metadata": {
      "tags": []
     },
     "output_type": "execute_result"
    }
   ],
   "source": [
    "Q = {'q0','q1'}\n",
    "Sigma = {'a','b'}\n",
    "delta = {('q0','a'):{'q0','q1'},\n",
    "         ('q0','b'):{ },\n",
    "         ('q1','b'):{'q1'},\n",
    "         ('q1','' ):{'q0'}}\n",
    "q0 = 'q0' \n",
    "F = {'q1'}\n",
    "\n",
    "N = AFN(Q,Sigma,delta,q0,F)\n",
    "N"
   ]
  },
  {
   "cell_type": "markdown",
   "metadata": {
    "id": "vxlu1ZNb4RPX",
    "slideshow": {
     "slide_type": "subslide"
    }
   },
   "source": [
    "Definido o autômato `N`, podemos usar a função `N.aceita(entrada)` para verificar a aceitação de cadeias, onde `entrada` deve ser composta por uma sequência de símbolos pertencentes a `Sigma`. A aceitação de uma palavra retornará o valor `True`."
   ]
  },
  {
   "cell_type": "code",
   "execution_count": null,
   "metadata": {
    "colab": {
     "base_uri": "https://localhost:8080/"
    },
    "id": "hztI-XUL4RPY",
    "outputId": "3870d9f7-a537-462f-b4cd-50c50f3fbe32"
   },
   "outputs": [
    {
     "data": {
      "text/plain": [
       "True"
      ]
     },
     "execution_count": 32,
     "metadata": {
      "tags": []
     },
     "output_type": "execute_result"
    }
   ],
   "source": [
    "N.aceita(\"aabb\")"
   ]
  },
  {
   "cell_type": "markdown",
   "metadata": {
    "id": "iOLBCl1z4RPZ",
    "slideshow": {
     "slide_type": "subslide"
    }
   },
   "source": [
    "A rejeição de uma palavra retornará o valor `False`."
   ]
  },
  {
   "cell_type": "code",
   "execution_count": null,
   "metadata": {
    "colab": {
     "base_uri": "https://localhost:8080/"
    },
    "id": "9KkgEmNE4RPZ",
    "outputId": "49ee0ff9-963c-4163-f09c-775c3069a32d"
   },
   "outputs": [
    {
     "data": {
      "text/plain": [
       "False"
      ]
     },
     "execution_count": 33,
     "metadata": {
      "tags": []
     },
     "output_type": "execute_result"
    }
   ],
   "source": [
    "N.aceita(\"babb\")"
   ]
  },
  {
   "cell_type": "markdown",
   "metadata": {
    "id": "qOwdPRhZ4RPc",
    "slideshow": {
     "slide_type": "subslide"
    }
   },
   "source": [
    "Você pode também realizar múltiplos testes utilizando listas com casos de teste:"
   ]
  },
  {
   "cell_type": "code",
   "execution_count": null,
   "metadata": {
    "colab": {
     "base_uri": "https://localhost:8080/"
    },
    "id": "4vQCr5z24RPc",
    "outputId": "97ad21d8-220e-4a9c-f573-65cc572b5d62"
   },
   "outputs": [
    {
     "data": {
      "text/plain": [
       "[True, True, True, True, True, True, True, True]"
      ]
     },
     "execution_count": 34,
     "metadata": {
      "tags": []
     },
     "output_type": "execute_result"
    }
   ],
   "source": [
    "testes = [(\"ab\",True), (\"aab\",True), (\"abb\",True), (\"aabb\",True), (\"b\",False), (\"ba\",False), (\"bbb\",False), (\"\",False)]\n",
    "[N.aceita(entrada) == saida for entrada, saida in testes]"
   ]
  },
  {
   "cell_type": "markdown",
   "metadata": {
    "id": "3rCzlYjH4RPd",
    "slideshow": {
     "slide_type": "subslide"
    }
   },
   "source": [
    "Por fim, é possível gerar a representação gráfica do AFD `M` por meio da função `M.visualizar()`. O diagrama de estados é gerado utilizando da biblioteca [`graphviz`]()."
   ]
  },
  {
   "cell_type": "code",
   "execution_count": null,
   "metadata": {
    "colab": {
     "base_uri": "https://localhost:8080/",
     "height": 142
    },
    "id": "q1dRjOzf4RPd",
    "outputId": "28031296-bda8-4b12-b98e-6b559a29e071"
   },
   "outputs": [
    {
     "data": {
      "image/svg+xml": [
       "<?xml version=\"1.0\" encoding=\"UTF-8\" standalone=\"no\"?>\n",
       "<!DOCTYPE svg PUBLIC \"-//W3C//DTD SVG 1.1//EN\"\n",
       " \"http://www.w3.org/Graphics/SVG/1.1/DTD/svg11.dtd\">\n",
       "<!-- Generated by graphviz version 2.40.1 (20161225.0304)\n",
       " -->\n",
       "<!-- Title: finite_state_machine Pages: 1 -->\n",
       "<svg width=\"183pt\" height=\"91pt\"\n",
       " viewBox=\"0.00 0.00 182.79 90.60\" xmlns=\"http://www.w3.org/2000/svg\" xmlns:xlink=\"http://www.w3.org/1999/xlink\">\n",
       "<g id=\"graph0\" class=\"graph\" transform=\"scale(1 1) rotate(0) translate(4 86.5963)\">\n",
       "<title>finite_state_machine</title>\n",
       "<polygon fill=\"#ffffff\" stroke=\"transparent\" points=\"-4,4 -4,-86.5963 178.7926,-86.5963 178.7926,4 -4,4\"/>\n",
       "<g id=\"node1\" class=\"node\">\n",
       "<title></title>\n",
       "<ellipse fill=\"#000000\" stroke=\"#000000\" cx=\"1.8\" cy=\"-24.7982\" rx=\"1.8\" ry=\"1.8\"/>\n",
       "</g>\n",
       "<!-- q0 -->\n",
       "<g id=\"node3\" class=\"node\">\n",
       "<title>q0</title>\n",
       "<ellipse fill=\"none\" stroke=\"#000000\" cx=\"61.3982\" cy=\"-24.7982\" rx=\"20.5982\" ry=\"20.5982\"/>\n",
       "<text text-anchor=\"middle\" x=\"61.3982\" y=\"-21.0982\" font-family=\"Times,serif\" font-size=\"14.00\" fill=\"#000000\">q0</text>\n",
       "</g>\n",
       "<!-- &#45;&gt;q0 -->\n",
       "<g id=\"edge1\" class=\"edge\">\n",
       "<title>&#45;&gt;q0</title>\n",
       "<path fill=\"none\" stroke=\"#000000\" d=\"M3.7829,-24.7982C8.1437,-24.7982 19.0721,-24.7982 30.2536,-24.7982\"/>\n",
       "<polygon fill=\"#000000\" stroke=\"#000000\" points=\"30.4123,-28.2983 40.4123,-24.7982 30.4122,-21.2983 30.4123,-28.2983\"/>\n",
       "</g>\n",
       "<!-- q1 -->\n",
       "<g id=\"node2\" class=\"node\">\n",
       "<title>q1</title>\n",
       "<ellipse fill=\"none\" stroke=\"#000000\" cx=\"149.9945\" cy=\"-24.7982\" rx=\"20.6302\" ry=\"20.6302\"/>\n",
       "<ellipse fill=\"none\" stroke=\"#000000\" cx=\"149.9945\" cy=\"-24.7982\" rx=\"24.5979\" ry=\"24.5979\"/>\n",
       "<text text-anchor=\"middle\" x=\"149.9945\" y=\"-21.0982\" font-family=\"Times,serif\" font-size=\"14.00\" fill=\"#000000\">q1</text>\n",
       "</g>\n",
       "<!-- q1&#45;&gt;q1 -->\n",
       "<g id=\"edge4\" class=\"edge\">\n",
       "<title>q1&#45;&gt;q1</title>\n",
       "<path fill=\"none\" stroke=\"#000000\" d=\"M141.5042,-48.1303C140.6956,-58.5686 143.5257,-67.5963 149.9945,-67.5963 154.1385,-67.5963 156.7892,-63.8913 157.9467,-58.484\"/>\n",
       "<polygon fill=\"#000000\" stroke=\"#000000\" points=\"161.4609,-58.2984 158.4847,-48.1303 154.4704,-57.9351 161.4609,-58.2984\"/>\n",
       "<text text-anchor=\"middle\" x=\"149.9945\" y=\"-71.3963\" font-family=\"Times,serif\" font-size=\"14.00\" fill=\"#000000\">b</text>\n",
       "</g>\n",
       "<!-- q1&#45;&gt;q0 -->\n",
       "<g id=\"edge5\" class=\"edge\">\n",
       "<title>q1&#45;&gt;q0</title>\n",
       "<path fill=\"none\" stroke=\"#000000\" d=\"M129.0691,-10.8278C120.3163,-6.5714 109.9321,-3.5423 100.1963,-5.7982 96.2805,-6.7055 92.3038,-8.0657 88.4633,-9.6493\"/>\n",
       "<polygon fill=\"#000000\" stroke=\"#000000\" points=\"86.8951,-6.5186 79.3097,-13.9155 89.8522,-12.8634 86.8951,-6.5186\"/>\n",
       "<text text-anchor=\"middle\" x=\"103.6963\" y=\"-9.5982\" font-family=\"Times,serif\" font-size=\"14.00\" fill=\"#000000\">ε</text>\n",
       "</g>\n",
       "<!-- q0&#45;&gt;q1 -->\n",
       "<g id=\"edge2\" class=\"edge\">\n",
       "<title>q0&#45;&gt;q1</title>\n",
       "<path fill=\"none\" stroke=\"#000000\" d=\"M82.3942,-24.7982C92.0886,-24.7982 103.8644,-24.7982 114.8539,-24.7982\"/>\n",
       "<polygon fill=\"#000000\" stroke=\"#000000\" points=\"115.0557,-28.2983 125.0557,-24.7982 115.0557,-21.2983 115.0557,-28.2983\"/>\n",
       "<text text-anchor=\"middle\" x=\"103.6963\" y=\"-28.5982\" font-family=\"Times,serif\" font-size=\"14.00\" fill=\"#000000\">a</text>\n",
       "</g>\n",
       "<!-- q0&#45;&gt;q0 -->\n",
       "<g id=\"edge3\" class=\"edge\">\n",
       "<title>q0&#45;&gt;q0</title>\n",
       "<path fill=\"none\" stroke=\"#000000\" d=\"M54.4836,-44.7606C53.5269,-54.7161 55.8317,-63.5963 61.3982,-63.5963 64.8772,-63.5963 67.0821,-60.1275 68.013,-55.0953\"/>\n",
       "<polygon fill=\"#000000\" stroke=\"#000000\" points=\"71.5213,-54.8579 68.3127,-44.7606 64.5242,-54.6549 71.5213,-54.8579\"/>\n",
       "<text text-anchor=\"middle\" x=\"61.3982\" y=\"-67.3963\" font-family=\"Times,serif\" font-size=\"14.00\" fill=\"#000000\">a</text>\n",
       "</g>\n",
       "</g>\n",
       "</svg>\n"
      ],
      "text/plain": [
       "<graphviz.dot.Digraph at 0x7f649cd9ae80>"
      ]
     },
     "execution_count": 35,
     "metadata": {
      "tags": []
     },
     "output_type": "execute_result"
    }
   ],
   "source": [
    "N.visualizar()"
   ]
  },
  {
   "cell_type": "markdown",
   "metadata": {
    "id": "NUb1FSN92BXi",
    "slideshow": {
     "slide_type": "slide"
    }
   },
   "source": [
    "## Exercícios sobre AFNs"
   ]
  },
  {
   "cell_type": "markdown",
   "metadata": {
    "id": "NUb1FSN92BXi",
    "slideshow": {
     "slide_type": "subslide"
    }
   },
   "source": [
    "1. Defina um AFN $N$ que aceite a linguagem $L_2 = \\{w \\in \\{a,b\\}^* ~|~ w \\mbox{ contém um número par de } a \\mbox{ ou um número ímpar de } b\\}$."
   ]
  },
  {
   "cell_type": "code",
   "execution_count": null,
   "metadata": {
    "id": "jIgE9VER2BXj"
   },
   "outputs": [],
   "source": [
    "# Insira aqui o código do seu AFN"
   ]
  },
  {
   "cell_type": "markdown",
   "metadata": {
    "id": "9GL71oq82BXk",
    "slideshow": {
     "slide_type": "subslide"
    }
   },
   "source": [
    "2. Verifique se seu autômato $N$ aceita as cadeias $aab$, $ab$ e $baabaa$, e se rejeita $a$, $aaa$ e $abb$.\n"
   ]
  },
  {
   "cell_type": "code",
   "execution_count": null,
   "metadata": {
    "id": "XDEjMrxW2BXk"
   },
   "outputs": [],
   "source": [
    "# Insira aqui os testes do seu AFN"
   ]
  },
  {
   "cell_type": "markdown",
   "metadata": {
    "id": "qDSUqOEHC6bY",
    "slideshow": {
     "slide_type": "slide"
    }
   },
   "source": [
    "# Expressões Regulares"
   ]
  },
  {
   "cell_type": "markdown",
   "metadata": {
    "id": "nxe23PTsbEQt",
    "slideshow": {
     "slide_type": "subslide"
    }
   },
   "source": [
    "As **expressões regulares** (ER) são expressões utilizadas para descrever linguagens. Do mesmo modo que a expressão algébrica $2 \\times (3 + 4)$ descreve o valor $14$, podemos definir uma expressão $(a~|~b)^*b$ para descrever a linguagem composta por todas as palavras terminadas em $b$."
   ]
  },
  {
   "cell_type": "markdown",
   "metadata": {
    "id": "nxe23PTsbEQt",
    "slideshow": {
     "slide_type": "subslide"
    }
   },
   "source": [
    "Assim como as expressões algébricas, expressões regulares possuem regras de formação. A construção de uma ER é dado formalmente pela seguinte definição.\n",
    "\n",
    "**Definição 3**: Seja $\\Sigma$ um conjunto de símbolos de alfabeto, dizemos que $E$ é uma expressão regular sobre $\\Sigma$ se $E$ for:\n",
    "1. $a \\in \\Sigma$,\n",
    "1. $\\varepsilon$, representando a cadeia vazia,\n",
    "1. $\\emptyset$, representando a linguagem vazia,\n",
    "1. $(E_1E_2)$, onde $E_1$ e $E_2$ são expressões regulares,\n",
    "1. $(E_1 ~|~ E_2)$, onde $E_1$ e $E_2$ são expressões regulares,\n",
    "1. $(E_1^*)$, onde $E_1$ é uma expressão regular."
   ]
  },
  {
   "cell_type": "markdown",
   "metadata": {
    "slideshow": {
     "slide_type": "subslide"
    }
   },
   "source": [
    "As expressões regulares $a$, $\\varepsilon$ e $\\emptyset$ representam as linguagens $\\{a\\}$, $\\{\\varepsilon\\}$ e \\{ \\}, respectivamente. As expressões $(E_1E_2)$ e $(E_1 ~|~ E_2)$ representam, respectivamente, a concatenação e união das linguagens definidas por $E_1$ e $E_2$. Por fim, a expressão $(E_1^*)$ representa o fecho estrela da linguagem definida por $E_1$, isto é, todas as possíveis concatenações das cadeias da linguagem definida por $E_1$."
   ]
  },
  {
   "cell_type": "markdown",
   "metadata": {
    "slideshow": {
     "slide_type": "subslide"
    }
   },
   "source": [
    "Seja $\\Sigma = \\{a,b\\}$, a expressão regular $E = ((a^*)b)$ definida sobre $\\Sigma$ representa a linguagem\n",
    "\n",
    "$$L(E) = \\{b, ab, aab, aaab, aaaab, ...\\}.$$"
   ]
  },
  {
   "cell_type": "markdown",
   "metadata": {
    "slideshow": {
     "slide_type": "fragment"
    }
   },
   "source": [
    "Para dar maior legibilidade a expressão, quando não houver ambiguidade, podemos omitir os parênteses da definição. Assim, $E = ((a^*)b)$ pode ser reescrita como $E=a^*b$."
   ]
  },
  {
   "cell_type": "markdown",
   "metadata": {
    "id": "ZUVnHkZO-pf1",
    "slideshow": {
     "slide_type": "slide"
    }
   },
   "source": [
    "## Implementação em Python"
   ]
  },
  {
   "cell_type": "markdown",
   "metadata": {
    "id": "ZUVnHkZO-pf1",
    "slideshow": {
     "slide_type": "subslide"
    }
   },
   "source": [
    "Em nossa implementação, uma expressão regular é representada pela classe `ER`, cujo construtor recebe uma entrada do tipo `str` representando a expressão segundo a definição Definição 3:\n",
    "\n",
    ">`E = ER(string)`"
   ]
  },
  {
   "cell_type": "markdown",
   "metadata": {
    "id": "ZUVnHkZO-pf1",
    "slideshow": {
     "slide_type": "subslide"
    }
   },
   "source": [
    "Para definir a expressão regular $\\emptyset$ não deve ser passado parâmetros para o construtor.\n",
    "\n",
    ">`E = ER()`"
   ]
  },
  {
   "cell_type": "markdown",
   "metadata": {
    "id": "ZUVnHkZO-pf1",
    "slideshow": {
     "slide_type": "subslide"
    }
   },
   "source": [
    "Nossa implementação utiliza a biblioteca de expressões regulares padrão do *Python*. Para ver uso de caracteres especiais, veja a documentação da biblioteca [`re`](https://docs.python.org/3/library/re.html).\n"
   ]
  },
  {
   "cell_type": "markdown",
   "metadata": {
    "id": "ZUVnHkZO-pf1",
    "slideshow": {
     "slide_type": "subslide"
    }
   },
   "source": [
    "Exemplo de definição de expressão regular:"
   ]
  },
  {
   "cell_type": "code",
   "execution_count": null,
   "metadata": {
    "colab": {
     "base_uri": "https://localhost:8080/"
    },
    "id": "5M97Tg98-pf2",
    "outputId": "6d58828c-fa6d-4d84-bcab-a4c4da9fc57b"
   },
   "outputs": [
    {
     "data": {
      "text/plain": [
       "<__main__.ER at 0x7f649d5ec4e0>"
      ]
     },
     "execution_count": 38,
     "metadata": {
      "tags": []
     },
     "output_type": "execute_result"
    }
   ],
   "source": [
    "E = ER(\"a(a|b)*b\")\n",
    "E"
   ]
  },
  {
   "cell_type": "markdown",
   "metadata": {
    "id": "iIUm0Hhl-pf5",
    "slideshow": {
     "slide_type": "subslide"
    }
   },
   "source": [
    "Definida a expressão regular `E`, podemos usar a função `E.gera(entrada)` para verificar se cadeias pertencem a linguagem definida por `E`, onde `entrada` deve ser composta por uma sequência de símbolos pertencentes a `Sigma`. Caso pertença, a função retornará o valor `True`."
   ]
  },
  {
   "cell_type": "code",
   "execution_count": null,
   "metadata": {
    "colab": {
     "base_uri": "https://localhost:8080/"
    },
    "id": "y6v9gph2Cnxk",
    "outputId": "5aa1138d-8090-4a0f-de7a-434ea1113209"
   },
   "outputs": [
    {
     "data": {
      "text/plain": [
       "True"
      ]
     },
     "execution_count": 39,
     "metadata": {
      "tags": []
     },
     "output_type": "execute_result"
    }
   ],
   "source": [
    "E.gera(\"ab\")"
   ]
  },
  {
   "cell_type": "markdown",
   "metadata": {
    "id": "W4_afRSc8bzk",
    "slideshow": {
     "slide_type": "subslide"
    }
   },
   "source": [
    "Caso a entrada não pertença a linguagem definida por $E$, a função retornará o valor `False`."
   ]
  },
  {
   "cell_type": "code",
   "execution_count": null,
   "metadata": {
    "colab": {
     "base_uri": "https://localhost:8080/"
    },
    "id": "w8tUcx458bzl",
    "outputId": "a7ae869b-f256-4f06-8511-2311e0726993"
   },
   "outputs": [
    {
     "data": {
      "text/plain": [
       "False"
      ]
     },
     "execution_count": 40,
     "metadata": {
      "tags": []
     },
     "output_type": "execute_result"
    }
   ],
   "source": [
    "E.gera(\"ba\")"
   ]
  },
  {
   "cell_type": "markdown",
   "metadata": {
    "id": "4Sn30C9e8bzn",
    "slideshow": {
     "slide_type": "subslide"
    }
   },
   "source": [
    "Como antes, você pode também realizar múltiplos testes utilizando listas com casos de teste:"
   ]
  },
  {
   "cell_type": "code",
   "execution_count": null,
   "metadata": {
    "colab": {
     "base_uri": "https://localhost:8080/"
    },
    "id": "yQ9_jj9p8bzn",
    "outputId": "72a731b4-2172-4c9c-c8ab-1c5f61fef4ba"
   },
   "outputs": [
    {
     "data": {
      "text/plain": [
       "[True, True, True, True, True, True, True, True]"
      ]
     },
     "execution_count": 41,
     "metadata": {
      "tags": []
     },
     "output_type": "execute_result"
    }
   ],
   "source": [
    "testes = [(\"ab\",True), (\"aab\",True), (\"abb\",True), (\"aabb\",True), (\"b\",False), (\"ba\",False), (\"bbb\",False), (\"\",False)]\n",
    "[E.gera(entrada) == saida for entrada, saida in testes]"
   ]
  },
  {
   "cell_type": "markdown",
   "metadata": {
    "id": "9838c5RO8bzo",
    "slideshow": {
     "slide_type": "slide"
    }
   },
   "source": [
    "## Exercícios sobre ERs\n"
   ]
  },
  {
   "cell_type": "markdown",
   "metadata": {
    "id": "9838c5RO8bzo",
    "slideshow": {
     "slide_type": "subslide"
    }
   },
   "source": [
    "1. Defina uma ER $E$ que represente a linguagem $L_3 = \\{w \\in \\{a,b\\}^* ~|~ w \\mbox{ todo } a \\mbox{ é precedido por um } b\\}$.\n"
   ]
  },
  {
   "cell_type": "code",
   "execution_count": null,
   "metadata": {
    "id": "v5ccIqc58bzo"
   },
   "outputs": [],
   "source": [
    "# Insira aqui o código da sua ER"
   ]
  },
  {
   "cell_type": "markdown",
   "metadata": {
    "id": "SD8slw2J8bzo",
    "slideshow": {
     "slide_type": "subslide"
    }
   },
   "source": [
    "2. Verifique se sua expressão regular gera as cadeias $ba$, $babb$ e $babab$, e não gera $a$, $ab$ e $baa$.\n"
   ]
  },
  {
   "cell_type": "code",
   "execution_count": null,
   "metadata": {
    "id": "s51f47WL8bzp"
   },
   "outputs": [],
   "source": [
    "# Insira aqui os testes da sua ER"
   ]
  },
  {
   "cell_type": "markdown",
   "metadata": {
    "id": "JyWM7C1jClte",
    "slideshow": {
     "slide_type": "slide"
    }
   },
   "source": [
    "# Autômato de Pilha"
   ]
  },
  {
   "cell_type": "markdown",
   "metadata": {
    "id": "l7ba5lE3E3gS",
    "slideshow": {
     "slide_type": "subslide"
    }
   },
   "source": [
    "Os **autômatos de pilha** (AP) são modelos de computação que possuem uma memória do tipo FILO (*first in, last out*), fazendo analogia a uma pilha de objetos, onde só podemos ter acesso aquele que está no topo."
   ]
  },
  {
   "cell_type": "markdown",
   "metadata": {
    "id": "l7ba5lE3E3gS",
    "slideshow": {
     "slide_type": "subslide"
    }
   },
   "source": [
    "Nesse modelo, temos um alfabeto específico para a escrita nessa memória, chamado de *alfabeto de pilha*. As transições se assemelham àquelas dos autômatos finitos não-determinísticos, porém a ocorrência da transição também leva em conta a informação encontrada no topo da pilha de memória."
   ]
  },
  {
   "cell_type": "markdown",
   "metadata": {
    "id": "l7ba5lE3E3gS",
    "slideshow": {
     "slide_type": "subslide"
    }
   },
   "source": [
    "Assim como para AFNs, graficamente descrevemos um AP por meio de uma representação de estados ligados por arestas rotuladas. Utilizamos nessas arestas rótulos do tipo\n",
    "\n",
    "$$a, b \\rightarrow c$$\n",
    "\n",
    "para indicar que para a transição ocorrer o autômato espera ler $a$ da entrada e ter $b$ no topo da pilha. Com a transição de estado, o autômato irá desempilhar $b$ e em seu lugar empilhar o símbolo $c$."
   ]
  },
  {
   "cell_type": "markdown",
   "metadata": {
    "id": "27JMfej4MyOV",
    "slideshow": {
     "slide_type": "subslide"
    }
   },
   "source": [
    "**Figura 3**: Exemplo de diagrama de estados de um AP.\n",
    "\n",
    "![image.png](data:image/png;base64,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)"
   ]
  },
  {
   "cell_type": "markdown",
   "metadata": {
    "id": "g11PolSLOhVv",
    "slideshow": {
     "slide_type": "fragment"
    }
   },
   "source": [
    "A Figura 3 representa um autômato de pilha com dois estados, `q0` e `q1`. As transições indicam dois tipos de ações: leitura da entrada e leitura-escrita na pilha. A transição $a,\\varepsilon \\rightarrow x$, por exemplo, ocorre quando um símbolo $a$ é lido da entrada, sem que a pilha necessite ser consultada, indicado por $\\varepsilon$. Ao realizar a transição o autômato permanecerá no estado `q0`, mas adicionará o símbolo $x$ no topo da pilha. Um funcionamento semelhante ocorre com a transição $b,x \\rightarrow \\varepsilon$."
   ]
  },
  {
   "cell_type": "markdown",
   "metadata": {
    "id": "g11PolSLOhVv",
    "slideshow": {
     "slide_type": "fragment"
    }
   },
   "source": [
    "Observe que neste exemplo o autômato só alcançará o estado de aceitação se desempilhar com leitura de $b$ todos os símbolos $x$ empilhados com leituras de $a$. Desse modo, o autômato da Figura 3 aceita a linguagem $\\{a^nb^n ~|~ n \\geq 0\\}$."
   ]
  },
  {
   "cell_type": "markdown",
   "metadata": {
    "id": "LtW24Qm0E3gV",
    "slideshow": {
     "slide_type": "subslide"
    }
   },
   "source": [
    "A definição formal de um AP difere da definição de AFN pelo uso do alfabeto específico de pilha.\n",
    "\n",
    "**Definição 4**: Um autômato de pilha é uma tupla $(Q, \\Sigma, \\Gamma, \\delta, q_0, F)$, onde:\n",
    "1. $Q$ é um conjunto finito de símbolos de estado,\n",
    "1. $\\Sigma$ é um conjunto finito de símbolos de alfabeto de entrada,\n",
    "1. $\\Gamma$ é um conjunto finito de símbolos de alfabeto de pilha,\n",
    "1. $\\delta : Q \\times \\Sigma_\\varepsilon \\times \\Gamma_\\varepsilon \\rightarrow \\mathcal{P}(Q \\times \\Gamma_\\varepsilon)$ é a função de transição,\n",
    "1. $q_0 \\in Q$ é o estado inicial, e\n",
    "1. $F \\subseteq Q$ é o conjunto de estados de aceitação.\n",
    "\n",
    "onde $\\Sigma_\\varepsilon = \\Sigma \\cup \\{\\varepsilon\\}$ e $\\Gamma_\\varepsilon = \\Gamma \\cup \\{\\varepsilon\\}$."
   ]
  },
  {
   "cell_type": "markdown",
   "metadata": {
    "id": "LtW24Qm0E3gV",
    "slideshow": {
     "slide_type": "subslide"
    }
   },
   "source": [
    "Podemos definir o AP ilustrado na Figura 3 formalmente como:\n",
    "\n",
    "$$M = (\\{q_0,q_1,q_2,q_3\\}, \\{a,b\\}, \\{\\$,x\\}, \\delta, q_0, \\{q_3\\})$$\n",
    "\n",
    "onde $\\delta(q_0,\\varepsilon,\\varepsilon) = \\{(q_1,\\$)\\}$, $\\delta(q_1,a,\\varepsilon) = \\{(q_0,x)\\}$, $\\delta(q_1,\\varepsilon,\\varepsilon) = \\{(q_2,\\varepsilon)\\}$, $\\delta(q_2,b,x) = \\{ (q_2,\\varepsilon)\\}$, $\\delta(q_2,\\varepsilon,\\$) = \\{(q_3,\\varepsilon)\\}$ e, nos demais casos, $\\delta(q,r,s) = \\{\\}$."
   ]
  },
  {
   "cell_type": "markdown",
   "metadata": {
    "id": "LtW24Qm0E3gV",
    "slideshow": {
     "slide_type": "subslide"
    }
   },
   "source": [
    "Seja $M = (Q, \\Sigma, \\Gamma, \\delta, q_0, F)$ um AP e $w = w_1w_2...w_n$ uma cadeia sobre $\\Sigma_\\varepsilon$, dizemos que $M$ aceita $w$ se existe uma sequência $(~(s_0,x_0), (s_1, x_1),...,(s_n,x_n)~)$ tal que $s_i \\in Q$ e $x_i \\in \\Gamma^*$ e\n",
    "1. $s_0 = q_0$ e $x_0 = \\varepsilon$,\n",
    "1. $(s_{i+1}, b) \\in \\delta(s_i,w_{i+1},a)$, para $0 \\leq i < n$, onde $x_{i} = at$, $x_{i+1} = bt$, $t \\in \\Sigma^*$ e $a,b \\in \\Sigma_\\varepsilon$,\n",
    "1. $s_n \\in F$."
   ]
  },
  {
   "cell_type": "markdown",
   "metadata": {
    "id": "LtW24Qm0E3gV",
    "slideshow": {
     "slide_type": "subslide"
    }
   },
   "source": [
    "Por exemplo, o AP $M$ ilustrado na Figura 4 aceita a cadeia $w = aabb$, dado que ( (q0, $\\varepsilon$), (q0, $x$), (q0, $xx$), (q1, $xx$), (q1, $x$) ) satisfaz as condições acima. Não existe contudo uma sequência do tipo para a cadeia $baa$, e portanto ela não é aceita por $M$."
   ]
  },
  {
   "cell_type": "markdown",
   "metadata": {
    "id": "3rM1Dnz8E3gV",
    "slideshow": {
     "slide_type": "slide"
    }
   },
   "source": [
    "## Implementação em Python"
   ]
  },
  {
   "cell_type": "markdown",
   "metadata": {
    "id": "3rM1Dnz8E3gV",
    "slideshow": {
     "slide_type": "subslide"
    }
   },
   "source": [
    "Em nossa implementação, um autômato de pilha é representado pela classe `AP`, cujo construtor segue a Definição 4:\n",
    "\n",
    ">`M = AP(Q,Sigma,Gamma,delta,q0,F)`\n",
    "\n",
    "A principal diferença para a construção de AFNs é a indicação do alfabeto de pilha e que a função de transição `delta` deve ser um elemento do tipo `dict()` mapeando `estado-entrada-pilha` para um conjunto de pares `estado-pilha`."
   ]
  },
  {
   "cell_type": "markdown",
   "metadata": {
    "id": "3rM1Dnz8E3gV",
    "slideshow": {
     "slide_type": "subslide"
    }
   },
   "source": [
    "Exemplo de construção de AP."
   ]
  },
  {
   "cell_type": "code",
   "execution_count": null,
   "metadata": {
    "colab": {
     "base_uri": "https://localhost:8080/"
    },
    "id": "6dn0AQNoE3gV",
    "outputId": "45e01043-772d-4a89-e526-e4a7676e45b2"
   },
   "outputs": [
    {
     "data": {
      "text/plain": [
       "<__main__.AP at 0x7f649cd605f8>"
      ]
     },
     "execution_count": 44,
     "metadata": {
      "tags": []
     },
     "output_type": "execute_result"
    }
   ],
   "source": [
    "Q = {'q0','q1','q2','q3'}\n",
    "Sigma = {'a','b'}\n",
    "Gamma = {'$','x'}\n",
    "delta = {('q0','' ,'' ):{('q1','$')},\n",
    "         ('q1','a','' ):{('q1','x')},\n",
    "         ('q1','' ,'' ):{('q2','' )},\n",
    "         ('q2','b','x'):{('q2','' )},\n",
    "         ('q2','' ,'$'):{('q3','' )}}\n",
    "q0 = 'q0'\n",
    "F = {'q3'}\n",
    "\n",
    "M = AP(Q,Sigma,Gamma,delta,q0,F)\n",
    "M"
   ]
  },
  {
   "cell_type": "markdown",
   "metadata": {
    "id": "g7J2QR3DE3gV",
    "slideshow": {
     "slide_type": "subslide"
    }
   },
   "source": [
    "Definido o autômato `M`, podemos verificar a aceitação de cadeias por meio da função `M.aceita(entrada)`, onde `entrada` deve ser composta por uma sequência de símbolos pertencentes a `Sigma`. A aceitação de uma palavra retornará o valor `True`."
   ]
  },
  {
   "cell_type": "code",
   "execution_count": null,
   "metadata": {
    "colab": {
     "base_uri": "https://localhost:8080/"
    },
    "id": "b8GsE3yRE3gV",
    "outputId": "578db621-6eea-4e8d-c92a-bc5b261858d8"
   },
   "outputs": [
    {
     "data": {
      "text/plain": [
       "True"
      ]
     },
     "execution_count": 45,
     "metadata": {
      "tags": []
     },
     "output_type": "execute_result"
    }
   ],
   "source": [
    "M.aceita(\"aabb\")"
   ]
  },
  {
   "cell_type": "markdown",
   "metadata": {
    "id": "J57PZusmE3gV",
    "slideshow": {
     "slide_type": "subslide"
    }
   },
   "source": [
    "A rejeição de uma palavra retornará o valor `False`."
   ]
  },
  {
   "cell_type": "code",
   "execution_count": null,
   "metadata": {
    "colab": {
     "base_uri": "https://localhost:8080/"
    },
    "id": "TSTiZaIdE3gV",
    "outputId": "3edd96f4-5e3e-4576-c403-2ec38f3bea8a"
   },
   "outputs": [
    {
     "data": {
      "text/plain": [
       "False"
      ]
     },
     "execution_count": 46,
     "metadata": {
      "tags": []
     },
     "output_type": "execute_result"
    }
   ],
   "source": [
    "M.aceita(\"aaabb\")"
   ]
  },
  {
   "cell_type": "markdown",
   "metadata": {
    "id": "-AoPrvMhE3gV",
    "slideshow": {
     "slide_type": "subslide"
    }
   },
   "source": [
    "Você pode também realizar múltiplos testes utilizando listas com casos de testes:"
   ]
  },
  {
   "cell_type": "code",
   "execution_count": null,
   "metadata": {
    "colab": {
     "base_uri": "https://localhost:8080/"
    },
    "id": "pHubarIDE3gV",
    "outputId": "77078a19-a88e-44d1-8954-6917d923d3a3"
   },
   "outputs": [
    {
     "data": {
      "text/plain": [
       "[True, True, True, True, True, True, True, True]"
      ]
     },
     "execution_count": 47,
     "metadata": {
      "tags": []
     },
     "output_type": "execute_result"
    }
   ],
   "source": [
    "testes = [(\"\",True), (\"ab\",True), (\"aabb\",True), (\"aaabbb\",True), (\"b\",False), (\"ba\",False), (\"bbb\",False), (\"bbaa\",False)]\n",
    "[M.aceita(entrada) == saida for entrada, saida in testes]"
   ]
  },
  {
   "cell_type": "markdown",
   "metadata": {
    "id": "YKqlTXJkE3gV",
    "slideshow": {
     "slide_type": "subslide"
    }
   },
   "source": [
    "Por fim, é possível gerar a representação gráfica do AFD `M` por meio da função `M.visualizar()`. O diagrama de estados é gerado utilizando da biblioteca [`graphviz`]()."
   ]
  },
  {
   "cell_type": "code",
   "execution_count": null,
   "metadata": {
    "colab": {
     "base_uri": "https://localhost:8080/",
     "height": 137
    },
    "id": "b0_OB6IcE3gW",
    "outputId": "4962eb62-e97e-45af-8c4c-e15c4a644672"
   },
   "outputs": [
    {
     "data": {
      "image/svg+xml": [
       "<?xml version=\"1.0\" encoding=\"UTF-8\" standalone=\"no\"?>\n",
       "<!DOCTYPE svg PUBLIC \"-//W3C//DTD SVG 1.1//EN\"\n",
       " \"http://www.w3.org/Graphics/SVG/1.1/DTD/svg11.dtd\">\n",
       "<!-- Generated by graphviz version 2.40.1 (20161225.0304)\n",
       " -->\n",
       "<!-- Title: finite_state_machine Pages: 1 -->\n",
       "<svg width=\"444pt\" height=\"87pt\"\n",
       " viewBox=\"0.00 0.00 443.99 86.60\" xmlns=\"http://www.w3.org/2000/svg\" xmlns:xlink=\"http://www.w3.org/1999/xlink\">\n",
       "<g id=\"graph0\" class=\"graph\" transform=\"scale(1 1) rotate(0) translate(4 82.5963)\">\n",
       "<title>finite_state_machine</title>\n",
       "<polygon fill=\"#ffffff\" stroke=\"transparent\" points=\"-4,4 -4,-82.5963 439.9852,-82.5963 439.9852,4 -4,4\"/>\n",
       "<g id=\"node1\" class=\"node\">\n",
       "<title></title>\n",
       "<ellipse fill=\"#000000\" stroke=\"#000000\" cx=\"1.8\" cy=\"-24.7982\" rx=\"1.8\" ry=\"1.8\"/>\n",
       "</g>\n",
       "<!-- q0 -->\n",
       "<g id=\"node3\" class=\"node\">\n",
       "<title>q0</title>\n",
       "<ellipse fill=\"none\" stroke=\"#000000\" cx=\"61.3982\" cy=\"-24.7982\" rx=\"20.5982\" ry=\"20.5982\"/>\n",
       "<text text-anchor=\"middle\" x=\"61.3982\" y=\"-21.0982\" font-family=\"Times,serif\" font-size=\"14.00\" fill=\"#000000\">q0</text>\n",
       "</g>\n",
       "<!-- &#45;&gt;q0 -->\n",
       "<g id=\"edge1\" class=\"edge\">\n",
       "<title>&#45;&gt;q0</title>\n",
       "<path fill=\"none\" stroke=\"#000000\" d=\"M3.7829,-24.7982C8.1437,-24.7982 19.0721,-24.7982 30.2536,-24.7982\"/>\n",
       "<polygon fill=\"#000000\" stroke=\"#000000\" points=\"30.4123,-28.2983 40.4123,-24.7982 30.4122,-21.2983 30.4123,-28.2983\"/>\n",
       "</g>\n",
       "<!-- q3 -->\n",
       "<g id=\"node2\" class=\"node\">\n",
       "<title>q3</title>\n",
       "<ellipse fill=\"none\" stroke=\"#000000\" cx=\"411.1871\" cy=\"-24.7982\" rx=\"20.6302\" ry=\"20.6302\"/>\n",
       "<ellipse fill=\"none\" stroke=\"#000000\" cx=\"411.1871\" cy=\"-24.7982\" rx=\"24.5979\" ry=\"24.5979\"/>\n",
       "<text text-anchor=\"middle\" x=\"411.1871\" y=\"-21.0982\" font-family=\"Times,serif\" font-size=\"14.00\" fill=\"#000000\">q3</text>\n",
       "</g>\n",
       "<!-- q1 -->\n",
       "<g id=\"node5\" class=\"node\">\n",
       "<title>q1</title>\n",
       "<ellipse fill=\"none\" stroke=\"#000000\" cx=\"176.9945\" cy=\"-24.7982\" rx=\"20.5982\" ry=\"20.5982\"/>\n",
       "<text text-anchor=\"middle\" x=\"176.9945\" y=\"-21.0982\" font-family=\"Times,serif\" font-size=\"14.00\" fill=\"#000000\">q1</text>\n",
       "</g>\n",
       "<!-- q0&#45;&gt;q1 -->\n",
       "<g id=\"edge2\" class=\"edge\">\n",
       "<title>q0&#45;&gt;q1</title>\n",
       "<path fill=\"none\" stroke=\"#000000\" d=\"M82.3318,-24.7982C99.9798,-24.7982 125.4977,-24.7982 145.5935,-24.7982\"/>\n",
       "<polygon fill=\"#000000\" stroke=\"#000000\" points=\"145.826,-28.2983 155.826,-24.7982 145.8259,-21.2983 145.826,-28.2983\"/>\n",
       "<text text-anchor=\"middle\" x=\"119.1963\" y=\"-28.5982\" font-family=\"Times,serif\" font-size=\"14.00\" fill=\"#000000\">ε,ε→$</text>\n",
       "</g>\n",
       "<!-- q2 -->\n",
       "<g id=\"node4\" class=\"node\">\n",
       "<title>q2</title>\n",
       "<ellipse fill=\"none\" stroke=\"#000000\" cx=\"291.5908\" cy=\"-24.7982\" rx=\"20.5982\" ry=\"20.5982\"/>\n",
       "<text text-anchor=\"middle\" x=\"291.5908\" y=\"-21.0982\" font-family=\"Times,serif\" font-size=\"14.00\" fill=\"#000000\">q2</text>\n",
       "</g>\n",
       "<!-- q2&#45;&gt;q3 -->\n",
       "<g id=\"edge6\" class=\"edge\">\n",
       "<title>q2&#45;&gt;q3</title>\n",
       "<path fill=\"none\" stroke=\"#000000\" d=\"M312.4229,-24.7982C329.9418,-24.7982 355.364,-24.7982 376.0285,-24.7982\"/>\n",
       "<polygon fill=\"#000000\" stroke=\"#000000\" points=\"376.0338,-28.2983 386.0338,-24.7982 376.0337,-21.2983 376.0338,-28.2983\"/>\n",
       "<text text-anchor=\"middle\" x=\"349.3889\" y=\"-28.5982\" font-family=\"Times,serif\" font-size=\"14.00\" fill=\"#000000\">ε,$→ε</text>\n",
       "</g>\n",
       "<!-- q2&#45;&gt;q2 -->\n",
       "<g id=\"edge5\" class=\"edge\">\n",
       "<title>q2&#45;&gt;q2</title>\n",
       "<path fill=\"none\" stroke=\"#000000\" d=\"M281.6676,-43.1597C279.6424,-53.7436 282.9501,-63.5963 291.5908,-63.5963 297.2612,-63.5963 300.6349,-59.3531 301.712,-53.4447\"/>\n",
       "<polygon fill=\"#000000\" stroke=\"#000000\" points=\"305.2059,-53.0905 301.514,-43.1597 298.2072,-53.2252 305.2059,-53.0905\"/>\n",
       "<text text-anchor=\"middle\" x=\"291.5908\" y=\"-67.3963\" font-family=\"Times,serif\" font-size=\"14.00\" fill=\"#000000\">b,x→ε</text>\n",
       "</g>\n",
       "<!-- q1&#45;&gt;q2 -->\n",
       "<g id=\"edge4\" class=\"edge\">\n",
       "<title>q1&#45;&gt;q2</title>\n",
       "<path fill=\"none\" stroke=\"#000000\" d=\"M198.0132,-24.7982C215.5401,-24.7982 240.7606,-24.7982 260.6036,-24.7982\"/>\n",
       "<polygon fill=\"#000000\" stroke=\"#000000\" points=\"260.7053,-28.2983 270.7053,-24.7982 260.7053,-21.2983 260.7053,-28.2983\"/>\n",
       "<text text-anchor=\"middle\" x=\"234.2926\" y=\"-28.5982\" font-family=\"Times,serif\" font-size=\"14.00\" fill=\"#000000\">ε,ε→ε</text>\n",
       "</g>\n",
       "<!-- q1&#45;&gt;q1 -->\n",
       "<g id=\"edge3\" class=\"edge\">\n",
       "<title>q1&#45;&gt;q1</title>\n",
       "<path fill=\"none\" stroke=\"#000000\" d=\"M167.0712,-43.1597C165.0461,-53.7436 168.3538,-63.5963 176.9945,-63.5963 182.6649,-63.5963 186.0386,-59.3531 187.1156,-53.4447\"/>\n",
       "<polygon fill=\"#000000\" stroke=\"#000000\" points=\"190.6096,-53.0905 186.9177,-43.1597 183.6109,-53.2252 190.6096,-53.0905\"/>\n",
       "<text text-anchor=\"middle\" x=\"176.9945\" y=\"-67.3963\" font-family=\"Times,serif\" font-size=\"14.00\" fill=\"#000000\">a,ε→x</text>\n",
       "</g>\n",
       "</g>\n",
       "</svg>\n"
      ],
      "text/plain": [
       "<graphviz.dot.Digraph at 0x7f649d5dba58>"
      ]
     },
     "execution_count": 48,
     "metadata": {
      "tags": []
     },
     "output_type": "execute_result"
    }
   ],
   "source": [
    "M.visualizar()"
   ]
  },
  {
   "cell_type": "markdown",
   "metadata": {
    "id": "nR3nVuOgE3gW",
    "slideshow": {
     "slide_type": "slide"
    }
   },
   "source": [
    "## Exercícios sobre APs"
   ]
  },
  {
   "cell_type": "markdown",
   "metadata": {
    "id": "nR3nVuOgE3gW",
    "slideshow": {
     "slide_type": "subslide"
    }
   },
   "source": [
    "1. Defina um AP $M$ que aceite a linguagem $L_4 = \\{a^nb^m ~|~ n = 2m\\}$."
   ]
  },
  {
   "cell_type": "code",
   "execution_count": 6,
   "metadata": {
    "id": "GIRpugziE3gW"
   },
   "outputs": [],
   "source": [
    "# Defina aqui o código do seu AP"
   ]
  },
  {
   "cell_type": "markdown",
   "metadata": {
    "id": "hjhx7XbGE3gW",
    "slideshow": {
     "slide_type": "subslide"
    }
   },
   "source": [
    "2. Verifique se seu autômato $M$ aceita as cadeias $\\varepsilon$, $aab$ e $aaaabb$, e se rejeita $ab$, $aba$ e $aaabb$."
   ]
  },
  {
   "cell_type": "code",
   "execution_count": 7,
   "metadata": {
    "id": "2PjDlcZ5E3gW"
   },
   "outputs": [],
   "source": [
    "# Defina aqui os testes do seu AP"
   ]
  },
  {
   "cell_type": "markdown",
   "metadata": {
    "id": "aG59AiYpEUfk",
    "slideshow": {
     "slide_type": "slide"
    }
   },
   "source": [
    "# Gramática Livre-do-Contexto"
   ]
  },
  {
   "cell_type": "markdown",
   "metadata": {
    "id": "97q4kfVghkyz",
    "slideshow": {
     "slide_type": "subslide"
    }
   },
   "source": [
    "As **gramáticas livres-do-contexto** (GLC) são modelos de definição de linguagens por meio de regras de produção de palavras. Elas permitem expressar características recursivas de composição de sentenças, o que as tornam úteis em diversas aplicações, como nas definições de linguagens de programação."
   ]
  },
  {
   "cell_type": "markdown",
   "metadata": {
    "id": "97q4kfVghkyz",
    "slideshow": {
     "slide_type": "subslide"
    }
   },
   "source": [
    "As regras de produção são definidas sobre dois tipos de símbolos: símbolos que indicam possibilidades de produção, chamados de *variáveis*, e não substituíveis, chamados de *terminais*. Uma regra de produção é usualmente escrita na forma:\n",
    "\n",
    "$$S \\rightarrow aSb $$"
   ]
  },
  {
   "cell_type": "markdown",
   "metadata": {
    "id": "97q4kfVghkyz",
    "slideshow": {
     "slide_type": "subslide"
    }
   },
   "source": [
    "O lado direito da regra deve conter um único símbolo variável e expressa que durante a produção de uma palavra, este símbolo pode ser substituído pela cadeia do lado direito, composta por variáveis e/ou terminais. No exemplo, a regra $S \\rightarrow aSb $ indica que ao encontrar a variável $S$, esta pode ser substituída pela cadeia $aSb$."
   ]
  },
  {
   "cell_type": "markdown",
   "metadata": {
    "id": "97q4kfVghkyz",
    "slideshow": {
     "slide_type": "fragment"
    }
   },
   "source": [
    "> Usualmente denotamos os símbolos variáveis por letras maiúsculas e os símbolos terminais por letras minúsculas.\n"
   ]
  },
  {
   "cell_type": "markdown",
   "metadata": {
    "id": "s01plEH9inzf",
    "slideshow": {
     "slide_type": "subslide"
    }
   },
   "source": [
    "Uma GLC é formalmente definida como segue.\n",
    "\n",
    "**Definição 5**: Uma gramática livre-do-contexto é uma tupla $(V,\\Sigma,R,S)$, onde:\n",
    "1. $V$ é um conjunto finito de símbolos variáveis,\n",
    "1. $\\Sigma$ é um conjunto finito de símbolos terminais,\n",
    "1. $R \\subseteq V \\times (V \\cup \\Sigma)^*$ é um conjunto finito de regras,\n",
    "1. $S \\in V$ é a variável inicial.\n",
    "\n",
    "Observe que formalmente um regra $A \\rightarrow w$ é um par $(A, w) \\in R$, que indica a possibilidade de substituição da variável $A \\in V$ por uma cadeia $w \\in (V \\cup \\Sigma)^*$."
   ]
  },
  {
   "cell_type": "markdown",
   "metadata": {
    "slideshow": {
     "slide_type": "subslide"
    }
   },
   "source": [
    "Convencionamos representar as GLCs listando suas regras de produção no seguinte formato\n",
    "\n",
    "$$\\begin{align} \n",
    "S &\\rightarrow A | B | \\varepsilon \\\\\n",
    "A &\\rightarrow a | aAa | B \\\\\n",
    "B &\\rightarrow b | bBb | A\n",
    "\\end{align}$$ \n",
    "\n",
    "onde cada linha contém uma ou mais regras de uma mesma variável e a variável inicial está no lado esquedo da primeira linha."
   ]
  },
  {
   "cell_type": "markdown",
   "metadata": {
    "id": "5nD0Rr4uiucE",
    "slideshow": {
     "slide_type": "subslide"
    }
   },
   "source": [
    "Seja $G = (V, \\Sigma, R, S)$ e $u,v \\in (V \\cup \\Sigma)^*$ cadeias de variáveis e terminais, dizemos que\n",
    "1. $u$ **produz** $v$, denotado por $u \\Rightarrow v$, se $u = v$, ou $u = xAy$, $v = xwy$ e $(A, w) \\in R$;\n",
    "1. $u$ **deriva** $v$, denotado por $u \\stackrel{*}{\\Rightarrow} v $, se $u = v$, ou existe uma sequência $(u_1, u_2, ..., u_k)$ tal que $u \\Rightarrow u_1 \\Rightarrow u_2 ... \\Rightarrow u_k \\Rightarrow v$.\n",
    "1. $G$ **gera** $v$ se $S$ deriva $v$.\n",
    "\n",
    "A linguagem da gramática $G$ é dada pelo conjunto $L(G) = \\{w \\in \\Sigma^* ~|~ G \\mbox{ gera } w\\}$."
   ]
  },
  {
   "cell_type": "markdown",
   "metadata": {
    "id": "le1n9FLADKRo",
    "slideshow": {
     "slide_type": "slide"
    }
   },
   "source": [
    "## Implementação em Python"
   ]
  },
  {
   "cell_type": "markdown",
   "metadata": {
    "id": "le1n9FLADKRo",
    "slideshow": {
     "slide_type": "subslide"
    }
   },
   "source": [
    "Em nossa implementação, uma gramática livre-do-contexto é representada pela classe `GLC`, cujo construtor segue a Definição 5:\n",
    "\n",
    ">`G = GLC(V,Sigma,R,S)`\n",
    "\n",
    "\n",
    "A seguir um exemplo de definição de gramática livre-do-contexto."
   ]
  },
  {
   "cell_type": "code",
   "execution_count": null,
   "metadata": {
    "colab": {
     "base_uri": "https://localhost:8080/"
    },
    "id": "y_yhUL-aDKRo",
    "outputId": "a1de0aa7-a50b-45e6-e0b9-2349171a9ab2"
   },
   "outputs": [
    {
     "data": {
      "text/plain": [
       "<__main__.GLC at 0x7f649cd47f60>"
      ]
     },
     "execution_count": 51,
     "metadata": {
      "tags": []
     },
     "output_type": "execute_result"
    }
   ],
   "source": [
    "V = {'S'}\n",
    "Sigma = {'a','b'}\n",
    "R = {('S','aSb'),\n",
    "     ('S','SS'),\n",
    "     ('S','ab')}\n",
    "S = 'S'\n",
    "\n",
    "G = GLC(V,Sigma,R,S)\n",
    "G"
   ]
  },
  {
   "cell_type": "markdown",
   "metadata": {
    "id": "owVLX0WADKRp",
    "slideshow": {
     "slide_type": "subslide"
    }
   },
   "source": [
    "Definida a GLC `G`, podemos usar a função `G.gera(entrada)` para verificar se cadeias pertencem a linguagem definida por `G`, onde `entrada` deve ser composta por uma sequência de símbolos pertencentes a `Sigma`. Caso pertença, a função retornará o valor `True`."
   ]
  },
  {
   "cell_type": "code",
   "execution_count": null,
   "metadata": {
    "colab": {
     "base_uri": "https://localhost:8080/"
    },
    "id": "DUZhE50wDKRp",
    "outputId": "08242ffa-1208-4850-de66-558e47f85010"
   },
   "outputs": [
    {
     "data": {
      "text/plain": [
       "True"
      ]
     },
     "execution_count": 52,
     "metadata": {
      "tags": []
     },
     "output_type": "execute_result"
    }
   ],
   "source": [
    "G.gera(\"ab\")"
   ]
  },
  {
   "cell_type": "markdown",
   "metadata": {
    "id": "rkW99YGhDKRq",
    "slideshow": {
     "slide_type": "subslide"
    }
   },
   "source": [
    "Caso a entrada não pertença a linguagem definida por $G$, a função retornará o valor `False`."
   ]
  },
  {
   "cell_type": "code",
   "execution_count": null,
   "metadata": {
    "colab": {
     "base_uri": "https://localhost:8080/"
    },
    "id": "9qWhRuNeDKRq",
    "outputId": "b7d84c7a-757b-4619-a690-5f4c1eda98d6"
   },
   "outputs": [
    {
     "data": {
      "text/plain": [
       "False"
      ]
     },
     "execution_count": 53,
     "metadata": {
      "tags": []
     },
     "output_type": "execute_result"
    }
   ],
   "source": [
    "G.gera(\"ba\")"
   ]
  },
  {
   "cell_type": "markdown",
   "metadata": {
    "id": "9uJ3r0YHDKRq",
    "slideshow": {
     "slide_type": "subslide"
    }
   },
   "source": [
    "Como antes, você pode também realizar múltiplos testes utilizando listas com casos de testes:"
   ]
  },
  {
   "cell_type": "code",
   "execution_count": null,
   "metadata": {
    "colab": {
     "base_uri": "https://localhost:8080/"
    },
    "id": "Rsip2ODyDKRq",
    "outputId": "59953b27-3025-4981-f5d1-9960adbdc1f5"
   },
   "outputs": [
    {
     "data": {
      "text/plain": [
       "[True, True, True, True, True, True, True, True]"
      ]
     },
     "execution_count": 54,
     "metadata": {
      "tags": []
     },
     "output_type": "execute_result"
    }
   ],
   "source": [
    "testes = [(\"ab\",True), (\"aab\",False), (\"abb\",False), (\"aabb\",True), (\"b\",False), (\"ba\",False), (\"bbb\",False), (\"\",False)]\n",
    "[G.gera(entrada) == saida for entrada, saida in testes]"
   ]
  },
  {
   "cell_type": "markdown",
   "metadata": {
    "id": "NHeJqEejDKRu",
    "slideshow": {
     "slide_type": "slide"
    }
   },
   "source": [
    "## Exercícios sobre GLCs"
   ]
  },
  {
   "cell_type": "markdown",
   "metadata": {
    "id": "NHeJqEejDKRu",
    "slideshow": {
     "slide_type": "subslide"
    }
   },
   "source": [
    "1. Defina uma GLC $G$ que represente a linguagem $L_5 = \\{w \\in \\{a,b\\}^* ~|~ w \\mbox{ é um palíndromo}\\}$."
   ]
  },
  {
   "cell_type": "code",
   "execution_count": null,
   "metadata": {
    "id": "5ZoOLfLfDKRu"
   },
   "outputs": [],
   "source": [
    "# Insira aqui o código da sua GLC"
   ]
  },
  {
   "cell_type": "markdown",
   "metadata": {
    "id": "Gre5lC0DDKRv",
    "slideshow": {
     "slide_type": "subslide"
    }
   },
   "source": [
    "2. Verifique se sua GLC gera as cadeias $aa$, $abba$ e $ababa$, e não gera $a$, $ab$ e $baa$."
   ]
  },
  {
   "cell_type": "code",
   "execution_count": null,
   "metadata": {
    "id": "SeBEJ89ODKRv"
   },
   "outputs": [],
   "source": [
    "# Insira aqui os testes da sua GLC"
   ]
  },
  {
   "cell_type": "markdown",
   "metadata": {
    "id": "3dmCN_9YjViO",
    "slideshow": {
     "slide_type": "slide"
    }
   },
   "source": [
    "# Conclusão"
   ]
  },
  {
   "cell_type": "markdown",
   "metadata": {
    "id": "kCR4EyKLI2ZM",
    "slideshow": {
     "slide_type": "subslide"
    }
   },
   "source": [
    "Com isso, concluímos uma breve revisão dos principais modelos computacionais e de descrição de linguagens vistos em um curso de Linguagens Formais e Autômatos.\n",
    "\n",
    "Alguns aspectos não puderam ser abordados, como propriedades das classes de linguagens, equivalência entre modelos e os lemas do bombeamento para linguagens regulares e linguagens livres-do-contexto. \n",
    "\n",
    "Recomendamos que o leitor continue seus estudos, há muitos temas interessantes ainda para serem vistos."
   ]
  },
  {
   "cell_type": "markdown",
   "metadata": {
    "id": "kCR4EyKLI2ZM",
    "slideshow": {
     "slide_type": "subslide"
    }
   },
   "source": [
    "Sugerimos a leitura dos livros _**Introdução à Teoria da Computação**, de Michael Sipser_ (Thomson Learning, 2007) e _**Introdução à Teoria de Autômatos, Linguagens e Computação** de John E. Hopcroft, Jeffrey D. Ullman e  Rajeev Motwani_ (Campus, 2002). Bons estudos!"
   ]
  }
 ],
 "metadata": {
  "celltoolbar": "Slideshow",
  "colab": {
   "provenance": []
  },
  "kernelspec": {
   "display_name": "Python 3 (ipykernel)",
   "language": "python",
   "name": "python3"
  },
  "language_info": {
   "codemirror_mode": {
    "name": "ipython",
    "version": 3
   },
   "file_extension": ".py",
   "mimetype": "text/x-python",
   "name": "python",
   "nbconvert_exporter": "python",
   "pygments_lexer": "ipython3",
   "version": "3.10.12"
  }
 },
 "nbformat": 4,
 "nbformat_minor": 1
}
