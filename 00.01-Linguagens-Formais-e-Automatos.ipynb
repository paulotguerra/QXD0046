{
 "cells": [
  {
   "cell_type": "markdown",
   "metadata": {
    "slideshow": {
     "slide_type": "skip"
    }
   },
   "source": [
    "<a target=\"_blank\" href=\"https://colab.research.google.com/github/paulotguerra/QXD0046/blob/main/00.01-Linguagens-Formais-e-Automatos.ipynb\">\n",
    "  <img src=\"https://colab.research.google.com/assets/colab-badge.svg\" alt=\"Open In Colab\"/>\n",
    "</a>"
   ]
  },
  {
   "cell_type": "markdown",
   "metadata": {
    "slideshow": {
     "slide_type": "slide"
    }
   },
   "source": [
    "## QXD0046 - Teoria da Computação\n",
    "# Revisão: Linguagens Formais e Autômatos\n",
    "**Professor**: Paulo de Tarso Guerra ([paulodetarso@ufc.br](mailto:paulodetarso@ufc.br))"
   ]
  },
  {
   "cell_type": "code",
   "execution_count": 1,
   "metadata": {},
   "outputs": [],
   "source": [
    "# Execute essa célula (`ctrl+enter` ou clicando no botão de play) para importar a implementação das classes diretamente do [GitHub](https://github.com/paulotguerra/QXD0046)\n",
    "\n",
    "![ -d teocomp ] || (git clone https://github.com/paulotguerra/QXD0046.git && cp -r QXD0046/teocomp . && rm -rf QXD0046)"
   ]
  },
  {
   "cell_type": "markdown",
   "metadata": {
    "id": "VabmJSkYCxVy",
    "slideshow": {
     "slide_type": "slide"
    }
   },
   "source": [
    "# Autômato Finito Determinístico"
   ]
  },
  {
   "cell_type": "markdown",
   "metadata": {
    "id": "FF48mzgKvC7u",
    "slideshow": {
     "slide_type": "subslide"
    }
   },
   "source": [
    "Os **autômatos finitos determinísticos** (AFD) são modelos de computação que representam o que chamamos de máquina de estados: uma representação conceitual da dinâmica de execução de um computador perante uma determinada entrada. Os AFDs autômatos são capazes de realizar tarefas simples, como reconhecer ou não cadeias de uma linguagem."
   ]
  },
  {
   "cell_type": "markdown",
   "metadata": {
    "slideshow": {
     "slide_type": "subslide"
    }
   },
   "source": [
    "Graficamente, descrevemos um AFD por meio de uma representação de círculos, representando estados, ligados por arestas rotuladas, que descrevem os elementos motivam a transição de estados."
   ]
  },
  {
   "cell_type": "markdown",
   "metadata": {
    "id": "wCdcZpY0_EkY",
    "slideshow": {
     "slide_type": "subslide"
    }
   },
   "source": [
    "**Figura 1**: Exemplo de diagrama de estados de um AFD.\n",
    "\n",
    "![image.png](data:image/png;base64,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)"
   ]
  },
  {
   "cell_type": "markdown",
   "metadata": {
    "id": "Fu_kp84oAXcf",
    "slideshow": {
     "slide_type": "fragment"
    }
   },
   "source": [
    "A figura acima representa um autômato com dois estados, `q0` e `q1`. O autômato inicia no estado `q0`, indicado por uma seta sem origem em outro estado. Os rótulos das setas indicam os possíveis fatos motivadores de uma mudança de estado. "
   ]
  },
  {
   "cell_type": "markdown",
   "metadata": {
    "id": "Fu_kp84oAXcf",
    "slideshow": {
     "slide_type": "fragment"
    }
   },
   "source": [
    "Por exemplo, no estado `q0`, a leitura de um símbolo `b` faz com que o autômato altere seu estado de `q0` para `q1`. Neste mesmo estado, porém, a leitura de um símbolo `a` não desencadeia a mudança para outro estado, permanecendo em `q0`. O autômato aceita uma cadeia se após as transições ele parar em no estado de aceitação `q1`, indicado na figura por um duplo círculo."
   ]
  },
  {
   "cell_type": "markdown",
   "metadata": {
    "id": "qxCW2B0E3AUn",
    "slideshow": {
     "slide_type": "subslide"
    }
   },
   "source": [
    "Os AFDs são formalmente definidos como segue:\n",
    "\n",
    "**Definição 1**: Um autômato finito determinístico é uma tupla $(Q, \\Sigma, \\delta, q_0, F)$, onde:\n",
    "1. $Q$ é um conjunto finito de símbolos de estado,\n",
    "1. $\\Sigma$ é um conjunto finito de símbolos de alfabeto,\n",
    "1. $\\delta : Q \\times \\Sigma \\rightarrow Q$ é a função de transição,\n",
    "1. $q_0 \\in Q$ é o estado inicial, e\n",
    "1. $F \\subseteq Q$ é o conjunto de estados de aceitação."
   ]
  },
  {
   "cell_type": "markdown",
   "metadata": {
    "slideshow": {
     "slide_type": "subslide"
    }
   },
   "source": [
    "Podemos definir o AFD ilustrado na Figura 1 formalmente como\n",
    "\n",
    "$$M = (\\{q_0,q_1\\}, \\{a,b\\}, \\delta, q_0, \\{q_1\\})$$\n",
    "\n",
    "onde $\\delta(q_0,a)=q_0, \\delta(q_0,b)=q_1, \\delta(q_1,a)=q_1 $ e $\\delta(q_1,b)=q_1$."
   ]
  },
  {
   "cell_type": "markdown",
   "metadata": {
    "slideshow": {
     "slide_type": "subslide"
    }
   },
   "source": [
    "Seja $M = (Q, \\Sigma, \\delta, q_0, F)$ um AFD e $w = w_1w_2...w_n$ uma cadeia sobre $\\Sigma$, dizemos que $M$ **aceita** $w$ se existe uma sequência $(s_0,s_1,...,s_n)$ tal que\n",
    "1. $s_0 = q_0$,\n",
    "1. $s_{i+1} = \\delta(s_i,w_{i+1})$, para $0 \\leq i < n$,\n",
    "1. $s_n \\in F$.\n",
    "\n",
    "Por exemplo, o AFD $M$ ilustrado na Figura 1 aceita a cadeia $w = aabb$, dado que a sequência (q0, q0, q1, q1) satisfaz as condições acima."
   ]
  },
  {
   "cell_type": "markdown",
   "metadata": {
    "id": "C6y_elpML52T",
    "slideshow": {
     "slide_type": "slide"
    }
   },
   "source": [
    "## Implementação em Python"
   ]
  },
  {
   "cell_type": "markdown",
   "metadata": {
    "id": "C6y_elpML52T",
    "slideshow": {
     "slide_type": "subslide"
    }
   },
   "source": [
    "Em nossa implementação, um autômato finito determinístico é representado pela classe `AFD`, cujo construtor segue a definição apresentada:\n",
    "\n",
    "`M = AFD(Q,Sigma,delta,q0,F)`"
   ]
  },
  {
   "cell_type": "markdown",
   "metadata": {
    "id": "C6y_elpML52T",
    "slideshow": {
     "slide_type": "-"
    }
   },
   "source": [
    "A seguir temos o exemplo do AFD da Figura 1. Os elementos `Q`, `Sigma` e `F` são elementos do tipo `set()`. O elemento `q0` deve ser um elemento de `Q`. A função de transição `delta` é um elemento do tipo `dict()` cuja construção deve ter domínio e contradomínio como indicado na Definição 1."
   ]
  },
  {
   "cell_type": "code",
   "execution_count": 2,
   "metadata": {
    "colab": {
     "base_uri": "https://localhost:8080/"
    },
    "id": "MGXIScVK-A3N",
    "outputId": "16486fc9-a623-4f70-9a60-cc61171a0551",
    "scrolled": true,
    "slideshow": {
     "slide_type": "subslide"
    }
   },
   "outputs": [
    {
     "data": {
      "image/svg+xml": [
       "<?xml version=\"1.0\" encoding=\"UTF-8\" standalone=\"no\"?>\n",
       "<!DOCTYPE svg PUBLIC \"-//W3C//DTD SVG 1.1//EN\"\n",
       " \"http://www.w3.org/Graphics/SVG/1.1/DTD/svg11.dtd\">\n",
       "<!-- Generated by graphviz version 2.43.0 (0)\n",
       " -->\n",
       "<!-- Title: finite_state_machine Pages: 1 -->\n",
       "<svg width=\"194pt\" height=\"94pt\"\n",
       " viewBox=\"0.00 0.00 193.59 94.50\" xmlns=\"http://www.w3.org/2000/svg\" xmlns:xlink=\"http://www.w3.org/1999/xlink\">\n",
       "<g id=\"graph0\" class=\"graph\" transform=\"scale(1 1) rotate(0) translate(4 90.5)\">\n",
       "<title>finite_state_machine</title>\n",
       "<polygon fill=\"white\" stroke=\"transparent\" points=\"-4,4 -4,-90.5 189.59,-90.5 189.59,4 -4,4\"/>\n",
       "<g id=\"node1\" class=\"node\">\n",
       "<title></title>\n",
       "<ellipse fill=\"black\" stroke=\"black\" cx=\"1.8\" cy=\"-26.75\" rx=\"1.8\" ry=\"1.8\"/>\n",
       "</g>\n",
       "<!-- q0 -->\n",
       "<g id=\"node3\" class=\"node\">\n",
       "<title>q0</title>\n",
       "<ellipse fill=\"none\" stroke=\"black\" cx=\"63.35\" cy=\"-26.75\" rx=\"23\" ry=\"23\"/>\n",
       "<text text-anchor=\"middle\" x=\"63.35\" y=\"-23.05\" font-family=\"Times,serif\" font-size=\"14.00\">q0</text>\n",
       "</g>\n",
       "<!-- &#45;&gt;q0 -->\n",
       "<g id=\"edge1\" class=\"edge\">\n",
       "<title>&#45;&gt;q0</title>\n",
       "<path fill=\"none\" stroke=\"black\" d=\"M3.83,-26.75C7.23,-26.75 18.48,-26.75 30.22,-26.75\"/>\n",
       "<polygon fill=\"black\" stroke=\"black\" points=\"30.48,-30.25 40.48,-26.75 30.48,-23.25 30.48,-30.25\"/>\n",
       "</g>\n",
       "<!-- q1 -->\n",
       "<g id=\"node2\" class=\"node\">\n",
       "<title>q1</title>\n",
       "<ellipse fill=\"none\" stroke=\"black\" cx=\"158.84\" cy=\"-26.75\" rx=\"22.96\" ry=\"22.96\"/>\n",
       "<ellipse fill=\"none\" stroke=\"black\" cx=\"158.84\" cy=\"-26.75\" rx=\"27\" ry=\"27\"/>\n",
       "<text text-anchor=\"middle\" x=\"158.84\" y=\"-23.05\" font-family=\"Times,serif\" font-size=\"14.00\">q1</text>\n",
       "</g>\n",
       "<!-- q1&#45;&gt;q1 -->\n",
       "<g id=\"edge4\" class=\"edge\">\n",
       "<title>q1&#45;&gt;q1</title>\n",
       "<path fill=\"none\" stroke=\"black\" d=\"M149.92,-52.05C149.31,-62.57 152.28,-71.5 158.84,-71.5 163.15,-71.5 165.91,-67.65 167.13,-62.04\"/>\n",
       "<polygon fill=\"black\" stroke=\"black\" points=\"170.62,-62.25 167.76,-52.05 163.63,-61.81 170.62,-62.25\"/>\n",
       "<text text-anchor=\"middle\" x=\"158.84\" y=\"-75.3\" font-family=\"Times,serif\" font-size=\"14.00\">a,b</text>\n",
       "</g>\n",
       "<!-- q0&#45;&gt;q1 -->\n",
       "<g id=\"edge3\" class=\"edge\">\n",
       "<title>q0&#45;&gt;q1</title>\n",
       "<path fill=\"none\" stroke=\"black\" d=\"M86.51,-26.75C97.03,-26.75 109.88,-26.75 121.76,-26.75\"/>\n",
       "<polygon fill=\"black\" stroke=\"black\" points=\"121.87,-30.25 131.87,-26.75 121.87,-23.25 121.87,-30.25\"/>\n",
       "<text text-anchor=\"middle\" x=\"109.1\" y=\"-30.55\" font-family=\"Times,serif\" font-size=\"14.00\">b</text>\n",
       "</g>\n",
       "<!-- q0&#45;&gt;q0 -->\n",
       "<g id=\"edge2\" class=\"edge\">\n",
       "<title>q0&#45;&gt;q0</title>\n",
       "<path fill=\"none\" stroke=\"black\" d=\"M56,-48.55C55.19,-58.66 57.64,-67.5 63.35,-67.5 67,-67.5 69.32,-63.87 70.3,-58.6\"/>\n",
       "<polygon fill=\"black\" stroke=\"black\" points=\"73.8,-58.68 70.7,-48.55 66.81,-58.4 73.8,-58.68\"/>\n",
       "<text text-anchor=\"middle\" x=\"63.35\" y=\"-71.3\" font-family=\"Times,serif\" font-size=\"14.00\">a</text>\n",
       "</g>\n",
       "</g>\n",
       "</svg>\n"
      ],
      "text/plain": [
       "<graphviz.graphs.Digraph at 0x7fb75039c490>"
      ]
     },
     "metadata": {},
     "output_type": "display_data"
    }
   ],
   "source": [
    "from teocomp.automata import AFD\n",
    "\n",
    "Q = {'q0','q1'}\n",
    "Sigma = {'a','b'}\n",
    "delta = {('q0','a'):'q0',\n",
    "         ('q0','b'):'q1',\n",
    "         ('q1','a'):'q1',\n",
    "         ('q1','b'):'q1'}\n",
    "q0 = 'q0'\n",
    "F = {'q1'}\n",
    "\n",
    "M = AFD(Q,Sigma,delta,q0,F)\n",
    "M"
   ]
  },
  {
   "cell_type": "markdown",
   "metadata": {
    "id": "6Jk1N-HLAshp",
    "slideshow": {
     "slide_type": "subslide"
    }
   },
   "source": [
    "O diagrama de estados é gerado utilizando da biblioteca [`graphviz`]()."
   ]
  },
  {
   "cell_type": "markdown",
   "metadata": {
    "id": "4RsMpFG04-Ky",
    "slideshow": {
     "slide_type": "subslide"
    }
   },
   "source": [
    "Definido o autômato `M`, podemos usar a função `M.aceita(entrada)` para verificar a aceitação de cadeias, onde `entrada` deve ser composta por uma sequência de símbolos pertencentes a `Sigma`. A aceitação de uma palavra retornará o valor `True`."
   ]
  },
  {
   "cell_type": "code",
   "execution_count": 3,
   "metadata": {
    "colab": {
     "base_uri": "https://localhost:8080/"
    },
    "id": "YPfyRler9cm-",
    "outputId": "79bf7c01-a9c5-4e64-a0eb-86ef42008fb7"
   },
   "outputs": [
    {
     "data": {
      "text/plain": [
       "True"
      ]
     },
     "execution_count": 3,
     "metadata": {},
     "output_type": "execute_result"
    }
   ],
   "source": [
    "M.aceita('aabb')"
   ]
  },
  {
   "cell_type": "markdown",
   "metadata": {
    "id": "2qQRWltb-HyP",
    "slideshow": {
     "slide_type": "subslide"
    }
   },
   "source": [
    "A rejeição de uma palavra retornará o valor `False`."
   ]
  },
  {
   "cell_type": "code",
   "execution_count": 4,
   "metadata": {
    "colab": {
     "base_uri": "https://localhost:8080/"
    },
    "id": "DRS7hVsj-MdF",
    "outputId": "7f507433-88af-42e3-a331-011ea309f300"
   },
   "outputs": [
    {
     "data": {
      "text/plain": [
       "False"
      ]
     },
     "execution_count": 4,
     "metadata": {},
     "output_type": "execute_result"
    }
   ],
   "source": [
    "M.aceita(\"aaaa\")"
   ]
  },
  {
   "cell_type": "markdown",
   "metadata": {
    "id": "PWbmD2si_WR0",
    "slideshow": {
     "slide_type": "subslide"
    }
   },
   "source": [
    "Você pode também realizar múltiplos testes utilizando listas com casos de teste:"
   ]
  },
  {
   "cell_type": "code",
   "execution_count": 5,
   "metadata": {
    "colab": {
     "base_uri": "https://localhost:8080/"
    },
    "id": "9VIzgVmp_Sfn",
    "outputId": "18675ce9-1c79-413e-b3b4-96db2b93def6"
   },
   "outputs": [
    {
     "data": {
      "text/plain": [
       "[True, True, True, True, True, True, True, True]"
      ]
     },
     "execution_count": 5,
     "metadata": {},
     "output_type": "execute_result"
    }
   ],
   "source": [
    "testes = [(\"ab\",True), (\"aab\",True), (\"abb\",True), (\"aabb\",True), (\"b\",True), (\"a\",False), (\"aa\",False), (\"\",False)]\n",
    "[M.aceita(entrada) == saida for entrada, saida in testes]"
   ]
  },
  {
   "cell_type": "markdown",
   "metadata": {
    "id": "Oz1hWQpoKw8b",
    "slideshow": {
     "slide_type": "subslide"
    }
   },
   "source": [
    "Observe que os conjuntos de estados e do alfabeto podem ser compostos por elementos diferentes de `str`. Podemos, por exemplo, ter números inteiros representando os estados e *comprehensions* para definir AFDs mais complexos."
   ]
  },
  {
   "cell_type": "code",
   "execution_count": 6,
   "metadata": {
    "colab": {
     "base_uri": "https://localhost:8080/",
     "height": 501
    },
    "id": "vGKl93lrDZ06",
    "outputId": "e89223c2-af87-4d3d-be93-95968f6b8c28",
    "slideshow": {
     "slide_type": "subslide"
    }
   },
   "outputs": [
    {
     "data": {
      "image/svg+xml": [
       "<?xml version=\"1.0\" encoding=\"UTF-8\" standalone=\"no\"?>\n",
       "<!DOCTYPE svg PUBLIC \"-//W3C//DTD SVG 1.1//EN\"\n",
       " \"http://www.w3.org/Graphics/SVG/1.1/DTD/svg11.dtd\">\n",
       "<!-- Generated by graphviz version 2.43.0 (0)\n",
       " -->\n",
       "<!-- Title: finite_state_machine Pages: 1 -->\n",
       "<svg width=\"831pt\" height=\"1651pt\"\n",
       " viewBox=\"0.00 0.00 830.60 1651.00\" xmlns=\"http://www.w3.org/2000/svg\" xmlns:xlink=\"http://www.w3.org/1999/xlink\">\n",
       "<g id=\"graph0\" class=\"graph\" transform=\"scale(1 1) rotate(0) translate(4 1647)\">\n",
       "<title>finite_state_machine</title>\n",
       "<polygon fill=\"white\" stroke=\"transparent\" points=\"-4,4 -4,-1647 826.6,-1647 826.6,4 -4,4\"/>\n",
       "<g id=\"node1\" class=\"node\">\n",
       "<title></title>\n",
       "<ellipse fill=\"black\" stroke=\"black\" cx=\"1.8\" cy=\"-928\" rx=\"1.8\" ry=\"1.8\"/>\n",
       "</g>\n",
       "<!-- 0 -->\n",
       "<g id=\"node3\" class=\"node\">\n",
       "<title>0</title>\n",
       "<ellipse fill=\"none\" stroke=\"black\" cx=\"58.6\" cy=\"-928\" rx=\"18\" ry=\"18\"/>\n",
       "<text text-anchor=\"middle\" x=\"58.6\" y=\"-924.3\" font-family=\"Times,serif\" font-size=\"14.00\">0</text>\n",
       "</g>\n",
       "<!-- &#45;&gt;0 -->\n",
       "<g id=\"edge1\" class=\"edge\">\n",
       "<title>&#45;&gt;0</title>\n",
       "<path fill=\"none\" stroke=\"black\" d=\"M3.75,-928C7.11,-928 18.87,-928 30.55,-928\"/>\n",
       "<polygon fill=\"black\" stroke=\"black\" points=\"30.58,-931.5 40.58,-928 30.58,-924.5 30.58,-931.5\"/>\n",
       "</g>\n",
       "<!-- 9 -->\n",
       "<g id=\"node2\" class=\"node\">\n",
       "<title>9</title>\n",
       "<ellipse fill=\"none\" stroke=\"black\" cx=\"144.6\" cy=\"-928\" rx=\"18\" ry=\"18\"/>\n",
       "<ellipse fill=\"none\" stroke=\"black\" cx=\"144.6\" cy=\"-928\" rx=\"22\" ry=\"22\"/>\n",
       "<text text-anchor=\"middle\" x=\"144.6\" y=\"-924.3\" font-family=\"Times,serif\" font-size=\"14.00\">9</text>\n",
       "</g>\n",
       "<!-- 9&#45;&gt;9 -->\n",
       "<g id=\"edge91\" class=\"edge\">\n",
       "<title>9&#45;&gt;9</title>\n",
       "<path fill=\"none\" stroke=\"black\" d=\"M136.59,-948.58C135.49,-958.84 138.15,-968 144.6,-968 148.73,-968 151.31,-964.24 152.34,-958.84\"/>\n",
       "<polygon fill=\"black\" stroke=\"black\" points=\"155.84,-958.67 152.61,-948.58 148.85,-958.49 155.84,-958.67\"/>\n",
       "<text text-anchor=\"middle\" x=\"144.6\" y=\"-971.8\" font-family=\"Times,serif\" font-size=\"14.00\">9</text>\n",
       "</g>\n",
       "<!-- 1 -->\n",
       "<g id=\"node4\" class=\"node\">\n",
       "<title>1</title>\n",
       "<ellipse fill=\"none\" stroke=\"black\" cx=\"230.6\" cy=\"-771\" rx=\"18\" ry=\"18\"/>\n",
       "<text text-anchor=\"middle\" x=\"230.6\" y=\"-767.3\" font-family=\"Times,serif\" font-size=\"14.00\">1</text>\n",
       "</g>\n",
       "<!-- 9&#45;&gt;1 -->\n",
       "<g id=\"edge83\" class=\"edge\">\n",
       "<title>9&#45;&gt;1</title>\n",
       "<path fill=\"none\" stroke=\"black\" d=\"M157.54,-909.94C167.89,-893.97 182.99,-869.87 194.6,-848 203.47,-831.3 212.27,-811.91 218.83,-796.77\"/>\n",
       "<polygon fill=\"black\" stroke=\"black\" points=\"222.08,-798.07 222.8,-787.5 215.64,-795.32 222.08,-798.07\"/>\n",
       "<text text-anchor=\"middle\" x=\"189.6\" y=\"-868.8\" font-family=\"Times,serif\" font-size=\"14.00\">1</text>\n",
       "</g>\n",
       "<!-- 2 -->\n",
       "<g id=\"node5\" class=\"node\">\n",
       "<title>2</title>\n",
       "<ellipse fill=\"none\" stroke=\"black\" cx=\"804.6\" cy=\"-1055\" rx=\"18\" ry=\"18\"/>\n",
       "<text text-anchor=\"middle\" x=\"804.6\" y=\"-1051.3\" font-family=\"Times,serif\" font-size=\"14.00\">2</text>\n",
       "</g>\n",
       "<!-- 9&#45;&gt;2 -->\n",
       "<g id=\"edge84\" class=\"edge\">\n",
       "<title>9&#45;&gt;2</title>\n",
       "<path fill=\"none\" stroke=\"black\" d=\"M144.93,-950.36C143.66,-1019.29 145.72,-1233.54 212.6,-1393 228.63,-1431.21 242.26,-1435.47 266.6,-1469 304.3,-1520.94 288.42,-1585 352.6,-1585 352.6,-1585 352.6,-1585 723.6,-1585 774.82,-1585 797.11,-1192.91 802.35,-1083.21\"/>\n",
       "<polygon fill=\"black\" stroke=\"black\" points=\"805.86,-1083.09 802.83,-1072.94 798.87,-1082.76 805.86,-1083.09\"/>\n",
       "<text text-anchor=\"middle\" x=\"476.6\" y=\"-1588.8\" font-family=\"Times,serif\" font-size=\"14.00\">2</text>\n",
       "</g>\n",
       "<!-- 3 -->\n",
       "<g id=\"node6\" class=\"node\">\n",
       "<title>3</title>\n",
       "<ellipse fill=\"none\" stroke=\"black\" cx=\"722.6\" cy=\"-684\" rx=\"18\" ry=\"18\"/>\n",
       "<text text-anchor=\"middle\" x=\"722.6\" y=\"-680.3\" font-family=\"Times,serif\" font-size=\"14.00\">3</text>\n",
       "</g>\n",
       "<!-- 9&#45;&gt;3 -->\n",
       "<g id=\"edge85\" class=\"edge\">\n",
       "<title>9&#45;&gt;3</title>\n",
       "<path fill=\"none\" stroke=\"black\" d=\"M157.28,-909.51C160.98,-902.7 164.62,-894.75 166.6,-887 184.75,-816.03 157.37,-296 184.6,-228 191.5,-210.77 196.21,-205.73 212.6,-197 366.86,-114.86 511.22,-80.27 604.6,-228 638.56,-281.72 672.96,-439.92 686.6,-502 698.74,-557.25 692.35,-572.77 704.6,-628 706.74,-637.66 709.71,-648.07 712.57,-657.26\"/>\n",
       "<polygon fill=\"black\" stroke=\"black\" points=\"709.32,-658.57 715.71,-667.02 715.98,-656.43 709.32,-658.57\"/>\n",
       "<text text-anchor=\"middle\" x=\"435.6\" y=\"-130.8\" font-family=\"Times,serif\" font-size=\"14.00\">3</text>\n",
       "</g>\n",
       "<!-- 4 -->\n",
       "<g id=\"node7\" class=\"node\">\n",
       "<title>4</title>\n",
       "<ellipse fill=\"none\" stroke=\"black\" cx=\"640.6\" cy=\"-1055\" rx=\"18\" ry=\"18\"/>\n",
       "<text text-anchor=\"middle\" x=\"640.6\" y=\"-1051.3\" font-family=\"Times,serif\" font-size=\"14.00\">4</text>\n",
       "</g>\n",
       "<!-- 9&#45;&gt;4 -->\n",
       "<g id=\"edge86\" class=\"edge\">\n",
       "<title>9&#45;&gt;4</title>\n",
       "<path fill=\"none\" stroke=\"black\" d=\"M146.81,-949.9C150.45,-1003.05 164.25,-1142.17 212.6,-1246 253.68,-1334.2 282.24,-1367.28 376.6,-1391 482.74,-1417.68 549.69,-1392.67 604.6,-1298 625.54,-1261.89 614.5,-1151.95 622.6,-1111 624.52,-1101.3 627.44,-1090.87 630.32,-1081.68\"/>\n",
       "<polygon fill=\"black\" stroke=\"black\" points=\"633.72,-1082.53 633.5,-1071.93 627.07,-1080.35 633.72,-1082.53\"/>\n",
       "<text text-anchor=\"middle\" x=\"394.6\" y=\"-1401.8\" font-family=\"Times,serif\" font-size=\"14.00\">4</text>\n",
       "</g>\n",
       "<!-- 5 -->\n",
       "<g id=\"node8\" class=\"node\">\n",
       "<title>5</title>\n",
       "<ellipse fill=\"none\" stroke=\"black\" cx=\"558.6\" cy=\"-546\" rx=\"18\" ry=\"18\"/>\n",
       "<text text-anchor=\"middle\" x=\"558.6\" y=\"-542.3\" font-family=\"Times,serif\" font-size=\"14.00\">5</text>\n",
       "</g>\n",
       "<!-- 9&#45;&gt;5 -->\n",
       "<g id=\"edge87\" class=\"edge\">\n",
       "<title>9&#45;&gt;5</title>\n",
       "<path fill=\"none\" stroke=\"black\" d=\"M156.85,-909.39C160.51,-902.57 164.23,-894.64 166.6,-887 205.47,-761.66 163.55,-386.25 266.6,-305 376.52,-218.34 505.36,-443.57 545.23,-520.97\"/>\n",
       "<polygon fill=\"black\" stroke=\"black\" points=\"542.19,-522.73 549.84,-530.06 548.43,-519.56 542.19,-522.73\"/>\n",
       "<text text-anchor=\"middle\" x=\"353.6\" y=\"-297.8\" font-family=\"Times,serif\" font-size=\"14.00\">5</text>\n",
       "</g>\n",
       "<!-- 6 -->\n",
       "<g id=\"node9\" class=\"node\">\n",
       "<title>6</title>\n",
       "<ellipse fill=\"none\" stroke=\"black\" cx=\"476.6\" cy=\"-991\" rx=\"18\" ry=\"18\"/>\n",
       "<text text-anchor=\"middle\" x=\"476.6\" y=\"-987.3\" font-family=\"Times,serif\" font-size=\"14.00\">6</text>\n",
       "</g>\n",
       "<!-- 9&#45;&gt;6 -->\n",
       "<g id=\"edge88\" class=\"edge\">\n",
       "<title>9&#45;&gt;6</title>\n",
       "<path fill=\"none\" stroke=\"black\" d=\"M150.84,-949.54C165.4,-1008.13 206.76,-1166 229.6,-1166 229.6,-1166 229.6,-1166 395.6,-1166 427.66,-1166 456.61,-1067.65 469.1,-1018.41\"/>\n",
       "<polygon fill=\"black\" stroke=\"black\" points=\"472.56,-1018.97 471.57,-1008.42 465.77,-1017.28 472.56,-1018.97\"/>\n",
       "<text text-anchor=\"middle\" x=\"312.6\" y=\"-1169.8\" font-family=\"Times,serif\" font-size=\"14.00\">6</text>\n",
       "</g>\n",
       "<!-- 7 -->\n",
       "<g id=\"node10\" class=\"node\">\n",
       "<title>7</title>\n",
       "<ellipse fill=\"none\" stroke=\"black\" cx=\"394.6\" cy=\"-656\" rx=\"18\" ry=\"18\"/>\n",
       "<text text-anchor=\"middle\" x=\"394.6\" y=\"-652.3\" font-family=\"Times,serif\" font-size=\"14.00\">7</text>\n",
       "</g>\n",
       "<!-- 9&#45;&gt;7 -->\n",
       "<g id=\"edge89\" class=\"edge\">\n",
       "<title>9&#45;&gt;7</title>\n",
       "<path fill=\"none\" stroke=\"black\" d=\"M156.4,-909.24C160.01,-902.4 163.82,-894.5 166.6,-887 178.5,-854.85 175.99,-845.18 184.6,-812 218.66,-680.69 158.56,-600.03 266.6,-518 317.18,-479.59 364.42,-579.84 384.04,-629.74\"/>\n",
       "<polygon fill=\"black\" stroke=\"black\" points=\"380.84,-631.18 387.69,-639.27 387.38,-628.68 380.84,-631.18\"/>\n",
       "<text text-anchor=\"middle\" x=\"271.6\" y=\"-521.8\" font-family=\"Times,serif\" font-size=\"14.00\">7</text>\n",
       "</g>\n",
       "<!-- 8 -->\n",
       "<g id=\"node11\" class=\"node\">\n",
       "<title>8</title>\n",
       "<ellipse fill=\"none\" stroke=\"black\" cx=\"312.6\" cy=\"-951\" rx=\"18\" ry=\"18\"/>\n",
       "<text text-anchor=\"middle\" x=\"312.6\" y=\"-947.3\" font-family=\"Times,serif\" font-size=\"14.00\">8</text>\n",
       "</g>\n",
       "<!-- 9&#45;&gt;8 -->\n",
       "<g id=\"edge90\" class=\"edge\">\n",
       "<title>9&#45;&gt;8</title>\n",
       "<path fill=\"none\" stroke=\"black\" d=\"M163.48,-939.78C176.5,-947.58 194.87,-957.09 212.6,-961 236.76,-966.34 264.89,-962.57 284.97,-958.22\"/>\n",
       "<polygon fill=\"black\" stroke=\"black\" points=\"286.02,-961.56 294.95,-955.86 284.41,-954.75 286.02,-961.56\"/>\n",
       "<text text-anchor=\"middle\" x=\"230.6\" y=\"-966.8\" font-family=\"Times,serif\" font-size=\"14.00\">8</text>\n",
       "</g>\n",
       "<!-- 0&#45;&gt;9 -->\n",
       "<g id=\"edge10\" class=\"edge\">\n",
       "<title>0&#45;&gt;9</title>\n",
       "<path fill=\"none\" stroke=\"black\" d=\"M77,-928C87.19,-928 100.35,-928 112.28,-928\"/>\n",
       "<polygon fill=\"black\" stroke=\"black\" points=\"112.34,-931.5 122.34,-928 112.34,-924.5 112.34,-931.5\"/>\n",
       "<text text-anchor=\"middle\" x=\"99.6\" y=\"-931.8\" font-family=\"Times,serif\" font-size=\"14.00\">9</text>\n",
       "</g>\n",
       "<!-- 0&#45;&gt;1 -->\n",
       "<g id=\"edge2\" class=\"edge\">\n",
       "<title>0&#45;&gt;1</title>\n",
       "<path fill=\"none\" stroke=\"black\" d=\"M72.34,-916.11C94.91,-895.05 143.41,-849.87 184.6,-812 192.48,-804.75 201.18,-796.81 208.81,-789.87\"/>\n",
       "<polygon fill=\"black\" stroke=\"black\" points=\"211.53,-792.13 216.57,-782.81 206.82,-786.95 211.53,-792.13\"/>\n",
       "<text text-anchor=\"middle\" x=\"144.6\" y=\"-871.8\" font-family=\"Times,serif\" font-size=\"14.00\">1</text>\n",
       "</g>\n",
       "<!-- 0&#45;&gt;2 -->\n",
       "<g id=\"edge3\" class=\"edge\">\n",
       "<title>0&#45;&gt;2</title>\n",
       "<path fill=\"none\" stroke=\"black\" d=\"M59.81,-946.01C61.35,-1055.57 72.76,-1628 143.6,-1628 143.6,-1628 143.6,-1628 723.6,-1628 779.25,-1628 798.5,-1198.64 802.67,-1083.26\"/>\n",
       "<polygon fill=\"black\" stroke=\"black\" points=\"806.17,-1083.21 803.03,-1073.1 799.18,-1082.97 806.17,-1083.21\"/>\n",
       "<text text-anchor=\"middle\" x=\"435.6\" y=\"-1631.8\" font-family=\"Times,serif\" font-size=\"14.00\">2</text>\n",
       "</g>\n",
       "<!-- 0&#45;&gt;3 -->\n",
       "<g id=\"edge4\" class=\"edge\">\n",
       "<title>0&#45;&gt;3</title>\n",
       "<path fill=\"none\" stroke=\"black\" d=\"M59.42,-909.88C58.53,-803.98 55.95,-264.43 94.6,-104 106.57,-54.33 92.5,0 143.6,0 143.6,0 143.6,0 518.6,0 556.45,0 646.07,-148.24 658.6,-177 696.69,-264.41 715.23,-562.57 720.2,-655.86\"/>\n",
       "<polygon fill=\"black\" stroke=\"black\" points=\"716.71,-656.15 720.73,-665.95 723.7,-655.79 716.71,-656.15\"/>\n",
       "<text text-anchor=\"middle\" x=\"394.6\" y=\"-3.8\" font-family=\"Times,serif\" font-size=\"14.00\">3</text>\n",
       "</g>\n",
       "<!-- 0&#45;&gt;4 -->\n",
       "<g id=\"edge5\" class=\"edge\">\n",
       "<title>0&#45;&gt;4</title>\n",
       "<path fill=\"none\" stroke=\"black\" d=\"M60.22,-946.15C63.87,-1041.16 85.94,-1479.92 184.6,-1561 259.54,-1622.59 508.38,-1437.95 576.6,-1369 658.52,-1286.2 600.54,-1225.37 622.6,-1111 624.47,-1101.29 627.38,-1090.86 630.26,-1081.67\"/>\n",
       "<polygon fill=\"black\" stroke=\"black\" points=\"633.67,-1082.52 633.45,-1071.92 627.02,-1080.34 633.67,-1082.52\"/>\n",
       "<text text-anchor=\"middle\" x=\"353.6\" y=\"-1535.8\" font-family=\"Times,serif\" font-size=\"14.00\">4</text>\n",
       "</g>\n",
       "<!-- 0&#45;&gt;5 -->\n",
       "<g id=\"edge6\" class=\"edge\">\n",
       "<title>0&#45;&gt;5</title>\n",
       "<path fill=\"none\" stroke=\"black\" d=\"M59.37,-910C57.98,-784.66 53.62,-47 143.6,-47 143.6,-47 143.6,-47 272.6,-47 352.98,-47 357.41,-101.76 430.6,-135 470.15,-152.96 495.99,-133.67 522.6,-168 543.9,-195.48 553.87,-434.51 556.71,-517.64\"/>\n",
       "<polygon fill=\"black\" stroke=\"black\" points=\"553.22,-517.99 557.05,-527.87 560.22,-517.75 553.22,-517.99\"/>\n",
       "<text text-anchor=\"middle\" x=\"312.6\" y=\"-64.8\" font-family=\"Times,serif\" font-size=\"14.00\">5</text>\n",
       "</g>\n",
       "<!-- 0&#45;&gt;6 -->\n",
       "<g id=\"edge7\" class=\"edge\">\n",
       "<title>0&#45;&gt;6</title>\n",
       "<path fill=\"none\" stroke=\"black\" d=\"M65.44,-945.05C74.7,-970.35 94.6,-1018.44 122.6,-1052 202.46,-1147.68 226.89,-1191.17 348.6,-1218 434.31,-1236.89 437.3,-1139.14 458.6,-1054 461.56,-1042.17 465.03,-1029.16 468.07,-1018.04\"/>\n",
       "<polygon fill=\"black\" stroke=\"black\" points=\"471.53,-1018.64 470.81,-1008.07 464.79,-1016.78 471.53,-1018.64\"/>\n",
       "<text text-anchor=\"middle\" x=\"271.6\" y=\"-1198.8\" font-family=\"Times,serif\" font-size=\"14.00\">6</text>\n",
       "</g>\n",
       "<!-- 0&#45;&gt;7 -->\n",
       "<g id=\"edge8\" class=\"edge\">\n",
       "<title>0&#45;&gt;7</title>\n",
       "<path fill=\"none\" stroke=\"black\" d=\"M59.91,-909.98C62.06,-810.53 77.91,-330.03 184.6,-241 307.1,-138.78 295.37,-408.51 358.6,-555 369.23,-579.63 379.02,-608.66 385.52,-629.25\"/>\n",
       "<polygon fill=\"black\" stroke=\"black\" points=\"382.21,-630.4 388.53,-638.91 388.9,-628.32 382.21,-630.4\"/>\n",
       "<text text-anchor=\"middle\" x=\"230.6\" y=\"-226.8\" font-family=\"Times,serif\" font-size=\"14.00\">7</text>\n",
       "</g>\n",
       "<!-- 0&#45;&gt;8 -->\n",
       "<g id=\"edge9\" class=\"edge\">\n",
       "<title>0&#45;&gt;8</title>\n",
       "<path fill=\"none\" stroke=\"black\" d=\"M67.96,-943.89C85.05,-974.44 127.27,-1040.58 184.6,-1066 235.58,-1088.61 280,-1016.43 300.13,-976.17\"/>\n",
       "<polygon fill=\"black\" stroke=\"black\" points=\"303.28,-977.69 304.49,-967.17 296.98,-974.64 303.28,-977.69\"/>\n",
       "<text text-anchor=\"middle\" x=\"189.6\" y=\"-1072.8\" font-family=\"Times,serif\" font-size=\"14.00\">8</text>\n",
       "</g>\n",
       "<!-- 1&#45;&gt;9 -->\n",
       "<g id=\"edge19\" class=\"edge\">\n",
       "<title>1&#45;&gt;9</title>\n",
       "<path fill=\"none\" stroke=\"black\" d=\"M218.23,-784.64C208.46,-796.8 194.45,-815.34 184.6,-833 173.04,-853.72 162.96,-878.57 155.95,-897.66\"/>\n",
       "<polygon fill=\"black\" stroke=\"black\" points=\"152.56,-896.74 152.47,-907.33 159.15,-899.11 152.56,-896.74\"/>\n",
       "<text text-anchor=\"middle\" x=\"189.6\" y=\"-836.8\" font-family=\"Times,serif\" font-size=\"14.00\">9</text>\n",
       "</g>\n",
       "<!-- 1&#45;&gt;1 -->\n",
       "<g id=\"edge11\" class=\"edge\">\n",
       "<title>1&#45;&gt;1</title>\n",
       "<path fill=\"none\" stroke=\"black\" d=\"M223.57,-787.66C222.01,-797.62 224.35,-807 230.6,-807 234.6,-807 237,-803.15 237.8,-797.77\"/>\n",
       "<polygon fill=\"black\" stroke=\"black\" points=\"241.3,-797.6 237.63,-787.66 234.3,-797.72 241.3,-797.6\"/>\n",
       "<text text-anchor=\"middle\" x=\"230.6\" y=\"-810.8\" font-family=\"Times,serif\" font-size=\"14.00\">1</text>\n",
       "</g>\n",
       "<!-- 1&#45;&gt;2 -->\n",
       "<g id=\"edge12\" class=\"edge\">\n",
       "<title>1&#45;&gt;2</title>\n",
       "<path fill=\"none\" stroke=\"black\" d=\"M233.96,-753.06C239.11,-714.73 252.02,-622.05 266.6,-545 277.18,-489.06 267.6,-470.12 294.6,-420 311.44,-388.73 481.08,-190 516.6,-190 516.6,-190 516.6,-190 723.6,-190 753.5,-190 757.29,-212.32 768.6,-240 798.82,-313.96 802.96,-890.78 803.52,-1026.48\"/>\n",
       "<polygon fill=\"black\" stroke=\"black\" points=\"800.02,-1026.87 803.55,-1036.86 807.02,-1026.85 800.02,-1026.87\"/>\n",
       "<text text-anchor=\"middle\" x=\"517.6\" y=\"-194.8\" font-family=\"Times,serif\" font-size=\"14.00\">2</text>\n",
       "</g>\n",
       "<!-- 1&#45;&gt;3 -->\n",
       "<g id=\"edge13\" class=\"edge\">\n",
       "<title>1&#45;&gt;3</title>\n",
       "<path fill=\"none\" stroke=\"black\" d=\"M233.65,-753.19C237.51,-723.08 247.29,-660.54 266.6,-611 305.13,-512.17 433.78,-377.63 458.6,-366 484.47,-353.88 498.12,-357.28 522.6,-372 571.13,-401.17 659.8,-517.12 686.6,-567 699.98,-591.9 696.49,-600.92 704.6,-628 707.44,-637.48 710.57,-647.84 713.37,-657.06\"/>\n",
       "<polygon fill=\"black\" stroke=\"black\" points=\"710.1,-658.31 716.36,-666.85 716.79,-656.27 710.1,-658.31\"/>\n",
       "<text text-anchor=\"middle\" x=\"476.6\" y=\"-369.8\" font-family=\"Times,serif\" font-size=\"14.00\">3</text>\n",
       "</g>\n",
       "<!-- 1&#45;&gt;4 -->\n",
       "<g id=\"edge14\" class=\"edge\">\n",
       "<title>1&#45;&gt;4</title>\n",
       "<path fill=\"none\" stroke=\"black\" d=\"M233.54,-789.07C238.31,-832.57 251.31,-946.51 266.6,-1041 277.02,-1105.36 276.94,-1122.24 294.6,-1185 313.23,-1251.2 293.56,-1288.78 348.6,-1330 400.54,-1368.9 432.76,-1351.69 494.6,-1332 508.52,-1327.57 596.89,-1272.41 604.6,-1260 639.79,-1203.33 608.86,-1176.27 622.6,-1111 624.64,-1101.32 627.58,-1090.9 630.45,-1081.71\"/>\n",
       "<polygon fill=\"black\" stroke=\"black\" points=\"633.86,-1082.55 633.61,-1071.96 627.2,-1080.39 633.86,-1082.55\"/>\n",
       "<text text-anchor=\"middle\" x=\"435.6\" y=\"-1354.8\" font-family=\"Times,serif\" font-size=\"14.00\">4</text>\n",
       "</g>\n",
       "<!-- 1&#45;&gt;5 -->\n",
       "<g id=\"edge15\" class=\"edge\">\n",
       "<title>1&#45;&gt;5</title>\n",
       "<path fill=\"none\" stroke=\"black\" d=\"M233.21,-753.05C236.23,-727.44 244.56,-679.79 266.6,-646 275.4,-632.51 281.18,-631.9 294.6,-623 359.95,-579.68 381.83,-573.93 458.6,-558 482.6,-553.02 510.33,-549.88 530.32,-548.06\"/>\n",
       "<polygon fill=\"black\" stroke=\"black\" points=\"530.62,-551.55 540.29,-547.21 530.03,-544.58 530.62,-551.55\"/>\n",
       "<text text-anchor=\"middle\" x=\"394.6\" y=\"-581.8\" font-family=\"Times,serif\" font-size=\"14.00\">5</text>\n",
       "</g>\n",
       "<!-- 1&#45;&gt;6 -->\n",
       "<g id=\"edge16\" class=\"edge\">\n",
       "<title>1&#45;&gt;6</title>\n",
       "<path fill=\"none\" stroke=\"black\" d=\"M248.95,-769.87C274.71,-769.01 323.77,-770.53 358.6,-791 392.17,-810.74 392.04,-826.93 412.6,-860 418.6,-869.65 447.33,-930.54 463.84,-965.81\"/>\n",
       "<polygon fill=\"black\" stroke=\"black\" points=\"460.74,-967.44 468.15,-975.01 467.08,-964.47 460.74,-967.44\"/>\n",
       "<text text-anchor=\"middle\" x=\"353.6\" y=\"-794.8\" font-family=\"Times,serif\" font-size=\"14.00\">6</text>\n",
       "</g>\n",
       "<!-- 1&#45;&gt;7 -->\n",
       "<g id=\"edge17\" class=\"edge\">\n",
       "<title>1&#45;&gt;7</title>\n",
       "<path fill=\"none\" stroke=\"black\" d=\"M240.03,-755.61C256.52,-727.33 296.06,-667.91 348.6,-645 355.04,-642.19 362.32,-642.58 369.12,-644.31\"/>\n",
       "<polygon fill=\"black\" stroke=\"black\" points=\"368,-647.62 378.59,-647.59 370.29,-641.01 368,-647.62\"/>\n",
       "<text text-anchor=\"middle\" x=\"312.6\" y=\"-685.8\" font-family=\"Times,serif\" font-size=\"14.00\">7</text>\n",
       "</g>\n",
       "<!-- 1&#45;&gt;8 -->\n",
       "<g id=\"edge18\" class=\"edge\">\n",
       "<title>1&#45;&gt;8</title>\n",
       "<path fill=\"none\" stroke=\"black\" d=\"M239.26,-787.05C248.36,-806.23 263.9,-839.31 276.6,-868 285.04,-887.07 294.18,-908.79 301.01,-925.22\"/>\n",
       "<polygon fill=\"black\" stroke=\"black\" points=\"297.87,-926.8 304.93,-934.7 304.34,-924.13 297.87,-926.8\"/>\n",
       "<text text-anchor=\"middle\" x=\"271.6\" y=\"-871.8\" font-family=\"Times,serif\" font-size=\"14.00\">8</text>\n",
       "</g>\n",
       "<!-- 2&#45;&gt;9 -->\n",
       "<g id=\"edge28\" class=\"edge\">\n",
       "<title>2&#45;&gt;9</title>\n",
       "<path fill=\"none\" stroke=\"black\" d=\"M802.56,-1073.05C797.26,-1160.74 771.68,-1538 723.6,-1538 598.6,-1538 598.6,-1538 598.6,-1538 542.87,-1538 395.98,-1547.34 348.6,-1518 213.07,-1434.07 219.03,-1354.65 184.6,-1199 165.72,-1113.64 153.84,-1011.06 148.64,-960.05\"/>\n",
       "<polygon fill=\"black\" stroke=\"black\" points=\"152.11,-959.58 147.64,-949.98 145.15,-960.28 152.11,-959.58\"/>\n",
       "<text text-anchor=\"middle\" x=\"476.6\" y=\"-1542.8\" font-family=\"Times,serif\" font-size=\"14.00\">9</text>\n",
       "</g>\n",
       "<!-- 2&#45;&gt;1 -->\n",
       "<g id=\"edge20\" class=\"edge\">\n",
       "<title>2&#45;&gt;1</title>\n",
       "<path fill=\"none\" stroke=\"black\" d=\"M803.53,-1036.87C803.02,-929.7 798.94,-378.26 768.6,-212 757.17,-149.37 787.27,-76 723.6,-76 516.6,-76 516.6,-76 516.6,-76 473.04,-76 460,-90.86 430.6,-123 376.59,-182.03 399.54,-219.25 358.6,-288 334.95,-327.72 313.9,-327.99 294.6,-370 268.29,-427.26 277,-446.85 266.6,-509 252.41,-593.82 240.24,-694.86 234.74,-742.92\"/>\n",
       "<polygon fill=\"black\" stroke=\"black\" points=\"231.22,-742.82 233.57,-753.15 238.18,-743.61 231.22,-742.82\"/>\n",
       "<text text-anchor=\"middle\" x=\"517.6\" y=\"-80.8\" font-family=\"Times,serif\" font-size=\"14.00\">1</text>\n",
       "</g>\n",
       "<!-- 2&#45;&gt;2 -->\n",
       "<g id=\"edge21\" class=\"edge\">\n",
       "<title>2&#45;&gt;2</title>\n",
       "<path fill=\"none\" stroke=\"black\" d=\"M797.57,-1071.66C796.01,-1081.62 798.35,-1091 804.6,-1091 808.6,-1091 811,-1087.15 811.8,-1081.77\"/>\n",
       "<polygon fill=\"black\" stroke=\"black\" points=\"815.3,-1081.6 811.63,-1071.66 808.3,-1081.72 815.3,-1081.6\"/>\n",
       "<text text-anchor=\"middle\" x=\"804.6\" y=\"-1094.8\" font-family=\"Times,serif\" font-size=\"14.00\">2</text>\n",
       "</g>\n",
       "<!-- 2&#45;&gt;3 -->\n",
       "<g id=\"edge22\" class=\"edge\">\n",
       "<title>2&#45;&gt;3</title>\n",
       "<path fill=\"none\" stroke=\"black\" d=\"M799.59,-1037.55C791.6,-1002.7 773.21,-922 758.6,-854 747.86,-804.02 735.99,-745.63 729.2,-711.92\"/>\n",
       "<polygon fill=\"black\" stroke=\"black\" points=\"732.58,-711 727.18,-701.89 725.72,-712.38 732.58,-711\"/>\n",
       "<text text-anchor=\"middle\" x=\"763.6\" y=\"-901.8\" font-family=\"Times,serif\" font-size=\"14.00\">3</text>\n",
       "</g>\n",
       "<!-- 2&#45;&gt;4 -->\n",
       "<g id=\"edge23\" class=\"edge\">\n",
       "<title>2&#45;&gt;4</title>\n",
       "<path fill=\"none\" stroke=\"black\" d=\"M786.31,-1055C758.14,-1055 702.11,-1055 668.64,-1055\"/>\n",
       "<polygon fill=\"black\" stroke=\"black\" points=\"668.63,-1051.5 658.63,-1055 668.63,-1058.5 668.63,-1051.5\"/>\n",
       "<text text-anchor=\"middle\" x=\"722.6\" y=\"-1058.8\" font-family=\"Times,serif\" font-size=\"14.00\">4</text>\n",
       "</g>\n",
       "<!-- 2&#45;&gt;5 -->\n",
       "<g id=\"edge24\" class=\"edge\">\n",
       "<title>2&#45;&gt;5</title>\n",
       "<path fill=\"none\" stroke=\"black\" d=\"M803.3,-1036.91C801.41,-929.25 790.7,-376.7 768.6,-349 720.14,-288.26 641.9,-304.36 594.6,-366 576.61,-389.45 566.3,-473.58 562,-518.03\"/>\n",
       "<polygon fill=\"black\" stroke=\"black\" points=\"558.5,-517.88 561.06,-528.16 565.47,-518.53 558.5,-517.88\"/>\n",
       "<text text-anchor=\"middle\" x=\"681.6\" y=\"-316.8\" font-family=\"Times,serif\" font-size=\"14.00\">5</text>\n",
       "</g>\n",
       "<!-- 2&#45;&gt;6 -->\n",
       "<g id=\"edge25\" class=\"edge\">\n",
       "<title>2&#45;&gt;6</title>\n",
       "<path fill=\"none\" stroke=\"black\" d=\"M791.11,-1067.18C784.76,-1072.87 776.69,-1079.39 768.6,-1084 710.95,-1116.82 686.06,-1134.31 622.6,-1115 566.12,-1097.81 518,-1044.45 493.97,-1013.61\"/>\n",
       "<polygon fill=\"black\" stroke=\"black\" points=\"496.69,-1011.4 487.85,-1005.56 491.12,-1015.64 496.69,-1011.4\"/>\n",
       "<text text-anchor=\"middle\" x=\"640.6\" y=\"-1125.8\" font-family=\"Times,serif\" font-size=\"14.00\">6</text>\n",
       "</g>\n",
       "<!-- 2&#45;&gt;7 -->\n",
       "<g id=\"edge26\" class=\"edge\">\n",
       "<title>2&#45;&gt;7</title>\n",
       "<path fill=\"none\" stroke=\"black\" d=\"M803.47,-1036.69C802.56,-919.78 796.32,-281.6 768.6,-252 723.38,-203.7 610.14,-230.7 594.6,-234 568.91,-239.45 558.91,-239.17 540.6,-258 513.22,-286.15 430.59,-544.38 403.97,-629.17\"/>\n",
       "<polygon fill=\"black\" stroke=\"black\" points=\"400.58,-628.25 400.93,-638.84 407.26,-630.35 400.58,-628.25\"/>\n",
       "<text text-anchor=\"middle\" x=\"599.6\" y=\"-237.8\" font-family=\"Times,serif\" font-size=\"14.00\">7</text>\n",
       "</g>\n",
       "<!-- 2&#45;&gt;8 -->\n",
       "<g id=\"edge27\" class=\"edge\">\n",
       "<title>2&#45;&gt;8</title>\n",
       "<path fill=\"none\" stroke=\"black\" d=\"M797.25,-1071.68C788.22,-1092.77 769.51,-1128.21 740.6,-1144 619.59,-1210.09 550.61,-1199.88 430.6,-1132 370.7,-1098.12 336.48,-1019.5 321.96,-977.91\"/>\n",
       "<polygon fill=\"black\" stroke=\"black\" points=\"325.19,-976.55 318.69,-968.19 318.56,-978.78 325.19,-976.55\"/>\n",
       "<text text-anchor=\"middle\" x=\"558.6\" y=\"-1190.8\" font-family=\"Times,serif\" font-size=\"14.00\">8</text>\n",
       "</g>\n",
       "<!-- 3&#45;&gt;9 -->\n",
       "<g id=\"edge37\" class=\"edge\">\n",
       "<title>3&#45;&gt;9</title>\n",
       "<path fill=\"none\" stroke=\"black\" d=\"M720.68,-665.93C718.11,-621.39 709.51,-502.95 686.6,-407 683.53,-394.15 680.77,-391.54 676.6,-379 642.29,-275.74 658.28,-239.65 604.6,-145 577.74,-97.65 571.64,-77.64 522.6,-54 438.61,-13.52 456.37,-43.23 430.6,-49 371.62,-62.21 217.6,-114.36 184.6,-165 162.69,-198.62 176.49,-848.12 166.6,-887 165.46,-891.48 163.76,-896.03 161.82,-900.38\"/>\n",
       "<polygon fill=\"black\" stroke=\"black\" points=\"158.6,-899 157.29,-909.51 164.87,-902.11 158.6,-899\"/>\n",
       "<text text-anchor=\"middle\" x=\"435.6\" y=\"-52.8\" font-family=\"Times,serif\" font-size=\"14.00\">9</text>\n",
       "</g>\n",
       "<!-- 3&#45;&gt;1 -->\n",
       "<g id=\"edge29\" class=\"edge\">\n",
       "<title>3&#45;&gt;1</title>\n",
       "<path fill=\"none\" stroke=\"black\" d=\"M716.05,-666.94C712.55,-655.89 708.06,-641.17 704.6,-628 686.14,-557.67 696.56,-533.02 658.6,-471 646.29,-450.88 638.59,-449.35 622.6,-432 602.14,-409.79 600.63,-400.28 576.6,-382 544.01,-357.21 534.41,-349.6 494.6,-340 479.05,-336.25 473.73,-334.79 458.6,-340 327.78,-385.01 300.88,-450.97 266.6,-585 252.41,-640.48 241.32,-706.64 235.68,-743.21\"/>\n",
       "<polygon fill=\"black\" stroke=\"black\" points=\"232.22,-742.73 234.18,-753.14 239.14,-743.78 232.22,-742.73\"/>\n",
       "<text text-anchor=\"middle\" x=\"476.6\" y=\"-343.8\" font-family=\"Times,serif\" font-size=\"14.00\">1</text>\n",
       "</g>\n",
       "<!-- 3&#45;&gt;2 -->\n",
       "<g id=\"edge30\" class=\"edge\">\n",
       "<title>3&#45;&gt;2</title>\n",
       "<path fill=\"none\" stroke=\"black\" d=\"M729.47,-701.02C738.87,-728.77 757.37,-785.65 768.6,-835 784.15,-903.34 795.22,-985.17 800.37,-1027.15\"/>\n",
       "<polygon fill=\"black\" stroke=\"black\" points=\"796.9,-1027.66 801.57,-1037.17 803.85,-1026.82 796.9,-1027.66\"/>\n",
       "<text text-anchor=\"middle\" x=\"763.6\" y=\"-838.8\" font-family=\"Times,serif\" font-size=\"14.00\">2</text>\n",
       "</g>\n",
       "<!-- 3&#45;&gt;3 -->\n",
       "<g id=\"edge31\" class=\"edge\">\n",
       "<title>3&#45;&gt;3</title>\n",
       "<path fill=\"none\" stroke=\"black\" d=\"M715.57,-700.66C714.01,-710.62 716.35,-720 722.6,-720 726.6,-720 729,-716.15 729.8,-710.77\"/>\n",
       "<polygon fill=\"black\" stroke=\"black\" points=\"733.3,-710.6 729.63,-700.66 726.3,-710.72 733.3,-710.6\"/>\n",
       "<text text-anchor=\"middle\" x=\"722.6\" y=\"-723.8\" font-family=\"Times,serif\" font-size=\"14.00\">3</text>\n",
       "</g>\n",
       "<!-- 3&#45;&gt;4 -->\n",
       "<g id=\"edge32\" class=\"edge\">\n",
       "<title>3&#45;&gt;4</title>\n",
       "<path fill=\"none\" stroke=\"black\" d=\"M721.02,-702.11C718.92,-761.29 710.49,-948.23 686.6,-1003 681.08,-1015.65 671.37,-1027.48 662.37,-1036.65\"/>\n",
       "<polygon fill=\"black\" stroke=\"black\" points=\"659.85,-1034.22 655.1,-1043.69 664.72,-1039.26 659.85,-1034.22\"/>\n",
       "<text text-anchor=\"middle\" x=\"681.6\" y=\"-1022.8\" font-family=\"Times,serif\" font-size=\"14.00\">4</text>\n",
       "</g>\n",
       "<!-- 3&#45;&gt;5 -->\n",
       "<g id=\"edge33\" class=\"edge\">\n",
       "<title>3&#45;&gt;5</title>\n",
       "<path fill=\"none\" stroke=\"black\" d=\"M715.5,-667.45C709.72,-653.51 699.94,-633.7 686.6,-620 657.28,-589.87 613.09,-567.87 585.32,-556.02\"/>\n",
       "<polygon fill=\"black\" stroke=\"black\" points=\"586.47,-552.7 575.89,-552.11 583.79,-559.17 586.47,-552.7\"/>\n",
       "<text text-anchor=\"middle\" x=\"640.6\" y=\"-598.8\" font-family=\"Times,serif\" font-size=\"14.00\">5</text>\n",
       "</g>\n",
       "<!-- 3&#45;&gt;6 -->\n",
       "<g id=\"edge34\" class=\"edge\">\n",
       "<title>3&#45;&gt;6</title>\n",
       "<path fill=\"none\" stroke=\"black\" d=\"M714.43,-700.4C708.56,-711.98 699.16,-727 686.6,-736 652.16,-760.68 630.87,-739.1 594.6,-761 564.45,-779.21 560.79,-790.14 540.6,-819 508.89,-864.35 491.18,-927.51 483.09,-963.32\"/>\n",
       "<polygon fill=\"black\" stroke=\"black\" points=\"479.58,-962.99 480.88,-973.51 486.42,-964.47 479.58,-962.99\"/>\n",
       "<text text-anchor=\"middle\" x=\"599.6\" y=\"-764.8\" font-family=\"Times,serif\" font-size=\"14.00\">6</text>\n",
       "</g>\n",
       "<!-- 3&#45;&gt;7 -->\n",
       "<g id=\"edge35\" class=\"edge\">\n",
       "<title>3&#45;&gt;7</title>\n",
       "<path fill=\"none\" stroke=\"black\" d=\"M705.78,-676.99C699.84,-674.54 692.99,-671.93 686.6,-670 623.72,-651.01 605.26,-635.43 540.6,-647 519.14,-650.84 516.06,-660.16 494.6,-664 478.85,-666.82 474.6,-664.29 458.6,-664 446.15,-663.78 442.97,-664.45 430.6,-663 427.87,-662.68 425.03,-662.26 422.2,-661.79\"/>\n",
       "<polygon fill=\"black\" stroke=\"black\" points=\"422.72,-658.32 412.25,-659.9 421.42,-665.2 422.72,-658.32\"/>\n",
       "<text text-anchor=\"middle\" x=\"558.6\" y=\"-650.8\" font-family=\"Times,serif\" font-size=\"14.00\">7</text>\n",
       "</g>\n",
       "<!-- 3&#45;&gt;8 -->\n",
       "<g id=\"edge36\" class=\"edge\">\n",
       "<title>3&#45;&gt;8</title>\n",
       "<path fill=\"none\" stroke=\"black\" d=\"M705.32,-689.99C665.68,-704.82 565.56,-743.88 540.6,-769 527.15,-782.54 534.18,-792.82 522.6,-808 493.7,-845.86 483.24,-855.77 440.6,-877 403.06,-895.69 383.08,-874.12 348.6,-898 338.61,-904.92 330.73,-915.71 325,-925.75\"/>\n",
       "<polygon fill=\"black\" stroke=\"black\" points=\"321.89,-924.15 320.34,-934.63 328.09,-927.4 321.89,-924.15\"/>\n",
       "<text text-anchor=\"middle\" x=\"517.6\" y=\"-823.8\" font-family=\"Times,serif\" font-size=\"14.00\">8</text>\n",
       "</g>\n",
       "<!-- 4&#45;&gt;9 -->\n",
       "<g id=\"edge46\" class=\"edge\">\n",
       "<title>4&#45;&gt;9</title>\n",
       "<path fill=\"none\" stroke=\"black\" d=\"M633.55,-1071.94C629.85,-1082.94 625.32,-1097.66 622.6,-1111 607.69,-1184.15 635.66,-1210.12 604.6,-1278 587.21,-1316 481.79,-1362.96 440.6,-1370 412.44,-1374.81 403.64,-1373.21 376.6,-1364 238.92,-1317.12 226.5,-1238.28 184.6,-1099 173.73,-1062.85 174.98,-1052.8 166.6,-1016 162.3,-997.1 157.26,-975.98 153.2,-959.16\"/>\n",
       "<polygon fill=\"black\" stroke=\"black\" points=\"156.57,-958.2 150.82,-949.31 149.77,-959.85 156.57,-958.2\"/>\n",
       "<text text-anchor=\"middle\" x=\"394.6\" y=\"-1375.8\" font-family=\"Times,serif\" font-size=\"14.00\">9</text>\n",
       "</g>\n",
       "<!-- 4&#45;&gt;1 -->\n",
       "<g id=\"edge38\" class=\"edge\">\n",
       "<title>4&#45;&gt;1</title>\n",
       "<path fill=\"none\" stroke=\"black\" d=\"M630.56,-1070.18C593.71,-1130.27 451.88,-1344.01 348.6,-1256 329.41,-1239.65 338.26,-1168.02 330.6,-1144 319.61,-1109.54 306.41,-1105.19 294.6,-1071 261.11,-974.05 242.34,-853.05 235.11,-799.16\"/>\n",
       "<polygon fill=\"black\" stroke=\"black\" points=\"238.55,-798.46 233.77,-789 231.61,-799.37 238.55,-798.46\"/>\n",
       "<text text-anchor=\"middle\" x=\"435.6\" y=\"-1275.8\" font-family=\"Times,serif\" font-size=\"14.00\">1</text>\n",
       "</g>\n",
       "<!-- 4&#45;&gt;2 -->\n",
       "<g id=\"edge39\" class=\"edge\">\n",
       "<title>4&#45;&gt;2</title>\n",
       "<path fill=\"none\" stroke=\"black\" d=\"M657.39,-1062.11C663.32,-1064.57 670.18,-1067.16 676.6,-1069 688.75,-1072.48 692.01,-1072.88 704.6,-1074 733.02,-1076.52 741.17,-1076.85 768.6,-1069 771.81,-1068.08 775.13,-1066.97 778.39,-1065.79\"/>\n",
       "<polygon fill=\"black\" stroke=\"black\" points=\"779.77,-1069.01 787.81,-1062.11 777.22,-1062.49 779.77,-1069.01\"/>\n",
       "<text text-anchor=\"middle\" x=\"722.6\" y=\"-1078.8\" font-family=\"Times,serif\" font-size=\"14.00\">2</text>\n",
       "</g>\n",
       "<!-- 4&#45;&gt;3 -->\n",
       "<g id=\"edge40\" class=\"edge\">\n",
       "<title>4&#45;&gt;3</title>\n",
       "<path fill=\"none\" stroke=\"black\" d=\"M649.27,-1039.15C656.28,-1024.72 666.99,-1002.86 676.6,-984 680.93,-975.5 683.74,-974.1 686.6,-965 714.64,-875.67 720.33,-763.73 721.41,-712.26\"/>\n",
       "<polygon fill=\"black\" stroke=\"black\" points=\"724.91,-712.28 721.57,-702.23 717.91,-712.17 724.91,-712.28\"/>\n",
       "<text text-anchor=\"middle\" x=\"681.6\" y=\"-987.8\" font-family=\"Times,serif\" font-size=\"14.00\">3</text>\n",
       "</g>\n",
       "<!-- 4&#45;&gt;4 -->\n",
       "<g id=\"edge41\" class=\"edge\">\n",
       "<title>4&#45;&gt;4</title>\n",
       "<path fill=\"none\" stroke=\"black\" d=\"M633.57,-1071.66C632.01,-1081.62 634.35,-1091 640.6,-1091 644.6,-1091 647,-1087.15 647.8,-1081.77\"/>\n",
       "<polygon fill=\"black\" stroke=\"black\" points=\"651.3,-1081.6 647.63,-1071.66 644.3,-1081.72 651.3,-1081.6\"/>\n",
       "<text text-anchor=\"middle\" x=\"640.6\" y=\"-1094.8\" font-family=\"Times,serif\" font-size=\"14.00\">4</text>\n",
       "</g>\n",
       "<!-- 4&#45;&gt;5 -->\n",
       "<g id=\"edge42\" class=\"edge\">\n",
       "<title>4&#45;&gt;5</title>\n",
       "<path fill=\"none\" stroke=\"black\" d=\"M638.26,-1037.15C635.1,-999.5 625.81,-909.47 604.6,-837 601.47,-826.3 597.35,-824.8 594.6,-814 572.25,-726.22 592.11,-700.24 576.6,-611 574.4,-598.33 570.94,-584.52 567.71,-572.9\"/>\n",
       "<polygon fill=\"black\" stroke=\"black\" points=\"570.98,-571.59 564.86,-562.94 564.25,-573.51 570.98,-571.59\"/>\n",
       "<text text-anchor=\"middle\" x=\"599.6\" y=\"-840.8\" font-family=\"Times,serif\" font-size=\"14.00\">5</text>\n",
       "</g>\n",
       "<!-- 4&#45;&gt;6 -->\n",
       "<g id=\"edge43\" class=\"edge\">\n",
       "<title>4&#45;&gt;6</title>\n",
       "<path fill=\"none\" stroke=\"black\" d=\"M625.89,-1044.05C613.64,-1034.77 594.85,-1021.77 576.6,-1014 553.34,-1004.1 525.11,-998.07 504.76,-994.69\"/>\n",
       "<polygon fill=\"black\" stroke=\"black\" points=\"505.04,-991.19 494.62,-993.12 503.97,-998.11 505.04,-991.19\"/>\n",
       "<text text-anchor=\"middle\" x=\"558.6\" y=\"-1017.8\" font-family=\"Times,serif\" font-size=\"14.00\">6</text>\n",
       "</g>\n",
       "<!-- 4&#45;&gt;7 -->\n",
       "<g id=\"edge44\" class=\"edge\">\n",
       "<title>4&#45;&gt;7</title>\n",
       "<path fill=\"none\" stroke=\"black\" d=\"M628.3,-1041.31C589.12,-993.63 459.88,-834.61 430.6,-776 415.66,-746.1 406.03,-708.75 400.73,-683.73\"/>\n",
       "<polygon fill=\"black\" stroke=\"black\" points=\"404.14,-682.93 398.72,-673.82 397.28,-684.32 404.14,-682.93\"/>\n",
       "<text text-anchor=\"middle\" x=\"517.6\" y=\"-910.8\" font-family=\"Times,serif\" font-size=\"14.00\">7</text>\n",
       "</g>\n",
       "<!-- 4&#45;&gt;8 -->\n",
       "<g id=\"edge45\" class=\"edge\">\n",
       "<title>4&#45;&gt;8</title>\n",
       "<path fill=\"none\" stroke=\"black\" d=\"M622.58,-1058.51C616.89,-1059.53 610.5,-1060.5 604.6,-1061 600.17,-1061.38 599.04,-1061.04 594.6,-1061 521.55,-1060.32 499.18,-1075.18 430.6,-1050 388.82,-1034.66 351.68,-997.1 330.96,-972.9\"/>\n",
       "<polygon fill=\"black\" stroke=\"black\" points=\"333.43,-970.4 324.34,-964.96 328.06,-974.88 333.43,-970.4\"/>\n",
       "<text text-anchor=\"middle\" x=\"476.6\" y=\"-1067.8\" font-family=\"Times,serif\" font-size=\"14.00\">8</text>\n",
       "</g>\n",
       "<!-- 5&#45;&gt;9 -->\n",
       "<g id=\"edge55\" class=\"edge\">\n",
       "<title>5&#45;&gt;9</title>\n",
       "<path fill=\"none\" stroke=\"black\" d=\"M556.6,-527.83C554.3,-497.85 546.78,-436.9 522.6,-392 497.64,-345.64 407.03,-241.66 358.6,-221 287,-190.46 237.01,-183.44 184.6,-241 160.43,-267.55 175.5,-852.22 166.6,-887 165.45,-891.48 163.75,-896.03 161.81,-900.38\"/>\n",
       "<polygon fill=\"black\" stroke=\"black\" points=\"158.59,-899 157.28,-909.51 164.86,-902.11 158.59,-899\"/>\n",
       "<text text-anchor=\"middle\" x=\"353.6\" y=\"-224.8\" font-family=\"Times,serif\" font-size=\"14.00\">9</text>\n",
       "</g>\n",
       "<!-- 5&#45;&gt;1 -->\n",
       "<g id=\"edge47\" class=\"edge\">\n",
       "<title>5&#45;&gt;1</title>\n",
       "<path fill=\"none\" stroke=\"black\" d=\"M540.51,-545.32C532.1,-545.07 521.82,-544.86 512.6,-545 452.14,-545.89 434.8,-532.58 376.6,-549 336.17,-560.4 326.7,-568.9 294.6,-596 250.62,-633.13 237.34,-703.39 233.33,-742.65\"/>\n",
       "<polygon fill=\"black\" stroke=\"black\" points=\"229.83,-742.58 232.43,-752.85 236.8,-743.19 229.83,-742.58\"/>\n",
       "<text text-anchor=\"middle\" x=\"394.6\" y=\"-552.8\" font-family=\"Times,serif\" font-size=\"14.00\">1</text>\n",
       "</g>\n",
       "<!-- 5&#45;&gt;2 -->\n",
       "<g id=\"edge48\" class=\"edge\">\n",
       "<title>5&#45;&gt;2</title>\n",
       "<path fill=\"none\" stroke=\"black\" d=\"M576.25,-540.72C603.36,-533.28 656.99,-523.56 686.6,-552 724.45,-588.35 723.15,-607.51 740.6,-657 787.54,-790.12 799.62,-960.63 802.64,-1026.91\"/>\n",
       "<polygon fill=\"black\" stroke=\"black\" points=\"799.14,-1027.14 803.06,-1036.98 806.14,-1026.84 799.14,-1027.14\"/>\n",
       "<text text-anchor=\"middle\" x=\"681.6\" y=\"-555.8\" font-family=\"Times,serif\" font-size=\"14.00\">2</text>\n",
       "</g>\n",
       "<!-- 5&#45;&gt;3 -->\n",
       "<g id=\"edge49\" class=\"edge\">\n",
       "<title>5&#45;&gt;3</title>\n",
       "<path fill=\"none\" stroke=\"black\" d=\"M576.56,-543.02C597.61,-540.27 633.76,-538.74 658.6,-555 693.29,-577.72 709.5,-625.39 716.6,-655.99\"/>\n",
       "<polygon fill=\"black\" stroke=\"black\" points=\"713.23,-656.99 718.74,-666.04 720.08,-655.52 713.23,-656.99\"/>\n",
       "<text text-anchor=\"middle\" x=\"640.6\" y=\"-558.8\" font-family=\"Times,serif\" font-size=\"14.00\">3</text>\n",
       "</g>\n",
       "<!-- 5&#45;&gt;4 -->\n",
       "<g id=\"edge50\" class=\"edge\">\n",
       "<title>5&#45;&gt;4</title>\n",
       "<path fill=\"none\" stroke=\"black\" d=\"M564.93,-562.92C568.8,-575.94 573.84,-594.43 576.6,-611 594.26,-716.95 568.82,-747.73 594.6,-852 597.27,-862.82 601.29,-864.35 604.6,-875 620.9,-927.49 631.13,-991.04 636.07,-1026.87\"/>\n",
       "<polygon fill=\"black\" stroke=\"black\" points=\"632.64,-1027.61 637.43,-1037.05 639.57,-1026.68 632.64,-1027.61\"/>\n",
       "<text text-anchor=\"middle\" x=\"599.6\" y=\"-878.8\" font-family=\"Times,serif\" font-size=\"14.00\">4</text>\n",
       "</g>\n",
       "<!-- 5&#45;&gt;5 -->\n",
       "<g id=\"edge51\" class=\"edge\">\n",
       "<title>5&#45;&gt;5</title>\n",
       "<path fill=\"none\" stroke=\"black\" d=\"M551.57,-562.66C550.01,-572.62 552.35,-582 558.6,-582 562.6,-582 565,-578.15 565.8,-572.77\"/>\n",
       "<polygon fill=\"black\" stroke=\"black\" points=\"569.3,-572.6 565.63,-562.66 562.3,-572.72 569.3,-572.6\"/>\n",
       "<text text-anchor=\"middle\" x=\"558.6\" y=\"-585.8\" font-family=\"Times,serif\" font-size=\"14.00\">5</text>\n",
       "</g>\n",
       "<!-- 5&#45;&gt;6 -->\n",
       "<g id=\"edge52\" class=\"edge\">\n",
       "<title>5&#45;&gt;6</title>\n",
       "<path fill=\"none\" stroke=\"black\" d=\"M552.77,-563.2C542.39,-600.32 518.43,-687.02 512.6,-717 495.28,-806.03 484.45,-913.05 479.97,-962.9\"/>\n",
       "<polygon fill=\"black\" stroke=\"black\" points=\"476.48,-962.65 479.09,-972.92 483.45,-963.26 476.48,-962.65\"/>\n",
       "<text text-anchor=\"middle\" x=\"517.6\" y=\"-720.8\" font-family=\"Times,serif\" font-size=\"14.00\">6</text>\n",
       "</g>\n",
       "<!-- 5&#45;&gt;7 -->\n",
       "<g id=\"edge53\" class=\"edge\">\n",
       "<title>5&#45;&gt;7</title>\n",
       "<path fill=\"none\" stroke=\"black\" d=\"M543.02,-555.9C514.71,-575.12 452.1,-617.63 418.3,-640.58\"/>\n",
       "<polygon fill=\"black\" stroke=\"black\" points=\"416.28,-637.73 409.98,-646.24 420.22,-643.52 416.28,-637.73\"/>\n",
       "<text text-anchor=\"middle\" x=\"476.6\" y=\"-614.8\" font-family=\"Times,serif\" font-size=\"14.00\">7</text>\n",
       "</g>\n",
       "<!-- 5&#45;&gt;8 -->\n",
       "<g id=\"edge54\" class=\"edge\">\n",
       "<title>5&#45;&gt;8</title>\n",
       "<path fill=\"none\" stroke=\"black\" d=\"M551.02,-562.63C544.51,-578.5 533.91,-602.91 522.6,-623 511.77,-642.23 508.61,-646.95 494.6,-664 447.1,-721.78 414.69,-719.62 376.6,-784 362.42,-807.96 368.01,-817.8 358.6,-844 348.43,-872.33 334.81,-904.02 325.23,-925.51\"/>\n",
       "<polygon fill=\"black\" stroke=\"black\" points=\"321.91,-924.34 321.01,-934.9 328.3,-927.21 321.91,-924.34\"/>\n",
       "<text text-anchor=\"middle\" x=\"435.6\" y=\"-725.8\" font-family=\"Times,serif\" font-size=\"14.00\">8</text>\n",
       "</g>\n",
       "<!-- 6&#45;&gt;9 -->\n",
       "<g id=\"edge64\" class=\"edge\">\n",
       "<title>6&#45;&gt;9</title>\n",
       "<path fill=\"none\" stroke=\"black\" d=\"M465.82,-1005.46C452.33,-1023.49 426.17,-1052 395.6,-1052 229.6,-1052 229.6,-1052 229.6,-1052 184.92,-1052 162.37,-996.13 152.38,-959.39\"/>\n",
       "<polygon fill=\"black\" stroke=\"black\" points=\"155.74,-958.43 149.88,-949.6 148.96,-960.15 155.74,-958.43\"/>\n",
       "<text text-anchor=\"middle\" x=\"312.6\" y=\"-1055.8\" font-family=\"Times,serif\" font-size=\"14.00\">9</text>\n",
       "</g>\n",
       "<!-- 6&#45;&gt;1 -->\n",
       "<g id=\"edge56\" class=\"edge\">\n",
       "<title>6&#45;&gt;1</title>\n",
       "<path fill=\"none\" stroke=\"black\" d=\"M462.66,-979.03C431.09,-949.88 347.49,-872.94 276.6,-810 268.88,-803.14 260.33,-795.7 252.78,-789.17\"/>\n",
       "<polygon fill=\"black\" stroke=\"black\" points=\"254.92,-786.4 245.06,-782.52 250.35,-791.7 254.92,-786.4\"/>\n",
       "<text text-anchor=\"middle\" x=\"353.6\" y=\"-885.8\" font-family=\"Times,serif\" font-size=\"14.00\">1</text>\n",
       "</g>\n",
       "<!-- 6&#45;&gt;2 -->\n",
       "<g id=\"edge57\" class=\"edge\">\n",
       "<title>6&#45;&gt;2</title>\n",
       "<path fill=\"none\" stroke=\"black\" d=\"M485.46,-1006.89C492.18,-1020.07 502.35,-1039.16 512.6,-1055 546.3,-1107.11 562.78,-1124.49 622.6,-1141 673.81,-1155.13 693,-1145.57 740.6,-1122 760.34,-1112.23 777.09,-1093.54 788.35,-1078.37\"/>\n",
       "<polygon fill=\"black\" stroke=\"black\" points=\"791.4,-1080.13 794.33,-1069.95 785.69,-1076.08 791.4,-1080.13\"/>\n",
       "<text text-anchor=\"middle\" x=\"640.6\" y=\"-1150.8\" font-family=\"Times,serif\" font-size=\"14.00\">2</text>\n",
       "</g>\n",
       "<!-- 6&#45;&gt;3 -->\n",
       "<g id=\"edge58\" class=\"edge\">\n",
       "<title>6&#45;&gt;3</title>\n",
       "<path fill=\"none\" stroke=\"black\" d=\"M482.45,-973.69C488.18,-954.66 498.7,-923.53 512.6,-899 527.11,-873.4 571.45,-813.18 594.6,-795 629.95,-767.24 654.17,-784.12 686.6,-753 698.69,-741.4 707.31,-724.72 712.96,-710.67\"/>\n",
       "<polygon fill=\"black\" stroke=\"black\" points=\"716.35,-711.61 716.57,-701.01 709.79,-709.16 716.35,-711.61\"/>\n",
       "<text text-anchor=\"middle\" x=\"599.6\" y=\"-798.8\" font-family=\"Times,serif\" font-size=\"14.00\">3</text>\n",
       "</g>\n",
       "<!-- 6&#45;&gt;4 -->\n",
       "<g id=\"edge59\" class=\"edge\">\n",
       "<title>6&#45;&gt;4</title>\n",
       "<path fill=\"none\" stroke=\"black\" d=\"M491.98,-1001.31C504.36,-1009.78 522.95,-1021.54 540.6,-1029 564.16,-1038.95 592.52,-1045.93 612.83,-1050.14\"/>\n",
       "<polygon fill=\"black\" stroke=\"black\" points=\"612.17,-1053.57 622.65,-1052.08 613.53,-1046.71 612.17,-1053.57\"/>\n",
       "<text text-anchor=\"middle\" x=\"558.6\" y=\"-1044.8\" font-family=\"Times,serif\" font-size=\"14.00\">4</text>\n",
       "</g>\n",
       "<!-- 6&#45;&gt;5 -->\n",
       "<g id=\"edge60\" class=\"edge\">\n",
       "<title>6&#45;&gt;5</title>\n",
       "<path fill=\"none\" stroke=\"black\" d=\"M478.66,-972.9C481.35,-932.9 489.93,-834.25 512.6,-755 515.67,-744.28 519.53,-742.72 522.6,-732 537.57,-679.73 529.71,-664.27 540.6,-611 543.18,-598.4 546.69,-584.6 549.85,-572.97\"/>\n",
       "<polygon fill=\"black\" stroke=\"black\" points=\"553.32,-573.56 552.62,-562.99 546.57,-571.69 553.32,-573.56\"/>\n",
       "<text text-anchor=\"middle\" x=\"517.6\" y=\"-758.8\" font-family=\"Times,serif\" font-size=\"14.00\">5</text>\n",
       "</g>\n",
       "<!-- 6&#45;&gt;6 -->\n",
       "<g id=\"edge61\" class=\"edge\">\n",
       "<title>6&#45;&gt;6</title>\n",
       "<path fill=\"none\" stroke=\"black\" d=\"M469.57,-1007.66C468.01,-1017.62 470.35,-1027 476.6,-1027 480.6,-1027 483,-1023.15 483.8,-1017.77\"/>\n",
       "<polygon fill=\"black\" stroke=\"black\" points=\"487.3,-1017.6 483.63,-1007.66 480.3,-1017.72 487.3,-1017.6\"/>\n",
       "<text text-anchor=\"middle\" x=\"476.6\" y=\"-1030.8\" font-family=\"Times,serif\" font-size=\"14.00\">6</text>\n",
       "</g>\n",
       "<!-- 6&#45;&gt;7 -->\n",
       "<g id=\"edge62\" class=\"edge\">\n",
       "<title>6&#45;&gt;7</title>\n",
       "<path fill=\"none\" stroke=\"black\" d=\"M469.91,-973.83C460.77,-945.82 442.62,-888.47 430.6,-839 417.38,-784.59 406.03,-720.1 400.07,-684.03\"/>\n",
       "<polygon fill=\"black\" stroke=\"black\" points=\"403.47,-683.1 398.4,-673.79 396.56,-684.22 403.47,-683.1\"/>\n",
       "<text text-anchor=\"middle\" x=\"435.6\" y=\"-879.8\" font-family=\"Times,serif\" font-size=\"14.00\">7</text>\n",
       "</g>\n",
       "<!-- 6&#45;&gt;8 -->\n",
       "<g id=\"edge63\" class=\"edge\">\n",
       "<title>6&#45;&gt;8</title>\n",
       "<path fill=\"none\" stroke=\"black\" d=\"M459.11,-985.86C443.57,-981.04 421.4,-974.26 412.6,-972 388.36,-965.79 360.46,-959.99 340.46,-956.06\"/>\n",
       "<polygon fill=\"black\" stroke=\"black\" points=\"341,-952.6 330.52,-954.14 339.67,-959.48 341,-952.6\"/>\n",
       "<text text-anchor=\"middle\" x=\"394.6\" y=\"-975.8\" font-family=\"Times,serif\" font-size=\"14.00\">8</text>\n",
       "</g>\n",
       "<!-- 7&#45;&gt;9 -->\n",
       "<g id=\"edge73\" class=\"edge\">\n",
       "<title>7&#45;&gt;9</title>\n",
       "<path fill=\"none\" stroke=\"black\" d=\"M378.92,-665.11C369.18,-671.79 356.74,-681.66 348.6,-693 295.95,-766.37 341.45,-820.15 276.6,-883 249.38,-909.38 206.01,-920.34 176.7,-924.86\"/>\n",
       "<polygon fill=\"black\" stroke=\"black\" points=\"176.02,-921.42 166.59,-926.25 176.98,-928.35 176.02,-921.42\"/>\n",
       "<text text-anchor=\"middle\" x=\"271.6\" y=\"-894.8\" font-family=\"Times,serif\" font-size=\"14.00\">9</text>\n",
       "</g>\n",
       "<!-- 7&#45;&gt;1 -->\n",
       "<g id=\"edge65\" class=\"edge\">\n",
       "<title>7&#45;&gt;1</title>\n",
       "<path fill=\"none\" stroke=\"black\" d=\"M378.97,-646.65C358.52,-634.89 320.96,-618.16 294.6,-635 257.56,-658.66 241.97,-710.3 235.65,-742.7\"/>\n",
       "<polygon fill=\"black\" stroke=\"black\" points=\"232.15,-742.43 233.85,-752.89 239.04,-743.65 232.15,-742.43\"/>\n",
       "<text text-anchor=\"middle\" x=\"312.6\" y=\"-638.8\" font-family=\"Times,serif\" font-size=\"14.00\">1</text>\n",
       "</g>\n",
       "<!-- 7&#45;&gt;2 -->\n",
       "<g id=\"edge66\" class=\"edge\">\n",
       "<title>7&#45;&gt;2</title>\n",
       "<path fill=\"none\" stroke=\"black\" d=\"M404.35,-640.53C436.36,-584.2 547.66,-390.47 594.6,-337 638.24,-287.28 679.25,-283.24 740.6,-308 756.63,-314.47 761.45,-319.26 768.6,-335 797.53,-398.74 802.63,-901.07 803.45,-1026.63\"/>\n",
       "<polygon fill=\"black\" stroke=\"black\" points=\"799.95,-1026.97 803.51,-1036.95 806.95,-1026.92 799.95,-1026.97\"/>\n",
       "<text text-anchor=\"middle\" x=\"599.6\" y=\"-340.8\" font-family=\"Times,serif\" font-size=\"14.00\">2</text>\n",
       "</g>\n",
       "<!-- 7&#45;&gt;3 -->\n",
       "<g id=\"edge67\" class=\"edge\">\n",
       "<title>7&#45;&gt;3</title>\n",
       "<path fill=\"none\" stroke=\"black\" d=\"M409.47,-666.54C415.61,-670.6 423.13,-674.79 430.6,-677 442.54,-680.54 446.15,-677.64 458.6,-678 544.58,-680.52 646.39,-682.58 694.21,-683.49\"/>\n",
       "<polygon fill=\"black\" stroke=\"black\" points=\"694.3,-686.99 704.37,-683.68 694.43,-679.99 694.3,-686.99\"/>\n",
       "<text text-anchor=\"middle\" x=\"558.6\" y=\"-683.8\" font-family=\"Times,serif\" font-size=\"14.00\">3</text>\n",
       "</g>\n",
       "<!-- 7&#45;&gt;4 -->\n",
       "<g id=\"edge68\" class=\"edge\">\n",
       "<title>7&#45;&gt;4</title>\n",
       "<path fill=\"none\" stroke=\"black\" d=\"M403.38,-671.87C413.81,-691.93 433.9,-726.65 458.6,-750 483.5,-773.54 500.53,-766.78 522.6,-793 584.14,-866.12 619.15,-976.8 632.84,-1027.67\"/>\n",
       "<polygon fill=\"black\" stroke=\"black\" points=\"629.51,-1028.79 635.43,-1037.58 636.28,-1027.02 629.51,-1028.79\"/>\n",
       "<text text-anchor=\"middle\" x=\"517.6\" y=\"-796.8\" font-family=\"Times,serif\" font-size=\"14.00\">4</text>\n",
       "</g>\n",
       "<!-- 7&#45;&gt;5 -->\n",
       "<g id=\"edge69\" class=\"edge\">\n",
       "<title>7&#45;&gt;5</title>\n",
       "<path fill=\"none\" stroke=\"black\" d=\"M412.76,-654.91C433.68,-652.86 469.38,-646.96 494.6,-630 516.73,-615.12 534.14,-589.82 545,-570.86\"/>\n",
       "<polygon fill=\"black\" stroke=\"black\" points=\"548.18,-572.33 549.93,-561.88 542.05,-568.96 548.18,-572.33\"/>\n",
       "<text text-anchor=\"middle\" x=\"476.6\" y=\"-648.8\" font-family=\"Times,serif\" font-size=\"14.00\">5</text>\n",
       "</g>\n",
       "<!-- 7&#45;&gt;6 -->\n",
       "<g id=\"edge70\" class=\"edge\">\n",
       "<title>7&#45;&gt;6</title>\n",
       "<path fill=\"none\" stroke=\"black\" d=\"M398.44,-673.83C403.18,-701.62 413.88,-756.66 430.6,-801 433.97,-809.93 437.39,-811.01 440.6,-820 457.99,-868.67 467.74,-928.38 472.32,-962.83\"/>\n",
       "<polygon fill=\"black\" stroke=\"black\" points=\"468.89,-963.6 473.62,-973.07 475.83,-962.71 468.89,-963.6\"/>\n",
       "<text text-anchor=\"middle\" x=\"435.6\" y=\"-823.8\" font-family=\"Times,serif\" font-size=\"14.00\">6</text>\n",
       "</g>\n",
       "<!-- 7&#45;&gt;7 -->\n",
       "<g id=\"edge71\" class=\"edge\">\n",
       "<title>7&#45;&gt;7</title>\n",
       "<path fill=\"none\" stroke=\"black\" d=\"M387.57,-672.66C386.01,-682.62 388.35,-692 394.6,-692 398.6,-692 401,-688.15 401.8,-682.77\"/>\n",
       "<polygon fill=\"black\" stroke=\"black\" points=\"405.3,-682.6 401.63,-672.66 398.3,-682.72 405.3,-682.6\"/>\n",
       "<text text-anchor=\"middle\" x=\"394.6\" y=\"-695.8\" font-family=\"Times,serif\" font-size=\"14.00\">7</text>\n",
       "</g>\n",
       "<!-- 7&#45;&gt;8 -->\n",
       "<g id=\"edge72\" class=\"edge\">\n",
       "<title>7&#45;&gt;8</title>\n",
       "<path fill=\"none\" stroke=\"black\" d=\"M380.91,-668.28C370.29,-679.4 355.77,-696.78 348.6,-715 318.82,-790.63 346.89,-817.37 330.6,-897 328.73,-906.14 325.91,-915.92 323.1,-924.61\"/>\n",
       "<polygon fill=\"black\" stroke=\"black\" points=\"319.75,-923.62 319.87,-934.21 326.38,-925.85 319.75,-923.62\"/>\n",
       "<text text-anchor=\"middle\" x=\"353.6\" y=\"-718.8\" font-family=\"Times,serif\" font-size=\"14.00\">8</text>\n",
       "</g>\n",
       "<!-- 8&#45;&gt;9 -->\n",
       "<g id=\"edge82\" class=\"edge\">\n",
       "<title>8&#45;&gt;9</title>\n",
       "<path fill=\"none\" stroke=\"black\" d=\"M294.27,-948.6C266.45,-944.74 211.45,-937.12 176.7,-932.31\"/>\n",
       "<polygon fill=\"black\" stroke=\"black\" points=\"177.01,-928.82 166.62,-930.91 176.05,-935.75 177.01,-928.82\"/>\n",
       "<text text-anchor=\"middle\" x=\"230.6\" y=\"-945.8\" font-family=\"Times,serif\" font-size=\"14.00\">9</text>\n",
       "</g>\n",
       "<!-- 8&#45;&gt;1 -->\n",
       "<g id=\"edge74\" class=\"edge\">\n",
       "<title>8&#45;&gt;1</title>\n",
       "<path fill=\"none\" stroke=\"black\" d=\"M308.91,-933.34C304.64,-908.51 294.85,-862.39 276.6,-827 269.84,-813.88 259.71,-800.92 250.77,-790.78\"/>\n",
       "<polygon fill=\"black\" stroke=\"black\" points=\"253.27,-788.33 243.95,-783.3 248.1,-793.05 253.27,-788.33\"/>\n",
       "<text text-anchor=\"middle\" x=\"271.6\" y=\"-830.8\" font-family=\"Times,serif\" font-size=\"14.00\">1</text>\n",
       "</g>\n",
       "<!-- 8&#45;&gt;2 -->\n",
       "<g id=\"edge75\" class=\"edge\">\n",
       "<title>8&#45;&gt;2</title>\n",
       "<path fill=\"none\" stroke=\"black\" d=\"M318,-968.27C323.88,-990.39 335.12,-1029.75 348.6,-1062 384.42,-1147.74 543.84,-1495 598.6,-1495 598.6,-1495 598.6,-1495 723.6,-1495 765.61,-1495 793.76,-1180.57 801.47,-1083.31\"/>\n",
       "<polygon fill=\"black\" stroke=\"black\" points=\"804.98,-1083.31 802.26,-1073.07 798,-1082.77 804.98,-1083.31\"/>\n",
       "<text text-anchor=\"middle\" x=\"558.6\" y=\"-1485.8\" font-family=\"Times,serif\" font-size=\"14.00\">2</text>\n",
       "</g>\n",
       "<!-- 8&#45;&gt;3 -->\n",
       "<g id=\"edge76\" class=\"edge\">\n",
       "<title>8&#45;&gt;3</title>\n",
       "<path fill=\"none\" stroke=\"black\" d=\"M330.66,-950.42C366.65,-948.87 452.77,-943.5 522.6,-926 560.55,-916.49 574.16,-918.58 604.6,-894 665.3,-844.99 699.74,-755.58 713.9,-710.9\"/>\n",
       "<polygon fill=\"black\" stroke=\"black\" points=\"717.26,-711.9 716.85,-701.32 710.56,-709.85 717.26,-711.9\"/>\n",
       "<text text-anchor=\"middle\" x=\"517.6\" y=\"-931.8\" font-family=\"Times,serif\" font-size=\"14.00\">3</text>\n",
       "</g>\n",
       "<!-- 8&#45;&gt;4 -->\n",
       "<g id=\"edge77\" class=\"edge\">\n",
       "<title>8&#45;&gt;4</title>\n",
       "<path fill=\"none\" stroke=\"black\" d=\"M321.74,-966.8C328.38,-979.2 338.32,-996.71 348.6,-1011 382.71,-1058.44 401.67,-1069.85 458.6,-1083 490.81,-1090.44 568.66,-1085.95 604.6,-1075 608.55,-1073.79 612.55,-1072.08 616.35,-1070.16\"/>\n",
       "<polygon fill=\"black\" stroke=\"black\" points=\"618.29,-1073.08 625.28,-1065.11 614.85,-1066.98 618.29,-1073.08\"/>\n",
       "<text text-anchor=\"middle\" x=\"476.6\" y=\"-1089.8\" font-family=\"Times,serif\" font-size=\"14.00\">4</text>\n",
       "</g>\n",
       "<!-- 8&#45;&gt;5 -->\n",
       "<g id=\"edge78\" class=\"edge\">\n",
       "<title>8&#45;&gt;5</title>\n",
       "<path fill=\"none\" stroke=\"black\" d=\"M314.71,-932.76C318.8,-871.46 335.01,-674.14 376.6,-629 418.98,-583.01 491.85,-560.57 530.96,-551.36\"/>\n",
       "<polygon fill=\"black\" stroke=\"black\" points=\"531.82,-554.76 540.81,-549.16 530.29,-547.93 531.82,-554.76\"/>\n",
       "<text text-anchor=\"middle\" x=\"435.6\" y=\"-591.8\" font-family=\"Times,serif\" font-size=\"14.00\">5</text>\n",
       "</g>\n",
       "<!-- 8&#45;&gt;6 -->\n",
       "<g id=\"edge79\" class=\"edge\">\n",
       "<title>8&#45;&gt;6</title>\n",
       "<path fill=\"none\" stroke=\"black\" d=\"M327.75,-961.61C339.99,-970.13 358.5,-981.56 376.6,-987 400.06,-994.05 428.05,-994.5 448.28,-993.5\"/>\n",
       "<polygon fill=\"black\" stroke=\"black\" points=\"448.6,-996.99 458.36,-992.86 448.15,-990 448.6,-996.99\"/>\n",
       "<text text-anchor=\"middle\" x=\"394.6\" y=\"-996.8\" font-family=\"Times,serif\" font-size=\"14.00\">6</text>\n",
       "</g>\n",
       "<!-- 8&#45;&gt;7 -->\n",
       "<g id=\"edge80\" class=\"edge\">\n",
       "<title>8&#45;&gt;7</title>\n",
       "<path fill=\"none\" stroke=\"black\" d=\"M319.76,-934.19C323.4,-923.64 327.84,-909.68 330.6,-897 344.34,-833.98 330.82,-815 348.6,-753 349.68,-749.25 368.76,-708.57 381.72,-681.09\"/>\n",
       "<polygon fill=\"black\" stroke=\"black\" points=\"384.91,-682.55 386.02,-672.01 378.58,-679.56 384.91,-682.55\"/>\n",
       "<text text-anchor=\"middle\" x=\"353.6\" y=\"-756.8\" font-family=\"Times,serif\" font-size=\"14.00\">7</text>\n",
       "</g>\n",
       "<!-- 8&#45;&gt;8 -->\n",
       "<g id=\"edge81\" class=\"edge\">\n",
       "<title>8&#45;&gt;8</title>\n",
       "<path fill=\"none\" stroke=\"black\" d=\"M305.57,-967.66C304.01,-977.62 306.35,-987 312.6,-987 316.6,-987 319,-983.15 319.8,-977.77\"/>\n",
       "<polygon fill=\"black\" stroke=\"black\" points=\"323.3,-977.6 319.63,-967.66 316.3,-977.72 323.3,-977.6\"/>\n",
       "<text text-anchor=\"middle\" x=\"312.6\" y=\"-990.8\" font-family=\"Times,serif\" font-size=\"14.00\">8</text>\n",
       "</g>\n",
       "</g>\n",
       "</svg>\n"
      ],
      "text/plain": [
       "<graphviz.graphs.Digraph at 0x7fb750531630>"
      ]
     },
     "metadata": {},
     "output_type": "display_data"
    }
   ],
   "source": [
    "n_estados = 10\n",
    "Q1 = {q for q in range(0, n_estados)}\n",
    "Sigma1 = {s for s in range(1,n_estados)}\n",
    "delta1 = ({(q,s):s for q in Q1 for s in Sigma1})\n",
    "q01 = 0\n",
    "F1 = {n_estados - 1}\n",
    "\n",
    "M1 = AFD(Q1,Sigma1,delta1,q01,F1)\n",
    "M1"
   ]
  },
  {
   "cell_type": "markdown",
   "metadata": {
    "id": "R8KPZi1ENBxq",
    "slideshow": {
     "slide_type": "subslide"
    }
   },
   "source": [
    "Em outro exemplo, podemos ter um alfabeto composto por três símbolos: `não`, `aceite`, `isso`. Além disso, podemos usar as estruturas de repetição do Python para nos auxiliar na definição da função de transição."
   ]
  },
  {
   "cell_type": "code",
   "execution_count": 7,
   "metadata": {
    "colab": {
     "base_uri": "https://localhost:8080/",
     "height": 134
    },
    "id": "hq1ddQarO7E8",
    "outputId": "d5551e4b-34b7-4ef4-dc71-a2c5d1805b2d",
    "slideshow": {
     "slide_type": "subslide"
    }
   },
   "outputs": [
    {
     "data": {
      "image/svg+xml": [
       "<?xml version=\"1.0\" encoding=\"UTF-8\" standalone=\"no\"?>\n",
       "<!DOCTYPE svg PUBLIC \"-//W3C//DTD SVG 1.1//EN\"\n",
       " \"http://www.w3.org/Graphics/SVG/1.1/DTD/svg11.dtd\">\n",
       "<!-- Generated by graphviz version 2.43.0 (0)\n",
       " -->\n",
       "<!-- Title: finite_state_machine Pages: 1 -->\n",
       "<svg width=\"457pt\" height=\"85pt\"\n",
       " viewBox=\"0.00 0.00 456.60 85.00\" xmlns=\"http://www.w3.org/2000/svg\" xmlns:xlink=\"http://www.w3.org/1999/xlink\">\n",
       "<g id=\"graph0\" class=\"graph\" transform=\"scale(1 1) rotate(0) translate(4 81)\">\n",
       "<title>finite_state_machine</title>\n",
       "<polygon fill=\"white\" stroke=\"transparent\" points=\"-4,4 -4,-81 452.6,-81 452.6,4 -4,4\"/>\n",
       "<g id=\"node1\" class=\"node\">\n",
       "<title></title>\n",
       "<ellipse fill=\"black\" stroke=\"black\" cx=\"1.8\" cy=\"-22\" rx=\"1.8\" ry=\"1.8\"/>\n",
       "</g>\n",
       "<!-- 0 -->\n",
       "<g id=\"node2\" class=\"node\">\n",
       "<title>0</title>\n",
       "<ellipse fill=\"none\" stroke=\"black\" cx=\"62.6\" cy=\"-22\" rx=\"18\" ry=\"18\"/>\n",
       "<ellipse fill=\"none\" stroke=\"black\" cx=\"62.6\" cy=\"-22\" rx=\"22\" ry=\"22\"/>\n",
       "<text text-anchor=\"middle\" x=\"62.6\" y=\"-18.3\" font-family=\"Times,serif\" font-size=\"14.00\">0</text>\n",
       "</g>\n",
       "<!-- &#45;&gt;0 -->\n",
       "<g id=\"edge1\" class=\"edge\">\n",
       "<title>&#45;&gt;0</title>\n",
       "<path fill=\"none\" stroke=\"black\" d=\"M3.82,-22C7.19,-22 18.44,-22 30.12,-22\"/>\n",
       "<polygon fill=\"black\" stroke=\"black\" points=\"30.31,-25.5 40.31,-22 30.31,-18.5 30.31,-25.5\"/>\n",
       "</g>\n",
       "<!-- 0&#45;&gt;0 -->\n",
       "<g id=\"edge5\" class=\"edge\">\n",
       "<title>0&#45;&gt;0</title>\n",
       "<path fill=\"none\" stroke=\"black\" d=\"M55.28,-42.99C54.38,-53.09 56.82,-62 62.6,-62 66.3,-62 68.64,-58.34 69.6,-53.06\"/>\n",
       "<polygon fill=\"black\" stroke=\"black\" points=\"73.1,-53.1 69.92,-42.99 66.1,-52.87 73.1,-53.1\"/>\n",
       "<text text-anchor=\"middle\" x=\"62.6\" y=\"-65.8\" font-family=\"Times,serif\" font-size=\"14.00\">aceite,isso</text>\n",
       "</g>\n",
       "<!-- 1 -->\n",
       "<g id=\"node3\" class=\"node\">\n",
       "<title>1</title>\n",
       "<ellipse fill=\"none\" stroke=\"black\" cx=\"168.6\" cy=\"-22\" rx=\"18\" ry=\"18\"/>\n",
       "<ellipse fill=\"none\" stroke=\"black\" cx=\"168.6\" cy=\"-22\" rx=\"22\" ry=\"22\"/>\n",
       "<text text-anchor=\"middle\" x=\"168.6\" y=\"-18.3\" font-family=\"Times,serif\" font-size=\"14.00\">1</text>\n",
       "</g>\n",
       "<!-- 0&#45;&gt;1 -->\n",
       "<g id=\"edge2\" class=\"edge\">\n",
       "<title>0&#45;&gt;1</title>\n",
       "<path fill=\"none\" stroke=\"black\" d=\"M84.65,-22C99.45,-22 119.51,-22 136.2,-22\"/>\n",
       "<polygon fill=\"black\" stroke=\"black\" points=\"136.59,-25.5 146.59,-22 136.59,-18.5 136.59,-25.5\"/>\n",
       "<text text-anchor=\"middle\" x=\"115.6\" y=\"-25.8\" font-family=\"Times,serif\" font-size=\"14.00\">não</text>\n",
       "</g>\n",
       "<!-- 1&#45;&gt;1 -->\n",
       "<g id=\"edge6\" class=\"edge\">\n",
       "<title>1&#45;&gt;1</title>\n",
       "<path fill=\"none\" stroke=\"black\" d=\"M159.19,-42.17C157.75,-52.6 160.88,-62 168.6,-62 173.67,-62 176.76,-57.95 177.88,-52.22\"/>\n",
       "<polygon fill=\"black\" stroke=\"black\" points=\"181.38,-52.21 178.01,-42.17 174.38,-52.12 181.38,-52.21\"/>\n",
       "<text text-anchor=\"middle\" x=\"168.6\" y=\"-65.8\" font-family=\"Times,serif\" font-size=\"14.00\">isso,não</text>\n",
       "</g>\n",
       "<!-- 2 -->\n",
       "<g id=\"node4\" class=\"node\">\n",
       "<title>2</title>\n",
       "<ellipse fill=\"none\" stroke=\"black\" cx=\"291.6\" cy=\"-22\" rx=\"18\" ry=\"18\"/>\n",
       "<ellipse fill=\"none\" stroke=\"black\" cx=\"291.6\" cy=\"-22\" rx=\"22\" ry=\"22\"/>\n",
       "<text text-anchor=\"middle\" x=\"291.6\" y=\"-18.3\" font-family=\"Times,serif\" font-size=\"14.00\">2</text>\n",
       "</g>\n",
       "<!-- 1&#45;&gt;2 -->\n",
       "<g id=\"edge3\" class=\"edge\">\n",
       "<title>1&#45;&gt;2</title>\n",
       "<path fill=\"none\" stroke=\"black\" d=\"M190.68,-22C209.65,-22 237.77,-22 259.36,-22\"/>\n",
       "<polygon fill=\"black\" stroke=\"black\" points=\"259.36,-25.5 269.36,-22 259.36,-18.5 259.36,-25.5\"/>\n",
       "<text text-anchor=\"middle\" x=\"230.1\" y=\"-25.8\" font-family=\"Times,serif\" font-size=\"14.00\">aceite</text>\n",
       "</g>\n",
       "<!-- 2&#45;&gt;2 -->\n",
       "<g id=\"edge7\" class=\"edge\">\n",
       "<title>2&#45;&gt;2</title>\n",
       "<path fill=\"none\" stroke=\"black\" d=\"M281.89,-41.76C280.24,-52.35 283.48,-62 291.6,-62 296.93,-62 300.15,-57.84 301.28,-51.99\"/>\n",
       "<polygon fill=\"black\" stroke=\"black\" points=\"304.78,-51.77 301.31,-41.76 297.78,-51.75 304.78,-51.77\"/>\n",
       "<text text-anchor=\"middle\" x=\"291.6\" y=\"-65.8\" font-family=\"Times,serif\" font-size=\"14.00\">aceite,não</text>\n",
       "</g>\n",
       "<!-- 3 -->\n",
       "<g id=\"node5\" class=\"node\">\n",
       "<title>3</title>\n",
       "<ellipse fill=\"none\" stroke=\"black\" cx=\"395.6\" cy=\"-22\" rx=\"18\" ry=\"18\"/>\n",
       "<text text-anchor=\"middle\" x=\"395.6\" y=\"-18.3\" font-family=\"Times,serif\" font-size=\"14.00\">3</text>\n",
       "</g>\n",
       "<!-- 2&#45;&gt;3 -->\n",
       "<g id=\"edge4\" class=\"edge\">\n",
       "<title>2&#45;&gt;3</title>\n",
       "<path fill=\"none\" stroke=\"black\" d=\"M313.73,-22C329.24,-22 350.44,-22 367.24,-22\"/>\n",
       "<polygon fill=\"black\" stroke=\"black\" points=\"367.55,-25.5 377.55,-22 367.55,-18.5 367.55,-25.5\"/>\n",
       "<text text-anchor=\"middle\" x=\"345.6\" y=\"-25.8\" font-family=\"Times,serif\" font-size=\"14.00\">isso</text>\n",
       "</g>\n",
       "<!-- 3&#45;&gt;3 -->\n",
       "<g id=\"edge8\" class=\"edge\">\n",
       "<title>3&#45;&gt;3</title>\n",
       "<path fill=\"none\" stroke=\"black\" d=\"M386.97,-37.92C384.71,-48.15 387.59,-58 395.6,-58 400.86,-58 403.9,-53.76 404.74,-47.95\"/>\n",
       "<polygon fill=\"black\" stroke=\"black\" points=\"408.23,-47.73 404.23,-37.92 401.24,-48.08 408.23,-47.73\"/>\n",
       "<text text-anchor=\"middle\" x=\"395.6\" y=\"-61.8\" font-family=\"Times,serif\" font-size=\"14.00\">aceite,isso,não</text>\n",
       "</g>\n",
       "</g>\n",
       "</svg>\n"
      ],
      "text/plain": [
       "<graphviz.graphs.Digraph at 0x7fb75039d600>"
      ]
     },
     "metadata": {},
     "output_type": "display_data"
    }
   ],
   "source": [
    "Q2 = {0,1,2,3}\n",
    "Sigma2 = {\"não\", \"aceite\", \"isso\"}\n",
    "delta2 = {}\n",
    "delta2[0,\"não\"] = 1\n",
    "delta2[1,\"aceite\"] = 2\n",
    "delta2[2,\"isso\"] = 3\n",
    "for q in Q2:\n",
    "  for a in Sigma2:\n",
    "    delta2[q,a] = q if not (q,a) in delta2 else delta2[q,a]\n",
    "q02 = 0\n",
    "F2 = {0,1,2}\n",
    "\n",
    "M2 = AFD(Q2,Sigma2,delta2,q02,F2)\n",
    "M2"
   ]
  },
  {
   "cell_type": "markdown",
   "metadata": {
    "id": "_jf_2MxCRYWJ",
    "slideshow": {
     "slide_type": "subslide"
    }
   },
   "source": [
    "É precisamos contudo ter cuidado contudo com o teste de aceitação, cuja entrada deve ser composta por uma sequência de símbolos presentes no alfabeto de entrada."
   ]
  },
  {
   "cell_type": "code",
   "execution_count": 8,
   "metadata": {
    "colab": {
     "base_uri": "https://localhost:8080/"
    },
    "id": "g9hGQvKGRk-N",
    "outputId": "35081a25-94eb-403b-cb35-d261230ca076"
   },
   "outputs": [
    {
     "data": {
      "text/plain": [
       "True"
      ]
     },
     "execution_count": 8,
     "metadata": {},
     "output_type": "execute_result"
    }
   ],
   "source": [
    "M2.aceita((\"aceite\",\"isso\"))"
   ]
  },
  {
   "cell_type": "code",
   "execution_count": 9,
   "metadata": {
    "colab": {
     "base_uri": "https://localhost:8080/"
    },
    "id": "UnBqsYk1RtLC",
    "outputId": "ad2a0e19-8a77-498b-d1f1-ffc3c7403298"
   },
   "outputs": [
    {
     "data": {
      "text/plain": [
       "False"
      ]
     },
     "execution_count": 9,
     "metadata": {},
     "output_type": "execute_result"
    }
   ],
   "source": [
    "M2.aceita((\"não\",\"aceite\",\"isso\"))"
   ]
  },
  {
   "cell_type": "markdown",
   "metadata": {
    "id": "vrNeSRQ0BIhv",
    "slideshow": {
     "slide_type": "slide"
    }
   },
   "source": [
    "## Exercícios sobre AFDs"
   ]
  },
  {
   "cell_type": "markdown",
   "metadata": {
    "id": "vrNeSRQ0BIhv",
    "slideshow": {
     "slide_type": "subslide"
    }
   },
   "source": [
    "1. Defina um AFD $M$ que aceite a linguagem $L_1 = \\{w \\in \\{a,b\\}^* ~|~ w \\text{ contém a cadeia } aab \\}$."
   ]
  },
  {
   "cell_type": "code",
   "execution_count": 10,
   "metadata": {
    "id": "QZCG5sHQ0WwR"
   },
   "outputs": [],
   "source": [
    "# Insira aqui o código do seu AFD"
   ]
  },
  {
   "cell_type": "markdown",
   "metadata": {
    "id": "kHJp_W6L1Oij",
    "slideshow": {
     "slide_type": "subslide"
    }
   },
   "source": [
    "2. Verifique se seu autômato $M$ aceita as cadeias $aab$, $aaabbb$ e $baabaa$, e se rejeita $ab$, $aaa$ e $\\varepsilon$."
   ]
  },
  {
   "cell_type": "code",
   "execution_count": 11,
   "metadata": {
    "id": "8ssaKjuj1kHo"
   },
   "outputs": [],
   "source": [
    "# Insira aqui os testes do seu AFD"
   ]
  },
  {
   "cell_type": "markdown",
   "metadata": {
    "id": "6CmqUCBXC1L9",
    "slideshow": {
     "slide_type": "slide"
    }
   },
   "source": [
    "# Autômato Finito Não-Determinístico"
   ]
  },
  {
   "cell_type": "markdown",
   "metadata": {
    "id": "X2HlKDwr4RPQ",
    "slideshow": {
     "slide_type": "subslide"
    }
   },
   "source": [
    "Os **autômatos finitos não-determinísticos** (AFN) são modelos de computação semelhantes aos autômatos finitos determinísticos, porém neste modelo a leitura de um símbolo em um determinado estado pode levar a várias escolhas de caminhos de computação.\n"
   ]
  },
  {
   "cell_type": "markdown",
   "metadata": {
    "id": "X2HlKDwr4RPQ",
    "slideshow": {
     "slide_type": "subslide"
    }
   },
   "source": [
    "Assim como para AFDs, graficamente descrevemos um AFD por meio de uma representação de estados ligados arestas rotuladas, que descrevem os elementos que motivam a transição de estados. Observe contudo que nem todas as transições precisam estar definidas, bem como existe também há a possibilidade de transicionar entre estados sem consumir símbolos da entrada, indicados na imagem pelo símbolo $\\varepsilon$.\n"
   ]
  },
  {
   "cell_type": "markdown",
   "metadata": {
    "id": "OK-Ht-2ZFLcM",
    "slideshow": {
     "slide_type": "subslide"
    }
   },
   "source": [
    "**Figura 2**: Exemplo de diagrama de estado de um AFN\n",
    "\n",
    "![image.png](data:image/png;base64,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)"
   ]
  },
  {
   "cell_type": "markdown",
   "metadata": {
    "id": "lWLvEquAFvpH",
    "slideshow": {
     "slide_type": "fragment"
    }
   },
   "source": [
    "A Figura 2 representa um autômato com dois estados, `q0` e `q1`. O autômato inicia no estado `q0`, novamente indicado por uma seta sem origem em outro estado. Observe que diferente do AFD descrito na Figura 1, a leitura de um símbolo $a$ indica duas possibilidades para a atualização do estado do autômato: permanecer no estado `q0` ou mudar para o estado `q1`. A existência dessas possibilidades de caminhos é o que chamamos de **não-determinismo**."
   ]
  },
  {
   "cell_type": "markdown",
   "metadata": {
    "id": "lWLvEquAFvpH",
    "slideshow": {
     "slide_type": "fragment"
    }
   },
   "source": [
    "Outro exemplo de não-determinismo está no estado `q1`. A transição $\\varepsilon$ indica que existe a possibilidade de transitar para o estado `q0` sem que seja necessária consumir símbolos da entrada. O não-determinismo se configura assim por duas possibilidades: permanecer em `q1` e continuar a leitura da entrada; ou transitar para o estado `q0` e só então continuar com a leitura da entrada."
   ]
  },
  {
   "cell_type": "markdown",
   "metadata": {
    "id": "KxuQlBBR4RPW",
    "slideshow": {
     "slide_type": "subslide"
    }
   },
   "source": [
    "\n",
    "\n",
    "A definição formal de um AFN é semelhante a de AFD, exceto pela função de transição:\n",
    "\n",
    "**Definição 2**: Um autômato finito não-determinístico é uma tupla $(Q, \\Sigma, \\delta, q_0, F)$, onde:\n",
    "1. $Q$ é um conjunto finito de símbolos de estado,\n",
    "1. $\\Sigma$ é um conjunto finito de símbolos de alfabeto,\n",
    "1. $\\delta : Q \\times \\Sigma_\\varepsilon \\rightarrow \\mathcal{P}(Q)$ é a função de transição,\n",
    "1. $q_0 \\in Q$ é o estado inicial, e\n",
    "1. $F \\subseteq Q$ é o conjunto de estados de aceitação.\n",
    "\n",
    "onde $\\Sigma_\\varepsilon = \\Sigma \\cup \\{\\varepsilon\\}$."
   ]
  },
  {
   "cell_type": "markdown",
   "metadata": {
    "slideshow": {
     "slide_type": "subslide"
    }
   },
   "source": [
    "Podemos definir o AFN ilustrado na Figura 2 formalmente como $N = (\\{q_0,q_1\\}, \\{a,b\\}, \\delta, q_0, \\{q_1\\})$, onde $\\delta(q_0,a) = \\{q_0,q_1\\}, \\delta(q_0,b) = \\{\\}, \\delta(q_0,\\varepsilon) = \\{\\}, \\delta(q_1,a) = \\{ \\},$ $\\delta(q_1,b) = \\{q_1\\} \\text{ e } \\delta(q_1,\\varepsilon) = \\{q_0\\}$."
   ]
  },
  {
   "cell_type": "markdown",
   "metadata": {
    "slideshow": {
     "slide_type": "subslide"
    }
   },
   "source": [
    "Seja $N = (Q, \\Sigma, \\delta, q_0, F)$ um AFN e $w = w_1w_2...w_n$ uma cadeia sobre $\\Sigma_\\varepsilon$, dizemos que $N$ **aceita** $w$ se existe uma sequência $(s_0,s_1,...,s_n)$ tal que\n",
    "1. $s_0 = q_0$,\n",
    "1. $s_{i+1} \\in \\delta(s_i,w_{i+1})$, para $0 \\leq i < n$,\n",
    "1. $s_n \\in F$.\n",
    "\n",
    "Por exemplo, o AFN $N$ ilustrado na Figura 2 aceita a cadeia $w = aabb$, dado que sequências como (q0, q_0, q1, q1) e (q0, q1, q0, q1, q1, q1) satisfazem as condições acima."
   ]
  },
  {
   "cell_type": "markdown",
   "metadata": {
    "id": "eqJaKbGY4RPW",
    "slideshow": {
     "slide_type": "slide"
    }
   },
   "source": [
    "## Implementação em Python"
   ]
  },
  {
   "cell_type": "markdown",
   "metadata": {
    "id": "eqJaKbGY4RPW",
    "slideshow": {
     "slide_type": "subslide"
    }
   },
   "source": [
    "Em nossa implementação, um autômato finito não-determinístico é representado pela classe `AFN`, cujo construtor segue a Definição 2:\n",
    "\n",
    ">`N = AFN(Q,Sigma,delta,q0,F)`\n",
    "\n",
    "A principal diferença para a construção de AFDs é que a função de transição `delta` deve ser um elemento do tipo `dict()` mapeando não mais para elementos de `Q`, e sim para um conjunto destes elementos. "
   ]
  },
  {
   "cell_type": "markdown",
   "metadata": {
    "slideshow": {
     "slide_type": "subslide"
    }
   },
   "source": [
    "A seguir um exemplo de construção de AFN."
   ]
  },
  {
   "cell_type": "code",
   "execution_count": 12,
   "metadata": {
    "colab": {
     "base_uri": "https://localhost:8080/"
    },
    "id": "eeFCFK_54RPW",
    "outputId": "1f2c0dc3-f65b-41a1-fba7-bd2c78594a41",
    "slideshow": {
     "slide_type": "-"
    }
   },
   "outputs": [
    {
     "data": {
      "image/svg+xml": [
       "<?xml version=\"1.0\" encoding=\"UTF-8\" standalone=\"no\"?>\n",
       "<!DOCTYPE svg PUBLIC \"-//W3C//DTD SVG 1.1//EN\"\n",
       " \"http://www.w3.org/Graphics/SVG/1.1/DTD/svg11.dtd\">\n",
       "<!-- Generated by graphviz version 2.43.0 (0)\n",
       " -->\n",
       "<!-- Title: finite_state_machine Pages: 1 -->\n",
       "<svg width=\"193pt\" height=\"94pt\"\n",
       " viewBox=\"0.00 0.00 192.59 94.50\" xmlns=\"http://www.w3.org/2000/svg\" xmlns:xlink=\"http://www.w3.org/1999/xlink\">\n",
       "<g id=\"graph0\" class=\"graph\" transform=\"scale(1 1) rotate(0) translate(4 90.5)\">\n",
       "<title>finite_state_machine</title>\n",
       "<polygon fill=\"white\" stroke=\"transparent\" points=\"-4,4 -4,-90.5 188.59,-90.5 188.59,4 -4,4\"/>\n",
       "<g id=\"node1\" class=\"node\">\n",
       "<title></title>\n",
       "<ellipse fill=\"black\" stroke=\"black\" cx=\"1.8\" cy=\"-26.75\" rx=\"1.8\" ry=\"1.8\"/>\n",
       "</g>\n",
       "<!-- q0 -->\n",
       "<g id=\"node3\" class=\"node\">\n",
       "<title>q0</title>\n",
       "<ellipse fill=\"none\" stroke=\"black\" cx=\"63.35\" cy=\"-26.75\" rx=\"23\" ry=\"23\"/>\n",
       "<text text-anchor=\"middle\" x=\"63.35\" y=\"-23.05\" font-family=\"Times,serif\" font-size=\"14.00\">q0</text>\n",
       "</g>\n",
       "<!-- &#45;&gt;q0 -->\n",
       "<g id=\"edge1\" class=\"edge\">\n",
       "<title>&#45;&gt;q0</title>\n",
       "<path fill=\"none\" stroke=\"black\" d=\"M3.83,-26.75C7.23,-26.75 18.48,-26.75 30.22,-26.75\"/>\n",
       "<polygon fill=\"black\" stroke=\"black\" points=\"30.48,-30.25 40.48,-26.75 30.48,-23.25 30.48,-30.25\"/>\n",
       "</g>\n",
       "<!-- q1 -->\n",
       "<g id=\"node2\" class=\"node\">\n",
       "<title>q1</title>\n",
       "<ellipse fill=\"none\" stroke=\"black\" cx=\"157.84\" cy=\"-26.75\" rx=\"22.96\" ry=\"22.96\"/>\n",
       "<ellipse fill=\"none\" stroke=\"black\" cx=\"157.84\" cy=\"-26.75\" rx=\"27\" ry=\"27\"/>\n",
       "<text text-anchor=\"middle\" x=\"157.84\" y=\"-23.05\" font-family=\"Times,serif\" font-size=\"14.00\">q1</text>\n",
       "</g>\n",
       "<!-- q1&#45;&gt;q1 -->\n",
       "<g id=\"edge4\" class=\"edge\">\n",
       "<title>q1&#45;&gt;q1</title>\n",
       "<path fill=\"none\" stroke=\"black\" d=\"M148.92,-52.05C148.31,-62.57 151.28,-71.5 157.84,-71.5 162.15,-71.5 164.91,-67.65 166.13,-62.04\"/>\n",
       "<polygon fill=\"black\" stroke=\"black\" points=\"169.62,-62.25 166.76,-52.05 162.63,-61.81 169.62,-62.25\"/>\n",
       "<text text-anchor=\"middle\" x=\"157.84\" y=\"-75.3\" font-family=\"Times,serif\" font-size=\"14.00\">b</text>\n",
       "</g>\n",
       "<!-- q1&#45;&gt;q0 -->\n",
       "<g id=\"edge5\" class=\"edge\">\n",
       "<title>q1&#45;&gt;q0</title>\n",
       "<path fill=\"none\" stroke=\"black\" d=\"M134.88,-12.83C125.54,-8.5 114.44,-5.4 104.1,-7.75 100.37,-8.59 96.59,-9.83 92.91,-11.28\"/>\n",
       "<polygon fill=\"black\" stroke=\"black\" points=\"91.24,-8.19 83.53,-15.46 94.09,-14.58 91.24,-8.19\"/>\n",
       "<text text-anchor=\"middle\" x=\"108.6\" y=\"-11.55\" font-family=\"Times,serif\" font-size=\"14.00\">ε</text>\n",
       "</g>\n",
       "<!-- q0&#45;&gt;q1 -->\n",
       "<g id=\"edge2\" class=\"edge\">\n",
       "<title>q0&#45;&gt;q1</title>\n",
       "<path fill=\"none\" stroke=\"black\" d=\"M86.27,-26.75C96.49,-26.75 108.94,-26.75 120.51,-26.75\"/>\n",
       "<polygon fill=\"black\" stroke=\"black\" points=\"120.81,-30.25 130.81,-26.75 120.81,-23.25 120.81,-30.25\"/>\n",
       "<text text-anchor=\"middle\" x=\"108.6\" y=\"-30.55\" font-family=\"Times,serif\" font-size=\"14.00\">a</text>\n",
       "</g>\n",
       "<!-- q0&#45;&gt;q0 -->\n",
       "<g id=\"edge3\" class=\"edge\">\n",
       "<title>q0&#45;&gt;q0</title>\n",
       "<path fill=\"none\" stroke=\"black\" d=\"M56,-48.55C55.19,-58.66 57.64,-67.5 63.35,-67.5 67,-67.5 69.32,-63.87 70.3,-58.6\"/>\n",
       "<polygon fill=\"black\" stroke=\"black\" points=\"73.8,-58.68 70.7,-48.55 66.81,-58.4 73.8,-58.68\"/>\n",
       "<text text-anchor=\"middle\" x=\"63.35\" y=\"-71.3\" font-family=\"Times,serif\" font-size=\"14.00\">a</text>\n",
       "</g>\n",
       "</g>\n",
       "</svg>\n"
      ],
      "text/plain": [
       "<graphviz.graphs.Digraph at 0x7fb75039dbd0>"
      ]
     },
     "metadata": {},
     "output_type": "display_data"
    }
   ],
   "source": [
    "from teocomp.automata import AFN\n",
    "\n",
    "Q = {'q0','q1'}\n",
    "Sigma = {'a','b'}\n",
    "delta = {('q0','a'):{'q0','q1'},\n",
    "         ('q0','b'):{ },\n",
    "         ('q1','b'):{'q1'},\n",
    "         ('q1','' ):{'q0'}}\n",
    "q0 = 'q0' \n",
    "F = {'q1'}\n",
    "\n",
    "N = AFN(Q,Sigma,delta,q0,F)\n",
    "N"
   ]
  },
  {
   "cell_type": "markdown",
   "metadata": {
    "id": "vxlu1ZNb4RPX",
    "slideshow": {
     "slide_type": "subslide"
    }
   },
   "source": [
    "Definido o autômato `N`, podemos usar a função `N.aceita(entrada)` para verificar a aceitação de cadeias, onde `entrada` deve ser composta por uma sequência de símbolos pertencentes a `Sigma`. A aceitação de uma palavra retornará o valor `True`."
   ]
  },
  {
   "cell_type": "code",
   "execution_count": 13,
   "metadata": {
    "colab": {
     "base_uri": "https://localhost:8080/"
    },
    "id": "hztI-XUL4RPY",
    "outputId": "3870d9f7-a537-462f-b4cd-50c50f3fbe32"
   },
   "outputs": [
    {
     "data": {
      "text/plain": [
       "True"
      ]
     },
     "execution_count": 13,
     "metadata": {},
     "output_type": "execute_result"
    }
   ],
   "source": [
    "N.aceita(\"aba\")"
   ]
  },
  {
   "cell_type": "markdown",
   "metadata": {
    "id": "iOLBCl1z4RPZ",
    "slideshow": {
     "slide_type": "subslide"
    }
   },
   "source": [
    "A rejeição de uma palavra retornará o valor `False`."
   ]
  },
  {
   "cell_type": "code",
   "execution_count": 14,
   "metadata": {
    "colab": {
     "base_uri": "https://localhost:8080/"
    },
    "id": "9KkgEmNE4RPZ",
    "outputId": "49ee0ff9-963c-4163-f09c-775c3069a32d"
   },
   "outputs": [
    {
     "data": {
      "text/plain": [
       "False"
      ]
     },
     "execution_count": 14,
     "metadata": {},
     "output_type": "execute_result"
    }
   ],
   "source": [
    "N.aceita(\"babb\")"
   ]
  },
  {
   "cell_type": "markdown",
   "metadata": {
    "id": "qOwdPRhZ4RPc",
    "slideshow": {
     "slide_type": "subslide"
    }
   },
   "source": [
    "Você pode também realizar múltiplos testes utilizando listas com casos de teste:"
   ]
  },
  {
   "cell_type": "code",
   "execution_count": 15,
   "metadata": {
    "colab": {
     "base_uri": "https://localhost:8080/"
    },
    "id": "4vQCr5z24RPc",
    "outputId": "97ad21d8-220e-4a9c-f573-65cc572b5d62"
   },
   "outputs": [
    {
     "data": {
      "text/plain": [
       "[True, True, True, True, True, True, True, True]"
      ]
     },
     "execution_count": 15,
     "metadata": {},
     "output_type": "execute_result"
    }
   ],
   "source": [
    "testes = [(\"ab\",True), (\"aab\",True), (\"abb\",True), (\"aabb\",True), (\"b\",False), (\"ba\",False), (\"bbb\",False), (\"\",False)]\n",
    "[N.aceita(entrada) == saida for entrada, saida in testes]"
   ]
  },
  {
   "cell_type": "markdown",
   "metadata": {
    "id": "NUb1FSN92BXi",
    "slideshow": {
     "slide_type": "slide"
    }
   },
   "source": [
    "## Exercícios sobre AFNs"
   ]
  },
  {
   "cell_type": "markdown",
   "metadata": {
    "id": "NUb1FSN92BXi",
    "slideshow": {
     "slide_type": "subslide"
    }
   },
   "source": [
    "1. Defina um AFN $N$ que aceite a linguagem $L_2 = \\{w \\in \\{a,b\\}^* ~|~ w \\text{ contém um número par de } a \\text{ ou um número ímpar de } b\\}$."
   ]
  },
  {
   "cell_type": "code",
   "execution_count": 16,
   "metadata": {
    "id": "jIgE9VER2BXj"
   },
   "outputs": [],
   "source": [
    "# Insira aqui o código do seu AFN"
   ]
  },
  {
   "cell_type": "markdown",
   "metadata": {
    "id": "9GL71oq82BXk",
    "slideshow": {
     "slide_type": "subslide"
    }
   },
   "source": [
    "2. Verifique se seu autômato $N$ aceita as cadeias $aab$, $ab$ e $baabaa$, e se rejeita $a$, $aaa$ e $abb$.\n"
   ]
  },
  {
   "cell_type": "code",
   "execution_count": 17,
   "metadata": {
    "id": "XDEjMrxW2BXk"
   },
   "outputs": [],
   "source": [
    "# Insira aqui os testes do seu AFN"
   ]
  },
  {
   "cell_type": "markdown",
   "metadata": {
    "id": "qDSUqOEHC6bY",
    "slideshow": {
     "slide_type": "slide"
    }
   },
   "source": [
    "# Expressões Regulares"
   ]
  },
  {
   "cell_type": "markdown",
   "metadata": {
    "id": "nxe23PTsbEQt",
    "slideshow": {
     "slide_type": "subslide"
    }
   },
   "source": [
    "As **expressões regulares** (ER) são expressões utilizadas para descrever linguagens. Do mesmo modo que a expressão algébrica $2 \\times (3 + 4)$ descreve o valor $14$, podemos definir uma expressão $(a~|~b)^*b$ para descrever a linguagem composta por todas as palavras terminadas em $b$."
   ]
  },
  {
   "cell_type": "markdown",
   "metadata": {
    "id": "nxe23PTsbEQt",
    "slideshow": {
     "slide_type": "subslide"
    }
   },
   "source": [
    "Assim como as expressões algébricas, expressões regulares possuem regras de formação. A construção de uma ER é dado formalmente pela seguinte definição.\n",
    "\n",
    "**Definição 3**: Seja $\\Sigma$ um conjunto de símbolos de alfabeto, dizemos que $E$ é uma expressão regular sobre $\\Sigma$ se $E$ for:\n",
    "1. $a \\in \\Sigma$,\n",
    "1. $\\varepsilon$, representando a cadeia vazia,\n",
    "1. $\\emptyset$, representando a linguagem vazia,\n",
    "1. $(E_1E_2)$, onde $E_1$ e $E_2$ são expressões regulares,\n",
    "1. $(E_1 ~|~ E_2)$, onde $E_1$ e $E_2$ são expressões regulares,\n",
    "1. $(E_1^*)$, onde $E_1$ é uma expressão regular."
   ]
  },
  {
   "cell_type": "markdown",
   "metadata": {
    "slideshow": {
     "slide_type": "subslide"
    }
   },
   "source": [
    "As expressões regulares $a$, $\\varepsilon$ e $\\emptyset$ representam as linguagens $\\{a\\}$, $\\{\\varepsilon\\}$ e \\{ \\}, respectivamente. As expressões $(E_1E_2)$ e $(E_1 ~|~ E_2)$ representam, respectivamente, a concatenação e união das linguagens definidas por $E_1$ e $E_2$. Por fim, a expressão $(E_1^*)$ representa o fecho estrela da linguagem definida por $E_1$, isto é, todas as possíveis concatenações das cadeias da linguagem definida por $E_1$."
   ]
  },
  {
   "cell_type": "markdown",
   "metadata": {
    "slideshow": {
     "slide_type": "subslide"
    }
   },
   "source": [
    "Seja $\\Sigma = \\{a,b\\}$, a expressão regular $E = ((a^*)b)$ definida sobre $\\Sigma$ representa a linguagem\n",
    "\n",
    "$$L(E) = \\{b, ab, aab, aaab, aaaab, ...\\}.$$"
   ]
  },
  {
   "cell_type": "markdown",
   "metadata": {
    "slideshow": {
     "slide_type": "fragment"
    }
   },
   "source": [
    "Para dar maior legibilidade a expressão, quando não houver ambiguidade, podemos omitir os parênteses da definição. Assim, $E = ((a^*)b)$ pode ser reescrita como $E=a^*b$."
   ]
  },
  {
   "cell_type": "markdown",
   "metadata": {
    "id": "ZUVnHkZO-pf1",
    "slideshow": {
     "slide_type": "slide"
    }
   },
   "source": [
    "## Implementação em Python"
   ]
  },
  {
   "cell_type": "markdown",
   "metadata": {
    "id": "ZUVnHkZO-pf1",
    "slideshow": {
     "slide_type": "subslide"
    }
   },
   "source": [
    "Em nossa implementação, uma expressão regular é representada pela classe `ER`, cujo construtor recebe uma entrada do tipo `str` representando a expressão segundo a definição Definição 3:\n",
    "\n",
    ">`E = ER(string)`"
   ]
  },
  {
   "cell_type": "markdown",
   "metadata": {
    "id": "ZUVnHkZO-pf1",
    "slideshow": {
     "slide_type": "subslide"
    }
   },
   "source": [
    "Para definir a expressão regular $\\emptyset$ não deve ser passado parâmetros para o construtor.\n",
    "\n",
    ">`E = ER()`"
   ]
  },
  {
   "cell_type": "markdown",
   "metadata": {
    "id": "ZUVnHkZO-pf1",
    "slideshow": {
     "slide_type": "subslide"
    }
   },
   "source": [
    "Nossa implementação utiliza a biblioteca de expressões regulares padrão do *Python*. Para ver uso de caracteres especiais, veja a documentação da biblioteca [`re`](https://docs.python.org/3/library/re.html).\n"
   ]
  },
  {
   "cell_type": "markdown",
   "metadata": {
    "id": "ZUVnHkZO-pf1",
    "slideshow": {
     "slide_type": "subslide"
    }
   },
   "source": [
    "Exemplo de definição de expressão regular:"
   ]
  },
  {
   "cell_type": "code",
   "execution_count": 18,
   "metadata": {
    "colab": {
     "base_uri": "https://localhost:8080/"
    },
    "id": "5M97Tg98-pf2",
    "outputId": "6d58828c-fa6d-4d84-bcab-a4c4da9fc57b"
   },
   "outputs": [
    {
     "data": {
      "text/plain": [
       "a(a|b)*b"
      ]
     },
     "execution_count": 18,
     "metadata": {},
     "output_type": "execute_result"
    }
   ],
   "source": [
    "from teocomp.language import ER\n",
    "\n",
    "E = ER(\"a(a|b)*b\")\n",
    "E"
   ]
  },
  {
   "cell_type": "markdown",
   "metadata": {
    "id": "iIUm0Hhl-pf5",
    "slideshow": {
     "slide_type": "subslide"
    }
   },
   "source": [
    "Definida a expressão regular `E`, podemos usar a função `E.gera(entrada)` para verificar se cadeias pertencem a linguagem definida por `E`, onde `entrada` deve ser composta por uma sequência de símbolos pertencentes a `Sigma`. Caso pertença, a função retornará o valor `True`."
   ]
  },
  {
   "cell_type": "code",
   "execution_count": 19,
   "metadata": {
    "colab": {
     "base_uri": "https://localhost:8080/"
    },
    "id": "y6v9gph2Cnxk",
    "outputId": "5aa1138d-8090-4a0f-de7a-434ea1113209"
   },
   "outputs": [
    {
     "data": {
      "text/plain": [
       "True"
      ]
     },
     "execution_count": 19,
     "metadata": {},
     "output_type": "execute_result"
    }
   ],
   "source": [
    "E.gera(\"ab\")"
   ]
  },
  {
   "cell_type": "markdown",
   "metadata": {
    "id": "W4_afRSc8bzk",
    "slideshow": {
     "slide_type": "subslide"
    }
   },
   "source": [
    "Caso a entrada não pertença a linguagem definida por $E$, a função retornará o valor `False`."
   ]
  },
  {
   "cell_type": "code",
   "execution_count": 20,
   "metadata": {
    "colab": {
     "base_uri": "https://localhost:8080/"
    },
    "id": "w8tUcx458bzl",
    "outputId": "a7ae869b-f256-4f06-8511-2311e0726993"
   },
   "outputs": [
    {
     "data": {
      "text/plain": [
       "False"
      ]
     },
     "execution_count": 20,
     "metadata": {},
     "output_type": "execute_result"
    }
   ],
   "source": [
    "E.gera(\"ba\")"
   ]
  },
  {
   "cell_type": "markdown",
   "metadata": {
    "id": "4Sn30C9e8bzn",
    "slideshow": {
     "slide_type": "subslide"
    }
   },
   "source": [
    "Como antes, você pode também realizar múltiplos testes utilizando listas com casos de teste:"
   ]
  },
  {
   "cell_type": "code",
   "execution_count": 21,
   "metadata": {
    "colab": {
     "base_uri": "https://localhost:8080/"
    },
    "id": "yQ9_jj9p8bzn",
    "outputId": "72a731b4-2172-4c9c-c8ab-1c5f61fef4ba"
   },
   "outputs": [
    {
     "data": {
      "text/plain": [
       "[True, True, True, True, True, True, True, True]"
      ]
     },
     "execution_count": 21,
     "metadata": {},
     "output_type": "execute_result"
    }
   ],
   "source": [
    "testes = [(\"ab\",True), (\"aab\",True), (\"abb\",True), (\"aabb\",True), (\"b\",False), (\"ba\",False), (\"bbb\",False), (\"\",False)]\n",
    "[E.gera(entrada) == saida for entrada, saida in testes]"
   ]
  },
  {
   "cell_type": "markdown",
   "metadata": {
    "id": "9838c5RO8bzo",
    "slideshow": {
     "slide_type": "slide"
    }
   },
   "source": [
    "## Exercícios sobre ERs\n"
   ]
  },
  {
   "cell_type": "markdown",
   "metadata": {
    "id": "9838c5RO8bzo",
    "slideshow": {
     "slide_type": "subslide"
    }
   },
   "source": [
    "1. Defina uma ER $E$ que represente a linguagem $L_3 = \\{w \\in \\{a,b\\}^* ~|~ w \\text{ todo } a \\text{ é precedido por um } b\\}$.\n"
   ]
  },
  {
   "cell_type": "code",
   "execution_count": 22,
   "metadata": {
    "id": "v5ccIqc58bzo"
   },
   "outputs": [],
   "source": [
    "# Insira aqui o código da sua ER"
   ]
  },
  {
   "cell_type": "markdown",
   "metadata": {
    "id": "SD8slw2J8bzo",
    "slideshow": {
     "slide_type": "subslide"
    }
   },
   "source": [
    "2. Verifique se sua expressão regular gera as cadeias $ba$, $babb$ e $babab$, e não gera $a$, $ab$ e $baa$.\n"
   ]
  },
  {
   "cell_type": "code",
   "execution_count": 23,
   "metadata": {
    "id": "s51f47WL8bzp"
   },
   "outputs": [],
   "source": [
    "# Insira aqui os testes da sua ER"
   ]
  },
  {
   "cell_type": "markdown",
   "metadata": {
    "id": "JyWM7C1jClte",
    "slideshow": {
     "slide_type": "slide"
    }
   },
   "source": [
    "# Autômato de Pilha"
   ]
  },
  {
   "cell_type": "markdown",
   "metadata": {
    "id": "l7ba5lE3E3gS",
    "slideshow": {
     "slide_type": "subslide"
    }
   },
   "source": [
    "Os **autômatos de pilha** (AP) são modelos de computação que possuem uma memória do tipo FILO (*first in, last out*), fazendo analogia a uma pilha de objetos, onde só podemos ter acesso aquele que está no topo."
   ]
  },
  {
   "cell_type": "markdown",
   "metadata": {
    "id": "l7ba5lE3E3gS",
    "slideshow": {
     "slide_type": "subslide"
    }
   },
   "source": [
    "Nesse modelo, temos um alfabeto específico para a escrita nessa memória, chamado de *alfabeto de pilha*. As transições se assemelham àquelas dos autômatos finitos não-determinísticos, porém a ocorrência da transição também leva em conta a informação encontrada no topo da pilha de memória."
   ]
  },
  {
   "cell_type": "markdown",
   "metadata": {
    "id": "l7ba5lE3E3gS",
    "slideshow": {
     "slide_type": "subslide"
    }
   },
   "source": [
    "Assim como para AFNs, graficamente descrevemos um AP por meio de uma representação de estados ligados por arestas rotuladas. Utilizamos nessas arestas rótulos do tipo\n",
    "\n",
    "$$a, b \\rightarrow c$$\n",
    "\n",
    "para indicar que para a transição ocorrer o autômato espera ler $a$ da entrada e ter $b$ no topo da pilha. Com a transição de estado, o autômato irá desempilhar $b$ e em seu lugar empilhar o símbolo $c$."
   ]
  },
  {
   "cell_type": "markdown",
   "metadata": {
    "id": "27JMfej4MyOV",
    "slideshow": {
     "slide_type": "subslide"
    }
   },
   "source": [
    "**Figura 3**: Exemplo de diagrama de estados de um AP.\n",
    "\n",
    "![image.png](data:image/png;base64,iVBORw0KGgoAAAANSUhEUgAAAmAAAAB5CAIAAAARTwr9AAAgAElEQVR4Ae19fZATRfp/78IuWLzM8HoLwmbAF9xll4SX5WV5mbCgrvKSKJygUE7Opaw7FZM7xJdbi0TF10KSQ0qlzjKp8uVU1KzloVDqBRXu9NgzBScv6kE4UA6VZVxWcGVf5ltH/65rfjOTZDIvyWzy7B/Q6Xm6++nPM09/up/umUEC/AECgAAgAAgAAoCADAEky4EMQAAQAAQAAUAAEBCAIOEmAAQAAUAAEAAEFBAAglQABbIAAUAAEAAEAAEgSLgHAAFAABAABAABBQSAIBVAgSxAABAABAABQAAIEu4BQAAQAAQAAUBAAQEgSAVQIAsQAAQAAUAAEACChHsAEAAEzEXglVdemTZtGkKoo6PD3JagdkDAUASAIA2FEyoDBAABJQT8fj8QpBIwkGdpBIAgLW0eUA4QyA8EMEF2dnbmR3egFwWCABBkgRgaugkI5BIBTJC51ADaBgQyRwAIMnPMoEQWEYjFYhMmTHA6nbW1tTU1NX//+98VG29tbV29evXEiRPnzp07bty42tra9vZ2Rcm0md3d3T6fr2/fvjRNP/HEE4IgPPzwwxRF3Xrrrd9//33a4iCgiIDf7y8pKfntb387evToPn36OByOt956Sy559OjR5cuXI4QqKyvfeuutlpaWVatWDR48+MEHH5QLZ5SzcePGSZMm1dXVORyOqqqq5ubmjIqDcGEiAARZmHbvMb1+4YUXnnnmGazurFmzpkyZoqj60qVLx4wZ09raKghCZ2fnnDlzzp07pyipMvPRRx8tKir66KOPBEF49dVXf/e736ksCGKKCOAV5MGDB8+fP3/s2LHFixcXFxfv3r1bUbi+vn748OEtLS2CINx2222KVKpYMFnm5s2bi4uL9+7diwUaGxvfeeedZMKQDwgQBIAgCRSQsCIChw8fPnXqFNbszjvvHDhwoKKWDMPccMMN5NKxY8e6urrITw2Jjo4Oh8Mxbty4L7744sorrzx//ryGSqAIQUBySOfbb78tLS1dsWIFERAnjh492q9fP47jmpqavF6v+JK2tMfjGT58OCl75swZzL4kBxKAgCICQJCKsECmFRFYs2ZNv379FDVbt27dyJEjv/vuO8WryTIPHTq0a9euZFebm5t79eo1cuTIw4cPJ5OBfJUISAhSEITLL7+8uro6WfFQKIQQmj179s8//5xMRp6/ffv2r7/+Wp6/Y8eOkpKSjz/+WH4JcgCBFAgAQaYABy7lHoFdu3YtX7580aJFy5YtGzduXDKCbGlpqa+vr6ysnD59emVlJc/zalRvb2+vrq7evn17MuGFCxeWlJT885//TCYA+SoRkBNkTU3NZZddlqz4+fPnBw8ePHbs2IxC5fv376+srDxy5Iik2s7Ozvvuu6+srGzOnDnV1dU7duyQCMBPQEARASBIRVgg0xIIHD16tLS09JFHHsHaJFtBtrW1MQzj8XiSKR2LxRYk+bviiiuKioo2btwoLxuLxVauXMkwzIwZM7q7u+UCkKMeATlBjhkzpra2NlkNDzzwwNq1a3v37n3PPffIZTZt2pTEnguGDRvWv39/yWJxyZIlVVVVbW1t8qogBxBIgQAQZApw4FKOEYhGowihPXv2YD2SEeSuXbsQQi+//HIyddvb279P8rdgwYIbb7xRvuJsaWlxOp1tbW3btm1DCD399NPJKod8NQhICPLEiRPFxcWK5CcIwl//+le8PYk5khyuIQ21tbUp2vPo0aPl5eWPPfaY+IHL7u7ukpKSW2+9lRSHBCCgEgEgSJVAgVgOEGhubkYINTY28jy/b9++q666ioRYN2zY0L9//5deekkQhNOnTw8cOHDq1KkHDhzo7u5ub29vbm5W3IuS9GHv3r2rV69WXB0uW7aMPFKydOlSiqJOnDghKQ4/1SMgJsiurq6bb7558ODB33zzjSAIu3btoijq9ttvx7X98MMPTqcTT1nOnj1rs9mmTZum8sjVli1bXnzxRblWs2bNGjJkyPvvv9/R0dHZ2fnVV1/t27dPLgY5gIAEASBICSDw01oI4JOrgwYN4jjuoYceKi4uXr58eUdHx5NPPokQWrRoEVZ39+7ddXV1gwYNGjhwYGVlZWNj4+nTp7X15ODBgzfffPOYMWMikYggCEeOHFm6dClCaOrUqdu2bdNWJ5T65JNPbrrpprq6utra2tGjRy9cuHD//v3Edn369BkwYIAgCO+++y7LsnPmzMEP2HzwwQc1NTUIoaVLlx44cEAzjMePH1+xYkVZWdlFF100duxYj8dz6NAhzbVBwcJBAAiycGydbz294447fD5fvvWqIPvz+uuvOxyOguw6dNrSCABBWto8oFwyBL799tu6ujr5ecVk8pBvWQR+/vnnhoaGN954w7IagmIFiwAQZMGavgd3/Kefflq5ciVEyXqwCUWq33XXXe+++64oA5KAgFUQAIK0iiVAD0AAEAAEAAFLIQAEaSlzgDLGIJBIJAKBgNPpdDgc6H9/NE07nc5QKBSPx41pBmoxH4FYLObz+SSmZBjG7XaHQqFEImG+CtBC4SIABFm4ts/LnsdiMbfbjRCy2Wwul8vv94fD4VgsFo1G/X4/x3EURSGEnE5nLBbLSwTyplPRaNTpdCKE7HY7x3F+vz8ajcZisXA47Pf7XS4Xnvl4PB6gybwxutU6AgRpNYuAPtoR4DgOIcSybDgcTlFLLBaz2+0IoUAgkEIMLuUKAZ7n8dKfZdnU85hwOGyz2WiaTm3xXHUE2u3pCABB9nQLgv7/DwHMjuoHymAwiBBK8YI6QDYnCGB2pChKfSQ8U9PnpF/QaE9EAAiyJ1oNdJYigGOn6tkRlw+Hwwghv98vrQ5+5wgBDeyINcVv6olGozlSHJrNTwSAIPPTrgXVK8xz6hccYnBwWRhYxZjkMI0nOtpMyXEcTdOwH5lD8+Vf00CQ+WfTwuoRz/M0TetZBbpcLoZhCgs1S/Y2Ho8jhDINA4i7YrPZ3G63OAfSgIAeBIAg9aAHZXOPgNfrpShK/jkO9ZolEgmEUDAYVF8EJM1AgL3wp6dm/PmX1Od69NQPZQsNASDIQrN4XvUXc5ueNQeGg+M4WETm9s7A3KYtuCrWnGVZjuPEOZAGBDQjAASpGToomHsEvF6vzWbTrwcO7sHKQz+SmmtwXfjTXJwUxJvKeiIKpCpIAAJAkHAP9GAEbDab1+s1pAP4aXRDqoJKMkWA53mdu4+kRZ7nKYrSH1QgFUKikBEAgixk6/fsvuNln/6gHEbB7/dDlDVXN4Sxyz6jFqO5QgPatQ4CQJDWsQVokhkCRsVXcauxWAwhBA8JZGYDg6SNpbRgMEjTtEGqQTUFjQAQZEGbv0d3Xv9xjHg8vlP0hxC69957Yfsq+3cFRVE6TxHHYjFiyeeeew4h9Morr2S/I9BiniEABJlnBi2g7thsNj2PPwqC4PV6//epD+X/jYrfFpBVNHUVIaTzhBR5d7myIRGCeY8myxR6ISDIQr8Dem7/EUI634CDdzGTDamjRo3queD0IM0NCW7jXUxFUxYXF8ODHz3ofrCUqkCQljIHKKMWAaNO6IwcOVJxVO3Vq5fO5ananhS8HOY2nTDgc7CKptQ/kdKpGxTvuQgAQfZc2xW05njZoR8Cr9fbu3dvxYEVDuzoh1dNDX6/3263q5FMLXPttdcq2nHkyJGpC8JVQCAZAkCQyZCBfEsjYBRBJouyzpw509L9zyPl/H4/y7L6OxQOh0tKSiQc2bt3b6OelNWvIdSQGgEL7hMDQaY2GVy1KAJGEaQgCIpRVnjSPGuGN4og8XsHJQSJEIKTVlkzpcqGEolEJBIJBALOC3/449hiwzEMgy/5fL5QKJTDWA4QpEqbgpi1EDCQIOVR1n79+llwMmstAxinjVEEKQhCVVWVeJxFCFVUVBinKdSkC4F4PB4IBAgd4nfT+y/8BYPB2P/+wuEwznS5XCzLUhSFEGIYxufzNTU16dIg88JAkJljBiUsgICBBCmJspaWlsKhx2xa2ECCDAaD4ihrSUmJzscrs4lDvrbF83wgEKBpGiGE3w2Z6eHzeDzu9XrtdjtCiKZpj8eTtTUlEGS+3pZ53i8DCVIeZdX5TF6eQ2909/x+v8PhMKRWeZQVIgGGAKutEkKN+EUQ+mPdiUQiGAzabDaEkM/ny4JxgSC1mR5K5RgBvOwzisnEUVY49Jhl0xrymAfRmURZe/fu7XK5SD4ksoxAJBJhGIaiKL/fbziThcNhiqJomg4EAoZXLgYKCPK/aOzcuRNvGgcCAbfbjfeHnU6nz+cLBAKhUGjnzp2mmkFsEkirRCDZ61fi8XhTU1Pgwp/H45FYMxAI7Ny5UxKiIVHW0tJSOPSoEn+jxHAwQGIRXHkyx8TGVXRMcZQ101CeUT0q8Hri8TjDMAghjuNSDJvxeFxx1HU6nWL7JgOT53m/349p0jxDFy5B8jwfiUTcbjcOjuP4ON439nq9fr8fbxGzLEu2/R0ORygU0h8oSGZyyM8IATw5xUV4nm9qavJ4PBlZ0+fzEWuSs6yKI3VGioFwRgjgZ/xJMAAfcRQ7pt1uFx/okDum0+kkjkmirAMGDMhIDRA2BIFoNErTNMuyyfwI+ylmUISQxLh4Q5plWbzjSDYdI5GIItfyPM9xHEIoFAoZor+kkkIkyFgs5nQ6Me25XK5gMJjMlmKwotEox3E4/M0wjNlLe3HTkFZEgGVZr9cbj8fdbje2JsuywWCQcJ5iKZwZjUbxx0CwBwYCgV//+tcIoaqqqhSl4JJJCOCPQcZiMXLE0eVyhcPhtI7J8zx2THLWMRQKVVRUIIQgEmCSsVJUGwqF8MJRLpNIJDweD/ZTu93u9/vV+CnedCSrFLfbrVgqGAwihDwej7xdnTmFRZDxeBxTI8uy0WhUcUqSFlB8pIqiKIZhIpFIWnkQMAmBJUuWVFZWIoRYlg2Hw9qsmUgkcKCmX79+Rn2z16T+5nG1M2fOvOKKKxBCLpdLc7gMOyZCaPDgwfD4Y/bvFsx/8geI8VEdHKJTM+lR1BzPhDBTKp5ijUajFEU5HA5t44Bio4IgFApBkvkLy7IkmJMMFDX5ZGnPMIwhFappFGQwAjzP+3w+7HKax1MxmHg/o6ioqLy8HCY9YmTMTicSCRwAMMoxE4nEkiVLEEIOhwMc02zz4fp5nnc4HBRFyQHHD3hQFCUnTm26RaPRZKdY4/G43W5nGEZxlamtuYIgyHg8TtO0zWYzykgE60QigSPgPp+PZELCVATwEQADXY5o+/bbb2NrejweY+ehpAlIiBHA+1U2m00+sIrFNKT/9Kc/4dVGIBDQUByKZISA0+m02WwSWiKsad4pVofDIW8Uc6RR/pv/BIkPkac+T5XR3SAXxmeO3W63UVaRNwE5GAE8pNrtdvOgjsViZsRqwIISBFLsV0kkNf/Evg/THc0Aqino8XgoipIQFZ7FyllTTYUqZXiet9vtNE1LZlc8z9tsNqOerM1zgsSBuCx8tygej+NRNe2xApXmBzE5AlkYUnGjOFZD07TE7eUqQY42BPB+VRZecwPTHW0GUlkKT0Ek2xxZmMUS9RSPsOLR2JAzO/lMkHhqY3hYldhGkiAzGhhVJcgY8jNrQyrWlud5lmVpmpY4vyF9KeRKSOQta8DCdMek+w0/wCqZ5ZCInUmNyqtVPMIajUYRQhLd5GXT5uQtQSou/NPCoVMAj6oMw5gXANSpoVHFOY7L5loZ+0DW5joEJY7jYB1J0DAkkSvHtNvthh9x1A8IPsSgv57s14APdkjeWowpM/sP2GBWlowPeNDQOQ/LT4JUxCs79xBeRxoVAc+Ozhm18vzzz9fW1g4dOrSiosJms91www0ZFdcgbNRkUEPTgiBYc2DV1pecl/L7/cnef2S2bjzPUxTldDrNbkhl/ceOHVu5cmV1dfXQoUPHjh07ceLE7du3qyxrBTGn0yn5zLUiZWZNVUyHkv1Il8vFMIweHfKQIPEsJgv7jslwNzACnqyJXOU//vjj5eXlx48fxyvIY8eOXXrppaYqk1uvEwQB7/lbZ2A1FW1TK8/htBX3Cztm9tc3clRPnz598cUXP/jgg3gF2dXVdddddz311FNySWvm4DFWzEY4cm7q6bm0UMjjPYlEQvy+rbQ1yAXyjSATiQRN05KFv7zbZucoRufNbjQL9Y8YMWLNmjWCIJAQ63XXXWdeuzzPMwwjmaia11yymvN4xpOsy4bn53yig3uUc5LGamzZsgUh1NbWRkKsH3zwQQ8iSIfDwbKs+CZxOp0UReV8a0ke7/H7/TRNa1Ys3wgSL/w1wyE2uc40XvJnc6NOp8Jpi3d3d/fq1ev6668XE2RXV1fagpoFvF6vFbxOEAQc5hVPmTV3qjALOp1OyZCaKxx0jpiGqP3ggw8ihPbt20cIUhCE7u5uQyo3uxI8yRCPbDjHCocTcSBdHD6U52SET14RpHzhnxEWhgvbbDbz1rKtra2rV6+eOHHi3Llzx40bV1tb297eLu/Ctm3bZs+ezbLsjBkzLrnkkueee04uoz6npqYGIfTII48sW7ZM7CHqa1Avid86Ldl4V1/ccEmWZU0NtG7cuHHSpEl1dXUOh6Oqqqq5uVnehYMHDy5ZsmT69Olz5sy55JJLfvOb38hlMspR02hGFSoKW2p6oXPEVOygOFONY27btg2/pxu/SFZcXE/aWGdPpgnDMJJhTZ6TrGwW8oPBIE3T4tFJnqNejbwiSOvMUrEB5FMt9YZJK7l06dIxY8a0trYKgtDZ2Tlnzpxz585JSu3du7dXr14kdPPee+/dfffdEpmMfn7yyScDBw7EbxxetWrVF198kVHxjITxq+EzKmKqsKnTr82bNxcXF+/duxd3obGx8Z133pF0p6OjY8SIEb/85S/xqv3UqVNXXnmlRCajn2oazajCZMKWGkAFQci5Y3Z3d994443Yj8aMGROJRDo6OpKhpzLfcGdXbBe/FEVCPwghcY5iwWxmylcm8hyV+uQPQeJZqhWW+WLozVt2MAwjPkF67NgxebQzEokghA4cOEBUOnr0KElrS3z99ddr1qzB74Pu1avX/fffr62e1KXwBxp1HtFO3YSGqxzH6TwUl6xRj8czfPhwcvXMmTMtLS3kJ04cPXoUIfT000+TfJ3WVNMoaUtzwlQ20qyV5hEzbYtqHBNXsnXrVvKdissuu+zLL79MW3kKATOcXd6cy+USLx95nqdpWhzSlBfJfo78lgsGg9o8N38I0mqzVHxb4GWHGbS9bt26kSNHfvfddynuvxMnTvziF79Yv359ChnFS9u3b//6668VL+FMjuMef/zxUaNGIYRee+21FJLaLuFv/mkra14p86K+O3bsKCkp+fjjj1Mo393d7XQ66+vrM11tHDp0aNeuXfKa1TQqL5VpjjUdUz6GZtqvZPJqHJOUTSQSV111FX4dzPjx49VsQyazpmZnJ8qkTeAvd4p3PfCXcKxw5kOivN1ud7lcJBNPuDWMw3lCkJr7TxA0L2G32804Wd7S0lJfX19ZWTl9+vTKyspk9+hrr702ZMgQp9PpcDgeeughld3cv39/ZWXlkSNHksnjU6yHDx8uKSlZvnx5MjFt+XI/1FaPGaVcF/4Mr7mzs/O+++4rKyubM2dOdXX1jh07FJvYt2/fpZdeOmPGjClTpixevFhRRp7Z3t5eXV0tf8xOZaPyCtXn4AmipeJvRHmbzab/TSukNpJQ6ZhYnhzSaWhoQAgdOnSI1JMskcyagiBoc/ZkDcnzcZROPNQ4HA4zBjd505nm4AmQuJTNZtOw0s0TggwGgxRFieGwTtrr9Wpb3afoQltbG8MwaV82+NRTT/Xt2/fgwYPJqtq0adOCJH/Dhg3r37+/eE3zr3/9680338RVkcc8KioqFi1alKx+bflyP9RWjxmlwuEwTdOG17xkyZKqqqq2trYUNTc3N/fp00c8f5cIx2KxJMZccMUVVxQVFW3cuFFcRE2jYnkNafxVag0Fs1CE4zjDX+ih0jGfeOIJ3EFCkK+++ipC6B//+AfpeKbWTOvspGbNCY7jxM9c4YCK1fZBCLAIIbFuXq9Xg7nzhCAdDoc4Mq75DpAUPHLkyMKFC2fPnu1wOBoaGn744QeJgJqfZkyid+3ahRB6+eWXUyswf/78yy+/PIVMW1vb90p/R48eLS8vf+yxxzo7O0nxPXv2rFq1Cv/EBNnZ2TlkyJB77rmHyBiS4DjOpEcCurq6nnnmmZEjR2rW04xBobu7u6Sk5NZbb02t1fr16xFCJ06cSCbW3t6uZMz/5i1YsODGG28Uz/1VNpqsLZX5ZqwwXnvttSlTplx++eU1NTUTJkxYu3bt6dOnVeojFjNjHqbSMRcsWIC3MAhBhkKh3r17i2dIGVlTEIS0zi7uu7Y0TdPiNTc+sKOtqmSlvvzyS6fTWV5ePmnSpOrqapfL9dlnnyUTTp1vt9vFpIDNnWkwIx8IEkfkxJOF1MCpvHrmzBmGYR599FF8TPSqq67SfGiQoijxjaVSgRRip0+fHjhw4NSpUw8cONDd3d3e3t7c3Ixdzu12l5WV4YM5999/f1FR0ebNm8+ePdvd3X3y5EnxijBF/Vu2bHnxxRclAnv27Bk6dCiO/nEcd/jw4cbGxgEDBnzzzTcSSZ0/JX6oszZS/NNPP8UvyevTpw/J1JAwI2Y+a9asIUOGvP/++x0dHZ2dnV999dW+ffsEQdiwYUP//v1feuklQRDee+89hNAtt9xy8uRJQRDOnDnzwQcfqNmP3Lt37+rVq+X7W8ka1YCJYhE8mTD84dHGxsYnnngCd+ff//73xRdfPG3aNHnvFFWSZCKEUqzIJcJqfiZzzB9++IFhmJqaGvws1oIFCziOa2lpwQT55ZdflpeX41dwpG0lmTU1O3vaFrGAfBvLjO2Gjz/++Oqrrz579qwgCO3t7YsXL6Zp+vjx4yqVFIv5/X5J6E6Dua1LkOqpHoebxbNjMUya0xs3buzTpw82lSAIH374oebXSJqxJNq9e3ddXd2gQYMGDhxYWVnZ2NiI59GLFi1CCD355JOCIJw/f/7ee+8dM2ZM3759R40aVV9f/95772kG5NSpU3feeWdNTc2kSZOGDx9eVlY2e/bsTz75RE2F6q2J/VC9vJrWBUE4e/bs5s2bT5061dDQoJMg5Y6nUocUYsePH1+xYkVZWdlFF100duxYj8eDt6OefPJJhBAJYofDYbvd3q9fv2HDhk2bNu3ZZ5+VH11O0YrkUrJGJWKSn+pNY9LGx4YNG8QHPn//+98jhBQfG5VoLv9pxhCv6Jitra0XX3wxCaK+/vrrixYtGj9+/JQpUwYOHDhq1Kh77rnn/Pnzcg3V52hzdvXWxCswsT4a+EZcXDG9e/fuDRs2kEs4/CY+uU0upU3IGZ1l2Uy3Ia1LkCzLVlZWhkKhtCb0+/1mROTmzp0rjlm3t7f36tVL2460GUNqsvvj/PnzEydObGpqSiZgSD7Zg1RZG0KourpajTXlfqiyCZVi+gkSO63K5vSL3XHHHT6fT389RtXAsuyoUaMCgUCuHFPSkU2bNiGE5I+NSsQUf5o0dCi2dfLkydLS0lOnTomvkhCrODObaeKYaRcY+MAq0Q3Tj+HhAVI/Tnz++ecIoUxZjVQiWdKwLCsOuhKxFAlLEyRCqFevXmlNqOcub2lpaWhosNlstbW1V1555YQJE6ZMmYLxGjp06LXXXivGbuTIkXV1deIclWmzB32xGs3NzXPnzhXvHYqvGpWORqNpPUrcFn4muqSkBCG0YMGCSCSSrLjf77fZbOKy6tNdXV3r16+/7LLLJk+ePH/+/JkzZ5aUlIj3dQRBMIogk+mvXls1kt9++21dXV2K48RqKjFWBj+6V1paihBKPYXV86xOCseUdGfdunUIof3790vy1fzEr51TI6lf5o9//KN8es3zvOF7QxmpmpFjitcheJqo2QvefPPNSZMmVVRU1NXVzZs3j6Kot99+W645fuXQG2+8Ib+kJkdCrhoieekJkuf5QCDgdDo9Ho/Z8wVxn8kjtGlNyLKs+JEXcSWp011dXdOnTx8/fjyZ1l199dWTJ08WBKGrqwshtGzZMnENFRUV48ePF+eoTGdtzfHpp5/6fD78eh2VumVHDBtR8q/b7Y5EIhIF9Ex31q5d279//z179uA6H330UfxKaHET+gnSpK01sZI4/dNPP61cuVLN0X95WfNyFB1z1qxZ8kmPhogWVjuFY8r7NW/evIqKCnm+mpysOeZzzz33hz/8QdtGqZqOaJaRuCT+6Xa75SEoCbvoge7Pf/5zUVHRs88+i9X+29/+hhCSE+TJkydnzpxZX1+veR9BcgdqGFvSE+To0aNLS0tLSkrwnDFr8x2JH0oMKTahBAX198qOHTsQQi+88AIpQgjy3LlzCKGbbrqJXBIEYcKECZdccok4R2Ua30waHlNVWb/1xSTmwz/xgrJfv34ej4c4pMQP1XettbW1b9++DQ0NpIhJBCkIgiR0Q1oshERaxyRMaYZjShD+/PPPi4uLt23bJslX+VPPKK+yCYuLqXdMSXwSf9pTW+9mzJgh/kyenCCffvrp4cOHFxUVLV++XM8ZQJZlxat2DQGDNASJbyACYmlp6bx582JZ+cPvxSZNSxLisXXMmDHagtSBQEDycC4hSLyCFL/LTRCEioqKqqoqbfcEQmjz5s1ZQc6KjUjMJ/mJA+kDBgzweDyTJ08W39Pq0d65cydCiExLBUEwlSAffvhhKwJtvk6TJk2SmE/8U+yYCCFth7dTOKb4fjh37tzkyZPXrVsnzswojTfSgsGg+bBZtAWx7eRpvCgaMGCAz+ebPHmyeJjVsBrDpuno6Ojdu7f47SJygsSSP/7446ZNmwYMGEBmzxkZVxAESZBfw1ZXZgSJECorK5PjaEbOsGHD1Fc7ffr0TLETBMHr9SKExG9rIwQpCMKwYcPq6+vF1eyHZAQAAA1xSURBVJaVlc2bN0+coz6NEMqoR+r7nmeSffv2vfrqq9UDSyTx3S9+752pBDlhwoQ8Q15ld/r3759WsqioCMssXLhQwzZVasfEFu/o6Fi8ePHatWvJDaAhgZ8QS9sdEEAISRxTM0FizG+77TZir2QEiQXq6upGjBhBhDNKSJTUEDBIQ5B4hkXuj5KSkkxPAWXUH7FwikgOmaVyHBeNRjVHchobG5OtIAVBmDdvXnV1NVHp3LlzxcXF2hY3Wdu1ItpaLUFuIXmCLB85jovFYpp3lPFjgllbQWZtr8FqpkzrmAgh7JiaP+ae2jHx80vXXXfdAw88oBMc2PuQ+yPJIY7p9Xrj8bhkmPX7/eJD/uoN8fPPP+PYKSmSmiBvueUWhJC2l7RIBhP5++eIDskSaQiSLLMwaqNGjUp7tjtZS5nmp/BDl8slfrxXEmhW3xB+vdPzzz9PiohXkKFQqLS09Mcff8RX//KXvyCE3n//fSKsPoH9MGvQqVcsa5LE60hCMsshmni9XvFhOZKfNvGf//ynqKjo5ptvJpKmriCzeWCN9MgKCUXHxNa89tprw+EwWTJKhlT1yqd2zHPnzi1cuHDz5s3qK0wmqWFJkayqHppP/JEkkjmmfrIhEFVUVDAMQ44siQnS5/NJPpMwd+5ciqK0ndOR3IF+v1/8qjyiT4pEeoIUBCEej0ej0VgsRm79FDUadUnsh4ruRxqSBJpJftrE2bNnR48eXV5e/umnn3Z1dZ0+fXr69On4FKsgCPi1ivgF3x0dHfPmzdP2jIcgCOCHxP1IAs9y5HeUJCqS1ohigeuvv760tPTll19ub2//6aeffD6fGadYsTWBIBFCvXv3RghVVVWJeZFYRHKsg+SnTaR2zPnz58+ZMyf4//999NFHaauVC2hYUsgr6dE5xB9JwuVyKUZHJI6pZ0zDj67efffdPM93dnZu3bqVnGJds2YN+X6tIAhbt24tKip67LHHtIHscDh07puqIkhtyuksRQiyqqoqGAymWH5JLJdRuwcOHJg/f/5FF100fPjw66+/fubMmYQgBUE4fPjwNddcM3PmzIkTJ65atUrbMl8QhGAwiJB1oc4IMW3CxP1mzpypOJiSavWcjmttbf3Vr36F3y5UW1u7YsUKQpCtra133HHHkiVLRowYUVRUdM011zQ0NHz44YekXfUJPUOD+lYsK0kcs6KiIrVjaj6QLAhCCsekKIrcTiSh8j1tElT1PHQrqaqH/iQASlb/8u5IYqrYC1IMy/IaxDmPPPLI6NGj+/btW1lZuWbNGkKQW7dunTp16rhx42pqaiZOnMiyrCJbi6tKkZa864e98JdCXn7JuqM2x3Gp3Y90xsD31CxcuFBMkKQJnQkNS3udLVqtuN1uV2lNA+lnw4YNhCANBETDWTgDW895VRzHeb1eNSOjZEjVo7lJjqk5nq+nL5Yqix1THsiRKymZ5eOzNobEUZqbmwlBytvVkyN5HEsScVVTs3UJUo32WEbnXEbckHgPUpyvM6051qSz3Z5Y3MDPZSjuQerHRPLRH/0V5msNeCahZvBNi4BJjmnGx0bS9qWHCshnrkZ9UFO8B2kgOPLbTxJxVdNWPhCkIAhGfS7DDD/EUy3xqSI1hilkGaM+l2ESQTIMo+3xvkKzqYF3vhmOaeBUrBAsK4fLqA9qmkSQkomsXH81VssTguQ4Ttvb5sQYrV+/vqysbNCgQVu2bBHn60yb9LERnVpZubghn5jeunXrxIkTEUK33367gZ2VfyLAwMrzryqXy6X/wTDzHNOyX1m35p0gmbnKl2ga1P7ss88WL16MEKqvr9f2WatkjTIMIz6ho+1AVp4QpJVJSM9RhWS2z+98TEJqdrmyjwMc68gI82AwSNN0RkWyJmzGt66ypnxOGpLPXCWnYHKilWKj8omsNnPnCUHiYI6e806KKBuSadLnfw3RzbKVaH7G3Owewa5VRghri2tl1IQ2YQPDv9oU6ImljGKdLPTd6/VKPgqkjcvzhCDxa/ck34/OghnSNoE/ombNxVBa5XMogF8rbMj5DgN7gWNKhpzcM1Ari1fFsqzT6bSaktgxrXaDWQ0luT6S0x44dGe1zzDwPE/TtDi+ij1XwzicPwSJ56qWOgsjt5P8hoMcRQR4nrfgIpJhGP07aor9zeNMfPrRUrOKRCIhGUDzGH9juyY/mGPBCZB89uP1ejN9hw7GLX8IUhAEjuMstYiU28nYmzW/a7PaIhJPljVMQvPbTGp6ZzXH5DhOEn9T0wuQIS8FE093rDYBwisl8TlzPWunvCJISy078CxVbCdwsEwRsNlsFlmx8TzPMIy2V9Vn2uv8k9czQhmOhqWUMbx3WahQvmRkWVbbi8vN0FY++5HnqG83rwhSEAS87LBCTNztdsMsVf2NqCiJF23i6aqiWBYyPR4PRVGwZaUZao7jaJq2wvrb4XCAY2q2oyAI8hkGzrHCYgAvZ8UbbXJtM+p7vhGkIAh2u93hcOR2LPN6vRRFWYGnM7obLCiMB9bcIol5Wux1FgTK4irxPG8Fx8QTndzeTha3lBr15DFz/CK63D5HEI/HaZqWxJycTqe2rwNhHPKQIHmet9lsOTw4B+OpGh9TKZPzgRXPScUn4lRqDmISBBKJBEVRbrdbkp+1n1YYxLPWWVMbUlwy5nYuy/O8w+GQnMTRvz+ahwSJv89FUZTH4zH1LlGsHD8qBOOpIjjaMvHWck5mPIpzUm29gFLYMRFCOdnKxQf9rRAGzI87QXEzy263MwyTk+id0+m02WzipjFl6lk+CoKQnwQpCAL2h0AgkM3bEY+n+l96l02de0Rb8Xg8+zOeeDyO56Rir+sRcFlZSRxfCYVC2VQyFovJg2/ZVCAv25LHzHH0Lvs7XIqRc6fTqf/cQN4SpCAI2BU9Hk92BrhwOEzTtMvlyk5zeelyKToVjUYpisqa7+Eh1W63gzVTGEXbJeKY2opnWgo3J9mayrQSkJcjoLiZFY/HbTYbwzDZ2ejFy0T5gQ9FypR3IW1OPhMkibVmYVTFH6/PSeworY3zRiBrvkeGVGBHk26erE13PB4PQgi2PEyyo2JoB58boGna7DM78XicYRi73S4hY+y/hpyqy3OCxIeS7XY7TdMmPS3A87zb7db2oj+T7to8rtZs3+N5HobU7Nw/Zk93eJ7HQTZDBsrsYNITW8GbWXKQOY5DCJkXS49GozRNsywrmcUae6ou/wlSEASe510uF0LI7XYb+CQWz/OBQICmafkCvyfe6D1IZ+x7TqfT2ElPJBJhGIaiKLm39yBwepCqPM+zLIsQ8ng8ZjimzWaTrC16EDg9SFW/36+4QsDHhhmGMdZPY7GY0+lECMnD5pg15fmawSwIgsToxGIxm82GvVEy6dAAHxlM/X6//to0KFDgRWKxmIFjazQaZRgGH7AEa2b51gqHw9gxfT6ffvBDoRCes0JYNZt2xFwof3AgkUgYOJ1NJBI4wMOyrJx0Q6GQImvqwaGACBLDhL2RpmmPxxOJRDJ1yJ07d/p8PjyYchyXaXE9poKycgTIpMftdkcikUxXIfF4PBAIOBwO7FeZFpfrAzmaEQiHwxRFaXbMpqYm4pgwZ9VsBT0F8b6y0+mUj4pkOut0OkOhUKaOxvN8JBLBO1k2m01OjYIgYOI0/DGegiNIfAcEg0EcdEUIORyOUCi088Kf3HI4PxKJeDwemqYRQjabzev1yiX13FtQVg8C4XBYbM1AIJDamk1NTR6PB89ysDUVXU6PSlBWAwI8zweDQRwYQAjhwRSbUj7mEsd0u93YMfH37sExNSBvVBG8r+xwOBQj27FYjOM4iqIQQgzD+Hy+ZMbleR5fCoVCeP6KEHK5XIp7H+QgqxlnggqUIPENwfN8NBolNkMp/1iWDQaD4H5G+ZIZ9USjUfyh1JSW/O9Fu90eDAYV3dgMxaDOjBDgeT4cDis6JuZCsX1dLhc4ZkbwmipMjtEFAgH5tAY3HYvFFP0U7yyKjYs/V5CC+fBWl3mbzQVNkJIbJZFIxC78BYNBv98fjUZjsRiMoRKUespPnuexNcPhMLEmrBR7ivnEekocE5sVHFMMkdXS+Et/DMNEIpHUukmM6/f7Vdo3FotlYasLCDK1+eAqIAAIAAKAQMYI8DyPj+eYd4rV5XKZHdIDgszY8FAAEAAEAAFAQA0C5BSrw+Hw+Xx61v3xeJxsSSqeYlWjT6YyQJCZIgbygAAgAAgAAhkgIN50xAeVm5qaku1QSuoVn0+mKIrjuGxulABBSswBPwEBQAAQAARMQSCRSIgPKuPzOM4Lf263OxAIeDwe/FN8GgufT9az+tTcGSBIzdBBQUAAEAAEAAEtCJAzdP4Lf16vl/3fH8dxOBMfkzR7lzG19kCQqfGBq4AAIAAIAAIFigAQZIEaHroNCAACgAAgkBoBIMjU+MBVQAAQAAQAgQJFAAiyQA0P3QYEAAFAABBIjQAQZGp84CogAAgAAoBAgSIABFmghoduAwKAACAACKRGAAgyNT5wFRAABAABQKBAEQCCLFDDQ7cBAUAAEAAEUiMABJkaH7gKCAACgAAgUKAIAEEWqOGh24AAIAAIAAKpEfg/1wY7H/+yRw8AAAAASUVORK5CYII=)"
   ]
  },
  {
   "cell_type": "markdown",
   "metadata": {
    "id": "g11PolSLOhVv",
    "slideshow": {
     "slide_type": "fragment"
    }
   },
   "source": [
    "A Figura 3 representa um autômato de pilha com quatro estados, `q0`, `q1`, `q2` e `q3`. As transições indicam dois tipos de ações: leitura da entrada e leitura-escrita na pilha. A transição $a,\\varepsilon \\rightarrow x$, por exemplo, ocorre quando um símbolo $a$ é lido da entrada, sem que a pilha necessite ser consultada, indicado por $\\varepsilon$. Ao realizar a transição o autômato permanecerá no estado `q0`, mas adicionará o símbolo $x$ no topo da pilha. Um funcionamento semelhante ocorre com a transição $b,x \\rightarrow \\varepsilon$."
   ]
  },
  {
   "cell_type": "markdown",
   "metadata": {
    "id": "g11PolSLOhVv",
    "slideshow": {
     "slide_type": "fragment"
    }
   },
   "source": [
    "Observe que neste exemplo o autômato só alcançará o estado de aceitação se desempilhar com leitura de $b$ todos os símbolos $x$ empilhados com leituras de $a$. Desse modo, o autômato da Figura 3 aceita a linguagem $\\{a^nb^n ~|~ n \\geq 0\\}$."
   ]
  },
  {
   "cell_type": "markdown",
   "metadata": {
    "id": "LtW24Qm0E3gV",
    "slideshow": {
     "slide_type": "subslide"
    }
   },
   "source": [
    "A definição formal de um AP difere da definição de AFN pelo uso do alfabeto específico de pilha.\n",
    "\n",
    "**Definição 4**: Um autômato de pilha é uma tupla $(Q, \\Sigma, \\Gamma, \\delta, q_0, F)$, onde:\n",
    "1. $Q$ é um conjunto finito de símbolos de estado,\n",
    "1. $\\Sigma$ é um conjunto finito de símbolos de alfabeto de entrada,\n",
    "1. $\\Gamma$ é um conjunto finito de símbolos de alfabeto de pilha,\n",
    "1. $\\delta : Q \\times \\Sigma_\\varepsilon \\times \\Gamma_\\varepsilon \\rightarrow \\mathcal{P}(Q \\times \\Gamma_\\varepsilon)$ é a função de transição,\n",
    "1. $q_0 \\in Q$ é o estado inicial, e\n",
    "1. $F \\subseteq Q$ é o conjunto de estados de aceitação.\n",
    "\n",
    "onde $\\Sigma_\\varepsilon = \\Sigma \\cup \\{\\varepsilon\\}$ e $\\Gamma_\\varepsilon = \\Gamma \\cup \\{\\varepsilon\\}$."
   ]
  },
  {
   "cell_type": "markdown",
   "metadata": {
    "id": "LtW24Qm0E3gV",
    "slideshow": {
     "slide_type": "subslide"
    }
   },
   "source": [
    "Podemos definir o AP ilustrado na Figura 3 formalmente como:\n",
    "\n",
    "$$M = (\\{q_0,q_1,q_2,q_3\\}, \\{a,b\\}, \\{\\$,x\\}, \\delta, q_0, \\{q_3\\})$$\n",
    "\n",
    "onde $\\delta(q_0,\\varepsilon,\\varepsilon) = \\{(q_1,\\$)\\}$, $\\delta(q_1,a,\\varepsilon) = \\{(q_0,x)\\}$, $\\delta(q_1,\\varepsilon,\\varepsilon) = \\{(q_2,\\varepsilon)\\}$, $\\delta(q_2,b,x) = \\{ (q_2,\\varepsilon)\\}$, $\\delta(q_2,\\varepsilon,\\$) = \\{(q_3,\\varepsilon)\\}$ e, nos demais casos, $\\delta(q,r,s) = \\{\\}$."
   ]
  },
  {
   "cell_type": "markdown",
   "metadata": {
    "id": "LtW24Qm0E3gV",
    "slideshow": {
     "slide_type": "subslide"
    }
   },
   "source": [
    "Seja $M = (Q, \\Sigma, \\Gamma, \\delta, q_0, F)$ um AP e $w = w_1w_2...w_n$ uma cadeia sobre $\\Sigma_\\varepsilon$, dizemos que $M$ aceita $w$ se existe uma sequência $(~(s_0,x_0), (s_1, x_1),...,(s_n,x_n)~)$ tal que $s_i \\in Q$ e $x_i \\in \\Gamma^*$ e\n",
    "1. $s_0 = q_0$ e $x_0 = \\varepsilon$,\n",
    "1. $(s_{i+1}, b) \\in \\delta(s_i,w_{i+1},a)$, para $0 \\leq i < n$, onde $x_{i} = at$, $x_{i+1} = bt$, $t \\in \\Sigma^*$ e $a,b \\in \\Sigma_\\varepsilon$,\n",
    "1. $s_n \\in F$."
   ]
  },
  {
   "cell_type": "markdown",
   "metadata": {
    "id": "LtW24Qm0E3gV",
    "slideshow": {
     "slide_type": "subslide"
    }
   },
   "source": [
    "Por exemplo, o AP $M$ ilustrado na Figura 4 aceita a cadeia $w = aabb$, dado que ( (q0, $\\varepsilon$), (q0, $x$), (q0, $xx$), (q1, $xx$), (q1, $x$) ) satisfaz as condições acima. Não existe contudo uma sequência do tipo para a cadeia $baa$, e portanto ela não é aceita por $M$."
   ]
  },
  {
   "cell_type": "markdown",
   "metadata": {
    "id": "3rM1Dnz8E3gV",
    "slideshow": {
     "slide_type": "slide"
    }
   },
   "source": [
    "## Implementação em Python"
   ]
  },
  {
   "cell_type": "markdown",
   "metadata": {
    "id": "3rM1Dnz8E3gV",
    "slideshow": {
     "slide_type": "subslide"
    }
   },
   "source": [
    "Em nossa implementação, um autômato de pilha é representado pela classe `AP`, cujo construtor segue a Definição 4:\n",
    "\n",
    ">`M = AP(Q,Sigma,Gamma,delta,q0,F)`\n",
    "\n",
    "A principal diferença para a construção de AFNs é a indicação do alfabeto de pilha e que a função de transição `delta` deve ser um elemento do tipo `dict()` mapeando `estado-entrada-pilha` para um conjunto de pares `estado-pilha`."
   ]
  },
  {
   "cell_type": "markdown",
   "metadata": {
    "id": "3rM1Dnz8E3gV",
    "slideshow": {
     "slide_type": "subslide"
    }
   },
   "source": [
    "Exemplo de construção de AP."
   ]
  },
  {
   "cell_type": "code",
   "execution_count": 24,
   "metadata": {
    "colab": {
     "base_uri": "https://localhost:8080/"
    },
    "id": "6dn0AQNoE3gV",
    "outputId": "45e01043-772d-4a89-e526-e4a7676e45b2"
   },
   "outputs": [
    {
     "data": {
      "image/svg+xml": [
       "<?xml version=\"1.0\" encoding=\"UTF-8\" standalone=\"no\"?>\n",
       "<!DOCTYPE svg PUBLIC \"-//W3C//DTD SVG 1.1//EN\"\n",
       " \"http://www.w3.org/Graphics/SVG/1.1/DTD/svg11.dtd\">\n",
       "<!-- Generated by graphviz version 2.43.0 (0)\n",
       " -->\n",
       "<!-- Title: finite_state_machine Pages: 1 -->\n",
       "<svg width=\"469pt\" height=\"90pt\"\n",
       " viewBox=\"0.00 0.00 468.58 90.50\" xmlns=\"http://www.w3.org/2000/svg\" xmlns:xlink=\"http://www.w3.org/1999/xlink\">\n",
       "<g id=\"graph0\" class=\"graph\" transform=\"scale(1 1) rotate(0) translate(4 86.5)\">\n",
       "<title>finite_state_machine</title>\n",
       "<polygon fill=\"white\" stroke=\"transparent\" points=\"-4,4 -4,-86.5 464.58,-86.5 464.58,4 -4,4\"/>\n",
       "<g id=\"node1\" class=\"node\">\n",
       "<title></title>\n",
       "<ellipse fill=\"black\" stroke=\"black\" cx=\"1.8\" cy=\"-26.75\" rx=\"1.8\" ry=\"1.8\"/>\n",
       "</g>\n",
       "<!-- q0 -->\n",
       "<g id=\"node3\" class=\"node\">\n",
       "<title>q0</title>\n",
       "<ellipse fill=\"none\" stroke=\"black\" cx=\"63.35\" cy=\"-26.75\" rx=\"23\" ry=\"23\"/>\n",
       "<text text-anchor=\"middle\" x=\"63.35\" y=\"-23.05\" font-family=\"Times,serif\" font-size=\"14.00\">q0</text>\n",
       "</g>\n",
       "<!-- &#45;&gt;q0 -->\n",
       "<g id=\"edge1\" class=\"edge\">\n",
       "<title>&#45;&gt;q0</title>\n",
       "<path fill=\"none\" stroke=\"black\" d=\"M3.83,-26.75C7.23,-26.75 18.48,-26.75 30.22,-26.75\"/>\n",
       "<polygon fill=\"black\" stroke=\"black\" points=\"30.48,-30.25 40.48,-26.75 30.48,-23.25 30.48,-30.25\"/>\n",
       "</g>\n",
       "<!-- q3 -->\n",
       "<g id=\"node2\" class=\"node\">\n",
       "<title>q3</title>\n",
       "<ellipse fill=\"none\" stroke=\"black\" cx=\"433.84\" cy=\"-26.75\" rx=\"22.96\" ry=\"22.96\"/>\n",
       "<ellipse fill=\"none\" stroke=\"black\" cx=\"433.84\" cy=\"-26.75\" rx=\"27\" ry=\"27\"/>\n",
       "<text text-anchor=\"middle\" x=\"433.84\" y=\"-23.05\" font-family=\"Times,serif\" font-size=\"14.00\">q3</text>\n",
       "</g>\n",
       "<!-- q1 -->\n",
       "<g id=\"node4\" class=\"node\">\n",
       "<title>q1</title>\n",
       "<ellipse fill=\"none\" stroke=\"black\" cx=\"185.84\" cy=\"-26.75\" rx=\"23\" ry=\"23\"/>\n",
       "<text text-anchor=\"middle\" x=\"185.84\" y=\"-23.05\" font-family=\"Times,serif\" font-size=\"14.00\">q1</text>\n",
       "</g>\n",
       "<!-- q0&#45;&gt;q1 -->\n",
       "<g id=\"edge2\" class=\"edge\">\n",
       "<title>q0&#45;&gt;q1</title>\n",
       "<path fill=\"none\" stroke=\"black\" d=\"M86.17,-26.75C104.73,-26.75 131.66,-26.75 152.69,-26.75\"/>\n",
       "<polygon fill=\"black\" stroke=\"black\" points=\"152.78,-30.25 162.78,-26.75 152.78,-23.25 152.78,-30.25\"/>\n",
       "<text text-anchor=\"middle\" x=\"124.6\" y=\"-30.55\" font-family=\"Times,serif\" font-size=\"14.00\">ε,ε→$</text>\n",
       "</g>\n",
       "<!-- q1&#45;&gt;q1 -->\n",
       "<g id=\"edge3\" class=\"edge\">\n",
       "<title>q1&#45;&gt;q1</title>\n",
       "<path fill=\"none\" stroke=\"black\" d=\"M175.06,-46.87C173.23,-57.67 176.82,-67.5 185.84,-67.5 191.77,-67.5 195.35,-63.26 196.6,-57.3\"/>\n",
       "<polygon fill=\"black\" stroke=\"black\" points=\"200.1,-56.89 196.63,-46.87 193.1,-56.86 200.1,-56.89\"/>\n",
       "<text text-anchor=\"middle\" x=\"185.84\" y=\"-71.3\" font-family=\"Times,serif\" font-size=\"14.00\">a,ε→x</text>\n",
       "</g>\n",
       "<!-- q2 -->\n",
       "<g id=\"node5\" class=\"node\">\n",
       "<title>q2</title>\n",
       "<ellipse fill=\"none\" stroke=\"black\" cx=\"307.34\" cy=\"-26.75\" rx=\"23\" ry=\"23\"/>\n",
       "<text text-anchor=\"middle\" x=\"307.34\" y=\"-23.05\" font-family=\"Times,serif\" font-size=\"14.00\">q2</text>\n",
       "</g>\n",
       "<!-- q1&#45;&gt;q2 -->\n",
       "<g id=\"edge4\" class=\"edge\">\n",
       "<title>q1&#45;&gt;q2</title>\n",
       "<path fill=\"none\" stroke=\"black\" d=\"M208.76,-26.75C227.12,-26.75 253.58,-26.75 274.31,-26.75\"/>\n",
       "<polygon fill=\"black\" stroke=\"black\" points=\"274.56,-30.25 284.56,-26.75 274.56,-23.25 274.56,-30.25\"/>\n",
       "<text text-anchor=\"middle\" x=\"246.59\" y=\"-30.55\" font-family=\"Times,serif\" font-size=\"14.00\">ε,ε→ε</text>\n",
       "</g>\n",
       "<!-- q2&#45;&gt;q3 -->\n",
       "<g id=\"edge6\" class=\"edge\">\n",
       "<title>q2&#45;&gt;q3</title>\n",
       "<path fill=\"none\" stroke=\"black\" d=\"M330.31,-26.75C348.67,-26.75 375.21,-26.75 396.69,-26.75\"/>\n",
       "<polygon fill=\"black\" stroke=\"black\" points=\"396.77,-30.25 406.77,-26.75 396.77,-23.25 396.77,-30.25\"/>\n",
       "<text text-anchor=\"middle\" x=\"368.59\" y=\"-30.55\" font-family=\"Times,serif\" font-size=\"14.00\">ε,$→ε</text>\n",
       "</g>\n",
       "<!-- q2&#45;&gt;q2 -->\n",
       "<g id=\"edge5\" class=\"edge\">\n",
       "<title>q2&#45;&gt;q2</title>\n",
       "<path fill=\"none\" stroke=\"black\" d=\"M296.55,-46.87C294.72,-57.67 298.32,-67.5 307.34,-67.5 313.26,-67.5 316.85,-63.26 318.09,-57.3\"/>\n",
       "<polygon fill=\"black\" stroke=\"black\" points=\"321.59,-56.89 318.13,-46.87 314.59,-56.86 321.59,-56.89\"/>\n",
       "<text text-anchor=\"middle\" x=\"307.34\" y=\"-71.3\" font-family=\"Times,serif\" font-size=\"14.00\">b,x→ε</text>\n",
       "</g>\n",
       "</g>\n",
       "</svg>\n"
      ],
      "text/plain": [
       "<graphviz.graphs.Digraph at 0x7fb7503e0130>"
      ]
     },
     "metadata": {},
     "output_type": "display_data"
    }
   ],
   "source": [
    "from teocomp.automata import AP\n",
    "\n",
    "Q = {'q0','q1','q2','q3'}\n",
    "Sigma = {'a','b'}\n",
    "Gamma = {'$','x'}\n",
    "delta = {('q0','' ,'' ):{('q1','$')},\n",
    "         ('q1','a','' ):{('q1','x')},\n",
    "         ('q1','' ,'' ):{('q2','' )},\n",
    "         ('q2','b','x'):{('q2','' )},\n",
    "         ('q2','' ,'$'):{('q3','' )}}\n",
    "q0 = 'q0'\n",
    "F = {'q3'}\n",
    "\n",
    "M = AP(Q,Sigma,Gamma,delta,q0,F)\n",
    "M"
   ]
  },
  {
   "cell_type": "markdown",
   "metadata": {
    "id": "g7J2QR3DE3gV",
    "slideshow": {
     "slide_type": "subslide"
    }
   },
   "source": [
    "Definido o autômato `M`, podemos verificar a aceitação de cadeias por meio da função `M.aceita(entrada)`, onde `entrada` deve ser composta por uma sequência de símbolos pertencentes a `Sigma`. A aceitação de uma palavra retornará o valor `True`."
   ]
  },
  {
   "cell_type": "code",
   "execution_count": 25,
   "metadata": {
    "colab": {
     "base_uri": "https://localhost:8080/"
    },
    "id": "b8GsE3yRE3gV",
    "outputId": "578db621-6eea-4e8d-c92a-bc5b261858d8"
   },
   "outputs": [
    {
     "data": {
      "text/plain": [
       "True"
      ]
     },
     "execution_count": 25,
     "metadata": {},
     "output_type": "execute_result"
    }
   ],
   "source": [
    "M.aceita(\"aabb\")"
   ]
  },
  {
   "cell_type": "markdown",
   "metadata": {
    "id": "J57PZusmE3gV",
    "slideshow": {
     "slide_type": "subslide"
    }
   },
   "source": [
    "A rejeição de uma palavra retornará o valor `False`."
   ]
  },
  {
   "cell_type": "code",
   "execution_count": 26,
   "metadata": {
    "colab": {
     "base_uri": "https://localhost:8080/"
    },
    "id": "TSTiZaIdE3gV",
    "outputId": "3edd96f4-5e3e-4576-c403-2ec38f3bea8a"
   },
   "outputs": [
    {
     "data": {
      "text/plain": [
       "False"
      ]
     },
     "execution_count": 26,
     "metadata": {},
     "output_type": "execute_result"
    }
   ],
   "source": [
    "M.aceita(\"aaabb\")"
   ]
  },
  {
   "cell_type": "markdown",
   "metadata": {
    "id": "-AoPrvMhE3gV",
    "slideshow": {
     "slide_type": "subslide"
    }
   },
   "source": [
    "Você pode também realizar múltiplos testes utilizando listas com casos de testes:"
   ]
  },
  {
   "cell_type": "code",
   "execution_count": 27,
   "metadata": {
    "colab": {
     "base_uri": "https://localhost:8080/"
    },
    "id": "pHubarIDE3gV",
    "outputId": "77078a19-a88e-44d1-8954-6917d923d3a3"
   },
   "outputs": [
    {
     "data": {
      "text/plain": [
       "[True, True, True, True, True, True, True, True]"
      ]
     },
     "execution_count": 27,
     "metadata": {},
     "output_type": "execute_result"
    }
   ],
   "source": [
    "testes = [(\"\",True), (\"ab\",True), (\"aabb\",True), (\"aaabbb\",True), (\"b\",False), (\"ba\",False), (\"bbb\",False), (\"bbaa\",False)]\n",
    "[M.aceita(entrada) == saida for entrada, saida in testes]"
   ]
  },
  {
   "cell_type": "markdown",
   "metadata": {
    "id": "nR3nVuOgE3gW",
    "slideshow": {
     "slide_type": "slide"
    }
   },
   "source": [
    "## Exercícios sobre APs"
   ]
  },
  {
   "cell_type": "markdown",
   "metadata": {
    "id": "nR3nVuOgE3gW",
    "slideshow": {
     "slide_type": "subslide"
    }
   },
   "source": [
    "1. Defina um AP $M$ que aceite a linguagem $L_4 = \\{a^nb^m ~|~ n = 2m\\}$."
   ]
  },
  {
   "cell_type": "code",
   "execution_count": 28,
   "metadata": {
    "id": "GIRpugziE3gW"
   },
   "outputs": [],
   "source": [
    "# Defina aqui o código do seu AP"
   ]
  },
  {
   "cell_type": "markdown",
   "metadata": {
    "id": "hjhx7XbGE3gW",
    "slideshow": {
     "slide_type": "subslide"
    }
   },
   "source": [
    "2. Verifique se seu autômato $M$ aceita as cadeias $\\varepsilon$, $aab$ e $aaaabb$, e se rejeita $ab$, $aba$ e $aaabb$."
   ]
  },
  {
   "cell_type": "code",
   "execution_count": 29,
   "metadata": {
    "id": "2PjDlcZ5E3gW"
   },
   "outputs": [],
   "source": [
    "# Defina aqui os testes do seu AP"
   ]
  },
  {
   "cell_type": "markdown",
   "metadata": {
    "id": "aG59AiYpEUfk",
    "slideshow": {
     "slide_type": "slide"
    }
   },
   "source": [
    "# Gramática Livre-do-Contexto"
   ]
  },
  {
   "cell_type": "markdown",
   "metadata": {
    "id": "97q4kfVghkyz",
    "slideshow": {
     "slide_type": "subslide"
    }
   },
   "source": [
    "As **gramáticas livres-do-contexto** (GLC) são modelos de definição de linguagens por meio de regras de produção de palavras. Elas permitem expressar características recursivas de composição de sentenças, o que as tornam úteis em diversas aplicações, como nas definições de linguagens de programação."
   ]
  },
  {
   "cell_type": "markdown",
   "metadata": {
    "id": "97q4kfVghkyz",
    "slideshow": {
     "slide_type": "subslide"
    }
   },
   "source": [
    "As regras de produção são definidas sobre dois tipos de símbolos: símbolos que indicam possibilidades de produção, chamados de *variáveis*, e não substituíveis, chamados de *terminais*. Uma regra de produção é usualmente escrita na forma:\n",
    "\n",
    "$$S \\rightarrow aSb $$"
   ]
  },
  {
   "cell_type": "markdown",
   "metadata": {
    "id": "97q4kfVghkyz",
    "slideshow": {
     "slide_type": "subslide"
    }
   },
   "source": [
    "O lado direito da regra deve conter um único símbolo variável e expressa que durante a produção de uma palavra, este símbolo pode ser substituído pela cadeia do lado direito, composta por variáveis e/ou terminais. No exemplo, a regra $S \\rightarrow aSb $ indica que ao encontrar a variável $S$, esta pode ser substituída pela cadeia $aSb$."
   ]
  },
  {
   "cell_type": "markdown",
   "metadata": {
    "id": "97q4kfVghkyz",
    "slideshow": {
     "slide_type": "fragment"
    }
   },
   "source": [
    "> Usualmente denotamos os símbolos variáveis por letras maiúsculas e os símbolos terminais por letras minúsculas.\n"
   ]
  },
  {
   "cell_type": "markdown",
   "metadata": {
    "id": "s01plEH9inzf",
    "slideshow": {
     "slide_type": "subslide"
    }
   },
   "source": [
    "Uma GLC é formalmente definida como segue.\n",
    "\n",
    "**Definição 5**: Uma gramática livre-do-contexto é uma tupla $(V,\\Sigma,R,S)$, onde:\n",
    "1. $V$ é um conjunto finito de símbolos variáveis,\n",
    "1. $\\Sigma$ é um conjunto finito de símbolos terminais,\n",
    "1. $R \\subseteq V \\times (V \\cup \\Sigma)^*$ é um conjunto finito de regras,\n",
    "1. $S \\in V$ é a variável inicial.\n",
    "\n",
    "Observe que formalmente um regra $A \\rightarrow w$ é um par $(A, w) \\in R$, que indica a possibilidade de substituição da variável $A \\in V$ por uma cadeia $w \\in (V \\cup \\Sigma)^*$."
   ]
  },
  {
   "cell_type": "markdown",
   "metadata": {
    "slideshow": {
     "slide_type": "subslide"
    }
   },
   "source": [
    "Convencionamos representar as GLCs listando suas regras de produção no seguinte formato\n",
    "\n",
    "$$\\begin{align} \n",
    "S &\\rightarrow A | B | \\varepsilon \\\\\n",
    "A &\\rightarrow a | aAa | B \\\\\n",
    "B &\\rightarrow b | bBb | A\n",
    "\\end{align}$$ \n",
    "\n",
    "onde cada linha contém uma ou mais regras de uma mesma variável e a variável inicial está no lado esquedo da primeira linha."
   ]
  },
  {
   "cell_type": "markdown",
   "metadata": {
    "id": "5nD0Rr4uiucE",
    "slideshow": {
     "slide_type": "subslide"
    }
   },
   "source": [
    "Seja $G = (V, \\Sigma, R, S)$ e $u,v \\in (V \\cup \\Sigma)^*$ cadeias de variáveis e terminais, dizemos que\n",
    "1. $u$ **produz** $v$, denotado por $u \\Rightarrow v$, se $u = v$, ou $u = xAy$, $v = xwy$ e $(A, w) \\in R$;\n",
    "1. $u$ **deriva** $v$, denotado por $u \\stackrel{*}{\\Rightarrow} v $, se $u = v$, ou existe uma sequência $(u_1, u_2, ..., u_k)$ tal que $u \\Rightarrow u_1 \\Rightarrow u_2 ... \\Rightarrow u_k \\Rightarrow v$.\n",
    "1. $G$ **gera** $v$ se $S$ deriva $v$.\n",
    "\n",
    "A linguagem da gramática $G$ é dada pelo conjunto $L(G) = \\{w \\in \\Sigma^* ~|~ G \\text{ gera } w\\}$."
   ]
  },
  {
   "cell_type": "markdown",
   "metadata": {
    "id": "le1n9FLADKRo",
    "slideshow": {
     "slide_type": "slide"
    }
   },
   "source": [
    "## Implementação em Python"
   ]
  },
  {
   "cell_type": "markdown",
   "metadata": {
    "id": "le1n9FLADKRo",
    "slideshow": {
     "slide_type": "subslide"
    }
   },
   "source": [
    "Em nossa implementação, uma gramática livre-do-contexto é representada pela classe `GLC`, cujo construtor segue a Definição 5:\n",
    "\n",
    ">`G = GLC(V,Sigma,R,S)`\n",
    "\n",
    "\n",
    "A seguir um exemplo de definição de gramática livre-do-contexto."
   ]
  },
  {
   "cell_type": "code",
   "execution_count": 30,
   "metadata": {
    "colab": {
     "base_uri": "https://localhost:8080/"
    },
    "id": "y_yhUL-aDKRo",
    "outputId": "a1de0aa7-a50b-45e6-e0b9-2349171a9ab2"
   },
   "outputs": [
    {
     "data": {
      "text/plain": [
       "\n",
       "S → SS|aSb|ab|ɛ"
      ]
     },
     "execution_count": 30,
     "metadata": {},
     "output_type": "execute_result"
    }
   ],
   "source": [
    "from teocomp.language import GLC\n",
    "\n",
    "V = {'S'}\n",
    "Sigma = {'a','b'}\n",
    "R = {('S','aSb'),\n",
    "     ('S','SS'),\n",
    "     ('S','ab'),\n",
    "     ('S','')}\n",
    "S = 'S'\n",
    "\n",
    "G = GLC(V,Sigma,R,S)\n",
    "G"
   ]
  },
  {
   "cell_type": "markdown",
   "metadata": {
    "id": "owVLX0WADKRp",
    "slideshow": {
     "slide_type": "subslide"
    }
   },
   "source": [
    "Definida a GLC `G`, podemos usar a função `G.gera(entrada)` para verificar se cadeias pertencem a linguagem definida por `G`, onde `entrada` deve ser composta por uma sequência de símbolos pertencentes a `Sigma`. Caso pertença, a função retornará o valor `True`."
   ]
  },
  {
   "cell_type": "code",
   "execution_count": 31,
   "metadata": {
    "colab": {
     "base_uri": "https://localhost:8080/"
    },
    "id": "DUZhE50wDKRp",
    "outputId": "08242ffa-1208-4850-de66-558e47f85010"
   },
   "outputs": [
    {
     "data": {
      "text/plain": [
       "True"
      ]
     },
     "execution_count": 31,
     "metadata": {},
     "output_type": "execute_result"
    }
   ],
   "source": [
    "G.gera(\"ab\")"
   ]
  },
  {
   "cell_type": "markdown",
   "metadata": {
    "id": "rkW99YGhDKRq",
    "slideshow": {
     "slide_type": "subslide"
    }
   },
   "source": [
    "Caso a entrada não pertença a linguagem definida por $G$, a função retornará o valor `False`."
   ]
  },
  {
   "cell_type": "code",
   "execution_count": 32,
   "metadata": {
    "colab": {
     "base_uri": "https://localhost:8080/"
    },
    "id": "9qWhRuNeDKRq",
    "outputId": "b7d84c7a-757b-4619-a690-5f4c1eda98d6"
   },
   "outputs": [
    {
     "data": {
      "text/plain": [
       "False"
      ]
     },
     "execution_count": 32,
     "metadata": {},
     "output_type": "execute_result"
    }
   ],
   "source": [
    "G.gera(\"ba\")"
   ]
  },
  {
   "cell_type": "markdown",
   "metadata": {
    "id": "9uJ3r0YHDKRq",
    "slideshow": {
     "slide_type": "subslide"
    }
   },
   "source": [
    "Como antes, você pode também realizar múltiplos testes utilizando listas com casos de testes:"
   ]
  },
  {
   "cell_type": "code",
   "execution_count": 33,
   "metadata": {
    "colab": {
     "base_uri": "https://localhost:8080/"
    },
    "id": "Rsip2ODyDKRq",
    "outputId": "59953b27-3025-4981-f5d1-9960adbdc1f5"
   },
   "outputs": [
    {
     "data": {
      "text/plain": [
       "[True, True, True, True, True, True, True, False]"
      ]
     },
     "execution_count": 33,
     "metadata": {},
     "output_type": "execute_result"
    }
   ],
   "source": [
    "testes = [(\"ab\",True), (\"aab\",False), (\"abb\",False), (\"aabb\",True), (\"b\",False), (\"ba\",False), (\"bbb\",False), (\"\",False)]\n",
    "[G.gera(entrada) == saida for entrada, saida in testes]"
   ]
  },
  {
   "cell_type": "markdown",
   "metadata": {
    "id": "NHeJqEejDKRu",
    "slideshow": {
     "slide_type": "slide"
    }
   },
   "source": [
    "## Exercícios sobre GLCs"
   ]
  },
  {
   "cell_type": "markdown",
   "metadata": {
    "id": "NHeJqEejDKRu",
    "slideshow": {
     "slide_type": "subslide"
    }
   },
   "source": [
    "1. Defina uma GLC $G$ que represente a linguagem $L_5 = \\{w \\in \\{a,b\\}^* ~|~ w \\text{ é um palíndromo}\\}$."
   ]
  },
  {
   "cell_type": "code",
   "execution_count": 34,
   "metadata": {
    "id": "5ZoOLfLfDKRu"
   },
   "outputs": [],
   "source": [
    "# Insira aqui o código da sua GLC"
   ]
  },
  {
   "cell_type": "markdown",
   "metadata": {
    "id": "Gre5lC0DDKRv",
    "slideshow": {
     "slide_type": "subslide"
    }
   },
   "source": [
    "2. Verifique se sua GLC gera as cadeias $aa$, $abba$ e $ababa$, e não gera $a$, $ab$ e $baa$."
   ]
  },
  {
   "cell_type": "code",
   "execution_count": 35,
   "metadata": {
    "id": "SeBEJ89ODKRv"
   },
   "outputs": [],
   "source": [
    "# Insira aqui os testes da sua GLC"
   ]
  },
  {
   "cell_type": "markdown",
   "metadata": {
    "id": "3dmCN_9YjViO",
    "slideshow": {
     "slide_type": "slide"
    }
   },
   "source": [
    "# Conclusão"
   ]
  },
  {
   "cell_type": "markdown",
   "metadata": {
    "id": "kCR4EyKLI2ZM",
    "slideshow": {
     "slide_type": "subslide"
    }
   },
   "source": [
    "Com isso, concluímos uma breve revisão dos principais modelos computacionais e de descrição de linguagens vistos em um curso de Linguagens Formais e Autômatos.\n",
    "\n",
    "Alguns aspectos não puderam ser abordados, como propriedades das classes de linguagens, equivalência entre modelos e os lemas do bombeamento para linguagens regulares e linguagens livres-do-contexto. \n",
    "\n",
    "Recomendamos que o leitor continue seus estudos, há muitos temas interessantes ainda para serem vistos."
   ]
  },
  {
   "cell_type": "markdown",
   "metadata": {
    "id": "kCR4EyKLI2ZM",
    "slideshow": {
     "slide_type": "subslide"
    }
   },
   "source": [
    "Sugerimos a leitura dos livros _**Introdução à Teoria da Computação**, de Michael Sipser_ (Thomson Learning, 2007) e _**Introdução à Teoria de Autômatos, Linguagens e Computação** de John E. Hopcroft, Jeffrey D. Ullman e  Rajeev Motwani_ (Campus, 2002). Bons estudos!"
   ]
  }
 ],
 "metadata": {
  "celltoolbar": "Slideshow",
  "colab": {
   "provenance": []
  },
  "kernelspec": {
   "display_name": "Python 3 (ipykernel)",
   "language": "python",
   "name": "python3"
  },
  "language_info": {
   "codemirror_mode": {
    "name": "ipython",
    "version": 3
   },
   "file_extension": ".py",
   "mimetype": "text/x-python",
   "name": "python",
   "nbconvert_exporter": "python",
   "pygments_lexer": "ipython3",
   "version": "3.10.12"
  }
 },
 "nbformat": 4,
 "nbformat_minor": 1
}
