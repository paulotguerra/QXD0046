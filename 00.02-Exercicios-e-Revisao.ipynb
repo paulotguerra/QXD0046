{
 "cells": [
  {
   "cell_type": "markdown",
   "metadata": {},
   "source": [
    "<a target=\"_blank\" href=\"https://colab.research.google.com/github/paulotguerra/QXD0046/blob/main/00.02-Exercicios-e-Revisao.ipynb\">\n",
    "  <img src=\"https://colab.research.google.com/assets/colab-badge.svg\" alt=\"Open In Colab\"/>\n",
    "</a>"
   ]
  },
  {
   "cell_type": "markdown",
   "metadata": {},
   "source": [
    "## QXD0046 - Teoria da Computação\n",
    "# Exercícios e Revisão\n",
    "**Professor**: Paulo de Tarso Guerra ([paulodetarso@ufc.br](mailto:paulodetarso@ufc.br))"
   ]
  },
  {
   "cell_type": "code",
   "execution_count": null,
   "metadata": {},
   "outputs": [],
   "source": [
    "# !pip install teocomp\n",
    "from teocomp.automata import AFD, AFN, AP"
   ]
  },
  {
   "cell_type": "markdown",
   "metadata": {},
   "source": [
    "1. Construa um AFD que reconhece a linguagem $\\{ w \\in \\{a,b\\}^* ~|~ \\text{ toda posição ímpar de } w \\text{ é } b\\}$."
   ]
  },
  {
   "cell_type": "code",
   "execution_count": null,
   "metadata": {},
   "outputs": [],
   "source": [
    "# # Insira aqui o código do seu AFD\n",
    "\n",
    "# Q = {...}\n",
    "# Sigma = {...}\n",
    "# delta = {...}\n",
    "# q0 = ...\n",
    "# F = {...}\n",
    "\n",
    "# M = AFD(Q,Sigma,delta,q0,F)\n",
    "# M"
   ]
  },
  {
   "cell_type": "markdown",
   "metadata": {},
   "source": [
    "2. Construa um AFD que reconhece a linguagem $\\{ \\varepsilon, aa \\}$."
   ]
  },
  {
   "cell_type": "code",
   "execution_count": null,
   "metadata": {},
   "outputs": [],
   "source": [
    "# # Insira aqui o código do seu AFD\n",
    "\n",
    "# Q = {...}\n",
    "# Sigma = {...}\n",
    "# delta = {...}\n",
    "# q0 = ...\n",
    "# F = {...}\n",
    "\n",
    "# M = AFD(Q,Sigma,delta,q0,F)\n",
    "# M"
   ]
  },
  {
   "cell_type": "markdown",
   "metadata": {},
   "source": [
    "3. Construa um AFD que reconhece a linguagem $\\{ w \\in \\{a,b\\}^* ~|~ w \\text{ termina em } abb\\}$."
   ]
  },
  {
   "cell_type": "code",
   "execution_count": null,
   "metadata": {},
   "outputs": [],
   "source": [
    "# # Insira aqui o código do seu AFD\n",
    "\n",
    "# Q = {...}\n",
    "# Sigma = {...}\n",
    "# delta = {...}\n",
    "# q0 = ...\n",
    "# F = {...}\n",
    "\n",
    "# M = AFD(Q,Sigma,delta,q0,F)\n",
    "# M"
   ]
  },
  {
   "cell_type": "markdown",
   "metadata": {},
   "source": [
    "4. Construa um AFD que reconhece a linguagem $\\{ w \\in \\{a,b\\}^* ~|~ w \\text{ contém pelo menos dois } a \\text{ e no máximo três } b\\}$."
   ]
  },
  {
   "cell_type": "code",
   "execution_count": null,
   "metadata": {},
   "outputs": [],
   "source": [
    "# # Insira aqui o código do seu AFD\n",
    "\n",
    "# Q = {...}\n",
    "# Sigma = {...}\n",
    "# delta = {...}\n",
    "# q0 = ...\n",
    "# F = {...}\n",
    "\n",
    "# M = AFD(Q,Sigma,delta,q0,F)\n",
    "# M"
   ]
  },
  {
   "cell_type": "markdown",
   "metadata": {},
   "source": [
    "5. Construa um AFN que reconhece a linguagem $\\{ w \\in \\{a,b\\}^* ~|~ w \\text{ contém a subcadeia } abab\\}$ com cinco estados."
   ]
  },
  {
   "cell_type": "code",
   "execution_count": null,
   "metadata": {},
   "outputs": [],
   "source": [
    "# # Insira aqui o código do seu AFN\n",
    "\n",
    "# Q = {...}\n",
    "# Sigma = {...}\n",
    "# delta = {...}\n",
    "# q0 = ...\n",
    "# F = {...}\n",
    "\n",
    "# M = AFN(Q,Sigma,delta,q0,F)\n",
    "# M"
   ]
  },
  {
   "cell_type": "markdown",
   "metadata": {},
   "source": [
    "6. Construa um AFN que reconhece a linguagem $\\{ w \\in \\{a,b\\}^* ~|~ w \\text{ contém um número par de } a \\text{ ou contém exatamente dois } b\\}$ com seis estados."
   ]
  },
  {
   "cell_type": "code",
   "execution_count": null,
   "metadata": {},
   "outputs": [],
   "source": [
    "# # Insira aqui o código do seu AFN\n",
    "\n",
    "# Q = {...}\n",
    "# Sigma = {...}\n",
    "# delta = {...}\n",
    "# q0 = ...\n",
    "# F = {...}\n",
    "\n",
    "# M = AFN(Q,Sigma,delta,q0,F)\n",
    "# M"
   ]
  },
  {
   "cell_type": "markdown",
   "metadata": {},
   "source": [
    "7. Construa um AP que reconhece a linguagem $\\{a^nb^{n+m}a^m ~|~ m,n \\geq 0\\}$"
   ]
  },
  {
   "cell_type": "code",
   "execution_count": null,
   "metadata": {},
   "outputs": [],
   "source": [
    "# # Insira aqui o código do seu AP\n",
    "\n",
    "# Q = {...}\n",
    "# Sigma = {...}\n",
    "# Gamma = {...}\n",
    "# delta = {...}\n",
    "# q0 = ...\n",
    "# F = {...}\n",
    "\n",
    "# M = AP(Q,Sigma,Gamma,delta,q0,F)\n",
    "# M"
   ]
  },
  {
   "cell_type": "markdown",
   "metadata": {},
   "source": [
    "8. Construa um AP que reconhece a linguagem $\\{a^nb^m ~|~ n \\leq m \\leq 3m\\}$"
   ]
  },
  {
   "cell_type": "code",
   "execution_count": null,
   "metadata": {},
   "outputs": [],
   "source": [
    "# # Insira aqui o código do seu AP\n",
    "\n",
    "# Q = {...}\n",
    "# Sigma = {...}\n",
    "# Gamma = {...}\n",
    "# delta = {...}\n",
    "# q0 = ...\n",
    "# F = {...}\n",
    "\n",
    "# M = AP(Q,Sigma,Gamma,delta,q0,F)\n",
    "# M"
   ]
  }
 ],
 "metadata": {
  "language_info": {
   "name": "python"
  },
  "orig_nbformat": 4
 },
 "nbformat": 4,
 "nbformat_minor": 2
}
