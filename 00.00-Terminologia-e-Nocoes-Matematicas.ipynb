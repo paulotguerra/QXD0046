{
 "cells": [
  {
   "cell_type": "markdown",
   "metadata": {
    "slideshow": {
     "slide_type": "skip"
    }
   },
   "source": [
    "<a target=\"_blank\" href=\"https://colab.research.google.com/github/paulotguerra/QXD0046/blob/main/00.00-Terminologia-e-Nocoes-Matematicas.ipynb\">\n",
    "  <img src=\"https://colab.research.google.com/assets/colab-badge.svg\" alt=\"Open In Colab\"/>\n",
    "</a>"
   ]
  },
  {
   "cell_type": "markdown",
   "metadata": {
    "slideshow": {
     "slide_type": "slide"
    }
   },
   "source": [
    "## QXD0046 - Teoria da Computação\n",
    "# Revisão de Termos e Notações Matemáticas\n",
    "**Professor**: Paulo de Tarso Guerra ([paulodetarso@ufc.br](mailto:paulodetarso@ufc.br))"
   ]
  },
  {
   "cell_type": "markdown",
   "metadata": {
    "slideshow": {
     "slide_type": "slide"
    }
   },
   "source": [
    "### Conjuntos e sequências"
   ]
  },
  {
   "cell_type": "markdown",
   "metadata": {
    "slideshow": {
     "slide_type": "subslide"
    }
   },
   "source": [
    "Um **conjunto** é um grupo de elementos representado como uma unidade. Conjuntos podem conter qualquer tipo de objeto, quer sejam números, sı́mbolos, ou mesmo outros conjuntos. Representamos conjuntos por elementos entre chaves (`{`,`}`), separados por vírgula (`,`).\n",
    "\n",
    "$$ A = \\{1,2,3\\} $$\n"
   ]
  },
  {
   "cell_type": "markdown",
   "metadata": {
    "slideshow": {
     "slide_type": "subslide"
    }
   },
   "source": [
    "\n",
    "Quando estes compreendem infinitos elementos, indicamos sua continuidade por meio de reticências (`...`), desde que esteja clara sua regra de formação. Podemos, por exemplo, definir o conjunto dos números naturais como:\n",
    "\n",
    "$$\\mathbb{N} = \\{1, 2, 3, 4, ... \\}$$\n"
   ]
  },
  {
   "cell_type": "markdown",
   "metadata": {
    "slideshow": {
     "slide_type": "subslide"
    }
   },
   "source": [
    "\n",
    "Um conjunto não precisa conter elementos, sendo este denominado **conjunto vazio** e representado por $\\{\\}$ ou pelo símbolo $\\emptyset$.\n"
   ]
  },
  {
   "cell_type": "markdown",
   "metadata": {
    "slideshow": {
     "slide_type": "subslide"
    }
   },
   "source": [
    "\n",
    "Um conjunto pode também ser definido por um **descrição característica**. Para isso, explicitaremos no conjuntos sua regra de formação. Essa descrição conterá duas partes, separadas por uma barra vertical (`|`), onde a esquerda apresentamos a forma dos elementos do conjunto e a direita uma descrição não ambígua em lingagem natural de uma propriedade desse elementos. Por exemplo,\n",
    "\n",
    "$$\\mathtt{Pares} = \\{n \\in \\mathbb{N} ~|~ n \\text{ é divisível por } 2\\}$$\n"
   ]
  },
  {
   "cell_type": "markdown",
   "metadata": {},
   "source": [
    "\n",
    "A descrição característica acima representa o conjunto $\\mathtt{Pares} = \\{2, 4, 6, 8,  ...\\}.$\n"
   ]
  },
  {
   "cell_type": "markdown",
   "metadata": {
    "slideshow": {
     "slide_type": "subslide"
    }
   },
   "source": [
    "\n",
    "A **pertinência** de um elemento $x$ em um conjunto $A$ é denotada por $x \\in A$. Quando este não pertence, denotamos por $x \\not\\in A$. Se todos os elementos $x$ de A também pertencem ao conjunto $B$, dizemos que $A$ é **subconjunto** de $B$, denotado por $A \\subseteq B$. No nosso exemplo,\n",
    "\n",
    "$$\\mathtt{Pares} \\subseteq \\mathbb{N}$$\n"
   ]
  },
  {
   "cell_type": "markdown",
   "metadata": {
    "slideshow": {
     "slide_type": "subslide"
    }
   },
   "source": [
    "\n",
    "O conjunto de todos os subconjunto de $A$ é chamado de **conjunto das partes** e é denotado por $\\mathcal{P}(A)$.\n",
    "\n",
    "$$\\mathcal{P}(A) = \\{X ~|~ X \\subseteq A \\}$$\n"
   ]
  },
  {
   "cell_type": "markdown",
   "metadata": {},
   "source": [
    "O conjunto das partes de $A = \\{a, b\\}$ é $\\mathcal{P}(A) = \\{\\emptyset,\\{a\\},\\{b\\},\\{a,b\\}\\}$."
   ]
  },
  {
   "cell_type": "markdown",
   "metadata": {
    "slideshow": {
     "slide_type": "subslide"
    }
   },
   "source": [
    "Em um conjunto, a ordem dos elementos não importa. Nesse sentido, $\\{1, 2, 3\\}$ e $\\{3, 2, 1\\}$ são o mesmo conjunto. Quando a característica de ordem é relevante, descrevemos os elementos por meio de uma **sequência**."
   ]
  },
  {
   "cell_type": "markdown",
   "metadata": {},
   "source": [
    "Expressamos uma sequência por elementos entre parênteses (`(` e `)`) separados por vírgula ( `,` ). As sequências $(1,2,3)$ e $(3, 2, 1)$ são diferentes por possuírem elementos diferentes na primeira e na última posição."
   ]
  },
  {
   "cell_type": "markdown",
   "metadata": {},
   "source": [
    "Sequência podem também conter infinitos elementos, o qual indicamos sua continuidade por meio de reticências (...), quando estiver claro sua regra de formação. Por exemplo:\n",
    "$$ \\mathit{N} = (1,2,3,4,5,...) $$"
   ]
  },
  {
   "cell_type": "markdown",
   "metadata": {
    "slideshow": {
     "slide_type": "subslide"
    }
   },
   "source": [
    "Sequências finitas são chamadas de **uplas**. Uma sequência com $t$ elementos é denominado **$t$-upla** (daí o nome *tupla*). Tuplas de apenas dois elementos (2-upla) são chamadas de **par**."
   ]
  },
  {
   "cell_type": "markdown",
   "metadata": {
    "slideshow": {
     "slide_type": "subslide"
    }
   },
   "source": [
    "\n",
    "O **produto cartesiano** de dois conjuntos $A$ e $B$, denotado por $A \\times B$, é o conjunto de todos os pares $(a, b)$ nos quais $a \\in A$ e $b \\in B$. Por exemplo, para $A = \\{1,2\\}$ e $B = \\{a,b,c\\}$, o produto cartesiano de $A$ e $B$ resulta no conjunto\n",
    "$$A \\times B = \\{ (1,a), (1,b), (1,c), (2,a), (2,b), (2, c)\\}.$$"
   ]
  },
  {
   "cell_type": "markdown",
   "metadata": {
    "slideshow": {
     "slide_type": "subslide"
    }
   },
   "source": [
    "Quando realizamos o produto cartesiano de $t$ conjuntos, $A_1 \\times A_2 \\times ... \\times A_t$, geramos um conjunto contendo todas as $t$-uplas $(a_1, a_2, ..., a_t)$ em que $a_i \\in A_i$ para $1 \\leq i \\leq t$. Por exemplo, para os conjuntos $A = \\{q_0,q_1\\}$, $B = \\{a,b,c\\}$ e $C = \\{0,1\\}$, temos que\n",
    "\n",
    "$$\n",
    "\\begin{align*}\n",
    " A \\times B \\times C = \\{&(q_0,a,0), (q_0,a,1), (q_0,b,0),(q_0,b,1), (q_0,c,0), (q_0,c,1),\\\\\n",
    " &(q_1,a,0),(q_1,a,1),(q_1,b,0), (q_1,b,1), (q_1,c,0),(q_1,c,1)\\}.\n",
    "\\end{align*}\n",
    "$$"
   ]
  },
  {
   "cell_type": "markdown",
   "metadata": {
    "slideshow": {
     "slide_type": "slide"
    }
   },
   "source": [
    "#### Implementação em Python"
   ]
  },
  {
   "cell_type": "markdown",
   "metadata": {
    "slideshow": {
     "slide_type": "subslide"
    }
   },
   "source": [
    "Em Python, um conjunto é definido pelo tipo `set()`. "
   ]
  },
  {
   "cell_type": "code",
   "execution_count": 7,
   "metadata": {},
   "outputs": [
    {
     "data": {
      "text/plain": [
       "{1, 2, 3, 4, 5}"
      ]
     },
     "execution_count": 7,
     "metadata": {},
     "output_type": "execute_result"
    }
   ],
   "source": [
    "A = set()\n",
    "A.add(1)\n",
    "A.add(2)\n",
    "A.add(3)\n",
    "A.add(4)\n",
    "A.add(5)\n",
    "A"
   ]
  },
  {
   "cell_type": "markdown",
   "metadata": {
    "slideshow": {
     "slide_type": "subslide"
    }
   },
   "source": [
    "Podemos iniciar o conjunto utilizando `{` e `}`."
   ]
  },
  {
   "cell_type": "code",
   "execution_count": 2,
   "metadata": {},
   "outputs": [
    {
     "data": {
      "text/plain": [
       "{1, 2, 3, 4, 5}"
      ]
     },
     "execution_count": 2,
     "metadata": {},
     "output_type": "execute_result"
    }
   ],
   "source": [
    "B = {1, 2, 3, 3, 4, 5}\n",
    "B"
   ]
  },
  {
   "cell_type": "markdown",
   "metadata": {
    "slideshow": {
     "slide_type": "subslide"
    }
   },
   "source": [
    "Observe que o tipo `set()` não permite a repetição de elementos internos. Caso seja necessário, devemos usar outro tipo de dado, como `list()` (listas) ou `tuple()` (tuplas)."
   ]
  },
  {
   "cell_type": "code",
   "execution_count": null,
   "metadata": {},
   "outputs": [
    {
     "data": {
      "text/plain": [
       "(1, 2, 3, 3, 4, 5)"
      ]
     },
     "metadata": {},
     "output_type": "display_data"
    }
   ],
   "source": [
    "C = (1,2,3,3,4,5)\n",
    "C"
   ]
  },
  {
   "cell_type": "markdown",
   "metadata": {
    "slideshow": {
     "slide_type": "subslide"
    }
   },
   "source": [
    "Podemos testar a pertinência de um elemento em Python por meio da operação `in`, que retorna o valor `True` caso um dado elemento pertença ao conjunto ou tupla, e `False` caso contrário."
   ]
  },
  {
   "cell_type": "code",
   "execution_count": 4,
   "metadata": {},
   "outputs": [
    {
     "data": {
      "text/plain": [
       "True"
      ]
     },
     "execution_count": 4,
     "metadata": {},
     "output_type": "execute_result"
    }
   ],
   "source": [
    "D = {2,3,5,7,11}\n",
    "2 in D"
   ]
  },
  {
   "cell_type": "markdown",
   "metadata": {
    "slideshow": {
     "slide_type": "subslide"
    }
   },
   "source": [
    "Podemos também definir conjuntos utilizando *comprehensions* do Python."
   ]
  },
  {
   "cell_type": "code",
   "execution_count": null,
   "metadata": {},
   "outputs": [
    {
     "data": {
      "text/plain": [
       "{2, 4, 6, 8}"
      ]
     },
     "metadata": {},
     "output_type": "display_data"
    }
   ],
   "source": [
    "N = {1,2,3,4,5,6,7,8}\n",
    "Pares = {x for x in N if x%2 == 0}\n",
    "Pares"
   ]
  },
  {
   "cell_type": "markdown",
   "metadata": {
    "slideshow": {
     "slide_type": "slide"
    }
   },
   "source": [
    "### Funções e relações\n",
    "\n"
   ]
  },
  {
   "cell_type": "markdown",
   "metadata": {
    "slideshow": {
     "slide_type": "subslide"
    }
   },
   "source": [
    "\n",
    "Uma **função** é um objeto matemático que estabelece um mapeamento *entrada-saída* entre conjuntos de elementos, de modo que uma mesma entrada gera sempre o mesmo elemento de saída."
   ]
  },
  {
   "cell_type": "markdown",
   "metadata": {
    "slideshow": {
     "slide_type": "subslide"
    }
   },
   "source": [
    "O conjunto de elementos entrada é chamado de **domínio** da função e o conjunto de saída, de **contradomínio**. Escrevemos\n",
    "$$f : D \\rightarrow C$$\n",
    "para denotar uma função $f$ com domínio $D$ e contradomínio $C$. O mapeamento de uma entrada $a \\in D$ em uma saída $b \\in C$ por uma função $f$ é representado por $f(a) = b$."
   ]
  },
  {
   "cell_type": "markdown",
   "metadata": {
    "slideshow": {
     "slide_type": "fragment"
    }
   },
   "source": [
    "Por exemplo, uma função $f$ sobre o domínio $\\{1,2,3\\}$ que duplica o valor de entrada pode ser definida como\n",
    "$$ f : \\{1,2,3\\} \\rightarrow \\{2,4,6\\} $$\n",
    "onde $f(1) = 2$, $f(2) = 4$, e $f(3) = 6$."
   ]
  },
  {
   "cell_type": "markdown",
   "metadata": {
    "slideshow": {
     "slide_type": "subslide"
    }
   },
   "source": [
    "\n",
    "No caso onde o domínio de uma função $f$ é o conjunto $A_1 \\times A_2 \\times ... \\times A_t$, a função $f$ com entrada $(a_1, a_2, ..., a_t)$ é preferencialmente representada por $f(a_1, a_2, ..., a_t)$ em vez de $f(\\,(a_1, a_2, ..., a_t)\\,)$. Chamamos $a_1, a_2, ..., a_t$ de **argumentos** da função.\n"
   ]
  },
  {
   "cell_type": "markdown",
   "metadata": {
    "slideshow": {
     "slide_type": "subslide"
    }
   },
   "source": [
    "Uma **propriedade** é uma função cujo contradomínio é $\\{\\mathtt{Verdadeiro}, \\mathtt{Falso}\\}$. Seja $\\mathbb{N}$ o conjunto de números naturais, podemos definir a função\n",
    "\n",
    "$$ par : \\mathbb{N} \\rightarrow \\{\\mathtt{Verdadeiro}, \\mathtt{Falso}\\} $$\n",
    "\n",
    "como a função que produz a saída $f(x) = \\mathtt{Verdadeiro}$ se $x$ for um número divisível por 2, e $f(x) = \\mathtt{Falso}$ caso contrário.\n",
    "\n"
   ]
  },
  {
   "cell_type": "markdown",
   "metadata": {
    "slideshow": {
     "slide_type": "subslide"
    }
   },
   "source": [
    "Uma propriedade cujo domínio é um conjunto de $t$-uplas $A_1 \\times A_2 \\times ... \\times A_t$, é chamada de **relação**. A relação de *sucessor* entre números naturais, por exemplo, pode ser definida como\n",
    "\n",
    "$$suc : \\mathbb{N} \\times \\mathbb{N} \\rightarrow \\{\\mathtt{Verdadeiro}, \\mathtt{Falso}\\} $$\n",
    "\n",
    "a qual produzirá a saída $suc(1,2) = \\mathtt{Verdadeiro}$ e $suc(1,3) = \\mathtt{Falso}$.\n",
    "\n"
   ]
  },
  {
   "cell_type": "markdown",
   "metadata": {
    "slideshow": {
     "slide_type": "subslide"
    }
   },
   "source": [
    "O próprio teste de pertinência em conjuntos é uma relação\n",
    "\n",
    "$$ \\in \\,: \\mathbb{U} \\times \\mathcal{P}(\\mathbb{U}) \\rightarrow \\{\\mathtt{Verdadeiro}, \\mathtt{Falso}\\},$$\n",
    "\n",
    "que mapeia a entrada (a, A) para $\\mathtt{Verdadeiro}$ se o elemento $a \\in \\mathbb{U}$ pode ser encontrado no conjunto $A \\subseteq \\mathbb{U}$. Dado seu uso frequente em matemática acabamos adotando a **notação _infixa_** $a \\in A$ no lugar de $\\in\\!\\!(a,A)$."
   ]
  },
  {
   "cell_type": "markdown",
   "metadata": {
    "slideshow": {
     "slide_type": "subslide"
    }
   },
   "source": [
    "Por fim, podemos representar a relação  $R : D \\rightarrow \\{\\mathtt{Verdadeiro}, \\mathtt{Falso}\\}$ como um conjunto\n",
    "$$\\mathbf{R} = \\{a \\in D ~|~ R(a) = \\mathtt{Verdadeiro}\\}$$\n",
    "e utilizar a relação de pertinência para determinar a validade ou não da relação. De modo que\n",
    "$$ x \\in \\mathbf{R} \\text{ se e somente se } R(a) = \\mathtt{Verdadeiro} $$"
   ]
  },
  {
   "cell_type": "markdown",
   "metadata": {
    "slideshow": {
     "slide_type": "subslide"
    }
   },
   "source": [
    "Como exemplo, a relação sucessor $suc : \\mathbb{N} \\times \\mathbb{N} \\rightarrow \\{\\mathtt{Verdadeiro}, \\mathtt{Falso}\\} $ pode alternativamente ser representada pelo conjunto $\\mathtt{SUC}$ tal que\n",
    "$$ \\mathtt{SUC} = \\{(1,2), (2,3), (3,4), (4,5), (5, 6), ...\\}.$$"
   ]
  },
  {
   "cell_type": "markdown",
   "metadata": {
    "slideshow": {
     "slide_type": "slide"
    }
   },
   "source": [
    "#### Implementação em Python"
   ]
  },
  {
   "cell_type": "markdown",
   "metadata": {
    "slideshow": {
     "slide_type": "subslide"
    }
   },
   "source": [
    "Em Python, uma função pode ser definida pelo tipo dicionário `dict()`."
   ]
  },
  {
   "cell_type": "code",
   "execution_count": 6,
   "metadata": {},
   "outputs": [
    {
     "data": {
      "text/plain": [
       "4"
      ]
     },
     "execution_count": 6,
     "metadata": {},
     "output_type": "execute_result"
    }
   ],
   "source": [
    "f = dict()\n",
    "f[1] = 2\n",
    "f[2] = 4\n",
    "f[3] = 6\n",
    "f[2]"
   ]
  },
  {
   "cell_type": "markdown",
   "metadata": {
    "slideshow": {
     "slide_type": "subslide"
    }
   },
   "source": [
    "Podemos alternativamente definir a função como um conjunto de elementos mapeados:"
   ]
  },
  {
   "cell_type": "code",
   "execution_count": null,
   "metadata": {},
   "outputs": [
    {
     "data": {
      "text/plain": [
       "6"
      ]
     },
     "metadata": {},
     "output_type": "display_data"
    }
   ],
   "source": [
    "g = {1:3, 2:6, 3:9}\n",
    "g[2]"
   ]
  },
  {
   "cell_type": "markdown",
   "metadata": {
    "slideshow": {
     "slide_type": "subslide"
    }
   },
   "source": [
    "Assim como na definição matemática, em Python, uma função também pode receber tuplas como entradas. Os valores da função `h` abaixo podem ser consultados tanto por `h[(n,m)]`, quanto por `h[n,m]`."
   ]
  },
  {
   "cell_type": "code",
   "execution_count": 10,
   "metadata": {},
   "outputs": [
    {
     "data": {
      "text/plain": [
       "2"
      ]
     },
     "execution_count": 10,
     "metadata": {},
     "output_type": "execute_result"
    }
   ],
   "source": [
    "h = {(1,2):2,\n",
    "     (2,3):6,\n",
    "     (3,4):12}\n",
    "h[1,2]"
   ]
  },
  {
   "cell_type": "markdown",
   "metadata": {
    "slideshow": {
     "slide_type": "subslide"
    }
   },
   "source": [
    "Uma exceção é gerada caso a função seja utilizada com elementos que não pertencem ao domínio descrito."
   ]
  },
  {
   "cell_type": "code",
   "execution_count": 12,
   "metadata": {},
   "outputs": [
    {
     "ename": "KeyError",
     "evalue": "(1, 3)",
     "output_type": "error",
     "traceback": [
      "\u001b[0;31m---------------------------------------------------------------------------\u001b[0m",
      "\u001b[0;31mKeyError\u001b[0m                                  Traceback (most recent call last)",
      "\u001b[0;32m/tmp/ipykernel_22461/2961155664.py\u001b[0m in \u001b[0;36m<module>\u001b[0;34m\u001b[0m\n\u001b[1;32m      3\u001b[0m      (3,4):12}\n\u001b[1;32m      4\u001b[0m \u001b[0;34m\u001b[0m\u001b[0m\n\u001b[0;32m----> 5\u001b[0;31m \u001b[0mh\u001b[0m\u001b[0;34m[\u001b[0m\u001b[0;36m1\u001b[0m\u001b[0;34m,\u001b[0m\u001b[0;36m3\u001b[0m\u001b[0;34m]\u001b[0m\u001b[0;34m\u001b[0m\u001b[0;34m\u001b[0m\u001b[0m\n\u001b[0m",
      "\u001b[0;31mKeyError\u001b[0m: (1, 3)"
     ]
    }
   ],
   "source": [
    "h = {(1,2):2,\n",
    "     (2,3):6,\n",
    "     (3,4):12}\n",
    "\n",
    "h[1,3]"
   ]
  },
  {
   "cell_type": "markdown",
   "metadata": {
    "slideshow": {
     "slide_type": "subslide"
    }
   },
   "source": [
    "Podemos usar *comprehensions* para criar mapeamentos mais complexos:"
   ]
  },
  {
   "cell_type": "code",
   "execution_count": null,
   "metadata": {},
   "outputs": [
    {
     "data": {
      "text/plain": [
       "64"
      ]
     },
     "metadata": {},
     "output_type": "display_data"
    }
   ],
   "source": [
    "N = {1, 2, 3, 4, 5, 6, 7, 8}\n",
    "quad = { x:x*x for x in N }\n",
    "quad[8]"
   ]
  },
  {
   "cell_type": "markdown",
   "metadata": {
    "slideshow": {
     "slide_type": "subslide"
    }
   },
   "source": [
    "Também podemos definir funções que recebem e retornam tuplas:"
   ]
  },
  {
   "cell_type": "code",
   "execution_count": null,
   "metadata": {},
   "outputs": [
    {
     "data": {
      "text/plain": [
       "('s', '0')"
      ]
     },
     "metadata": {},
     "output_type": "display_data"
    }
   ],
   "source": [
    "d = {('q','a','0'):('s','1'),\n",
    "     ('q','a','1'):('s','0'),\n",
    "     ('q','b','0'):('q','1')}\n",
    "d['q','a','1']"
   ]
  },
  {
   "cell_type": "markdown",
   "metadata": {
    "slideshow": {
     "slide_type": "subslide"
    }
   },
   "source": [
    "As relações podem ser definidas do mesmo modo que funções (`dict()`)"
   ]
  },
  {
   "cell_type": "code",
   "execution_count": null,
   "metadata": {},
   "outputs": [
    {
     "data": {
      "text/plain": [
       "True"
      ]
     },
     "metadata": {},
     "output_type": "display_data"
    }
   ],
   "source": [
    "menor = {(1,2):True,\n",
    "         (2,1):False,\n",
    "         (1,3):True,\n",
    "         (3,1):False}\n",
    "menor[1,2]"
   ]
  },
  {
   "cell_type": "markdown",
   "metadata": {
    "slideshow": {
     "slide_type": "subslide"
    }
   },
   "source": [
    "As relações também podem ser definidas por meio de conjuntos, para serem verificadas através de teste de pertinência."
   ]
  },
  {
   "cell_type": "code",
   "execution_count": 13,
   "metadata": {},
   "outputs": [
    {
     "data": {
      "text/plain": [
       "True"
      ]
     },
     "execution_count": 13,
     "metadata": {},
     "output_type": "execute_result"
    }
   ],
   "source": [
    "menor = {(1,2),(1,3)}\n",
    "(1,2) in menor"
   ]
  },
  {
   "cell_type": "markdown",
   "metadata": {
    "slideshow": {
     "slide_type": "slide"
    }
   },
   "source": [
    "### Alfabeto e linguagens"
   ]
  },
  {
   "cell_type": "markdown",
   "metadata": {
    "slideshow": {
     "slide_type": "subslide"
    }
   },
   "source": [
    "Uma linguagem é composta de um conjunto de elementos básicos chamado de **alfabeto**. Para nossos propósitos, um alfabeto é um conjunto finito não vazio de elementos, chamados de **símbolos** do alfabeto. Usualmente utilizamos letras gregas maiúsculas para definir esses conjuntos, como $\\Sigma$ (sigma) ou $\\Gamma$ (gamma).\n"
   ]
  },
  {
   "cell_type": "markdown",
   "metadata": {
    "slideshow": {
     "slide_type": "subslide"
    }
   },
   "source": [
    "\n",
    "Uma **cadeia** sobre um alfabeto $\\Sigma$ é uma sequência de símbolos $(w_1,w_2,...,w_n)$ tal que $w_i \\in \\Sigma$ para todo $1 \\leq i \\leq n$. Por convenção, escrevemos estes símbolos um após o outro, desse modo a cadeia (`o`,`l`,`a`) sobre o alfabeto $\\Sigma$ = {`a`, `b`, `c`, ... , `z`} é escrita apenas como `ola`.\n"
   ]
  },
  {
   "cell_type": "markdown",
   "metadata": {
    "slideshow": {
     "slide_type": "subslide"
    }
   },
   "source": [
    "\n",
    "Uma **linguagem** é um conjunto de cadeias sobre um determinado alfabeto.  Denotamos por $\\Sigma^*$ a linguagem que contém todas as cadeias sobre um alfabeto $\\Sigma$. Para $\\Sigma = \\{a,b\\}$, por exemplo, temos que\n",
    "\n",
    "$$ \\Sigma^* = \\{ \\varepsilon, a, b, aa, ab, ba, bb, aaa, aab, ...\\}.$$\n",
    "\n"
   ]
  },
  {
   "cell_type": "markdown",
   "metadata": {
    "slideshow": {
     "slide_type": "fragment"
    }
   },
   "source": [
    "Dizemos que $ L $ é uma linguagem sobre $ \\Sigma $ *se e somente se* $ L \\subseteq \\Sigma^* $.\n",
    "\n"
   ]
  },
  {
   "cell_type": "markdown",
   "metadata": {
    "slideshow": {
     "slide_type": "subslide"
    }
   },
   "source": [
    "Denominamos por **concatenação** a operação de escrita de duas cadeias em sequência. Seja $x=x_1x_2...x_n$ e $y=y_1y_2...y_m$, a concatenação de $x$ com $y$, denotado por $xy$, é a cadeia $xy = x_1x_2...x_ny_1y_2...y_m$.\n",
    "\n"
   ]
  },
  {
   "cell_type": "markdown",
   "metadata": {
    "slideshow": {
     "slide_type": "subslide"
    }
   },
   "source": [
    "O número de símbolos de uma cadeia indica o seu **comprimento**. A cadeia $w = abcde$, por exemplo, tem comprimento $5$, denotado por $|w| = 5$. \n"
   ]
  },
  {
   "cell_type": "markdown",
   "metadata": {
    "slideshow": {
     "slide_type": "subslide"
    }
   },
   "source": [
    "Uma cadeia pode ter comprimento zero, o qual denominamos de **cadeia vazia**, sendo esta representada pelo símbolo grego $\\varepsilon$ (epsilon). \n"
   ]
  },
  {
   "cell_type": "markdown",
   "metadata": {
    "slideshow": {
     "slide_type": "fragment"
    }
   },
   "source": [
    "A ideia da cadeia $\\varepsilon$ se assemelha a do 0 na matemática: um símbolo para representar a ausência de quantidade."
   ]
  },
  {
   "cell_type": "markdown",
   "metadata": {
    "slideshow": {
     "slide_type": "slide"
    }
   },
   "source": [
    "#### Implementação em Python"
   ]
  },
  {
   "cell_type": "markdown",
   "metadata": {
    "slideshow": {
     "slide_type": "subslide"
    }
   },
   "source": [
    "Em Python usamos o tipo `str` para definir símbolos de alfabeto e cadeias"
   ]
  },
  {
   "cell_type": "code",
   "execution_count": 23,
   "metadata": {},
   "outputs": [
    {
     "data": {
      "text/plain": [
       "[True, True, True]"
      ]
     },
     "execution_count": 23,
     "metadata": {},
     "output_type": "execute_result"
    }
   ],
   "source": [
    "Sigma = {'a', 'b', 'c'}\n",
    "x = 'abc'\n",
    "[a in Sigma for a in x]"
   ]
  },
  {
   "cell_type": "markdown",
   "metadata": {
    "slideshow": {
     "slide_type": "subslide"
    }
   },
   "source": [
    "Podemos contudo escolher elementos que não sejam `str` para compor o alfabeto seja do tipo `str`. Nesse sentido, a cadeia $(20,10,20)$ é uma cadeia do alfabeto $\\{10,20\\}$."
   ]
  },
  {
   "cell_type": "code",
   "execution_count": 26,
   "metadata": {},
   "outputs": [
    {
     "data": {
      "text/plain": [
       "[True, True, True]"
      ]
     },
     "execution_count": 26,
     "metadata": {},
     "output_type": "execute_result"
    }
   ],
   "source": [
    "Sigma = {10, 20}\n",
    "cadeia = (20,10,20)\n",
    "[a in Sigma for a in cadeia]"
   ]
  },
  {
   "cell_type": "markdown",
   "metadata": {
    "slideshow": {
     "slide_type": "subslide"
    }
   },
   "source": [
    "Podemos utilizar índices para acessar o símbolo de uma posição específica da cadeia (os índices iniciam em 0)."
   ]
  },
  {
   "cell_type": "code",
   "execution_count": null,
   "metadata": {},
   "outputs": [
    {
     "data": {
      "application/vnd.google.colaboratory.intrinsic+json": {
       "type": "string"
      },
      "text/plain": [
       "'c'"
      ]
     },
     "metadata": {},
     "output_type": "display_data"
    }
   ],
   "source": [
    "y = 'abcde'\n",
    "y[2]"
   ]
  },
  {
   "cell_type": "markdown",
   "metadata": {
    "slideshow": {
     "slide_type": "subslide"
    }
   },
   "source": [
    "A cadeia vazia é representada por uma cadeia sem símbolos (`''` ou `()`)."
   ]
  },
  {
   "cell_type": "code",
   "execution_count": null,
   "metadata": {},
   "outputs": [
    {
     "data": {
      "application/vnd.google.colaboratory.intrinsic+json": {
       "type": "string"
      },
      "text/plain": [
       "''"
      ]
     },
     "metadata": {},
     "output_type": "display_data"
    }
   ],
   "source": [
    "epsilon = ''\n",
    "epsilon"
   ]
  },
  {
   "cell_type": "markdown",
   "metadata": {
    "slideshow": {
     "slide_type": "subslide"
    }
   },
   "source": [
    "Por fim, o Python realiza a operação de concatenação por meio do operador `+`:"
   ]
  },
  {
   "cell_type": "code",
   "execution_count": null,
   "metadata": {},
   "outputs": [
    {
     "data": {
      "application/vnd.google.colaboratory.intrinsic+json": {
       "type": "string"
      },
      "text/plain": [
       "'abcdef'"
      ]
     },
     "metadata": {},
     "output_type": "display_data"
    }
   ],
   "source": [
    "x = 'abc'\n",
    "y = 'def'\n",
    "x+y"
   ]
  },
  {
   "cell_type": "markdown",
   "metadata": {
    "slideshow": {
     "slide_type": "slide"
    }
   },
   "source": []
  }
 ],
 "metadata": {
  "celltoolbar": "Slideshow",
  "kernelspec": {
   "display_name": "Python 3 (ipykernel)",
   "language": "python",
   "name": "python3"
  },
  "language_info": {
   "codemirror_mode": {
    "name": "ipython",
    "version": 3
   },
   "file_extension": ".py",
   "mimetype": "text/x-python",
   "name": "python",
   "nbconvert_exporter": "python",
   "pygments_lexer": "ipython3",
   "version": "3.10.12"
  }
 },
 "nbformat": 4,
 "nbformat_minor": 2
}
