{
 "cells": [
  {
   "cell_type": "markdown",
   "metadata": {},
   "source": [
    "<a target=\"_blank\" href=\"https://colab.research.google.com/github/paulotguerra/QXD0046/blob/main/01.E1-Exercicios-Maquinas-de-Turing.ipynb\">\n",
    "  <img src=\"https://colab.research.google.com/assets/colab-badge.svg\" alt=\"Open In Colab\"/>\n",
    "</a>"
   ]
  },
  {
   "cell_type": "markdown",
   "metadata": {},
   "source": [
    "## QXD0046 - Teoria da Computação\n",
    "# Máquinas de Turing\n",
    "**Professor**: Paulo de Tarso Guerra ([paulodetarso@ufc.br](mailto:paulodetarso@ufc.br))"
   ]
  },
  {
   "cell_type": "code",
   "execution_count": 5,
   "metadata": {},
   "outputs": [],
   "source": [
    "# Execute essa célula (`ctrl+enter` ou clicando no botão de play) para importar a implementação das classes diretamente do [GitHub](https://github.com/paulotguerra/QXD0046)\n",
    "\n",
    "![ -d teocomp ] || (git clone https://github.com/paulotguerra/QXD0046.git && cp -r QXD0046/teocomp . && rm -rf QXD0046)\n",
    "\n",
    "from teocomp.automata import MT"
   ]
  },
  {
   "cell_type": "markdown",
   "metadata": {},
   "source": [
    "# Lista de Exercícios: Máquinas de Turing"
   ]
  },
  {
   "cell_type": "markdown",
   "metadata": {},
   "source": [
    "1. Seja $M = (\\{q,r,s,t,u,v,w\\},\\{0\\},\\{0,\\mathtt{x},\\sqcup\\},\\delta,q,\\{v\\})$ uma Máquina de Turing, onde\n",
    "\n",
    "| $\\delta$ |         $0$        |         $x$        |    $\\sqcup$    |\n",
    "|----------|--------------------|--------------------|----------------|\n",
    "|   $q$    | $(r,  \\sqcup  ,D)$ | $(w,\\mathtt{x},D)$ | $(w,\\sqcup,D)$ |\n",
    "|   $r$    | $(s,\\mathtt{x},D)$ | $(r,\\mathtt{x},D)$ | $(v,\\sqcup,D)$ |\n",
    "|   $s$    | $(t,     0    ,D)$ | $(s,\\mathtt{x},D)$ | $(u,\\sqcup,E)$ |\n",
    "|   $t$    | $(s,\\mathtt{x},D)$ | $(t,\\mathtt{x},D)$ | $(w,\\sqcup,D)$ |\n",
    "|   $u$    | $(u,     0    ,E)$ | $(u,\\mathtt{x},E)$ | $(r,\\sqcup,D)$ |\n",
    "\n",
    "Dê a sequência de configurações nas quais $M$ entra quando iniciada sobre as cadeias:\n",
    "\n",
    "a. 0\\\n",
    "b. 00\\\n",
    "c. 000\\\n",
    "d. 0000"
   ]
  },
  {
   "cell_type": "code",
   "execution_count": 2,
   "metadata": {},
   "outputs": [],
   "source": [
    "item_1a = [\"q0\"]    # Inserir sequência de configurações\n",
    "item_1b = [\"q00\"]   # Inserir sequência de configurações\n",
    "item_1c = [\"q000\"]  # Inserir sequência de configurações\n",
    "item_1d = [\"q0000\"] # Inserir sequência de configurações"
   ]
  },
  {
   "cell_type": "markdown",
   "metadata": {},
   "source": [
    "2. Construa uma Máquina de Turing que reconhece a linguagem $\\{a^ib^jc^k~|~i+j=k\\text{ para }i,j,k > 0\\}$."
   ]
  },
  {
   "cell_type": "code",
   "execution_count": 11,
   "metadata": {},
   "outputs": [],
   "source": [
    "# Insira o código da máquina de Turing. (Ver exemplo)\n",
    "\n",
    "# BLK,D,E = MT.default.values()\n",
    "\n",
    "# Q = {'q0','q1','q2'}\n",
    "# Sigma = {'a','b'}\n",
    "# Gamma = {'a','b',BLK}\n",
    "# delta = {('q0','a'):('q0',BLK,D),('q0','b'):('q2','b',E),('q0',BLK):('q1',BLK,E)}\n",
    "# q0 = 'q0'\n",
    "# F  = {'q1'}\n",
    "\n",
    "# M = MT(Q,Sigma,Gamma,delta,q0,F)\n",
    "# M"
   ]
  },
  {
   "cell_type": "markdown",
   "metadata": {},
   "source": [
    "3. Construa uma Máquina de Turing que reconhece a linguagem $\\{a^ib^jc^k ~|~ i \\neq j, j \\neq k \\text{ e } i \\neq k \\text{ para } i,j,k > 0\\}$."
   ]
  },
  {
   "cell_type": "code",
   "execution_count": null,
   "metadata": {},
   "outputs": [],
   "source": [
    "# Insira o código da máquina de Turing"
   ]
  },
  {
   "cell_type": "markdown",
   "metadata": {},
   "source": [
    "4. Construa uma Máquina de Turing que reconhece a linguagem $\\{w \\in \\{a,b\\}^* ~|~ \\text{ o número de } a\\text{'s em } w \\text{ é igual ao número de }b\\text{'s} \\}$."
   ]
  },
  {
   "cell_type": "code",
   "execution_count": null,
   "metadata": {},
   "outputs": [],
   "source": [
    "# Insira o código da máquina de Turing"
   ]
  },
  {
   "cell_type": "markdown",
   "metadata": {},
   "source": [
    "5. Construa uma Máquina de Turing que reconhece a linguagem $\\{w \\in \\{a,b\\}^* ~|~ \\text{ o número de } a\\text{'s em } w \\text{ é o dobro do número de }b\\text{'s} \\}$."
   ]
  },
  {
   "cell_type": "code",
   "execution_count": null,
   "metadata": {},
   "outputs": [],
   "source": [
    "# Insira o código da máquina de Turing"
   ]
  },
  {
   "cell_type": "markdown",
   "metadata": {},
   "source": [
    "6. Construa uma Máquina de Turing que reconhece a linguagem $\\{w \\in \\{a,b\\}^* ~|~ \\text{ o número de } a\\text{'s em } w \\text{ é menor que o número de }b\\text{'s} \\}$."
   ]
  },
  {
   "cell_type": "code",
   "execution_count": null,
   "metadata": {},
   "outputs": [],
   "source": [
    "# Insira o código da máquina de Turing"
   ]
  },
  {
   "cell_type": "markdown",
   "metadata": {},
   "source": [
    "7. Construa uma Máquina de Turing que reconhece a linguagem $\\{w \\in \\{a,b\\}^* ~|~ w \\text{ é um palíndromo que contém o mesmo número de }a\\text{'s e }b\\text{'s}\\}$."
   ]
  },
  {
   "cell_type": "code",
   "execution_count": null,
   "metadata": {},
   "outputs": [],
   "source": [
    "# Insira o código da máquina de Turing"
   ]
  },
  {
   "cell_type": "markdown",
   "metadata": {},
   "source": [
    "8. Dê um diagrama de estados de Máquinas de Turing que implemente as seguinte subrotinas, em todos os casos o alfabeto de fita é $\\Gamma = \\{a,b,\\#,\\sqcup\\}$."
   ]
  },
  {
   "cell_type": "markdown",
   "metadata": {},
   "source": [
    "* **LIMPAR**: limpa o trecho de fita entre a posição atual e a posição mais a esquerda da fita.\n",
    "\n",
    "![image.png](data:image/png;base64,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)\n",
    "\n",
    "![image.png](data:image/png;base64,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)"
   ]
  },
  {
   "cell_type": "code",
   "execution_count": null,
   "metadata": {},
   "outputs": [],
   "source": [
    "# Insira o código da máquina de Turing"
   ]
  },
  {
   "cell_type": "markdown",
   "metadata": {},
   "source": [
    "* **PROJ-2**: move a cabeça de leitura para o segundo \\# após a posição atual.\n",
    "\n",
    "![image.png](data:image/png;base64,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)\n",
    "\n",
    "![image.png](data:image/png;base64,iVBORw0KGgoAAAANSUhEUgAAASgAAABACAYAAACp1+qaAAAABHNCSVQICAgIfAhkiAAAABl0RVh0U29mdHdhcmUAZ25vbWUtc2NyZWVuc2hvdO8Dvz4AAAAmdEVYdENyZWF0aW9uIFRpbWUAc2VnIDE4IHNldCAyMDIzIDExOjA5OjI3aDsMxAAACZRJREFUeJzt3VtIFO8bB/Dv1rqupW4YHsoMTc3yAJp2sBAjkw4XkQqaV2VmggRRJEQXbmWHpRuvpIsOohKkJhgRQnmzGipFQq5bipZ51tr1sLm5rrrv/+KPi26eVmfG+S3PB/ZituF95hl7H98Z33dGwhhjIIQQEdqw3gdACCGLoQJFCBEtKlCEENGSrvcBEEL+uwwGA65cuQKLxbLsvikpKUhKSrKrfSpQhJBVc3d3h8lkQkVFxZL7yWQyPHz40O726RKPELImSqUSEolkyX0yMzPh5+dnd9sSmmZACFmr1NTURUdRMpkMHR0dqypQNIIihKzZUqOo1Y6eABpBEUI4kpaWhvLy8nnfrWX0BNAIihDCkby8PGzYML+kXLx4cdXFCaARFCGEQ3NHUWsdPQE0giKEcEipVFpHUWsdPQE0giKEcCwtLQ1VVVVrHj0BNFGTEMIxpVIJT0/PNRcngEZQhBAemEwmyOXyNbdDBYoQIlp0k5wQIlpUoAghokUFihAiWlSgCCGiRQWKECJaVKAIIaJFBYoQIlr/zCR///497t+/vx7HsqyCggJERUVx3u7w8DCSk5M5b3clfv36Bb1ej7179/IWw2QyobW1FXv27OFk8pw9BgYG8OfPH+zevZu3GEajEe3t7QgLC4OTkxNvcQCgt7cXJpMJQUFBvMZZiEajga+vLzw8PHiL0dXVBYvFgoCAAN5iLOXOnTuIj4+3bv8zghoaGoJarRb0oJYzPT0NtVqN0dFRXto3m81Qq9UYGxvjpf2lDA0N4ffv37zGMBqNGBsbw/j4OK9xFjI4OIihoSFeYxgMBoyNjcFkMvEaB/h/wR0cHOQ9zkKGh4d5/7+ynvmp1ep/82M2SkpKmLOzs+3X60qv1zMArKamhpf2+/v7GQBWV1fHS/tLOXXqFJNKpbzGePv2LQPAKisreY2zkNjYWObi4sJrjCdPnjAArLGxkdc4jDEWERHBFAoF73EWAoCdP3+e1xj+/v7Mx8eH1xgLsVgsDACrqKiY9z3dgyKEiBYVKEKIaFGBIoSIFhUoQohoUYEihIgWFShCiGhRgSKEiBYVKDsVFxfj6tWr1u2srKxFX/n8X+SI+T148AC+vr44evSooHF37dqF4eFhAEBfXx/CwsIEjc83IfKjAmWnlpaWeT8IjUaD8PDwdTwibjlifrdu3UJwcLCgMY1GI8xms3VZiiOcx7mEyo8KlJ3mdmDGGDo6OgT/z88nR85PIpEIFqulpWXe+kpHK1BC5UcFyk5arRahoaEAgM7OTvj6+kIqdZy3dzlyfrav5ebT3PMIOF6BEiq/Vf3EZmZmcPfuXQQHByMmJgaJiYk4cuQIZDKZdcGmXq9HbGwsoqOjcezYMYSEhODFixecHrxQnj59CrlcDmdnZ/T29mLbtm2Qy+UICQmBVquFXC7Hx48feYtfUFCA0NBQJCQkICIiAmfPnoVer+esfUfPb5Zer0dKSgo8PT3h6uqK06dPo7W1ldMY/v7+kMvlyMrKwuPHjyGXyyGXy1FaWor09HScOXOG03hzCdHnBM/PdtHeShYLX79+nbm6urLPnz9bv8vPz2cA2MTEBGOMsZ6eHpaWlsYsFgtjjLHc3Fwmk8nYyMiI3QsJxbJYuK6ujp04ccK6fe/ePZafn7+m2CtZLHzp0iX29etXxhhjOp2Oubi4sNzc3BXHWOliYT7yW8li4bXmt5LFwvHx8SwyMpINDAywqakp9unTJxYUFMS2b9/ODAbDimOtdLFwQkICa2hoYIwxNj09zRQKBZuenl5xnIVgmcXCXPS5lS4W5jo/zhYLGwwGFBYW4ty5c9i3b9+i+3l4eCAvL8963b9//36YzWZ0dnauooyKQ0tLCyIiIqzbWq123jZfsrOzrdf7W7duRUBAANra2jiP4+j5KRQK+Pj4QCqVIiYmBiqVCv39/aisrOQ8llartd7L+/79OwICArBx40bO48wlZJ8TKj+7C1RTUxMmJycRExOz5H6bNm2ad406+yCxmZkZe0OKhu11tlarFeS+gu25dnJy4uU8Onp+tg4cOAAAaG5u5rRdnU4HFxcXuLm5ARDuPArV54TMz+67n7MPjVvuqX7d3d149OgRfvz4ATc3N/T396/uCEWgqKgI165dw/j4OEpLS63zhAwGA6KjowEANTU1yxbt1SouLkZlZSWkUilkMhm6urqwY8cOztp39PwWo1AoAIDTB92FhISgr68PZrMZW7ZsAQBMTk4CAN68eYPjx4/j1atXnMWbS4g+J3R+dhcoV1dXALBO0FrMyZMnERgYiNevX8PJyQlVVVX48OHD6o5ynWVkZCAjIwNeXl7o6+uDk5MTNBoNcnJyUFdXx2vssrIyXLhwAfX19YiNjQUAREZGchrD0fNbzOyNeE9PT87abGtrQ0FBAQwGA5RKJQAgJSUFOTk5SEhI4CzOQoToc0LnZ/clXnh4OCQSCerr6xfdZ3R0FN++fUN8fDzvz4gWSnd3N7y9va35CPVn44aGBmzevNnaefni6PktpLGxEQAQFxfHabu2506IcylknxMyP7sLlI+PD5KSklBWVoaXL19icnISExMTGBgYsO6jUCjg7u6Od+/eQafT4efPn6itreX0wIXW3Nw874ax7TZf/Pz8YDQaUV1djZGREdTW1kKn03Eex9HzszU8PAyVSoW4uDjOf/PPPXd///6FwWCAt7c3pzFsCdnnhMxvVfOgioqKkJ6ejpycHHh5eSExMREjIyPWf5dIJCgsLIRGo8HOnTtx+fJlHDx4EABw48YNtLe3c3P0AlqP34oAkJmZicTERCQnJyMyMhJqtRqHDh1CQ0MDVCoVZ3EcPb/s7Gy4u7sjISEBMTExiIqKwuHDh/HmzRtOZ5hbLBZ0dnYiMDAQwL8TGvkiVJ8TPD/b+QirfWmCSqWaNw+KS2KZB8UHemnC2tFLE7jjsC9NmJqa4qopQggBQGvxCCEixkmBKi8vt87GvXnzJhdNEkKI/fOgFpKamorU1FQumiKEECu6xCOEiBYVKEKIaFGBIoSIFhUoQohoUYEihIjWP3/Fk0gkmJycxO3bt9fhcBY2MTEBgL+H3s+2+/z5c9TU1PASYzHt7e2wWCy8nu/ZZQ7l5eWcP/toOT09PZiamuI1v6amJgDAs2fPUF1dzVscABgaGoLJZFq3/vHlyxdeY4+OjmJ6elo8/d92ynlJSQkDIMoP30td6EMf+qzvx3api4QxxkAIISJE96AIIaJFBYoQIlpUoAghokUFihAiWv8D+KJSmyYtXbIAAAAASUVORK5CYII=)"
   ]
  },
  {
   "cell_type": "code",
   "execution_count": null,
   "metadata": {},
   "outputs": [],
   "source": [
    "# Insira o código da máquina de Turing"
   ]
  },
  {
   "cell_type": "markdown",
   "metadata": {},
   "source": [
    "* **SHIFT-R**: desloca a cadeia iniciada na posição atual uma posição para a direita\n",
    "\n",
    "![image.png](data:image/png;base64,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)\n",
    "\n",
    "![image.png](data:image/png;base64,iVBORw0KGgoAAAANSUhEUgAAARgAAAA+CAYAAADwDAQTAAAABHNCSVQICAgIfAhkiAAAABl0RVh0U29mdHdhcmUAZ25vbWUtc2NyZWVuc2hvdO8Dvz4AAAAmdEVYdENyZWF0aW9uIFRpbWUAc2VnIDE4IHNldCAyMDIzIDExOjE3OjAxbtGV8AAACCNJREFUeJzt3V1Ik+8fBvBr5czXTYaGJaVRvlAj8g1JEqOJWUeFHZgVhoIZeFQRErRC8qWoCLIOqpMIShEtNTTCiiTwJUVURG1hWuGmOXNmqGz5/A5C/0Xpau7eXP/rAwOnD/d1f6d+uff4PLcySZIkEBEJsMLZEyCifxcbDBEJwwZDRMK4OXsCtDxMTEwgNzcXs7OzVo/dv38/UlNTHTArcnVsMAQAUCgUmJ6eRnl5+aLHyeVyFBQUOGhW5Or4FonmnTt3DitWLP4jcfToUQQHBztoRuTqZPwzNf0oLS0NZWVlv/2aXC6HTqdjg6E/xhUM/USr1S64iuHqhf4WVzD0i4MHD6K0tPSnz3H1QrbgCoZ+8btVTEZGBpsL/TWuYOi30tPT8eDBAwDfVy9v3rxBSEiIcydFLocrGPqtH1cxGRkZbC5kE65gaEGHDh1CeXk5Vy9kM15oRwvSarXw9fVlcyGbcQVDi5qenoaHh4ezp0Euig2GiIThSV4iEoYNhoiEYYMhImHYYIhIGDYYIhKGDYaIhGGDISJhFr2Sd+fOnQ6axt9JSUlBXl6ekLFPnz6NlpYWIWPPMRqN0Ov1UKvVQnMA4O3bt/D09ERQUJDQHLPZjO7uboSFhcHLy0tYjk6ng7e3N9auXSssAwBmZmbQ09OD8PBweHp6Csvp6+uDUqlEYGCgsAzg+wWTvb29iIiIEH7hZFZWFo4cOQLAygrm5cuXGB0dFTqZv9XV1YXe3l5h43d2dqKvr0/Y+ADw6dMnGI1GoRlzDAYD9Hq98JyZmRmYTCaYTCahOQaDAQaDQWgGAExNTcFkMmFiYkJozsjIiEO+P1+/foXJZMLk5KTQnJaWFgwODv7vE9ICzGazBECqrKxc6BCn2Lt3r5SRkSFs/N27d0uZmZnCxpckSUpPT5dkMpnQjDlKpVJSq9XCc9ra2iQA0s2bN4Xm+Pj4SNHR0UIzJEmSXrx4IQGQ7t69KzTHw8NDio+PF5ohSZJUU1PjkN/n8PBwKT8/f/45z8EQkTBsMEQkDBsMEQnDBkNEwrDBEJEwbDBEJAwbDBEJwwazDBUWFiIoKAg7duxw9lRcSnNzM9LS0iCTyVBfX+/s6SzZv1APG8wydObMGYSGhjp7Gi4nLi4OOTk5zp6G3fwL9bDBLGMymczZU3BZ/9pr56r1sMEsYytXrnT2FFzWv/bauWo9S24wFRUViIqKwpYtW6DRaJCUlASlUoknT57MH3P48GGo1WokJSUhLCwMJ0+ehOTC/8zAUfV8/vwZqampCAgIgI+PD/bs2SP0Rk/RjEYjtm/fjujoaOzatQthYWG4d++ekKzS0tL5O4c3bNiAixcv2v17xHqsW1KDqa6uxoEDB5CTk4Pu7m48e/YMFy5c+OUOVIPBgNevX6O+vh7Xrl3D1atXUVdXt6SJO5Oj6pEkCSUlJdDr9WhoaEB/fz80Gg2+fPli9yxHmJqaQnBwMFpbW/H8+XPs27cPWVlZGB8ft3tWTEwM2tvbYTAYkJmZiby8PFy5csWuGazHuiU1mKKiIoSGhiI7O3vR44qLi+f31IiNjQUA4VsiiOSoehQKBdasWQM3NzdERUWhuLgYQ0NDqKiosHuWI6hUKmi12vnzCbGxsTCbzXj37p3ds0JCQuDp6Qk/Pz+cPXsWW7duRUlJiV0zWI91NjcYi8WC1tZWREdHWz02JiZm/mO5XA4A+Pbtm63RTueseuaaWWdnp/AsEby8vLB58+b5545+7QYHB+26vwvrsc7m/009OTkJi8UClUq16HFTU1O4fPkyGhsb4e3tjdnZWVsjlwVn1qNQKAB8353MFb1//x6XLl1Cf38/fH19MTQ05LDsH1+7uY+XivVYZ3OD8fLygkwmw9jY2KLHnThxAtXV1ejo6IC/vz/Gx8dRWVlpa6zTObOeuV3wAgICHJJnbykpKdi4cSOqqqogl8vx6NEjvHr1yiHZRqMRbm5u8PPzs9uYrMc6m98iubu7IyIiAk1NTYuezW5sbERkZCT8/f1tjVpWnFlPU1MTACAhIcHh2Us1Pj6Onp4eJCYmzi+9Ham5uRlxcXFwd3e3y3is588s6STv8ePHMTAwgLy8PJhMJlgsFnz8+PGnY9atW4e2tjbodDoMDw+jtrZ2SRN2NmfVMzY2huLiYiQkJECj0Tgk056USiUUCgWePn2K0dFRDAwMoKGhwSHZd+7cgU6ng1artduYrOfPLKnB5ObmoqCgAPfv30dgYCC2bduGxsbGn47Jz8+HSqWCWq1GcnIyVq1ahdWrV+P27dt4/PjxkibvDI6q59ixY1CpVNBoNIiJiUFkZCTi4+NRU1Pjkld1ymQy3LhxA11dXVi/fj2ys7MRFxcHADh16hR0Op1dcsLDw5Gbm4vCwkIkJiZi06ZNuHXrFqqrq5GcnGyXDID1/LGFNu+1ddPv1tZWCYBUV1dny57BVnHT77/DTb9tw02/bSN802+z2WzvIYnIRfFeJCISxq4Npr29HUVFRQCA69ev/3LCl4j+v9h8HczvREZGoqqqyp5DEpEL41skIhKGDYaIhGGDISJh2GCISBg2GCISZsG/Irm5ff9SWVkZOjo6HDYha3Q6nfC7idvb23H+/Hlh43d1dUGSJKEZc6anpzEyMiI8S6/XAwBqa2sxPDwsLGdmZgZ6vV54PQMDAwCAhw8for+/X1iOxWLBhw8fhNczd6m/6N/n0dHRn29lWeiS37lbBZbjQ/StAs6ujw8+XPnx460CMkly4d23iWhZ4zkYIhKGDYaIhPkP+oY9X2rFBZYAAAAASUVORK5CYII=)"
   ]
  },
  {
   "cell_type": "code",
   "execution_count": null,
   "metadata": {},
   "outputs": [],
   "source": [
    "# Insira o código da máquina de Turing"
   ]
  },
  {
   "cell_type": "markdown",
   "metadata": {},
   "source": [
    "* **SHIFT-L**: desloca a cadeia iniciada na posição atual uma posição para a esquerda\n",
    "\n",
    "![image.png](data:image/png;base64,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)\n",
    "\n",
    "![image.png](data:image/png;base64,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)"
   ]
  },
  {
   "cell_type": "code",
   "execution_count": null,
   "metadata": {},
   "outputs": [],
   "source": [
    "# Insira o código da máquina de Turing"
   ]
  },
  {
   "cell_type": "markdown",
   "metadata": {},
   "source": [
    "* **COPIA-D**: copia a subcadeia indicada por delimitadores \\#.\n",
    "\n",
    "![image.png](data:image/png;base64,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)\n",
    "\n",
    "![image.png](data:image/png;base64,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)"
   ]
  },
  {
   "cell_type": "code",
   "execution_count": 9,
   "metadata": {},
   "outputs": [],
   "source": [
    "# Insira o código da máquina de Turing"
   ]
  }
 ],
 "metadata": {
  "kernelspec": {
   "display_name": "Python 3",
   "language": "python",
   "name": "python3"
  },
  "language_info": {
   "codemirror_mode": {
    "name": "ipython",
    "version": 3
   },
   "file_extension": ".py",
   "mimetype": "text/x-python",
   "name": "python",
   "nbconvert_exporter": "python",
   "pygments_lexer": "ipython3",
   "version": "3.10.12"
  },
  "orig_nbformat": 4
 },
 "nbformat": 4,
 "nbformat_minor": 2
}
