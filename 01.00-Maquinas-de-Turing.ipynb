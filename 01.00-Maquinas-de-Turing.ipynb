{
 "cells": [
  {
   "cell_type": "markdown",
   "metadata": {
    "slideshow": {
     "slide_type": "skip"
    }
   },
   "source": [
    "<a target=\"_blank\" href=\"https://colab.research.google.com/github/paulotguerra/QXD0046/blob/main/01.00-Maquinas-de-Turing.ipynb\">\n",
    "  <img src=\"https://colab.research.google.com/assets/colab-badge.svg\" alt=\"Open In Colab\"/>\n",
    "</a>"
   ]
  },
  {
   "cell_type": "markdown",
   "metadata": {
    "slideshow": {
     "slide_type": "slide"
    }
   },
   "source": [
    "## QXD0046 - Teoria da Computação\n",
    "# Introdução às Máquinas de Turing\n",
    "**Professor**: Paulo de Tarso Guerra ([paulodetarso@ufc.br](mailto:paulodetarso@ufc.br))"
   ]
  },
  {
   "cell_type": "code",
   "execution_count": 1,
   "metadata": {
    "slideshow": {
     "slide_type": "skip"
    }
   },
   "outputs": [],
   "source": [
    "# Execute essa célula (`ctrl+enter` ou clicando no botão de play) para importar a implementação das classes diretamente do [GitHub](https://github.com/paulotguerra/QXD0046)\n",
    "\n",
    "![ -d teocomp ] || (git clone https://github.com/paulotguerra/QXD0046.git && cp -r QXD0046/teocomp . && rm -rf QXD0046)"
   ]
  },
  {
   "cell_type": "markdown",
   "metadata": {
    "slideshow": {
     "slide_type": "slide"
    }
   },
   "source": [
    "# Máquinas de Turing"
   ]
  },
  {
   "cell_type": "markdown",
   "metadata": {
    "slideshow": {
     "slide_type": "subslide"
    }
   },
   "source": [
    "As **máquinas de Turing** (MT) são modelos de computação propostos Alan Turing como uma representação conceitual da dinâmica de execução de um computador perante uma determinada entrada. Elas buscam, por meio de um conjunto mínimo de operações, capturar a essência do mecanismo de computação realizado por computadores reais."
   ]
  },
  {
   "cell_type": "markdown",
   "metadata": {
    "slideshow": {
     "slide_type": "subslide"
    }
   },
   "source": [
    "As máquinas de Turing operam sobre um dispositivo de memória ideal, ilimitado e irrestrito, pensado como uma fita com infinitas posições. A máquina interage com essa fita por meio de uma cabeça de fita que pode ler e escrever símbolos e movimentar-se sobre essa fita, uma posição por vez, para direita ou esquerda. A Figura 1 ilustra esse modelo."
   ]
  },
  {
   "cell_type": "markdown",
   "metadata": {},
   "source": [
    "**Figura 1**: Ilustração de uma Máquina de Turing.\n",
    "\n",
    "![image.png](data:image/png;base64,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)"
   ]
  },
  {
   "cell_type": "markdown",
   "metadata": {
    "slideshow": {
     "slide_type": "subslide"
    }
   },
   "source": [
    "O controle é realizado por um sistema de transição de estados. Nele está descrito o que a máquina deve fazer quando em um determinado estado faz a leitura de um símbolo na fita. \n"
   ]
  },
  {
   "cell_type": "markdown",
   "metadata": {
    "slideshow": {
     "slide_type": "fragment"
    }
   },
   "source": [
    "Assim como para os autômatos finitos, descrevemos as MT por meio de uma representação de círculos, representando estados, ligados por arestas rotuladas, que descrevem os elementos que motivam a transição de estados."
   ]
  },
  {
   "cell_type": "markdown",
   "metadata": {
    "slideshow": {
     "slide_type": "subslide"
    }
   },
   "source": [
    "**Figura 2**: Exemplo de diagrama de estados de uma MT.\n",
    "\n",
    "![image.png](data:image/png;base64,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)"
   ]
  },
  {
   "cell_type": "markdown",
   "metadata": {},
   "source": [
    "A figura acima representa uma MT com três estados, $q0$, $q1$ e $q2$. O autômato inicia no estado $q0$, indicado por uma seta sem origem em outro estado. Os rótulos das setas indicam os possíveis fatos motivadores de uma mudança de estado."
   ]
  },
  {
   "cell_type": "markdown",
   "metadata": {
    "slideshow": {
     "slide_type": "subslide"
    }
   },
   "source": [
    "O rótulo é composto por três elementos\n",
    "\n",
    "$$\\langle\\mathtt{leitura}\\rangle \\rightarrow \\langle\\mathtt{escrita}\\rangle,\\langle\\mathtt{movimento}\\rangle$$\n",
    "\n",
    "de modo que a transição entre os estados $q0$ e $q1$\n",
    "\n",
    "$$~\\sqcup \\rightarrow a,\\text{E}~$$\n",
    "\n",
    "indica que ao ler o símbolo $\\sqcup$ no estado $q0$, será escrito o símbolo $a$ nesta posição, a cabeça de fita será movimentada para a posição a esquerda, e o estado interno da máquina será atualizado para $q1$."
   ]
  },
  {
   "cell_type": "markdown",
   "metadata": {},
   "source": [
    "A computação ocorre enquanto $\\delta$ for definida. Os estados em $F$ indica que a palavra deve ser *aceita*, caso contrário ela deve ser rejeitada *rejeitada*."
   ]
  },
  {
   "cell_type": "markdown",
   "metadata": {
    "slideshow": {
     "slide_type": "subslide"
    }
   },
   "source": [
    "As máquinas de Turing são formalmente definidas como segue.\n",
    "\n",
    "**Definição 1**: Uma máquina de Turing é uma tupla $(Q, \\Sigma, \\Gamma, \\delta, q_0, F)$, onde\n",
    "1. $Q$ é um conjunto finito de símbolos de estado,\n",
    "1. $\\Sigma$ é um conjunto finito de símbolos de alfabeto, onde $\\sqcup \\not\\in \\Sigma$,\n",
    "1. $\\Gamma$ é um conjunto finito de símbolos de fita, onde $\\Sigma \\cup \\{\\sqcup\\} \\subseteq \\Gamma$,\n",
    "1. $\\delta : Q' \\times \\Gamma \\rightarrow Q \\times \\Gamma \\times \\{\\mathrm{D,E}\\}$ é a função de transição, onde $Q' \\subseteq Q$,\n",
    "1. $q_0 \\in Q$ é o estado inicial,\n",
    "1. $F \\subseteq Q - Q'$ é o conjunto de estados de aceitação.\n",
    "\n"
   ]
  },
  {
   "cell_type": "markdown",
   "metadata": {
    "slideshow": {
     "slide_type": "subslide"
    }
   },
   "source": [
    "Podemos definir a MT ilustrada na Figura 2 formalmente como\n",
    "\n",
    "$$M = (\\{q_0,q_1, q_2\\}, \\{a,b\\}, \\{a,b,\\sqcup\\}, \\delta, q_0, \\{q_1\\})$$\n",
    "\n",
    "onde $\\delta(q_0,a)=(q_1,a,D) $, $\\delta(q_0,b)=(q_2,b,D)$, $\\delta(q_0,\\sqcup)=(q_0,a,D)$."
   ]
  },
  {
   "cell_type": "markdown",
   "metadata": {
    "slideshow": {
     "slide_type": "subslide"
    }
   },
   "source": [
    "Chamamos de configuração a combinação de estado interno da máquina, conteúdo da fita e posição da cabeça de fita.\n",
    "\n",
    "Podemos representar textualmente um configuração como uma cadeia $uqv$, onde $q$ é o estado atual da máquina, $uv$ o conteúdo da fita e a cabeça de leitura está sobre o primeiro caractere de $v$."
   ]
  },
  {
   "cell_type": "markdown",
   "metadata": {},
   "source": [
    "**Figura 3:** Configuração de uma Máquina de Turing.\n",
    "\n",
    "![image.png](data:image/png;base64,iVBORw0KGgoAAAANSUhEUgAAAZYAAABuCAYAAAAETjVWAAAABHNCSVQICAgIfAhkiAAAABl0RVh0U29mdHdhcmUAZ25vbWUtc2NyZWVuc2hvdO8Dvz4AAAAmdEVYdENyZWF0aW9uIFRpbWUAcXVpIDI0IGFnbyAyMDIzIDA4OjEzOjA4Q52BSAAAE3xJREFUeJzt3d1PW/fhBvDn2MevGIx5DXEwxo4hpOXNgYSETJSWhGzSUm3q1vVmF5umav/KpO1mmrRp0i6qSp22RGJJobTdIB3JBoEkCAjQgoHElIADBr8AtrF9fhcRaCyhvwSOeo695yPlIpZjnhNsP+ec7znfryBJkgQiIiKZaJQOQERE2YXFQkREsmKxEBGRrMT//Mvo6ChGR0eh5mGXiooKNDY2wmazKR2FiIheYF+xDAwM4IsvvkBDQwMEQVAq04EePnyI0tJS2O12FgsRkUrtK5b19XUcP34c7777LjQa9Z0lu3nzJhYXFxGPx5WOQkREBxD/+4GCggK43W5VFkt5eTnW19eVjkFERN9Afe1BREQZjcVCRESyYrEQEZGsWCxERCQrFgsREcmKxUJERLJisRARkaxYLEREJCsWCxERyYrFQkREsnpuSpfDiMVimJiYwMTEBJLJJDweDyoqKrC2tgar1Qq3263KSS2JiEh+Ry6WtbU13Lx5E9PT0zhz5gwcDgdmZ2fR1dUFjUaDH/zgB3C73XJkJSKiDHCkYolEIrhx4wZ6enrQ1taGN954A/n5+djY2MDk5CRKSkpgtVqRSqUwMzOD8fFxbG5uwmq1oq6uDpWVldBqtXJtCxERqcChx1jS6TTu37+Prq4umM1mtLW1oaioCFqtFslkEslkEmVlZSgsLMTQ0BA+/vhjCIKAxsZGxONx/O1vf8P9+/eRTqfl3B4iIlLYoYslFArhzp07mJubw6lTp+BwOCAIAhKJBBYXF5FMJuF0OhGLxdDX14eNjQ14vV7U1dWhvr4ey8vL6Ovrw9rampzbQ0RECjt0sSwvL2NychJGoxFVVVXIyckBAITDYczPz0Ov16OiogJPnjzBzMwMLBYLiouLodFoUFpaCpPJhMnJSfj9ftk2hoiIlHeoMRZJkhAMBrG6uorS0lKcOHECovjspQKBAPx+P4qKimC327GwsID19XWYTKa95+h0OhiNRqyvr2N1dfWVfvbGxgbu3buHlZWVw0QnlauoqIDL5dp7rxBR5jnUp1cQBAiCAK1Wi4KCAuTn5wN4Nu7y6NEjrKyswOv1oqSkBFNTU4jH49BqtXuXHO/+23g8jlgs9ko/e7dYJicnDxOdVGxubg4XLlzA+++/D4vFonQcIjqkQ+8WlpaWwuFwIB6PI5VKQZIk+Hw+9Pb2IhAIwOFwIC8vD+l0WtYB+uLiYrS2tqKyslK21yR1+OCDDxAMBpFKpZSOQkRHcOhiOX78ODo7O9Hb24uPP/4YDx8+xOLiIr788ktYrVY4nU4YDAYYDAaIoohkMglJkgA8O5WWSqUgiiL0ev0r/dycnBy43W7U1dUdNjqpVF9fH0KhkNIxiOiIDl0sJpMJbW1tsNvtWFtbg8VigSiKMJlMKCgoQHl5OURRRFFREXJzcxGLxZBMJgEAyWQSW1tbsFgssNlssm0MEREp70gjpDabDV6vF7FYDJIk4fbt24jFYvB4PCgtLYUgCHA6nXA4HFhfX8fGxgby8vKwtraGSCQCl8uFEydOyLUtRESkAkeehFKr1SInJweiKOLx48fY3t5GRUUF8vLyAABlZWW4dOkSUqkUuru7MTAwgJ6eHhgMBnR2dqKkpOTIG0FEROpx5Gs6k8kkfD4fBgcH0d3dja+//ho+nw/T09OoqamByWTC+fPnUVJSguXlZYTDYVRXV6O9vR0ulws6nU6O7SAiIpU4crGk02nEYjEIgoCLFy+iqakJRUVF+wbrrVYr6uvrcfLkScTjcRiNRuTk5ECj4az9RETZ5sjFIooiXC4XSktL9x6TJAlmsxkGg2HvMa1Wu3d6jIiIsteRi0Wj0SA3Nxe5ubly5CEiogzHc1FERCQrFgsREcmKxUJERLJisRARkaxYLEREJCsWCxERyYrFQkREsmKxEBGRrFgsREQkq3133kuShKdPn2J6elqV83j5fD6Ew2GlYxAR0TfYVyw2mw0DAwP4zW9+s7c+vZosLS2huroaRqNR6ShERHSAfcXy9ttvo6GhQZWlAjw7oiosLITdblc6ChERHWBfsVRUVKCiokKpLERElAXUN5BCREQZjcVCRESyYrEQEZGsjrzQF9FRSJK09yedTiOdTiOVSiGVSkGj0aj2QhIiOpgg7S5MT6SAUCiEP//5z+jp6YHP58POzg7cbjcuXryI9957D5WVlUpHJKJXxCMWUpTJZIJWq8XExATm5uYAACsrKzh79iwKCgoUTkdEh8ExFlKUXq9Ha2srmpqa9h57/fXX0draCqvVqmAyIjosFgspzuVywev1Ij8/HxqNBo2NjWhoaFA6FhEdEk+FkeIMBgPq6+tRXV2NJ0+eoL6+HoWFhUrHIqJDYrGQKtTW1qK+vh5FRUWor69X5SSoRPRyWCykCqWlpWhoaEBVVRWqq6uVjkNER8BiUand+zr+VwiCgKamJkiSBLPZjFQqpXQkItlJkvTCe7Oy7Z4tFosKBYNBfPTRR/jss89Ue0oonU7vfUjkyri5uQkAyMnJkeX1djMCkDWnnNLpNMxmMwBga2tLtRlzc3MBAJFIRLUZd7+YJUlSbcYXfWbS6TQuXLiA9957Dw6HQ8GE8mGxqND29jb8fj/Ky8tx+fJlpeO80I0bN3Dt2jVcvXoV77zzjtJxXujWrVu4fv06zp07h3feeUeV6/jcu3cPvb29KC8vx/e//32UlJQoHek5MzMz+Pvf/w6NRoOOjg643W6lIz1neXkZf/3rX2GxWPDjH/8YFotF6UjP+fzzz9Hf349Lly6hvb197/FgMIihoSH09vbipz/9qSrfp6+KxaJSRqMRLpcLV69eVTrKC83NzeHGjRs4deqUajOGw2F89tlnqKqqwve+9z1VftnodDoMDQ3B4XDg0qVLqly24u7duxgbG4Moimhra4PX61U60nN8Ph8GBwdhs9lw5coVVd5cGwgEMDY2Bq/Xu+8zs7m5CZ/Ph4mJCaytrWXFelPqO14kIvofMjU1hXA4jNdeew02m03pOLJgsRARKSQQCODTTz9FXl4evvvd7+6Nt2U6FgsRkUIGBgawsLCA8+fP48SJE0rHkQ2LhYhIISaTCQAQi8VUeSXbYWXPlhARZZhz586hqqoKIyMjmJ2dVTqObFgsREQKKSwsRGdnJ7a3t9Hb27t3L1emY7EQESnI5XIhJycHMzMzCIVCSseRBYuFiEhBY2NjCIfDaGho4OXGRER0NEtLS/j888/3TontDuZnOt55T9+6VCqFYDCIJ0+eIBKJoKCgAE6nU1UfqkzISJnv9u3b8Pv9+NGPfoRjx44pHUc2LBb61sViMQwNDeH69euYn5/Hm2++iZ///OeqmsoiEzJS5rPZbNBoNAiFQlk1uzFPhdG3zmAwoK6uDhcvXkQymcTjx48Rj8eVjrVPJmSkzNfc3IzTp0/j3r17mJ6eVjqObHjEkqXS6TTm5uYwOjqKYDCIeDwOk8mE5uZmvPbaaxBF5X71oijC4XCgvr4eJSUlqtxTy4SM/2l7exsTExOYnJxELBZDLBZDWVkZLly4ALvdrvr8/6vy8/Nx5coV/PGPf0RPTw/sdjvy8vKUjnVkPGLJQpIkYXp6Gj09PYhGo2hqasLZs2exsbGB3//+9+jt7UUsFlM6JgRBUP0XXiZkTCQSuH37Nr744gsUFBSgpaUFNTU1uHfvHn73u99hfHx8b10aUh+73Q6j0Qi/34+trS2l48iCxZKFUqkUxsbGcO3aNYyPj6OwsBBNTU1oaWnB06dP0d3dDb/fr3RMkkkkEsGdO3dw/fp1rKyswOPx4OLFi/B4PBgZGUF/fz+i0ajSMekAIyMjCIfDOHv2LPLz85WOIwueCstCgiDA4XCgpaUFbrcbZrMZWq0Wx48fh81mw+LiIgKBAE6ePKmKvfFUKoWvvvoK9+/fRzAYhCAI8Hg8aGxshNVqVToeAHVnNBgMOHXqFEKhEOx2O0RRhE6n21uNcGFhAdFodG8VSFKPR48eoa+vD2VlZejo6MiKRb4AFktW0mq1qKurQ1lZGaLRKB48eICFhQU8ffoUs7OzEEUROzs7SscE8GwsaHJyEpOTk2hubobH44Hf78enn36K4eFh/PCHP4TL5VK0ANWe0Ww249KlS/B6vYhEIrh58yaWl5cxOzuLQCCARCKBZDKpSDb6Zv/617+wtLSEn/zkJyguLj7SayWTSUxOTmJiYgJutxsNDQ0wGAyHfl40GsXw8DACgQDOnDkDt9v90u9xFkuWisViuHPnDgYHB+FwOHDmzBlUVFRgfHwc6+vrqjnnLkkSLBYLampqcObMGZhMJlRWVmJjYwPXrl1DKpXCz372M0WX7M2EjKurq+jq6sLi4iIaGhrQ2NgIo9GIkZER1fyu6XllZWUQRRGBQACSJB1p5yQcDuOTTz7BRx99hM7OTpSVle0dtR7mefPz8/jwww8xMTGB999/H3a7/aXv4+IYSxYKh8Po6urCBx98ALPZjM7OTpw/fx6nT59GQUEBBEFAOp1GOBxWfNI7QRBQXFwMh8MBs9kMQRCQl5eHpqYm5Ofno7+/H+Pj40in08x4gIWFBfzpT39Cf38/ampqcPnyZTQ3N+/NQQUA8XgcoVCIl0yrjNfrRX19PUZHRzE+Pn6k1zIajfB4PDh//jxqamoOPPX5ss+z2Wyora1FS0sLnE7nK11JyiOWLLS4uIj+/n7s7Oygvb197/LiJ0+eIJFIQJIkbG1tYXR0FLm5uYqvYa7VaqHVavc9ZrPZUFhYiOHhYczOzqK1tVXR889qzbh7ocbAwABOnz6Ny5cv7y0YlUgkkEgkADybOsTv96OyshJOp/NbzUgHy8vLQ2dnJ/7whz+gu7sb5eXlKCgoONRrmUwmtLe3o6GhAbm5uQeO/b3s844dO4Z3330XsVgMRUVF0Ol0L52FxZKFEokEYrEYBEGA0WiEVqtFKpXC0tISAoEAUqkUNjc3kUgkVDF4/yI6nQ4GgwHxeByRSESVYwRqyRiLxRCPx6HX62EwGCAIAqLRKJaWlhAKhZBKpbC+vo5EIoHjx48rkpEOVlRUBFEUsba2dqT3kCAIsNls/+9Eli/7PFEUUVZWdqgsPBWWhRwOB65cuQK9Xo/r16+jq6sLXV1dmJ2dRWNjI3Q6HW7evIm1tTXVzk+UTCaRSCSg1+thsVgUvaHzIGrIqNFo4PV68dZbb2Fubg4ffvghuru7cePGDaRSKbS0tGB+fh7/+Mc/oNVqjzxATPIbHBxEOBzGhQsXeLkxqVd+fj7efvtt1NTUYHV1FaIowmq1ora2Fu3t7XjrrbcQi8XgcrlUMfeVJEnPDTAHg0EEAgHY7XZUVVVBr9crlO4ZtWYUBAGVlZX45S9/iZmZGWxubkKn08HtduPYsWP4zne+g0ePHsFkMuHkyZOKXxpN+83MzODWrVtwOp144403FH+fy4XFkoU0Gg1KSkpQVFSE7e1txONxGAwGmEwmaDQalJeXQ5IkaLVaxU+FSZKEpaUlPHr0CG63G3q9HpubmxgaGsLq6io6OjpQW1ur6Hrgas+o0+lQWVmJ8vJybG1tIZVKwWw2731J7V4m+t9jRKS8u3fvYmVlBR0dHSgsLFQ6jmxYLFlMo9EgJydn78qgXWr5gtm9yVAQBMzPz+Mvf/kL8vPzMT8/D5/Ph6tXr6Kzs1PRD1wmZNwliuIL55lS42lEesbpdMJgMMDv9yOZTGbN7yo7toIyktvtxi9+8QuIoohkMonl5WXs7Oygrq4Ora2tKC8vR2FhoaJHK5mQkTJXQ0MDpqamMDY2hgcPHqC5uVnpSLJgsZBirFbr3jn/dDqNEydOYGdnB0ajEXq9XvHTdEBmZKTMlZOTg8uXL2N2dhbd3d1wOp1ZcYEFi4VUQaPRwGw2Kx3jG2VCRso8uzcobm5uZs2OCo/fiYgUIkkSBgYGEI1G0dbWljVX7bFYiIgUMjU1hTt37uwtdfAqd7erGYuFiEghDx48wOrqKmpra7Pm5kiAxUJEpJiqqioYjUb4fL69ed2yAYuFiEghr7/+Os6dO4eHDx9ieHhY6TiyYbEQESnEZDKho6MDZrMZn3zyCZaXl5WOJAtebkxEpCC9Xo9UKoV0Op01c4XxiIWISEEjIyPY2dnh5cZERCSP5eVlmM1meDwe1czjd1Q8FaZSwWAQw8PDWF1dVTrKC/3zn/9EOBxGf3+/0lEONDg4iMePH+PWrVsAoMq75u/fv4+vvvoKkUgEv/71r1W5Ps6XX36JsbExaDQa/Pa3v4XH41E60nO+/vpr3L17FxaLBb/61a9eOBmn0v79739jamoK165dg9/v3/e4w+HImntYAECQ/nuRCVJcOBxGX18fpqamYLFYlI7zQpFIBKFQ6BuXNlVaNBpFKBSCyWSC1WpV5d5gNBrF1tYW9Ho9TCYTDAaD0pGes7W1hVgsBuDZeulqLOh4PI5AIACtVouSkhJVzhIcCASwurqK4uLiffOBRaNRVFdX480338yae1lYLCqUTqcRiUSwvb2tdJQD7S58JQiCquc3SqfTAKDq2Yd3P4Jq/n/MhIw7OzsAoNo9/52dHSSTSeh0uueKz2QywWKxqHLn5zBYLEREJCv17sYREVFGYrEQEZGsWCxERCQrFgsREcmKxUJERLJisRARkaz+D3XNQP+TlRvVAAAAAElFTkSuQmCC)\n",
    "\n",
    "A configuração acima é representada textualmente por $aq_0bba$.\n"
   ]
  },
  {
   "cell_type": "markdown",
   "metadata": {
    "slideshow": {
     "slide_type": "subslide"
    }
   },
   "source": [
    "Seja $C_i, C_j$ configurações de $M$, dizemos que $C_i$ **origina** $C_j$ se\n",
    "- $C_i = q_ibv$, $~C_j = q_jcv~$ e $~\\delta(q_i,b) = (q_j,c,\\mathrm{E})$, ou\n",
    "- $C_i = uq_ibv$, $~C_j = ucq_jv~$ e $~\\delta(q_i,b) = (q_j,c,\\mathrm{D})$, ou\n",
    "- $C_i = uaq_ibv$, $~C_j = uq_jacv$, $~\\delta(q_i,b) = (q_j,c,\\mathrm{E})$ e $a \\in \\Gamma$. "
   ]
  },
  {
   "cell_type": "markdown",
   "metadata": {},
   "source": [
    "Os itens acima descrevem formalmente o processo de mudanças de configuração ocasionado pelos movimentos da máquina de Turing, incluindo o caso especial de uma tentativa de movimento à esquerda na posição mais a esquerda da fita."
   ]
  },
  {
   "cell_type": "markdown",
   "metadata": {
    "slideshow": {
     "slide_type": "subslide"
    }
   },
   "source": [
    "Seja $M = (Q, \\Sigma, \\Gamma, \\delta, q_0, F)$ uma MT e $w = w_1w_2...w_n$ uma cadeia sobre $\\Sigma$, dizemos que $M$ **para** com entrada $w$ se existe uma sequência de configurações $(C_0,C_1,...,C_n)$ tal que\n",
    "1. $C_0 = q_0w$,\n",
    "1. $C_{i} \\text{ origina } C_{i+1}$,\n",
    "1. $C_n = uqv \\text{ e } q \\not\\in Q'$.\n",
    "\n",
    "Se a MT para e $q \\in F$ dizemos que $M$ **aceita** $w$. Se a MT para e $q \\not\\in F$ dizemos que $M$ **rejeita** $w$."
   ]
  },
  {
   "cell_type": "markdown",
   "metadata": {
    "slideshow": {
     "slide_type": "slide"
    }
   },
   "source": [
    "### Implementação em Python"
   ]
  },
  {
   "cell_type": "markdown",
   "metadata": {
    "slideshow": {
     "slide_type": "subslide"
    }
   },
   "source": [
    "Em nossa implementação, uma máquina de Turing é representada pela classe `MT`, cujo construtor segue a definição apresentada:\n",
    "\n",
    "`M = MT(Q,Sigma,Gamma,delta,q0,F)`\n",
    "\n",
    "A seguir temos o exemplo da MT da Figura 2. "
   ]
  },
  {
   "cell_type": "markdown",
   "metadata": {
    "slideshow": {
     "slide_type": "subslide"
    }
   },
   "source": [
    "Os elementos `Q`, `Sigma` e `Gamma` são elementos do tipo `set()`. Os elementos `q0`, `q1` e `q2` devem ser elementos de `Q`. A função de transição `delta` é um elemento do tipo `dict()` cuja construção deve ter domínio e contradomínio como indicado na Definição 1.\n"
   ]
  },
  {
   "cell_type": "code",
   "execution_count": 2,
   "metadata": {},
   "outputs": [
    {
     "data": {
      "image/svg+xml": [
       "<?xml version=\"1.0\" encoding=\"UTF-8\" standalone=\"no\"?>\n",
       "<!DOCTYPE svg PUBLIC \"-//W3C//DTD SVG 1.1//EN\"\n",
       " \"http://www.w3.org/Graphics/SVG/1.1/DTD/svg11.dtd\">\n",
       "<!-- Generated by graphviz version 2.43.0 (0)\n",
       " -->\n",
       "<!-- Title: turing_machine Pages: 1 -->\n",
       "<svg width=\"249pt\" height=\"124pt\"\n",
       " viewBox=\"0.00 0.00 248.59 124.50\" xmlns=\"http://www.w3.org/2000/svg\" xmlns:xlink=\"http://www.w3.org/1999/xlink\">\n",
       "<g id=\"graph0\" class=\"graph\" transform=\"scale(1 1) rotate(0) translate(4 120.5)\">\n",
       "<title>turing_machine</title>\n",
       "<polygon fill=\"white\" stroke=\"transparent\" points=\"-4,4 -4,-120.5 244.59,-120.5 244.59,4 -4,4\"/>\n",
       "<g id=\"node1\" class=\"node\">\n",
       "<title></title>\n",
       "<ellipse fill=\"black\" stroke=\"black\" cx=\"1.8\" cy=\"-55.75\" rx=\"1.8\" ry=\"1.8\"/>\n",
       "</g>\n",
       "<!-- q0 -->\n",
       "<g id=\"node4\" class=\"node\">\n",
       "<title>q0</title>\n",
       "<ellipse fill=\"none\" stroke=\"black\" cx=\"63.35\" cy=\"-55.75\" rx=\"23\" ry=\"23\"/>\n",
       "<text text-anchor=\"middle\" x=\"63.35\" y=\"-52.05\" font-family=\"Times,serif\" font-size=\"14.00\">q0</text>\n",
       "</g>\n",
       "<!-- &#45;&gt;q0 -->\n",
       "<g id=\"edge4\" class=\"edge\">\n",
       "<title>&#45;&gt;q0</title>\n",
       "<path fill=\"none\" stroke=\"black\" d=\"M3.83,-55.75C7.23,-55.75 18.48,-55.75 30.22,-55.75\"/>\n",
       "<polygon fill=\"black\" stroke=\"black\" points=\"30.48,-59.25 40.48,-55.75 30.48,-52.25 30.48,-59.25\"/>\n",
       "</g>\n",
       "<!-- q1 -->\n",
       "<g id=\"node2\" class=\"node\">\n",
       "<title>q1</title>\n",
       "<ellipse fill=\"none\" stroke=\"black\" cx=\"213.84\" cy=\"-89.75\" rx=\"22.96\" ry=\"22.96\"/>\n",
       "<ellipse fill=\"none\" stroke=\"black\" cx=\"213.84\" cy=\"-89.75\" rx=\"27\" ry=\"27\"/>\n",
       "<text text-anchor=\"middle\" x=\"213.84\" y=\"-86.05\" font-family=\"Times,serif\" font-size=\"14.00\">q1</text>\n",
       "</g>\n",
       "<!-- q2 -->\n",
       "<g id=\"node3\" class=\"node\">\n",
       "<title>q2</title>\n",
       "<ellipse fill=\"none\" stroke=\"black\" cx=\"213.84\" cy=\"-22.75\" rx=\"23\" ry=\"23\"/>\n",
       "<text text-anchor=\"middle\" x=\"213.84\" y=\"-19.05\" font-family=\"Times,serif\" font-size=\"14.00\">q2</text>\n",
       "</g>\n",
       "<!-- q0&#45;&gt;q1 -->\n",
       "<g id=\"edge3\" class=\"edge\">\n",
       "<title>q0&#45;&gt;q1</title>\n",
       "<path fill=\"none\" stroke=\"black\" d=\"M85.77,-61.26C91.7,-62.75 98.14,-64.34 104.1,-65.75 128.51,-71.51 156.12,-77.6 177.41,-82.2\"/>\n",
       "<polygon fill=\"black\" stroke=\"black\" points=\"176.79,-85.65 187.31,-84.33 178.27,-78.81 176.79,-85.65\"/>\n",
       "<text text-anchor=\"middle\" x=\"136.6\" y=\"-83.55\" font-family=\"Times,serif\" font-size=\"14.00\">⊔ → ⊔, E</text>\n",
       "</g>\n",
       "<!-- q0&#45;&gt;q2 -->\n",
       "<g id=\"edge2\" class=\"edge\">\n",
       "<title>q0&#45;&gt;q2</title>\n",
       "<path fill=\"none\" stroke=\"black\" d=\"M85.62,-51.02C110.62,-45.46 152.34,-36.19 181.15,-29.79\"/>\n",
       "<polygon fill=\"black\" stroke=\"black\" points=\"182.12,-33.16 191.12,-27.57 180.6,-26.33 182.12,-33.16\"/>\n",
       "<text text-anchor=\"middle\" x=\"136.6\" y=\"-50.55\" font-family=\"Times,serif\" font-size=\"14.00\">b → b, E</text>\n",
       "</g>\n",
       "<!-- q0&#45;&gt;q0 -->\n",
       "<g id=\"edge1\" class=\"edge\">\n",
       "<title>q0&#45;&gt;q0</title>\n",
       "<path fill=\"none\" stroke=\"black\" d=\"M56,-77.55C55.19,-87.66 57.64,-96.5 63.35,-96.5 67,-96.5 69.32,-92.87 70.3,-87.6\"/>\n",
       "<polygon fill=\"black\" stroke=\"black\" points=\"73.8,-87.68 70.7,-77.55 66.81,-87.4 73.8,-87.68\"/>\n",
       "<text text-anchor=\"middle\" x=\"63.35\" y=\"-100.3\" font-family=\"Times,serif\" font-size=\"14.00\">a → ⊔, D</text>\n",
       "</g>\n",
       "</g>\n",
       "</svg>\n"
      ],
      "text/plain": [
       "<graphviz.graphs.Digraph at 0x7fd11c349cc0>"
      ]
     },
     "metadata": {},
     "output_type": "display_data"
    }
   ],
   "source": [
    "from teocomp.automata import MT\n",
    "\n",
    "BLK,D,E = MT.default.values()\n",
    "\n",
    "Q = {'q0','q1','q2'}\n",
    "Sigma = {'a','b'}\n",
    "Gamma = {'a','b',' '}\n",
    "delta = {('q0','a'):('q0',BLK,D),\n",
    "         ('q0','b'):('q2','b',E),\n",
    "         ('q0',BLK):('q1',BLK,E)}\n",
    "q0 = 'q0'\n",
    "F  = {'q1'}\n",
    "\n",
    "M = MT(Q,Sigma,Gamma,delta,q0,F)\n",
    "M"
   ]
  },
  {
   "cell_type": "markdown",
   "metadata": {
    "slideshow": {
     "slide_type": "subslide"
    }
   },
   "source": [
    "Definida a máquina de Turing `M`, podemos usar a função `M.aceita(entrada)` para verificar a aceitação de cadeias, onde `entrada` deve ser composta por uma sequência de símbolos pertencentes a `Sigma`. A aceitação de uma palavra retornará o valor `True`."
   ]
  },
  {
   "cell_type": "code",
   "execution_count": 3,
   "metadata": {},
   "outputs": [
    {
     "data": {
      "text/plain": [
       "True"
      ]
     },
     "execution_count": 3,
     "metadata": {},
     "output_type": "execute_result"
    }
   ],
   "source": [
    "M.aceita(\"aaaa\")"
   ]
  },
  {
   "cell_type": "markdown",
   "metadata": {
    "slideshow": {
     "slide_type": "fragment"
    }
   },
   "source": [
    "A rejeição de uma palavra retornará o valor `False`."
   ]
  },
  {
   "cell_type": "code",
   "execution_count": 4,
   "metadata": {},
   "outputs": [
    {
     "data": {
      "text/plain": [
       "False"
      ]
     },
     "execution_count": 4,
     "metadata": {},
     "output_type": "execute_result"
    }
   ],
   "source": [
    "M.aceita(\"aabb\")"
   ]
  },
  {
   "cell_type": "markdown",
   "metadata": {
    "slideshow": {
     "slide_type": "subslide"
    }
   },
   "source": [
    "Você pode também realizar múltiplos testes utilizando listas com casos de teste:"
   ]
  },
  {
   "cell_type": "code",
   "execution_count": 5,
   "metadata": {},
   "outputs": [
    {
     "data": {
      "text/plain": [
       "[True, True, True, True, True, True, True, True]"
      ]
     },
     "execution_count": 5,
     "metadata": {},
     "output_type": "execute_result"
    }
   ],
   "source": [
    "testes = [(\"a\",True), (\"aa\",True), (\"aaa\",True), (\"\",True), (\"b\",False), (\"ab\",False), (\"aba\",False), (\"bbb\",False)]\n",
    "[M.aceita(entrada) == saida for entrada, saida in testes]"
   ]
  },
  {
   "cell_type": "markdown",
   "metadata": {
    "slideshow": {
     "slide_type": "subslide"
    }
   },
   "source": [
    "Não é necessário que os conjuntos `Q`, `Sigma` e `Gamma` sejam do tipo `str`. Podemos assim utilizar algumas funções do Python para facilitar a definição de máquinas de Turing."
   ]
  },
  {
   "cell_type": "markdown",
   "metadata": {},
   "source": [
    " Definimos a seguir, uma MT $M$ que reconhece a linguagem $\\{w\\#w ~|~ w \\in \\{a,b\\}^*\\}$ utilizando alguns recursos da linguagem Python, como a função `range()`."
   ]
  },
  {
   "cell_type": "code",
   "execution_count": 6,
   "metadata": {
    "slideshow": {
     "slide_type": "subslide"
    }
   },
   "outputs": [
    {
     "data": {
      "image/svg+xml": [
       "<?xml version=\"1.0\" encoding=\"UTF-8\" standalone=\"no\"?>\n",
       "<!DOCTYPE svg PUBLIC \"-//W3C//DTD SVG 1.1//EN\"\n",
       " \"http://www.w3.org/Graphics/SVG/1.1/DTD/svg11.dtd\">\n",
       "<!-- Generated by graphviz version 2.43.0 (0)\n",
       " -->\n",
       "<!-- Title: turing_machine Pages: 1 -->\n",
       "<svg width=\"852pt\" height=\"580pt\"\n",
       " viewBox=\"0.00 0.00 851.60 579.75\" xmlns=\"http://www.w3.org/2000/svg\" xmlns:xlink=\"http://www.w3.org/1999/xlink\">\n",
       "<g id=\"graph0\" class=\"graph\" transform=\"scale(1 1) rotate(0) translate(4 575.75)\">\n",
       "<title>turing_machine</title>\n",
       "<polygon fill=\"white\" stroke=\"transparent\" points=\"-4,4 -4,-575.75 847.6,-575.75 847.6,4 -4,4\"/>\n",
       "<g id=\"node1\" class=\"node\">\n",
       "<title></title>\n",
       "<ellipse fill=\"black\" stroke=\"black\" cx=\"1.8\" cy=\"-295.75\" rx=\"1.8\" ry=\"1.8\"/>\n",
       "</g>\n",
       "<!-- 1 -->\n",
       "<g id=\"node2\" class=\"node\">\n",
       "<title>1</title>\n",
       "<ellipse fill=\"none\" stroke=\"black\" cx=\"58.6\" cy=\"-295.75\" rx=\"18\" ry=\"18\"/>\n",
       "<text text-anchor=\"middle\" x=\"58.6\" y=\"-292.05\" font-family=\"Times,serif\" font-size=\"14.00\">1</text>\n",
       "</g>\n",
       "<!-- &#45;&gt;1 -->\n",
       "<g id=\"edge26\" class=\"edge\">\n",
       "<title>&#45;&gt;1</title>\n",
       "<path fill=\"none\" stroke=\"black\" d=\"M3.75,-295.75C7.11,-295.75 18.87,-295.75 30.55,-295.75\"/>\n",
       "<polygon fill=\"black\" stroke=\"black\" points=\"30.58,-299.25 40.58,-295.75 30.58,-292.25 30.58,-299.25\"/>\n",
       "</g>\n",
       "<!-- 2 -->\n",
       "<g id=\"node3\" class=\"node\">\n",
       "<title>2</title>\n",
       "<ellipse fill=\"none\" stroke=\"black\" cx=\"196.6\" cy=\"-386.75\" rx=\"18\" ry=\"18\"/>\n",
       "<text text-anchor=\"middle\" x=\"196.6\" y=\"-383.05\" font-family=\"Times,serif\" font-size=\"14.00\">2</text>\n",
       "</g>\n",
       "<!-- 1&#45;&gt;2 -->\n",
       "<g id=\"edge1\" class=\"edge\">\n",
       "<title>1&#45;&gt;2</title>\n",
       "<path fill=\"none\" stroke=\"black\" d=\"M73.9,-305.31C97.4,-321.04 144.42,-352.5 172.64,-371.38\"/>\n",
       "<polygon fill=\"black\" stroke=\"black\" points=\"170.83,-374.38 181.08,-377.04 174.72,-368.57 170.83,-374.38\"/>\n",
       "<text text-anchor=\"middle\" x=\"127.6\" y=\"-365.55\" font-family=\"Times,serif\" font-size=\"14.00\">a → x, D</text>\n",
       "</g>\n",
       "<!-- 3 -->\n",
       "<g id=\"node4\" class=\"node\">\n",
       "<title>3</title>\n",
       "<ellipse fill=\"none\" stroke=\"black\" cx=\"196.6\" cy=\"-201.75\" rx=\"18\" ry=\"18\"/>\n",
       "<text text-anchor=\"middle\" x=\"196.6\" y=\"-198.05\" font-family=\"Times,serif\" font-size=\"14.00\">3</text>\n",
       "</g>\n",
       "<!-- 1&#45;&gt;3 -->\n",
       "<g id=\"edge2\" class=\"edge\">\n",
       "<title>1&#45;&gt;3</title>\n",
       "<path fill=\"none\" stroke=\"black\" d=\"M72.6,-284.35C79.06,-278.84 87.09,-272.25 94.6,-266.75 120.28,-247.95 151.24,-228.46 172.06,-215.79\"/>\n",
       "<polygon fill=\"black\" stroke=\"black\" points=\"174.1,-218.64 180.85,-210.47 170.48,-212.65 174.1,-218.64\"/>\n",
       "<text text-anchor=\"middle\" x=\"127.6\" y=\"-270.55\" font-family=\"Times,serif\" font-size=\"14.00\">b → x, D</text>\n",
       "</g>\n",
       "<!-- 8 -->\n",
       "<g id=\"node9\" class=\"node\">\n",
       "<title>8</title>\n",
       "<ellipse fill=\"none\" stroke=\"black\" cx=\"196.6\" cy=\"-81.75\" rx=\"18\" ry=\"18\"/>\n",
       "<text text-anchor=\"middle\" x=\"196.6\" y=\"-78.05\" font-family=\"Times,serif\" font-size=\"14.00\">8</text>\n",
       "</g>\n",
       "<!-- 1&#45;&gt;8 -->\n",
       "<g id=\"edge7\" class=\"edge\">\n",
       "<title>1&#45;&gt;8</title>\n",
       "<path fill=\"none\" stroke=\"black\" d=\"M64.55,-278.44C70.29,-259.76 80.77,-229.51 94.6,-205.75 117.97,-165.61 153.92,-124.98 176.03,-101.64\"/>\n",
       "<polygon fill=\"black\" stroke=\"black\" points=\"178.84,-103.78 183.24,-94.14 173.79,-98.93 178.84,-103.78\"/>\n",
       "<text text-anchor=\"middle\" x=\"127.6\" y=\"-209.55\" font-family=\"Times,serif\" font-size=\"14.00\"># → #, D</text>\n",
       "</g>\n",
       "<!-- 9 -->\n",
       "<g id=\"node10\" class=\"node\">\n",
       "<title>9</title>\n",
       "<ellipse fill=\"none\" stroke=\"black\" cx=\"825.6\" cy=\"-354.75\" rx=\"18\" ry=\"18\"/>\n",
       "<text text-anchor=\"middle\" x=\"825.6\" y=\"-351.05\" font-family=\"Times,serif\" font-size=\"14.00\">9</text>\n",
       "</g>\n",
       "<!-- 1&#45;&gt;9 -->\n",
       "<g id=\"edge18\" class=\"edge\">\n",
       "<title>1&#45;&gt;9</title>\n",
       "<path fill=\"none\" stroke=\"black\" d=\"M60.99,-313.84C66.41,-370.65 91.41,-541.75 195.6,-541.75 195.6,-541.75 195.6,-541.75 675.1,-541.75 739.55,-541.75 751.81,-504.96 789.6,-452.75 804.91,-431.59 814.09,-403.07 819.18,-382.26\"/>\n",
       "<polygon fill=\"black\" stroke=\"black\" points=\"822.61,-382.97 821.42,-372.44 815.79,-381.41 822.61,-382.97\"/>\n",
       "<text text-anchor=\"middle\" x=\"425.1\" y=\"-560.55\" font-family=\"Times,serif\" font-size=\"14.00\">x → x, E</text>\n",
       "<text text-anchor=\"middle\" x=\"425.1\" y=\"-545.55\" font-family=\"Times,serif\" font-size=\"14.00\">⊔ → ⊔, E</text>\n",
       "</g>\n",
       "<!-- 2&#45;&gt;2 -->\n",
       "<g id=\"edge5\" class=\"edge\">\n",
       "<title>2&#45;&gt;2</title>\n",
       "<path fill=\"none\" stroke=\"black\" d=\"M185.36,-401.16C181.43,-411.91 185.18,-422.75 196.6,-422.75 204.27,-422.75 208.48,-417.86 209.23,-411.39\"/>\n",
       "<polygon fill=\"black\" stroke=\"black\" points=\"212.66,-410.6 207.84,-401.16 205.72,-411.54 212.66,-410.6\"/>\n",
       "<text text-anchor=\"middle\" x=\"196.6\" y=\"-441.55\" font-family=\"Times,serif\" font-size=\"14.00\">a → a, D</text>\n",
       "<text text-anchor=\"middle\" x=\"196.6\" y=\"-426.55\" font-family=\"Times,serif\" font-size=\"14.00\">b → b, D</text>\n",
       "</g>\n",
       "<!-- 4 -->\n",
       "<g id=\"node5\" class=\"node\">\n",
       "<title>4</title>\n",
       "<ellipse fill=\"none\" stroke=\"black\" cx=\"345.6\" cy=\"-386.75\" rx=\"18\" ry=\"18\"/>\n",
       "<text text-anchor=\"middle\" x=\"345.6\" y=\"-383.05\" font-family=\"Times,serif\" font-size=\"14.00\">4</text>\n",
       "</g>\n",
       "<!-- 2&#45;&gt;4 -->\n",
       "<g id=\"edge9\" class=\"edge\">\n",
       "<title>2&#45;&gt;4</title>\n",
       "<path fill=\"none\" stroke=\"black\" d=\"M214.75,-386.75C239.98,-386.75 287.34,-386.75 317.36,-386.75\"/>\n",
       "<polygon fill=\"black\" stroke=\"black\" points=\"317.56,-390.25 327.56,-386.75 317.56,-383.25 317.56,-390.25\"/>\n",
       "<text text-anchor=\"middle\" x=\"265.6\" y=\"-390.55\" font-family=\"Times,serif\" font-size=\"14.00\"># → #, D</text>\n",
       "</g>\n",
       "<!-- 2&#45;&gt;9 -->\n",
       "<g id=\"edge19\" class=\"edge\">\n",
       "<title>2&#45;&gt;9</title>\n",
       "<path fill=\"none\" stroke=\"black\" d=\"M208.51,-400.65C230.89,-427.47 284.98,-483.75 344.6,-483.75 344.6,-483.75 344.6,-483.75 675.1,-483.75 738.46,-483.75 788.26,-416.5 811.05,-379.11\"/>\n",
       "<polygon fill=\"black\" stroke=\"black\" points=\"814.18,-380.7 816.26,-370.31 808.16,-377.14 814.18,-380.7\"/>\n",
       "<text text-anchor=\"middle\" x=\"508.1\" y=\"-502.55\" font-family=\"Times,serif\" font-size=\"14.00\">x → x, E</text>\n",
       "<text text-anchor=\"middle\" x=\"508.1\" y=\"-487.55\" font-family=\"Times,serif\" font-size=\"14.00\">⊔ → ⊔, E</text>\n",
       "</g>\n",
       "<!-- 3&#45;&gt;3 -->\n",
       "<g id=\"edge6\" class=\"edge\">\n",
       "<title>3&#45;&gt;3</title>\n",
       "<path fill=\"none\" stroke=\"black\" d=\"M185.36,-216.16C181.43,-226.91 185.18,-237.75 196.6,-237.75 204.27,-237.75 208.48,-232.86 209.23,-226.39\"/>\n",
       "<polygon fill=\"black\" stroke=\"black\" points=\"212.66,-225.6 207.84,-216.16 205.72,-226.54 212.66,-225.6\"/>\n",
       "<text text-anchor=\"middle\" x=\"196.6\" y=\"-256.55\" font-family=\"Times,serif\" font-size=\"14.00\">a → a, D</text>\n",
       "<text text-anchor=\"middle\" x=\"196.6\" y=\"-241.55\" font-family=\"Times,serif\" font-size=\"14.00\">b → b, D</text>\n",
       "</g>\n",
       "<!-- 5 -->\n",
       "<g id=\"node6\" class=\"node\">\n",
       "<title>5</title>\n",
       "<ellipse fill=\"none\" stroke=\"black\" cx=\"345.6\" cy=\"-208.75\" rx=\"18\" ry=\"18\"/>\n",
       "<text text-anchor=\"middle\" x=\"345.6\" y=\"-205.05\" font-family=\"Times,serif\" font-size=\"14.00\">5</text>\n",
       "</g>\n",
       "<!-- 3&#45;&gt;5 -->\n",
       "<g id=\"edge10\" class=\"edge\">\n",
       "<title>3&#45;&gt;5</title>\n",
       "<path fill=\"none\" stroke=\"black\" d=\"M214.75,-202.56C239.98,-203.77 287.34,-206.02 317.36,-207.45\"/>\n",
       "<polygon fill=\"black\" stroke=\"black\" points=\"317.4,-210.96 327.56,-207.94 317.74,-203.96 317.4,-210.96\"/>\n",
       "<text text-anchor=\"middle\" x=\"265.6\" y=\"-210.55\" font-family=\"Times,serif\" font-size=\"14.00\"># → #, D</text>\n",
       "</g>\n",
       "<!-- 3&#45;&gt;9 -->\n",
       "<g id=\"edge20\" class=\"edge\">\n",
       "<title>3&#45;&gt;9</title>\n",
       "<path fill=\"none\" stroke=\"black\" d=\"M213.55,-194.59C240.14,-183.34 295.49,-162.75 344.6,-162.75 344.6,-162.75 344.6,-162.75 675.1,-162.75 740.94,-162.75 751.71,-202.9 789.6,-256.75 804.63,-278.11 813.85,-306.6 819.02,-327.35\"/>\n",
       "<polygon fill=\"black\" stroke=\"black\" points=\"815.63,-328.2 821.31,-337.14 822.44,-326.6 815.63,-328.2\"/>\n",
       "<text text-anchor=\"middle\" x=\"508.1\" y=\"-181.55\" font-family=\"Times,serif\" font-size=\"14.00\">x → x, E</text>\n",
       "<text text-anchor=\"middle\" x=\"508.1\" y=\"-166.55\" font-family=\"Times,serif\" font-size=\"14.00\">⊔ → ⊔, E</text>\n",
       "</g>\n",
       "<!-- 4&#45;&gt;4 -->\n",
       "<g id=\"edge13\" class=\"edge\">\n",
       "<title>4&#45;&gt;4</title>\n",
       "<path fill=\"none\" stroke=\"black\" d=\"M333.21,-400.04C327.91,-411.14 332.04,-422.75 345.6,-422.75 354.92,-422.75 359.79,-417.26 360.2,-410.23\"/>\n",
       "<polygon fill=\"black\" stroke=\"black\" points=\"363.53,-409.07 357.99,-400.04 356.69,-410.55 363.53,-409.07\"/>\n",
       "<text text-anchor=\"middle\" x=\"345.6\" y=\"-426.55\" font-family=\"Times,serif\" font-size=\"14.00\">x → x, D</text>\n",
       "</g>\n",
       "<!-- 6 -->\n",
       "<g id=\"node7\" class=\"node\">\n",
       "<title>6</title>\n",
       "<ellipse fill=\"none\" stroke=\"black\" cx=\"508.1\" cy=\"-326.75\" rx=\"18\" ry=\"18\"/>\n",
       "<text text-anchor=\"middle\" x=\"508.1\" y=\"-323.05\" font-family=\"Times,serif\" font-size=\"14.00\">6</text>\n",
       "</g>\n",
       "<!-- 4&#45;&gt;6 -->\n",
       "<g id=\"edge16\" class=\"edge\">\n",
       "<title>4&#45;&gt;6</title>\n",
       "<path fill=\"none\" stroke=\"black\" d=\"M362.87,-380.66C390.75,-370.24 447.86,-348.89 481.24,-336.41\"/>\n",
       "<polygon fill=\"black\" stroke=\"black\" points=\"482.64,-339.63 490.78,-332.85 480.19,-333.07 482.64,-339.63\"/>\n",
       "<text text-anchor=\"middle\" x=\"425.1\" y=\"-372.55\" font-family=\"Times,serif\" font-size=\"14.00\">a → x, E</text>\n",
       "</g>\n",
       "<!-- 4&#45;&gt;9 -->\n",
       "<g id=\"edge21\" class=\"edge\">\n",
       "<title>4&#45;&gt;9</title>\n",
       "<path fill=\"none\" stroke=\"black\" d=\"M363.09,-391.86C387.41,-399.11 434.48,-412.03 475.6,-416.75 545.35,-424.75 724.89,-408.98 789.6,-381.75 794.6,-379.64 799.51,-376.64 803.99,-373.4\"/>\n",
       "<polygon fill=\"black\" stroke=\"black\" points=\"806.35,-376 812.01,-367.04 802,-370.51 806.35,-376\"/>\n",
       "<text text-anchor=\"middle\" x=\"591.1\" y=\"-451.55\" font-family=\"Times,serif\" font-size=\"14.00\">⊔ → ⊔, E</text>\n",
       "<text text-anchor=\"middle\" x=\"591.1\" y=\"-436.55\" font-family=\"Times,serif\" font-size=\"14.00\">b → b, E</text>\n",
       "<text text-anchor=\"middle\" x=\"591.1\" y=\"-421.55\" font-family=\"Times,serif\" font-size=\"14.00\"># → #, E</text>\n",
       "</g>\n",
       "<!-- 5&#45;&gt;5 -->\n",
       "<g id=\"edge14\" class=\"edge\">\n",
       "<title>5&#45;&gt;5</title>\n",
       "<path fill=\"none\" stroke=\"black\" d=\"M333.21,-222.04C327.91,-233.14 332.04,-244.75 345.6,-244.75 354.92,-244.75 359.79,-239.26 360.2,-232.23\"/>\n",
       "<polygon fill=\"black\" stroke=\"black\" points=\"363.53,-231.07 357.99,-222.04 356.69,-232.55 363.53,-231.07\"/>\n",
       "<text text-anchor=\"middle\" x=\"345.6\" y=\"-248.55\" font-family=\"Times,serif\" font-size=\"14.00\">x → x, D</text>\n",
       "</g>\n",
       "<!-- 5&#45;&gt;6 -->\n",
       "<g id=\"edge17\" class=\"edge\">\n",
       "<title>5&#45;&gt;6</title>\n",
       "<path fill=\"none\" stroke=\"black\" d=\"M360.56,-219.01C388.43,-239.5 451.14,-285.61 484.78,-310.34\"/>\n",
       "<polygon fill=\"black\" stroke=\"black\" points=\"482.93,-313.32 493.06,-316.42 487.07,-307.68 482.93,-313.32\"/>\n",
       "<text text-anchor=\"middle\" x=\"425.1\" y=\"-292.55\" font-family=\"Times,serif\" font-size=\"14.00\">b → x, E</text>\n",
       "</g>\n",
       "<!-- 5&#45;&gt;9 -->\n",
       "<g id=\"edge22\" class=\"edge\">\n",
       "<title>5&#45;&gt;9</title>\n",
       "<path fill=\"none\" stroke=\"black\" d=\"M363.68,-207.79C407.41,-205.72 526.81,-202.44 623.6,-221.75 662.07,-229.42 671.19,-234.88 706.6,-251.75 745.48,-270.27 758.52,-271.93 789.6,-301.75 798.16,-309.96 805.71,-320.64 811.58,-330.25\"/>\n",
       "<polygon fill=\"black\" stroke=\"black\" points=\"808.63,-332.14 816.68,-339.03 814.69,-328.62 808.63,-332.14\"/>\n",
       "<text text-anchor=\"middle\" x=\"591.1\" y=\"-255.55\" font-family=\"Times,serif\" font-size=\"14.00\">⊔ → ⊔, E</text>\n",
       "<text text-anchor=\"middle\" x=\"591.1\" y=\"-240.55\" font-family=\"Times,serif\" font-size=\"14.00\">a → a, E</text>\n",
       "<text text-anchor=\"middle\" x=\"591.1\" y=\"-225.55\" font-family=\"Times,serif\" font-size=\"14.00\"># → #, E</text>\n",
       "</g>\n",
       "<!-- 6&#45;&gt;6 -->\n",
       "<g id=\"edge3\" class=\"edge\">\n",
       "<title>6&#45;&gt;6</title>\n",
       "<path fill=\"none\" stroke=\"black\" d=\"M495.26,-339.67C489.41,-350.88 493.69,-362.75 508.1,-362.75 518.23,-362.75 523.36,-356.88 523.47,-349.5\"/>\n",
       "<polygon fill=\"black\" stroke=\"black\" points=\"526.82,-348.48 520.94,-339.67 520.05,-350.22 526.82,-348.48\"/>\n",
       "<text text-anchor=\"middle\" x=\"508.1\" y=\"-396.55\" font-family=\"Times,serif\" font-size=\"14.00\">a → a, E</text>\n",
       "<text text-anchor=\"middle\" x=\"508.1\" y=\"-381.55\" font-family=\"Times,serif\" font-size=\"14.00\">b → b, E</text>\n",
       "<text text-anchor=\"middle\" x=\"508.1\" y=\"-366.55\" font-family=\"Times,serif\" font-size=\"14.00\">x → x, E</text>\n",
       "</g>\n",
       "<!-- 7 -->\n",
       "<g id=\"node8\" class=\"node\">\n",
       "<title>7</title>\n",
       "<ellipse fill=\"none\" stroke=\"black\" cx=\"674.1\" cy=\"-278.75\" rx=\"18\" ry=\"18\"/>\n",
       "<text text-anchor=\"middle\" x=\"674.1\" y=\"-275.05\" font-family=\"Times,serif\" font-size=\"14.00\">7</text>\n",
       "</g>\n",
       "<!-- 6&#45;&gt;7 -->\n",
       "<g id=\"edge11\" class=\"edge\">\n",
       "<title>6&#45;&gt;7</title>\n",
       "<path fill=\"none\" stroke=\"black\" d=\"M525.85,-322.29C548.21,-316.29 589.01,-305.17 623.6,-294.75 631.21,-292.46 639.44,-289.85 646.96,-287.41\"/>\n",
       "<polygon fill=\"black\" stroke=\"black\" points=\"648.23,-290.68 656.65,-284.25 646.06,-284.03 648.23,-290.68\"/>\n",
       "<text text-anchor=\"middle\" x=\"591.1\" y=\"-316.55\" font-family=\"Times,serif\" font-size=\"14.00\"># → #, E</text>\n",
       "</g>\n",
       "<!-- 6&#45;&gt;9 -->\n",
       "<g id=\"edge23\" class=\"edge\">\n",
       "<title>6&#45;&gt;9</title>\n",
       "<path fill=\"none\" stroke=\"black\" d=\"M525.71,-331.08C561.65,-340.17 649.48,-360.9 724.6,-366.75 753.4,-368.99 761.1,-371.5 789.6,-366.75 792.73,-366.23 795.96,-365.46 799.12,-364.56\"/>\n",
       "<polygon fill=\"black\" stroke=\"black\" points=\"800.44,-367.81 808.86,-361.38 798.27,-361.16 800.44,-367.81\"/>\n",
       "<text text-anchor=\"middle\" x=\"674.1\" y=\"-368.55\" font-family=\"Times,serif\" font-size=\"14.00\">⊔ → ⊔, E</text>\n",
       "</g>\n",
       "<!-- 7&#45;&gt;1 -->\n",
       "<g id=\"edge4\" class=\"edge\">\n",
       "<title>7&#45;&gt;1</title>\n",
       "<path fill=\"none\" stroke=\"black\" d=\"M655.84,-279.23C570.32,-281.6 191.86,-292.08 86.76,-295\"/>\n",
       "<polygon fill=\"black\" stroke=\"black\" points=\"86.55,-291.5 76.65,-295.28 86.74,-298.5 86.55,-291.5\"/>\n",
       "<text text-anchor=\"middle\" x=\"345.6\" y=\"-292.55\" font-family=\"Times,serif\" font-size=\"14.00\">x → x, D</text>\n",
       "</g>\n",
       "<!-- 7&#45;&gt;7 -->\n",
       "<g id=\"edge15\" class=\"edge\">\n",
       "<title>7&#45;&gt;7</title>\n",
       "<path fill=\"none\" stroke=\"black\" d=\"M661.26,-291.67C655.41,-302.88 659.69,-314.75 674.1,-314.75 684.23,-314.75 689.36,-308.88 689.47,-301.5\"/>\n",
       "<polygon fill=\"black\" stroke=\"black\" points=\"692.82,-300.48 686.94,-291.67 686.05,-302.22 692.82,-300.48\"/>\n",
       "<text text-anchor=\"middle\" x=\"674.1\" y=\"-333.55\" font-family=\"Times,serif\" font-size=\"14.00\">a → a, E</text>\n",
       "<text text-anchor=\"middle\" x=\"674.1\" y=\"-318.55\" font-family=\"Times,serif\" font-size=\"14.00\">b → b, E</text>\n",
       "</g>\n",
       "<!-- 7&#45;&gt;9 -->\n",
       "<g id=\"edge24\" class=\"edge\">\n",
       "<title>7&#45;&gt;9</title>\n",
       "<path fill=\"none\" stroke=\"black\" d=\"M690.67,-286.6C712.72,-297.72 754.27,-318.72 789.6,-336.75 793.03,-338.5 796.64,-340.35 800.19,-342.17\"/>\n",
       "<polygon fill=\"black\" stroke=\"black\" points=\"798.78,-345.38 809.28,-346.84 801.98,-339.16 798.78,-345.38\"/>\n",
       "<text text-anchor=\"middle\" x=\"757.1\" y=\"-355.55\" font-family=\"Times,serif\" font-size=\"14.00\">⊔ → ⊔, E</text>\n",
       "<text text-anchor=\"middle\" x=\"757.1\" y=\"-340.55\" font-family=\"Times,serif\" font-size=\"14.00\"># → #, E</text>\n",
       "</g>\n",
       "<!-- 8&#45;&gt;8 -->\n",
       "<g id=\"edge8\" class=\"edge\">\n",
       "<title>8&#45;&gt;8</title>\n",
       "<path fill=\"none\" stroke=\"black\" d=\"M185.36,-96.16C181.43,-106.91 185.18,-117.75 196.6,-117.75 204.27,-117.75 208.48,-112.86 209.23,-106.39\"/>\n",
       "<polygon fill=\"black\" stroke=\"black\" points=\"212.66,-105.6 207.84,-96.16 205.72,-106.54 212.66,-105.6\"/>\n",
       "<text text-anchor=\"middle\" x=\"196.6\" y=\"-121.55\" font-family=\"Times,serif\" font-size=\"14.00\">x → x, D</text>\n",
       "</g>\n",
       "<!-- 8&#45;&gt;9 -->\n",
       "<g id=\"edge25\" class=\"edge\">\n",
       "<title>8&#45;&gt;9</title>\n",
       "<path fill=\"none\" stroke=\"black\" d=\"M214.8,-81.75C242.25,-81.75 297.64,-81.75 344.6,-81.75 344.6,-81.75 344.6,-81.75 675.1,-81.75 739.83,-81.75 755.94,-116.46 789.6,-171.75 819.14,-220.28 824.62,-288.37 825.15,-326.33\"/>\n",
       "<polygon fill=\"black\" stroke=\"black\" points=\"821.65,-326.65 825.18,-336.64 828.65,-326.63 821.65,-326.65\"/>\n",
       "<text text-anchor=\"middle\" x=\"508.1\" y=\"-115.55\" font-family=\"Times,serif\" font-size=\"14.00\">b → b, E</text>\n",
       "<text text-anchor=\"middle\" x=\"508.1\" y=\"-100.55\" font-family=\"Times,serif\" font-size=\"14.00\">a → a, E</text>\n",
       "<text text-anchor=\"middle\" x=\"508.1\" y=\"-85.55\" font-family=\"Times,serif\" font-size=\"14.00\"># → #, E</text>\n",
       "</g>\n",
       "<!-- 10 -->\n",
       "<g id=\"node11\" class=\"node\">\n",
       "<title>10</title>\n",
       "<ellipse fill=\"none\" stroke=\"black\" cx=\"345.6\" cy=\"-26.75\" rx=\"22.96\" ry=\"22.96\"/>\n",
       "<ellipse fill=\"none\" stroke=\"black\" cx=\"345.6\" cy=\"-26.75\" rx=\"27\" ry=\"27\"/>\n",
       "<text text-anchor=\"middle\" x=\"345.6\" y=\"-23.05\" font-family=\"Times,serif\" font-size=\"14.00\">10</text>\n",
       "</g>\n",
       "<!-- 8&#45;&gt;10 -->\n",
       "<g id=\"edge12\" class=\"edge\">\n",
       "<title>8&#45;&gt;10</title>\n",
       "<path fill=\"none\" stroke=\"black\" d=\"M209.87,-69.16C216.17,-63.37 224.26,-56.88 232.6,-52.75 256.49,-40.91 285.93,-34.35 308.63,-30.78\"/>\n",
       "<polygon fill=\"black\" stroke=\"black\" points=\"309.15,-34.24 318.55,-29.34 308.15,-27.31 309.15,-34.24\"/>\n",
       "<text text-anchor=\"middle\" x=\"265.6\" y=\"-56.55\" font-family=\"Times,serif\" font-size=\"14.00\">⊔ → ⊔, E</text>\n",
       "</g>\n",
       "</g>\n",
       "</svg>\n"
      ],
      "text/plain": [
       "<graphviz.graphs.Digraph at 0x7fd11c1781c0>"
      ]
     },
     "metadata": {},
     "output_type": "display_data"
    }
   ],
   "source": [
    "Q = {x for x in range(1,11)}\n",
    "Sigma = {'a','b','#'}\n",
    "Gamma = {'a','b','#','x',BLK}\n",
    "delta = {(1,'a'):(2,'x',D),(1,'b'):(3,'x',D),(6,'a'):(6,'a',E),(7,'x'):(1,'x',D),\n",
    "         (2,'a'):(2,'a',D),(3,'a'):(3,'a',D),(6,'b'):(6,'b',E),(1,'#'):(8,'#',D),\n",
    "         (2,'b'):(2,'b',D),(3,'b'):(3,'b',D),(6,'x'):(6,'x',E),(8,'x'):(8,'x',D),\n",
    "         (2,'#'):(4,'#',D),(3,'#'):(5,'#',D),(6,'#'):(7,'#',E),(8,BLK):(10,BLK,E),\n",
    "         (4,'x'):(4,'x',D),(5,'x'):(5,'x',D),(7,'a'):(7,'a',E),\n",
    "         (4,'a'):(6,'x',E),(5,'b'):(6,'x',E),(7,'b'):(7,'b',E)}\n",
    "delta.update({(q,a):(9,a,E) for a in Gamma for q in (Q - {9,10}) if (q,a) not in delta})\n",
    "q0 = 1\n",
    "F = {10}\n",
    "\n",
    "M = MT(Q,Sigma,Gamma,delta,q0,F)\n",
    "M"
   ]
  },
  {
   "cell_type": "markdown",
   "metadata": {
    "slideshow": {
     "slide_type": "subslide"
    }
   },
   "source": [
    "Como antes, podemos realizar múltiplos testes usando listas de casos. A seguir, o conjunto `A` contém cadeias que devem ser aceitas por $M$ e `R` cadeias que devem ser rejeitadas."
   ]
  },
  {
   "cell_type": "code",
   "execution_count": 7,
   "metadata": {},
   "outputs": [
    {
     "name": "stdout",
     "output_type": "stream",
     "text": [
      "[True, True, True, True, True]\n",
      "[False, False, False, False, False]\n"
     ]
    }
   ],
   "source": [
    "A = [\"aa#aa\",\"bb#bb\",\"ab#ab\",\"bab#bab\",\"#\"]\n",
    "R = [\"a#aa\",\"bb#b\",\"aa#bb\",\"bab#baa\",\"###\"]\n",
    "\n",
    "print([M.aceita(w) for w in A])\n",
    "print([M.aceita(w) for w in R])"
   ]
  },
  {
   "cell_type": "markdown",
   "metadata": {
    "slideshow": {
     "slide_type": "subslide"
    }
   },
   "source": [
    "Podemos ainda acompanhar visualmente a computação utilizando o método `interactive`."
   ]
  },
  {
   "cell_type": "code",
   "execution_count": 8,
   "metadata": {},
   "outputs": [
    {
     "data": {
      "application/vnd.jupyter.widget-view+json": {
       "model_id": "3a096373a56a43fe81cf760c98455022",
       "version_major": 2,
       "version_minor": 0
      },
      "text/plain": [
       "VBox(children=(HBox(children=(Text(value='', description='Input:', placeholder='Enter input string'), Button(d…"
      ]
     },
     "metadata": {},
     "output_type": "display_data"
    },
    {
     "data": {
      "image/svg+xml": [
       "<?xml version=\"1.0\" encoding=\"UTF-8\" standalone=\"no\"?>\n",
       "<!DOCTYPE svg PUBLIC \"-//W3C//DTD SVG 1.1//EN\"\n",
       " \"http://www.w3.org/Graphics/SVG/1.1/DTD/svg11.dtd\">\n",
       "<!-- Generated by graphviz version 2.43.0 (0)\n",
       " -->\n",
       "<!-- Title: turing_machine Pages: 1 -->\n",
       "<svg width=\"968pt\" height=\"580pt\"\n",
       " viewBox=\"0.00 0.00 967.60 579.75\" xmlns=\"http://www.w3.org/2000/svg\" xmlns:xlink=\"http://www.w3.org/1999/xlink\">\n",
       "<g id=\"graph0\" class=\"graph\" transform=\"scale(1 1) rotate(0) translate(4 575.75)\">\n",
       "<title>turing_machine</title>\n",
       "<polygon fill=\"white\" stroke=\"transparent\" points=\"-4,4 -4,-575.75 963.6,-575.75 963.6,4 -4,4\"/>\n",
       "<g id=\"clust1\" class=\"cluster\">\n",
       "<title>cluster_0</title>\n",
       "<polygon fill=\"none\" stroke=\"black\" points=\"4,-263.75 4,-350.75 87,-350.75 87,-263.75 4,-263.75\"/>\n",
       "<text text-anchor=\"middle\" x=\"45.5\" y=\"-335.55\" font-family=\"Times,serif\" font-size=\"14.00\">Snapshot</text>\n",
       "</g>\n",
       "<g id=\"node1\" class=\"node\">\n",
       "<title></title>\n",
       "<ellipse fill=\"black\" stroke=\"black\" cx=\"117.8\" cy=\"-295.75\" rx=\"1.8\" ry=\"1.8\"/>\n",
       "</g>\n",
       "<!-- 1 -->\n",
       "<g id=\"node2\" class=\"node\">\n",
       "<title>1</title>\n",
       "<ellipse fill=\"lightgrey\" stroke=\"black\" cx=\"174.6\" cy=\"-295.75\" rx=\"18\" ry=\"18\"/>\n",
       "<text text-anchor=\"middle\" x=\"174.6\" y=\"-292.05\" font-family=\"Times,serif\" font-size=\"14.00\">1</text>\n",
       "</g>\n",
       "<!-- &#45;&gt;1 -->\n",
       "<g id=\"edge26\" class=\"edge\">\n",
       "<title>&#45;&gt;1</title>\n",
       "<path fill=\"none\" stroke=\"black\" d=\"M119.75,-295.75C123.11,-295.75 134.87,-295.75 146.55,-295.75\"/>\n",
       "<polygon fill=\"black\" stroke=\"black\" points=\"146.58,-299.25 156.58,-295.75 146.58,-292.25 146.58,-299.25\"/>\n",
       "</g>\n",
       "<!-- 2 -->\n",
       "<g id=\"node3\" class=\"node\">\n",
       "<title>2</title>\n",
       "<ellipse fill=\"none\" stroke=\"black\" cx=\"312.6\" cy=\"-376.75\" rx=\"18\" ry=\"18\"/>\n",
       "<text text-anchor=\"middle\" x=\"312.6\" y=\"-373.05\" font-family=\"Times,serif\" font-size=\"14.00\">2</text>\n",
       "</g>\n",
       "<!-- 1&#45;&gt;2 -->\n",
       "<g id=\"edge1\" class=\"edge\">\n",
       "<title>1&#45;&gt;2</title>\n",
       "<path fill=\"none\" stroke=\"black\" d=\"M190.41,-304.57C213.92,-318.57 259.96,-345.99 288.03,-362.71\"/>\n",
       "<polygon fill=\"black\" stroke=\"black\" points=\"286.42,-365.83 296.8,-367.94 290,-359.81 286.42,-365.83\"/>\n",
       "<text text-anchor=\"middle\" x=\"243.6\" y=\"-358.55\" font-family=\"Times,serif\" font-size=\"14.00\">a → x, D</text>\n",
       "</g>\n",
       "<!-- 3 -->\n",
       "<g id=\"node4\" class=\"node\">\n",
       "<title>3</title>\n",
       "<ellipse fill=\"none\" stroke=\"black\" cx=\"312.6\" cy=\"-201.75\" rx=\"18\" ry=\"18\"/>\n",
       "<text text-anchor=\"middle\" x=\"312.6\" y=\"-198.05\" font-family=\"Times,serif\" font-size=\"14.00\">3</text>\n",
       "</g>\n",
       "<!-- 1&#45;&gt;3 -->\n",
       "<g id=\"edge2\" class=\"edge\">\n",
       "<title>1&#45;&gt;3</title>\n",
       "<path fill=\"none\" stroke=\"black\" d=\"M188.6,-284.35C195.06,-278.84 203.09,-272.25 210.6,-266.75 236.28,-247.95 267.24,-228.46 288.06,-215.79\"/>\n",
       "<polygon fill=\"black\" stroke=\"black\" points=\"290.1,-218.64 296.85,-210.47 286.48,-212.65 290.1,-218.64\"/>\n",
       "<text text-anchor=\"middle\" x=\"243.6\" y=\"-270.55\" font-family=\"Times,serif\" font-size=\"14.00\">b → x, D</text>\n",
       "</g>\n",
       "<!-- 8 -->\n",
       "<g id=\"node9\" class=\"node\">\n",
       "<title>8</title>\n",
       "<ellipse fill=\"none\" stroke=\"black\" cx=\"312.6\" cy=\"-81.75\" rx=\"18\" ry=\"18\"/>\n",
       "<text text-anchor=\"middle\" x=\"312.6\" y=\"-78.05\" font-family=\"Times,serif\" font-size=\"14.00\">8</text>\n",
       "</g>\n",
       "<!-- 1&#45;&gt;8 -->\n",
       "<g id=\"edge7\" class=\"edge\">\n",
       "<title>1&#45;&gt;8</title>\n",
       "<path fill=\"none\" stroke=\"black\" d=\"M180.55,-278.44C186.29,-259.76 196.77,-229.51 210.6,-205.75 233.97,-165.61 269.92,-124.98 292.03,-101.64\"/>\n",
       "<polygon fill=\"black\" stroke=\"black\" points=\"294.84,-103.78 299.24,-94.14 289.79,-98.93 294.84,-103.78\"/>\n",
       "<text text-anchor=\"middle\" x=\"243.6\" y=\"-209.55\" font-family=\"Times,serif\" font-size=\"14.00\"># → #, D</text>\n",
       "</g>\n",
       "<!-- 9 -->\n",
       "<g id=\"node10\" class=\"node\">\n",
       "<title>9</title>\n",
       "<ellipse fill=\"none\" stroke=\"black\" cx=\"941.6\" cy=\"-354.75\" rx=\"18\" ry=\"18\"/>\n",
       "<text text-anchor=\"middle\" x=\"941.6\" y=\"-351.05\" font-family=\"Times,serif\" font-size=\"14.00\">9</text>\n",
       "</g>\n",
       "<!-- 1&#45;&gt;9 -->\n",
       "<g id=\"edge18\" class=\"edge\">\n",
       "<title>1&#45;&gt;9</title>\n",
       "<path fill=\"none\" stroke=\"black\" d=\"M176.99,-313.84C182.41,-370.65 207.41,-541.75 311.6,-541.75 311.6,-541.75 311.6,-541.75 791.1,-541.75 855.55,-541.75 867.81,-504.96 905.6,-452.75 920.91,-431.59 930.09,-403.07 935.18,-382.26\"/>\n",
       "<polygon fill=\"black\" stroke=\"black\" points=\"938.61,-382.97 937.42,-372.44 931.79,-381.41 938.61,-382.97\"/>\n",
       "<text text-anchor=\"middle\" x=\"541.1\" y=\"-560.55\" font-family=\"Times,serif\" font-size=\"14.00\">x → x, E</text>\n",
       "<text text-anchor=\"middle\" x=\"541.1\" y=\"-545.55\" font-family=\"Times,serif\" font-size=\"14.00\">⊔ → ⊔, E</text>\n",
       "</g>\n",
       "<!-- 2&#45;&gt;2 -->\n",
       "<g id=\"edge5\" class=\"edge\">\n",
       "<title>2&#45;&gt;2</title>\n",
       "<path fill=\"none\" stroke=\"black\" d=\"M301.36,-391.16C297.43,-401.91 301.18,-412.75 312.6,-412.75 320.27,-412.75 324.48,-407.86 325.23,-401.39\"/>\n",
       "<polygon fill=\"black\" stroke=\"black\" points=\"328.66,-400.6 323.84,-391.16 321.72,-401.54 328.66,-400.6\"/>\n",
       "<text text-anchor=\"middle\" x=\"312.6\" y=\"-431.55\" font-family=\"Times,serif\" font-size=\"14.00\">a → a, D</text>\n",
       "<text text-anchor=\"middle\" x=\"312.6\" y=\"-416.55\" font-family=\"Times,serif\" font-size=\"14.00\">b → b, D</text>\n",
       "</g>\n",
       "<!-- 4 -->\n",
       "<g id=\"node5\" class=\"node\">\n",
       "<title>4</title>\n",
       "<ellipse fill=\"none\" stroke=\"black\" cx=\"461.6\" cy=\"-376.75\" rx=\"18\" ry=\"18\"/>\n",
       "<text text-anchor=\"middle\" x=\"461.6\" y=\"-373.05\" font-family=\"Times,serif\" font-size=\"14.00\">4</text>\n",
       "</g>\n",
       "<!-- 2&#45;&gt;4 -->\n",
       "<g id=\"edge9\" class=\"edge\">\n",
       "<title>2&#45;&gt;4</title>\n",
       "<path fill=\"none\" stroke=\"black\" d=\"M330.75,-376.75C355.98,-376.75 403.34,-376.75 433.36,-376.75\"/>\n",
       "<polygon fill=\"black\" stroke=\"black\" points=\"433.56,-380.25 443.56,-376.75 433.56,-373.25 433.56,-380.25\"/>\n",
       "<text text-anchor=\"middle\" x=\"381.6\" y=\"-380.55\" font-family=\"Times,serif\" font-size=\"14.00\"># → #, D</text>\n",
       "</g>\n",
       "<!-- 2&#45;&gt;9 -->\n",
       "<g id=\"edge19\" class=\"edge\">\n",
       "<title>2&#45;&gt;9</title>\n",
       "<path fill=\"none\" stroke=\"black\" d=\"M323.52,-391.18C344.89,-420.38 398.42,-483.75 460.6,-483.75 460.6,-483.75 460.6,-483.75 791.1,-483.75 854.46,-483.75 904.26,-416.5 927.05,-379.11\"/>\n",
       "<polygon fill=\"black\" stroke=\"black\" points=\"930.18,-380.7 932.26,-370.31 924.16,-377.14 930.18,-380.7\"/>\n",
       "<text text-anchor=\"middle\" x=\"624.1\" y=\"-502.55\" font-family=\"Times,serif\" font-size=\"14.00\">x → x, E</text>\n",
       "<text text-anchor=\"middle\" x=\"624.1\" y=\"-487.55\" font-family=\"Times,serif\" font-size=\"14.00\">⊔ → ⊔, E</text>\n",
       "</g>\n",
       "<!-- 3&#45;&gt;3 -->\n",
       "<g id=\"edge6\" class=\"edge\">\n",
       "<title>3&#45;&gt;3</title>\n",
       "<path fill=\"none\" stroke=\"black\" d=\"M301.36,-216.16C297.43,-226.91 301.18,-237.75 312.6,-237.75 320.27,-237.75 324.48,-232.86 325.23,-226.39\"/>\n",
       "<polygon fill=\"black\" stroke=\"black\" points=\"328.66,-225.6 323.84,-216.16 321.72,-226.54 328.66,-225.6\"/>\n",
       "<text text-anchor=\"middle\" x=\"312.6\" y=\"-256.55\" font-family=\"Times,serif\" font-size=\"14.00\">a → a, D</text>\n",
       "<text text-anchor=\"middle\" x=\"312.6\" y=\"-241.55\" font-family=\"Times,serif\" font-size=\"14.00\">b → b, D</text>\n",
       "</g>\n",
       "<!-- 5 -->\n",
       "<g id=\"node6\" class=\"node\">\n",
       "<title>5</title>\n",
       "<ellipse fill=\"none\" stroke=\"black\" cx=\"461.6\" cy=\"-208.75\" rx=\"18\" ry=\"18\"/>\n",
       "<text text-anchor=\"middle\" x=\"461.6\" y=\"-205.05\" font-family=\"Times,serif\" font-size=\"14.00\">5</text>\n",
       "</g>\n",
       "<!-- 3&#45;&gt;5 -->\n",
       "<g id=\"edge10\" class=\"edge\">\n",
       "<title>3&#45;&gt;5</title>\n",
       "<path fill=\"none\" stroke=\"black\" d=\"M330.75,-202.56C355.98,-203.77 403.34,-206.02 433.36,-207.45\"/>\n",
       "<polygon fill=\"black\" stroke=\"black\" points=\"433.4,-210.96 443.56,-207.94 433.74,-203.96 433.4,-210.96\"/>\n",
       "<text text-anchor=\"middle\" x=\"381.6\" y=\"-210.55\" font-family=\"Times,serif\" font-size=\"14.00\"># → #, D</text>\n",
       "</g>\n",
       "<!-- 3&#45;&gt;9 -->\n",
       "<g id=\"edge20\" class=\"edge\">\n",
       "<title>3&#45;&gt;9</title>\n",
       "<path fill=\"none\" stroke=\"black\" d=\"M329.55,-194.59C356.14,-183.34 411.49,-162.75 460.6,-162.75 460.6,-162.75 460.6,-162.75 791.1,-162.75 856.94,-162.75 867.71,-202.9 905.6,-256.75 920.63,-278.11 929.85,-306.6 935.02,-327.35\"/>\n",
       "<polygon fill=\"black\" stroke=\"black\" points=\"931.63,-328.2 937.31,-337.14 938.44,-326.6 931.63,-328.2\"/>\n",
       "<text text-anchor=\"middle\" x=\"624.1\" y=\"-181.55\" font-family=\"Times,serif\" font-size=\"14.00\">x → x, E</text>\n",
       "<text text-anchor=\"middle\" x=\"624.1\" y=\"-166.55\" font-family=\"Times,serif\" font-size=\"14.00\">⊔ → ⊔, E</text>\n",
       "</g>\n",
       "<!-- 4&#45;&gt;4 -->\n",
       "<g id=\"edge13\" class=\"edge\">\n",
       "<title>4&#45;&gt;4</title>\n",
       "<path fill=\"none\" stroke=\"black\" d=\"M449.21,-390.04C443.91,-401.14 448.04,-412.75 461.6,-412.75 470.92,-412.75 475.79,-407.26 476.2,-400.23\"/>\n",
       "<polygon fill=\"black\" stroke=\"black\" points=\"479.53,-399.07 473.99,-390.04 472.69,-400.55 479.53,-399.07\"/>\n",
       "<text text-anchor=\"middle\" x=\"461.6\" y=\"-416.55\" font-family=\"Times,serif\" font-size=\"14.00\">x → x, D</text>\n",
       "</g>\n",
       "<!-- 6 -->\n",
       "<g id=\"node7\" class=\"node\">\n",
       "<title>6</title>\n",
       "<ellipse fill=\"none\" stroke=\"black\" cx=\"624.1\" cy=\"-326.75\" rx=\"18\" ry=\"18\"/>\n",
       "<text text-anchor=\"middle\" x=\"624.1\" y=\"-323.05\" font-family=\"Times,serif\" font-size=\"14.00\">6</text>\n",
       "</g>\n",
       "<!-- 4&#45;&gt;6 -->\n",
       "<g id=\"edge16\" class=\"edge\">\n",
       "<title>4&#45;&gt;6</title>\n",
       "<path fill=\"none\" stroke=\"black\" d=\"M478.87,-371.68C506.63,-363.03 563.37,-345.36 596.81,-334.94\"/>\n",
       "<polygon fill=\"black\" stroke=\"black\" points=\"598.28,-338.15 606.78,-331.83 596.2,-331.46 598.28,-338.15\"/>\n",
       "<text text-anchor=\"middle\" x=\"541.1\" y=\"-365.55\" font-family=\"Times,serif\" font-size=\"14.00\">a → x, E</text>\n",
       "</g>\n",
       "<!-- 4&#45;&gt;9 -->\n",
       "<g id=\"edge21\" class=\"edge\">\n",
       "<title>4&#45;&gt;9</title>\n",
       "<path fill=\"none\" stroke=\"black\" d=\"M478.52,-383.4C502.53,-393.03 549.64,-410.39 591.6,-416.75 691.85,-431.93 886.45,-389.81 905.6,-381.75 910.6,-379.64 915.51,-376.64 919.99,-373.4\"/>\n",
       "<polygon fill=\"black\" stroke=\"black\" points=\"922.35,-376 928.01,-367.04 918,-370.51 922.35,-376\"/>\n",
       "<text text-anchor=\"middle\" x=\"707.1\" y=\"-452.55\" font-family=\"Times,serif\" font-size=\"14.00\">⊔ → ⊔, E</text>\n",
       "<text text-anchor=\"middle\" x=\"707.1\" y=\"-437.55\" font-family=\"Times,serif\" font-size=\"14.00\">b → b, E</text>\n",
       "<text text-anchor=\"middle\" x=\"707.1\" y=\"-422.55\" font-family=\"Times,serif\" font-size=\"14.00\"># → #, E</text>\n",
       "</g>\n",
       "<!-- 5&#45;&gt;5 -->\n",
       "<g id=\"edge14\" class=\"edge\">\n",
       "<title>5&#45;&gt;5</title>\n",
       "<path fill=\"none\" stroke=\"black\" d=\"M449.21,-222.04C443.91,-233.14 448.04,-244.75 461.6,-244.75 470.92,-244.75 475.79,-239.26 476.2,-232.23\"/>\n",
       "<polygon fill=\"black\" stroke=\"black\" points=\"479.53,-231.07 473.99,-222.04 472.69,-232.55 479.53,-231.07\"/>\n",
       "<text text-anchor=\"middle\" x=\"461.6\" y=\"-248.55\" font-family=\"Times,serif\" font-size=\"14.00\">x → x, D</text>\n",
       "</g>\n",
       "<!-- 5&#45;&gt;6 -->\n",
       "<g id=\"edge17\" class=\"edge\">\n",
       "<title>5&#45;&gt;6</title>\n",
       "<path fill=\"none\" stroke=\"black\" d=\"M476.56,-219.01C504.43,-239.5 567.14,-285.61 600.78,-310.34\"/>\n",
       "<polygon fill=\"black\" stroke=\"black\" points=\"598.93,-313.32 609.06,-316.42 603.07,-307.68 598.93,-313.32\"/>\n",
       "<text text-anchor=\"middle\" x=\"541.1\" y=\"-292.55\" font-family=\"Times,serif\" font-size=\"14.00\">b → x, E</text>\n",
       "</g>\n",
       "<!-- 5&#45;&gt;9 -->\n",
       "<g id=\"edge22\" class=\"edge\">\n",
       "<title>5&#45;&gt;9</title>\n",
       "<path fill=\"none\" stroke=\"black\" d=\"M479.68,-207.79C523.41,-205.72 642.81,-202.44 739.6,-221.75 778.07,-229.42 787.11,-235.04 822.6,-251.75 861.36,-270 874.68,-271.1 905.6,-300.75 914.28,-309.07 921.84,-319.94 927.7,-329.74\"/>\n",
       "<polygon fill=\"black\" stroke=\"black\" points=\"924.8,-331.72 932.77,-338.69 930.89,-328.27 924.8,-331.72\"/>\n",
       "<text text-anchor=\"middle\" x=\"707.1\" y=\"-255.55\" font-family=\"Times,serif\" font-size=\"14.00\">⊔ → ⊔, E</text>\n",
       "<text text-anchor=\"middle\" x=\"707.1\" y=\"-240.55\" font-family=\"Times,serif\" font-size=\"14.00\">a → a, E</text>\n",
       "<text text-anchor=\"middle\" x=\"707.1\" y=\"-225.55\" font-family=\"Times,serif\" font-size=\"14.00\"># → #, E</text>\n",
       "</g>\n",
       "<!-- 6&#45;&gt;6 -->\n",
       "<g id=\"edge3\" class=\"edge\">\n",
       "<title>6&#45;&gt;6</title>\n",
       "<path fill=\"none\" stroke=\"black\" d=\"M611.26,-339.67C605.41,-350.88 609.69,-362.75 624.1,-362.75 634.23,-362.75 639.36,-356.88 639.47,-349.5\"/>\n",
       "<polygon fill=\"black\" stroke=\"black\" points=\"642.82,-348.48 636.94,-339.67 636.05,-350.22 642.82,-348.48\"/>\n",
       "<text text-anchor=\"middle\" x=\"624.1\" y=\"-396.55\" font-family=\"Times,serif\" font-size=\"14.00\">a → a, E</text>\n",
       "<text text-anchor=\"middle\" x=\"624.1\" y=\"-381.55\" font-family=\"Times,serif\" font-size=\"14.00\">b → b, E</text>\n",
       "<text text-anchor=\"middle\" x=\"624.1\" y=\"-366.55\" font-family=\"Times,serif\" font-size=\"14.00\">x → x, E</text>\n",
       "</g>\n",
       "<!-- 7 -->\n",
       "<g id=\"node8\" class=\"node\">\n",
       "<title>7</title>\n",
       "<ellipse fill=\"none\" stroke=\"black\" cx=\"790.1\" cy=\"-278.75\" rx=\"18\" ry=\"18\"/>\n",
       "<text text-anchor=\"middle\" x=\"790.1\" y=\"-275.05\" font-family=\"Times,serif\" font-size=\"14.00\">7</text>\n",
       "</g>\n",
       "<!-- 6&#45;&gt;7 -->\n",
       "<g id=\"edge11\" class=\"edge\">\n",
       "<title>6&#45;&gt;7</title>\n",
       "<path fill=\"none\" stroke=\"black\" d=\"M641.85,-322.29C664.21,-316.29 705.01,-305.17 739.6,-294.75 747.21,-292.46 755.44,-289.85 762.96,-287.41\"/>\n",
       "<polygon fill=\"black\" stroke=\"black\" points=\"764.23,-290.68 772.65,-284.25 762.06,-284.03 764.23,-290.68\"/>\n",
       "<text text-anchor=\"middle\" x=\"707.1\" y=\"-315.55\" font-family=\"Times,serif\" font-size=\"14.00\"># → #, E</text>\n",
       "</g>\n",
       "<!-- 6&#45;&gt;9 -->\n",
       "<g id=\"edge23\" class=\"edge\">\n",
       "<title>6&#45;&gt;9</title>\n",
       "<path fill=\"none\" stroke=\"black\" d=\"M641.71,-331.08C677.65,-340.17 765.48,-360.9 840.6,-366.75 869.4,-368.99 877.1,-371.5 905.6,-366.75 908.73,-366.23 911.96,-365.46 915.12,-364.56\"/>\n",
       "<polygon fill=\"black\" stroke=\"black\" points=\"916.44,-367.81 924.86,-361.38 914.27,-361.16 916.44,-367.81\"/>\n",
       "<text text-anchor=\"middle\" x=\"790.1\" y=\"-368.55\" font-family=\"Times,serif\" font-size=\"14.00\">⊔ → ⊔, E</text>\n",
       "</g>\n",
       "<!-- 7&#45;&gt;1 -->\n",
       "<g id=\"edge4\" class=\"edge\">\n",
       "<title>7&#45;&gt;1</title>\n",
       "<path fill=\"none\" stroke=\"black\" d=\"M771.84,-279.23C686.32,-281.6 307.86,-292.08 202.76,-295\"/>\n",
       "<polygon fill=\"black\" stroke=\"black\" points=\"202.55,-291.5 192.65,-295.28 202.74,-298.5 202.55,-291.5\"/>\n",
       "<text text-anchor=\"middle\" x=\"461.6\" y=\"-292.55\" font-family=\"Times,serif\" font-size=\"14.00\">x → x, D</text>\n",
       "</g>\n",
       "<!-- 7&#45;&gt;7 -->\n",
       "<g id=\"edge15\" class=\"edge\">\n",
       "<title>7&#45;&gt;7</title>\n",
       "<path fill=\"none\" stroke=\"black\" d=\"M777.26,-291.67C771.41,-302.88 775.69,-314.75 790.1,-314.75 800.23,-314.75 805.36,-308.88 805.47,-301.5\"/>\n",
       "<polygon fill=\"black\" stroke=\"black\" points=\"808.82,-300.48 802.94,-291.67 802.05,-302.22 808.82,-300.48\"/>\n",
       "<text text-anchor=\"middle\" x=\"790.1\" y=\"-333.55\" font-family=\"Times,serif\" font-size=\"14.00\">a → a, E</text>\n",
       "<text text-anchor=\"middle\" x=\"790.1\" y=\"-318.55\" font-family=\"Times,serif\" font-size=\"14.00\">b → b, E</text>\n",
       "</g>\n",
       "<!-- 7&#45;&gt;9 -->\n",
       "<g id=\"edge24\" class=\"edge\">\n",
       "<title>7&#45;&gt;9</title>\n",
       "<path fill=\"none\" stroke=\"black\" d=\"M806.67,-286.6C828.72,-297.72 870.27,-318.72 905.6,-336.75 909.03,-338.5 912.64,-340.35 916.19,-342.17\"/>\n",
       "<polygon fill=\"black\" stroke=\"black\" points=\"914.78,-345.38 925.28,-346.84 917.98,-339.16 914.78,-345.38\"/>\n",
       "<text text-anchor=\"middle\" x=\"873.1\" y=\"-355.55\" font-family=\"Times,serif\" font-size=\"14.00\">⊔ → ⊔, E</text>\n",
       "<text text-anchor=\"middle\" x=\"873.1\" y=\"-340.55\" font-family=\"Times,serif\" font-size=\"14.00\"># → #, E</text>\n",
       "</g>\n",
       "<!-- 8&#45;&gt;8 -->\n",
       "<g id=\"edge8\" class=\"edge\">\n",
       "<title>8&#45;&gt;8</title>\n",
       "<path fill=\"none\" stroke=\"black\" d=\"M301.36,-96.16C297.43,-106.91 301.18,-117.75 312.6,-117.75 320.27,-117.75 324.48,-112.86 325.23,-106.39\"/>\n",
       "<polygon fill=\"black\" stroke=\"black\" points=\"328.66,-105.6 323.84,-96.16 321.72,-106.54 328.66,-105.6\"/>\n",
       "<text text-anchor=\"middle\" x=\"312.6\" y=\"-121.55\" font-family=\"Times,serif\" font-size=\"14.00\">x → x, D</text>\n",
       "</g>\n",
       "<!-- 8&#45;&gt;9 -->\n",
       "<g id=\"edge25\" class=\"edge\">\n",
       "<title>8&#45;&gt;9</title>\n",
       "<path fill=\"none\" stroke=\"black\" d=\"M330.8,-81.75C358.25,-81.75 413.64,-81.75 460.6,-81.75 460.6,-81.75 460.6,-81.75 791.1,-81.75 855.83,-81.75 871.94,-116.46 905.6,-171.75 935.14,-220.28 940.62,-288.37 941.15,-326.33\"/>\n",
       "<polygon fill=\"black\" stroke=\"black\" points=\"937.65,-326.65 941.18,-336.64 944.65,-326.63 937.65,-326.65\"/>\n",
       "<text text-anchor=\"middle\" x=\"624.1\" y=\"-115.55\" font-family=\"Times,serif\" font-size=\"14.00\">b → b, E</text>\n",
       "<text text-anchor=\"middle\" x=\"624.1\" y=\"-100.55\" font-family=\"Times,serif\" font-size=\"14.00\">a → a, E</text>\n",
       "<text text-anchor=\"middle\" x=\"624.1\" y=\"-85.55\" font-family=\"Times,serif\" font-size=\"14.00\"># → #, E</text>\n",
       "</g>\n",
       "<!-- 10 -->\n",
       "<g id=\"node11\" class=\"node\">\n",
       "<title>10</title>\n",
       "<ellipse fill=\"none\" stroke=\"black\" cx=\"461.6\" cy=\"-26.75\" rx=\"22.96\" ry=\"22.96\"/>\n",
       "<ellipse fill=\"none\" stroke=\"black\" cx=\"461.6\" cy=\"-26.75\" rx=\"27\" ry=\"27\"/>\n",
       "<text text-anchor=\"middle\" x=\"461.6\" y=\"-23.05\" font-family=\"Times,serif\" font-size=\"14.00\">10</text>\n",
       "</g>\n",
       "<!-- 8&#45;&gt;10 -->\n",
       "<g id=\"edge12\" class=\"edge\">\n",
       "<title>8&#45;&gt;10</title>\n",
       "<path fill=\"none\" stroke=\"black\" d=\"M325.87,-69.16C332.17,-63.37 340.26,-56.88 348.6,-52.75 372.49,-40.91 401.93,-34.35 424.63,-30.78\"/>\n",
       "<polygon fill=\"black\" stroke=\"black\" points=\"425.15,-34.24 434.55,-29.34 424.15,-27.31 425.15,-34.24\"/>\n",
       "<text text-anchor=\"middle\" x=\"381.6\" y=\"-56.55\" font-family=\"Times,serif\" font-size=\"14.00\">⊔ → ⊔, E</text>\n",
       "</g>\n",
       "<!-- snapshot -->\n",
       "<g id=\"node12\" class=\"node\">\n",
       "<title>snapshot</title>\n",
       "<text text-anchor=\"start\" x=\"21\" y=\"-304.55\" font-family=\"Times,serif\" font-size=\"14.00\"> &#160;</text>\n",
       "<text text-anchor=\"start\" x=\"40\" y=\"-304.55\" font-family=\"Times,serif\" font-size=\"14.00\"> &#160;</text>\n",
       "<text text-anchor=\"start\" x=\"58.5\" y=\"-304.55\" font-family=\"Times,serif\" font-size=\"14.00\">▼</text>\n",
       "<polygon fill=\"none\" stroke=\"black\" points=\"16,-271.75 16,-296.75 36,-296.75 36,-271.75 16,-271.75\"/>\n",
       "<text text-anchor=\"start\" x=\"21\" y=\"-280.55\" font-family=\"Times,serif\" font-size=\"14.00\">1</text>\n",
       "<text text-anchor=\"start\" x=\"40\" y=\"-280.55\" font-family=\"Times,serif\" font-size=\"14.00\"> &#160;</text>\n",
       "<polygon fill=\"none\" stroke=\"black\" points=\"54,-271.75 54,-296.75 74,-296.75 74,-271.75 54,-271.75\"/>\n",
       "<text text-anchor=\"start\" x=\"59\" y=\"-280.55\" font-family=\"Times,serif\" font-size=\"14.00\"> &#160;</text>\n",
       "</g>\n",
       "<!-- snapshot&#45;&gt; -->\n",
       "<g id=\"edge27\" class=\"edge\">\n",
       "<title>snapshot&#45;&gt;</title>\n",
       "</g>\n",
       "</g>\n",
       "</svg>\n"
      ],
      "text/plain": [
       "<graphviz.graphs.Digraph at 0x7fd11c17ac50>"
      ]
     },
     "metadata": {},
     "output_type": "display_data"
    }
   ],
   "source": [
    "from teocomp.utils import view\n",
    "\n",
    "view.interactive(M)"
   ]
  },
  {
   "cell_type": "markdown",
   "metadata": {},
   "source": [
    "### Máquinas de Turing como funções"
   ]
  },
  {
   "cell_type": "markdown",
   "metadata": {},
   "source": [
    "Podemos construír Máquinas de Turing para além de suas capacidade de reconhecer linguagens, considerando além da sua indicação de aceitação ou rejeição, qual conteúdo da fita ao término da computação."
   ]
  },
  {
   "cell_type": "markdown",
   "metadata": {},
   "source": [
    "Considere por exemplo a máquina que reconhece a linguagem $\\{u\\#v ~|~ w \\in \\{1\\}^*\\}$ e que, quando aceita, deixa escrito na fita a cadeia $uv$. Em outro sentido, o que a máquina faz é calcular a soma de dois números $u$ e $v$ representados de forma unária."
   ]
  },
  {
   "cell_type": "code",
   "execution_count": 9,
   "metadata": {},
   "outputs": [
    {
     "data": {
      "application/vnd.jupyter.widget-view+json": {
       "model_id": "ae523a4c8f2a42a58e3bfa5a5669e5d1",
       "version_major": 2,
       "version_minor": 0
      },
      "text/plain": [
       "VBox(children=(HBox(children=(Text(value='', description='Input:', placeholder='Enter input string'), Button(d…"
      ]
     },
     "metadata": {},
     "output_type": "display_data"
    },
    {
     "data": {
      "image/svg+xml": [
       "<?xml version=\"1.0\" encoding=\"UTF-8\" standalone=\"no\"?>\n",
       "<!DOCTYPE svg PUBLIC \"-//W3C//DTD SVG 1.1//EN\"\n",
       " \"http://www.w3.org/Graphics/SVG/1.1/DTD/svg11.dtd\">\n",
       "<!-- Generated by graphviz version 2.43.0 (0)\n",
       " -->\n",
       "<!-- Title: turing_machine Pages: 1 -->\n",
       "<svg width=\"657pt\" height=\"111pt\"\n",
       " viewBox=\"0.00 0.00 656.58 111.00\" xmlns=\"http://www.w3.org/2000/svg\" xmlns:xlink=\"http://www.w3.org/1999/xlink\">\n",
       "<g id=\"graph0\" class=\"graph\" transform=\"scale(1 1) rotate(0) translate(4 107)\">\n",
       "<title>turing_machine</title>\n",
       "<polygon fill=\"white\" stroke=\"transparent\" points=\"-4,4 -4,-107 652.58,-107 652.58,4 -4,4\"/>\n",
       "<g id=\"clust1\" class=\"cluster\">\n",
       "<title>cluster_0</title>\n",
       "<polygon fill=\"none\" stroke=\"black\" points=\"8,-8 8,-95 91,-95 91,-8 8,-8\"/>\n",
       "<text text-anchor=\"middle\" x=\"49.5\" y=\"-79.8\" font-family=\"Times,serif\" font-size=\"14.00\">Snapshot</text>\n",
       "</g>\n",
       "<g id=\"node1\" class=\"node\">\n",
       "<title></title>\n",
       "<ellipse fill=\"black\" stroke=\"black\" cx=\"121.8\" cy=\"-40\" rx=\"1.8\" ry=\"1.8\"/>\n",
       "</g>\n",
       "<!-- q0 -->\n",
       "<g id=\"node5\" class=\"node\">\n",
       "<title>q0</title>\n",
       "<ellipse fill=\"lightgrey\" stroke=\"black\" cx=\"183.35\" cy=\"-40\" rx=\"23\" ry=\"23\"/>\n",
       "<text text-anchor=\"middle\" x=\"183.35\" y=\"-36.3\" font-family=\"Times,serif\" font-size=\"14.00\">q0</text>\n",
       "</g>\n",
       "<!-- &#45;&gt;q0 -->\n",
       "<g id=\"edge6\" class=\"edge\">\n",
       "<title>&#45;&gt;q0</title>\n",
       "<path fill=\"none\" stroke=\"black\" d=\"M123.83,-40C127.23,-40 138.48,-40 150.22,-40\"/>\n",
       "<polygon fill=\"black\" stroke=\"black\" points=\"150.48,-43.5 160.48,-40 150.48,-36.5 150.48,-43.5\"/>\n",
       "</g>\n",
       "<!-- q3 -->\n",
       "<g id=\"node2\" class=\"node\">\n",
       "<title>q3</title>\n",
       "<ellipse fill=\"none\" stroke=\"black\" cx=\"621.84\" cy=\"-40\" rx=\"22.96\" ry=\"22.96\"/>\n",
       "<ellipse fill=\"none\" stroke=\"black\" cx=\"621.84\" cy=\"-40\" rx=\"27\" ry=\"27\"/>\n",
       "<text text-anchor=\"middle\" x=\"621.84\" y=\"-36.3\" font-family=\"Times,serif\" font-size=\"14.00\">q3</text>\n",
       "</g>\n",
       "<!-- q1 -->\n",
       "<g id=\"node3\" class=\"node\">\n",
       "<title>q1</title>\n",
       "<ellipse fill=\"none\" stroke=\"black\" cx=\"327.84\" cy=\"-40\" rx=\"23\" ry=\"23\"/>\n",
       "<text text-anchor=\"middle\" x=\"327.84\" y=\"-36.3\" font-family=\"Times,serif\" font-size=\"14.00\">q1</text>\n",
       "</g>\n",
       "<!-- q1&#45;&gt;q1 -->\n",
       "<g id=\"edge3\" class=\"edge\">\n",
       "<title>q1&#45;&gt;q1</title>\n",
       "<path fill=\"none\" stroke=\"black\" d=\"M315.09,-59.28C312.48,-70.4 316.73,-80.75 327.84,-80.75 335.31,-80.75 339.68,-76.08 340.95,-69.64\"/>\n",
       "<polygon fill=\"black\" stroke=\"black\" points=\"344.44,-69.16 340.6,-59.28 337.44,-69.4 344.44,-69.16\"/>\n",
       "<text text-anchor=\"middle\" x=\"327.84\" y=\"-84.55\" font-family=\"Times,serif\" font-size=\"14.00\">1 → 1, D</text>\n",
       "</g>\n",
       "<!-- q2 -->\n",
       "<g id=\"node4\" class=\"node\">\n",
       "<title>q2</title>\n",
       "<ellipse fill=\"none\" stroke=\"black\" cx=\"474.34\" cy=\"-40\" rx=\"23\" ry=\"23\"/>\n",
       "<text text-anchor=\"middle\" x=\"474.34\" y=\"-36.3\" font-family=\"Times,serif\" font-size=\"14.00\">q2</text>\n",
       "</g>\n",
       "<!-- q1&#45;&gt;q2 -->\n",
       "<g id=\"edge4\" class=\"edge\">\n",
       "<title>q1&#45;&gt;q2</title>\n",
       "<path fill=\"none\" stroke=\"black\" d=\"M350.79,-40C374.77,-40 413.41,-40 440.89,-40\"/>\n",
       "<polygon fill=\"black\" stroke=\"black\" points=\"441.19,-43.5 451.19,-40 441.19,-36.5 441.19,-43.5\"/>\n",
       "<text text-anchor=\"middle\" x=\"401.09\" y=\"-43.8\" font-family=\"Times,serif\" font-size=\"14.00\">⊔ → ⊔, E</text>\n",
       "</g>\n",
       "<!-- q2&#45;&gt;q3 -->\n",
       "<g id=\"edge5\" class=\"edge\">\n",
       "<title>q2&#45;&gt;q3</title>\n",
       "<path fill=\"none\" stroke=\"black\" d=\"M497.12,-40C520.32,-40 557.41,-40 584.94,-40\"/>\n",
       "<polygon fill=\"black\" stroke=\"black\" points=\"584.97,-43.5 594.97,-40 584.97,-36.5 584.97,-43.5\"/>\n",
       "<text text-anchor=\"middle\" x=\"546.09\" y=\"-43.8\" font-family=\"Times,serif\" font-size=\"14.00\">1 → ⊔, E</text>\n",
       "</g>\n",
       "<!-- q0&#45;&gt;q1 -->\n",
       "<g id=\"edge2\" class=\"edge\">\n",
       "<title>q0&#45;&gt;q1</title>\n",
       "<path fill=\"none\" stroke=\"black\" d=\"M206.3,-40C229.87,-40 267.56,-40 294.52,-40\"/>\n",
       "<polygon fill=\"black\" stroke=\"black\" points=\"294.63,-43.5 304.63,-40 294.63,-36.5 294.63,-43.5\"/>\n",
       "<text text-anchor=\"middle\" x=\"255.6\" y=\"-43.8\" font-family=\"Times,serif\" font-size=\"14.00\"># → 1, D</text>\n",
       "</g>\n",
       "<!-- q0&#45;&gt;q0 -->\n",
       "<g id=\"edge1\" class=\"edge\">\n",
       "<title>q0&#45;&gt;q0</title>\n",
       "<path fill=\"none\" stroke=\"black\" d=\"M176,-61.8C175.19,-71.91 177.64,-80.75 183.35,-80.75 187,-80.75 189.32,-77.12 190.3,-71.86\"/>\n",
       "<polygon fill=\"black\" stroke=\"black\" points=\"193.8,-71.93 190.7,-61.8 186.81,-71.65 193.8,-71.93\"/>\n",
       "<text text-anchor=\"middle\" x=\"183.35\" y=\"-84.55\" font-family=\"Times,serif\" font-size=\"14.00\">1 → 1, D</text>\n",
       "</g>\n",
       "<!-- snapshot -->\n",
       "<g id=\"node6\" class=\"node\">\n",
       "<title>snapshot</title>\n",
       "<text text-anchor=\"start\" x=\"26\" y=\"-48.8\" font-family=\"Times,serif\" font-size=\"14.00\"> &#160;</text>\n",
       "<text text-anchor=\"start\" x=\"49.5\" y=\"-48.8\" font-family=\"Times,serif\" font-size=\"14.00\"> &#160;</text>\n",
       "<text text-anchor=\"start\" x=\"68\" y=\"-48.8\" font-family=\"Times,serif\" font-size=\"14.00\">▼</text>\n",
       "<polygon fill=\"none\" stroke=\"black\" points=\"16.5,-16 16.5,-41 45.5,-41 45.5,-16 16.5,-16\"/>\n",
       "<text text-anchor=\"start\" x=\"21.5\" y=\"-24.8\" font-family=\"Times,serif\" font-size=\"14.00\">q0</text>\n",
       "<text text-anchor=\"start\" x=\"49.5\" y=\"-24.8\" font-family=\"Times,serif\" font-size=\"14.00\"> &#160;</text>\n",
       "<polygon fill=\"none\" stroke=\"black\" points=\"63.5,-16 63.5,-41 83.5,-41 83.5,-16 63.5,-16\"/>\n",
       "<text text-anchor=\"start\" x=\"68.5\" y=\"-24.8\" font-family=\"Times,serif\" font-size=\"14.00\"> &#160;</text>\n",
       "</g>\n",
       "<!-- snapshot&#45;&gt; -->\n",
       "<g id=\"edge7\" class=\"edge\">\n",
       "<title>snapshot&#45;&gt;</title>\n",
       "</g>\n",
       "</g>\n",
       "</svg>\n"
      ],
      "text/plain": [
       "<graphviz.graphs.Digraph at 0x7fd11c34b160>"
      ]
     },
     "metadata": {},
     "output_type": "display_data"
    }
   ],
   "source": [
    "BLK,D,E = MT.default.values()\n",
    "\n",
    "Q     = {'q0','q1','q2','q3'}\n",
    "Sigma = {'1','#'}\n",
    "Gamma = {'1','#', BLK}\n",
    "delta = {('q0','1'):('q0','1',D), ('q0','#'):('q1','1',D), \n",
    "         ('q1','1'):('q1','1',D), ('q1',BLK):('q2',BLK,E), \n",
    "         ('q2','1'):('q3',BLK,E)}\n",
    "q0 = 'q0'\n",
    "F = {'q3'}\n",
    "\n",
    "SOMA = MT(Q,Sigma,Gamma,delta,q0,F)\n",
    "view.interactive(SOMA)"
   ]
  },
  {
   "cell_type": "markdown",
   "metadata": {},
   "source": [
    " ### Máquinas de Turing como subrotinas"
   ]
  },
  {
   "cell_type": "markdown",
   "metadata": {},
   "source": [
    "Máquinas de Turing podem ser usadas como subrotinas para definir máquinas mais complexas. Suponha por exemplo que desejamos criar uma máquina que ao somar números unários, também retorna a cabeça de leitura para a posição inicial."
   ]
  },
  {
   "cell_type": "markdown",
   "metadata": {},
   "source": [
    "Podemos criar uma máquina de Turing `INICIO` que retorna a cabeça de leitura para a posição inicial e \"acoplá-la\" a máquina `SOMA` definida anteriormente."
   ]
  },
  {
   "cell_type": "code",
   "execution_count": 10,
   "metadata": {},
   "outputs": [
    {
     "data": {
      "image/svg+xml": [
       "<?xml version=\"1.0\" encoding=\"UTF-8\" standalone=\"no\"?>\n",
       "<!DOCTYPE svg PUBLIC \"-//W3C//DTD SVG 1.1//EN\"\n",
       " \"http://www.w3.org/Graphics/SVG/1.1/DTD/svg11.dtd\">\n",
       "<!-- Generated by graphviz version 2.43.0 (0)\n",
       " -->\n",
       "<!-- Title: turing_machine Pages: 1 -->\n",
       "<svg width=\"563pt\" height=\"105pt\"\n",
       " viewBox=\"0.00 0.00 562.58 105.50\" xmlns=\"http://www.w3.org/2000/svg\" xmlns:xlink=\"http://www.w3.org/1999/xlink\">\n",
       "<g id=\"graph0\" class=\"graph\" transform=\"scale(1 1) rotate(0) translate(4 101.5)\">\n",
       "<title>turing_machine</title>\n",
       "<polygon fill=\"white\" stroke=\"transparent\" points=\"-4,4 -4,-101.5 558.58,-101.5 558.58,4 -4,4\"/>\n",
       "<g id=\"node1\" class=\"node\">\n",
       "<title></title>\n",
       "<ellipse fill=\"black\" stroke=\"black\" cx=\"1.8\" cy=\"-26.75\" rx=\"1.8\" ry=\"1.8\"/>\n",
       "</g>\n",
       "<!-- q0 -->\n",
       "<g id=\"node5\" class=\"node\">\n",
       "<title>q0</title>\n",
       "<ellipse fill=\"none\" stroke=\"black\" cx=\"63.35\" cy=\"-26.75\" rx=\"23\" ry=\"23\"/>\n",
       "<text text-anchor=\"middle\" x=\"63.35\" y=\"-23.05\" font-family=\"Times,serif\" font-size=\"14.00\">q0</text>\n",
       "</g>\n",
       "<!-- &#45;&gt;q0 -->\n",
       "<g id=\"edge7\" class=\"edge\">\n",
       "<title>&#45;&gt;q0</title>\n",
       "<path fill=\"none\" stroke=\"black\" d=\"M3.83,-26.75C7.23,-26.75 18.48,-26.75 30.22,-26.75\"/>\n",
       "<polygon fill=\"black\" stroke=\"black\" points=\"30.48,-30.25 40.48,-26.75 30.48,-23.25 30.48,-30.25\"/>\n",
       "</g>\n",
       "<!-- q3 -->\n",
       "<g id=\"node2\" class=\"node\">\n",
       "<title>q3</title>\n",
       "<ellipse fill=\"none\" stroke=\"black\" cx=\"527.84\" cy=\"-26.75\" rx=\"22.96\" ry=\"22.96\"/>\n",
       "<ellipse fill=\"none\" stroke=\"black\" cx=\"527.84\" cy=\"-26.75\" rx=\"27\" ry=\"27\"/>\n",
       "<text text-anchor=\"middle\" x=\"527.84\" y=\"-23.05\" font-family=\"Times,serif\" font-size=\"14.00\">q3</text>\n",
       "</g>\n",
       "<!-- q1 -->\n",
       "<g id=\"node3\" class=\"node\">\n",
       "<title>q1</title>\n",
       "<ellipse fill=\"none\" stroke=\"black\" cx=\"223.84\" cy=\"-26.75\" rx=\"23\" ry=\"23\"/>\n",
       "<text text-anchor=\"middle\" x=\"223.84\" y=\"-23.05\" font-family=\"Times,serif\" font-size=\"14.00\">q1</text>\n",
       "</g>\n",
       "<!-- q1&#45;&gt;q1 -->\n",
       "<g id=\"edge3\" class=\"edge\">\n",
       "<title>q1&#45;&gt;q1</title>\n",
       "<path fill=\"none\" stroke=\"black\" d=\"M211.09,-46.03C208.48,-57.15 212.73,-67.5 223.84,-67.5 231.31,-67.5 235.68,-62.82 236.95,-56.39\"/>\n",
       "<polygon fill=\"black\" stroke=\"black\" points=\"240.44,-55.91 236.6,-46.03 233.44,-56.14 240.44,-55.91\"/>\n",
       "<text text-anchor=\"middle\" x=\"223.84\" y=\"-86.3\" font-family=\"Times,serif\" font-size=\"14.00\">⊔* → ⊔, D</text>\n",
       "<text text-anchor=\"middle\" x=\"223.84\" y=\"-71.3\" font-family=\"Times,serif\" font-size=\"14.00\">1* → 1, D</text>\n",
       "</g>\n",
       "<!-- q2 -->\n",
       "<g id=\"node4\" class=\"node\">\n",
       "<title>q2</title>\n",
       "<ellipse fill=\"none\" stroke=\"black\" cx=\"370.34\" cy=\"-26.75\" rx=\"23\" ry=\"23\"/>\n",
       "<text text-anchor=\"middle\" x=\"370.34\" y=\"-23.05\" font-family=\"Times,serif\" font-size=\"14.00\">q2</text>\n",
       "</g>\n",
       "<!-- q1&#45;&gt;q2 -->\n",
       "<g id=\"edge4\" class=\"edge\">\n",
       "<title>q1&#45;&gt;q2</title>\n",
       "<path fill=\"none\" stroke=\"black\" d=\"M246.79,-26.75C270.77,-26.75 309.41,-26.75 336.89,-26.75\"/>\n",
       "<polygon fill=\"black\" stroke=\"black\" points=\"337.19,-30.25 347.19,-26.75 337.19,-23.25 337.19,-30.25\"/>\n",
       "<text text-anchor=\"middle\" x=\"297.09\" y=\"-45.55\" font-family=\"Times,serif\" font-size=\"14.00\">⊔ → ⊔, E</text>\n",
       "<text text-anchor=\"middle\" x=\"297.09\" y=\"-30.55\" font-family=\"Times,serif\" font-size=\"14.00\">1 → 1, E</text>\n",
       "</g>\n",
       "<!-- q2&#45;&gt;q3 -->\n",
       "<g id=\"edge6\" class=\"edge\">\n",
       "<title>q2&#45;&gt;q3</title>\n",
       "<path fill=\"none\" stroke=\"black\" d=\"M393.29,-26.75C418.6,-26.75 460.59,-26.75 490.73,-26.75\"/>\n",
       "<polygon fill=\"black\" stroke=\"black\" points=\"490.85,-30.25 500.85,-26.75 490.85,-23.25 490.85,-30.25\"/>\n",
       "<text text-anchor=\"middle\" x=\"447.09\" y=\"-45.55\" font-family=\"Times,serif\" font-size=\"14.00\">⊔* → ⊔, E</text>\n",
       "<text text-anchor=\"middle\" x=\"447.09\" y=\"-30.55\" font-family=\"Times,serif\" font-size=\"14.00\">1* → 1, E</text>\n",
       "</g>\n",
       "<!-- q2&#45;&gt;q2 -->\n",
       "<g id=\"edge5\" class=\"edge\">\n",
       "<title>q2&#45;&gt;q2</title>\n",
       "<path fill=\"none\" stroke=\"black\" d=\"M357.58,-46.03C354.98,-57.15 359.23,-67.5 370.34,-67.5 377.8,-67.5 382.17,-62.82 383.45,-56.39\"/>\n",
       "<polygon fill=\"black\" stroke=\"black\" points=\"386.93,-55.91 383.1,-46.03 379.94,-56.14 386.93,-55.91\"/>\n",
       "<text text-anchor=\"middle\" x=\"370.34\" y=\"-86.3\" font-family=\"Times,serif\" font-size=\"14.00\">⊔ → ⊔, E</text>\n",
       "<text text-anchor=\"middle\" x=\"370.34\" y=\"-71.3\" font-family=\"Times,serif\" font-size=\"14.00\">1 → 1, E</text>\n",
       "</g>\n",
       "<!-- q0&#45;&gt;q1 -->\n",
       "<g id=\"edge2\" class=\"edge\">\n",
       "<title>q0&#45;&gt;q1</title>\n",
       "<path fill=\"none\" stroke=\"black\" d=\"M86.39,-26.75C113.47,-26.75 159.66,-26.75 190.7,-26.75\"/>\n",
       "<polygon fill=\"black\" stroke=\"black\" points=\"190.99,-30.25 200.99,-26.75 190.99,-23.25 190.99,-30.25\"/>\n",
       "<text text-anchor=\"middle\" x=\"143.6\" y=\"-45.55\" font-family=\"Times,serif\" font-size=\"14.00\">⊔* → ⊔*, D</text>\n",
       "<text text-anchor=\"middle\" x=\"143.6\" y=\"-30.55\" font-family=\"Times,serif\" font-size=\"14.00\">1* → 1*, D</text>\n",
       "</g>\n",
       "<!-- q0&#45;&gt;q0 -->\n",
       "<g id=\"edge1\" class=\"edge\">\n",
       "<title>q0&#45;&gt;q0</title>\n",
       "<path fill=\"none\" stroke=\"black\" d=\"M56,-48.55C55.19,-58.66 57.64,-67.5 63.35,-67.5 67,-67.5 69.32,-63.87 70.3,-58.6\"/>\n",
       "<polygon fill=\"black\" stroke=\"black\" points=\"73.8,-58.68 70.7,-48.55 66.81,-58.4 73.8,-58.68\"/>\n",
       "<text text-anchor=\"middle\" x=\"63.35\" y=\"-86.3\" font-family=\"Times,serif\" font-size=\"14.00\">⊔ → ⊔*, E</text>\n",
       "<text text-anchor=\"middle\" x=\"63.35\" y=\"-71.3\" font-family=\"Times,serif\" font-size=\"14.00\">1 → 1*, E</text>\n",
       "</g>\n",
       "</g>\n",
       "</svg>\n"
      ],
      "text/plain": [
       "<graphviz.graphs.Digraph at 0x7fd11c34b130>"
      ]
     },
     "metadata": {},
     "output_type": "display_data"
    }
   ],
   "source": [
    "BLK,D,E = MT.default.values()   \n",
    "\n",
    "Sigma = {'1'}\n",
    "\n",
    "marca    = {a:a+'*' for a in (Sigma | {BLK})} \n",
    "desmarca = {a+'*':a for a in (Sigma | {BLK})}\n",
    "\n",
    "Q = {'q0','q1','q2','q3'}\n",
    "Gamma = Sigma | {BLK} | {a for a in desmarca}\n",
    "delta = {}\n",
    "delta = delta | {('q0',a):('q0',marca[a],E) for a in marca}\n",
    "delta = delta | {('q0',a):('q1',a,D) for a in desmarca}\n",
    "delta = delta | {('q1',a):('q1',desmarca[a],D) for a in desmarca}\n",
    "delta = delta | {('q1',a):('q2',a,E) for a in marca}\n",
    "delta = delta | {('q2',a):('q2',a,E) for a in marca}\n",
    "delta = delta | {('q2',a):('q3',desmarca[a],E) for a in desmarca}\n",
    "q0 = 'q0'\n",
    "F = {'q3'}\n",
    "\n",
    "INICIO = MT(Q,Sigma,Gamma,delta,q0,F)\n",
    "INICIO"
   ]
  },
  {
   "cell_type": "markdown",
   "metadata": {},
   "source": [
    "A composição de máquinas de Turing pode ser realizada por meio do método `where` onde são indicados os estados da máquina que na verdade representam abstrações de comportamentos definidos por outras máquinas de Turing."
   ]
  },
  {
   "cell_type": "code",
   "execution_count": 11,
   "metadata": {},
   "outputs": [
    {
     "data": {
      "application/vnd.jupyter.widget-view+json": {
       "model_id": "5d7285eba6a843eaab352caf8353303b",
       "version_major": 2,
       "version_minor": 0
      },
      "text/plain": [
       "VBox(children=(HBox(children=(Text(value='', description='Input:', placeholder='Enter input string'), Button(d…"
      ]
     },
     "metadata": {},
     "output_type": "display_data"
    },
    {
     "data": {
      "image/svg+xml": [
       "<?xml version=\"1.0\" encoding=\"UTF-8\" standalone=\"no\"?>\n",
       "<!DOCTYPE svg PUBLIC \"-//W3C//DTD SVG 1.1//EN\"\n",
       " \"http://www.w3.org/Graphics/SVG/1.1/DTD/svg11.dtd\">\n",
       "<!-- Generated by graphviz version 2.43.0 (0)\n",
       " -->\n",
       "<!-- Title: turing_machine Pages: 1 -->\n",
       "<svg width=\"602pt\" height=\"111pt\"\n",
       " viewBox=\"0.00 0.00 601.80 111.00\" xmlns=\"http://www.w3.org/2000/svg\" xmlns:xlink=\"http://www.w3.org/1999/xlink\">\n",
       "<g id=\"graph0\" class=\"graph\" transform=\"scale(1 1) rotate(0) translate(4 107)\">\n",
       "<title>turing_machine</title>\n",
       "<polygon fill=\"white\" stroke=\"transparent\" points=\"-4,4 -4,-107 597.8,-107 597.8,4 -4,4\"/>\n",
       "<g id=\"clust1\" class=\"cluster\">\n",
       "<title>cluster_0</title>\n",
       "<polygon fill=\"none\" stroke=\"black\" points=\"8,-8 8,-95 142,-95 142,-8 8,-8\"/>\n",
       "<text text-anchor=\"middle\" x=\"75\" y=\"-79.8\" font-family=\"Times,serif\" font-size=\"14.00\">Snapshot</text>\n",
       "</g>\n",
       "<g id=\"node1\" class=\"node\">\n",
       "<title></title>\n",
       "<ellipse fill=\"black\" stroke=\"black\" cx=\"172.8\" cy=\"-40\" rx=\"1.8\" ry=\"1.8\"/>\n",
       "</g>\n",
       "<!-- SOMA -->\n",
       "<g id=\"node3\" class=\"node\">\n",
       "<title>SOMA</title>\n",
       "<polygon fill=\"lightgrey\" stroke=\"black\" points=\"273.6,-58 211.6,-58 211.6,-22 273.6,-22 273.6,-58\"/>\n",
       "<text text-anchor=\"middle\" x=\"242.6\" y=\"-36.3\" font-family=\"Times,serif\" font-size=\"14.00\">SOMA</text>\n",
       "</g>\n",
       "<!-- &#45;&gt;SOMA -->\n",
       "<g id=\"edge1\" class=\"edge\">\n",
       "<title>&#45;&gt;SOMA</title>\n",
       "<path fill=\"none\" stroke=\"black\" d=\"M174.98,-40C178.47,-40 189.26,-40 201.17,-40\"/>\n",
       "<polygon fill=\"black\" stroke=\"black\" points=\"201.3,-43.5 211.3,-40 201.3,-36.5 201.3,-43.5\"/>\n",
       "</g>\n",
       "<!-- qa -->\n",
       "<g id=\"node2\" class=\"node\">\n",
       "<title>qa</title>\n",
       "<ellipse fill=\"none\" stroke=\"black\" cx=\"567.7\" cy=\"-40\" rx=\"22.18\" ry=\"22.18\"/>\n",
       "<ellipse fill=\"none\" stroke=\"black\" cx=\"567.7\" cy=\"-40\" rx=\"26.2\" ry=\"26.2\"/>\n",
       "<text text-anchor=\"middle\" x=\"567.7\" y=\"-36.3\" font-family=\"Times,serif\" font-size=\"14.00\">qa</text>\n",
       "</g>\n",
       "<!-- INICIO -->\n",
       "<g id=\"node4\" class=\"node\">\n",
       "<title>INICIO</title>\n",
       "<polygon fill=\"none\" stroke=\"black\" points=\"440.6,-58 374.6,-58 374.6,-22 440.6,-22 440.6,-58\"/>\n",
       "<text text-anchor=\"middle\" x=\"407.6\" y=\"-36.3\" font-family=\"Times,serif\" font-size=\"14.00\">INICIO</text>\n",
       "</g>\n",
       "<!-- SOMA&#45;&gt;INICIO -->\n",
       "<g id=\"edge3\" class=\"edge\">\n",
       "<title>SOMA&#45;&gt;INICIO</title>\n",
       "<path fill=\"none\" stroke=\"black\" d=\"M273.88,-40C299.38,-40 336.13,-40 364.5,-40\"/>\n",
       "<polygon fill=\"black\" stroke=\"black\" points=\"364.53,-43.5 374.53,-40 364.53,-36.5 364.53,-43.5\"/>\n",
       "<text text-anchor=\"middle\" x=\"324.1\" y=\"-58.8\" font-family=\"Times,serif\" font-size=\"14.00\">1 → 1, E</text>\n",
       "<text text-anchor=\"middle\" x=\"324.1\" y=\"-43.8\" font-family=\"Times,serif\" font-size=\"14.00\">⊔ → ⊔, E</text>\n",
       "</g>\n",
       "<!-- INICIO&#45;&gt;qa -->\n",
       "<g id=\"edge2\" class=\"edge\">\n",
       "<title>INICIO&#45;&gt;qa</title>\n",
       "<path fill=\"none\" stroke=\"black\" d=\"M440.98,-40C467.13,-40 503.92,-40 530.94,-40\"/>\n",
       "<polygon fill=\"black\" stroke=\"black\" points=\"531.14,-43.5 541.14,-40 531.14,-36.5 531.14,-43.5\"/>\n",
       "<text text-anchor=\"middle\" x=\"491.1\" y=\"-58.8\" font-family=\"Times,serif\" font-size=\"14.00\">1 → 1, E</text>\n",
       "<text text-anchor=\"middle\" x=\"491.1\" y=\"-43.8\" font-family=\"Times,serif\" font-size=\"14.00\">⊔ → ⊔, E</text>\n",
       "</g>\n",
       "<!-- snapshot -->\n",
       "<g id=\"node5\" class=\"node\">\n",
       "<title>snapshot</title>\n",
       "<text text-anchor=\"start\" x=\"51\" y=\"-48.8\" font-family=\"Times,serif\" font-size=\"14.00\"> &#160;</text>\n",
       "<text text-anchor=\"start\" x=\"100\" y=\"-48.8\" font-family=\"Times,serif\" font-size=\"14.00\"> &#160;</text>\n",
       "<text text-anchor=\"start\" x=\"118.5\" y=\"-48.8\" font-family=\"Times,serif\" font-size=\"14.00\">▼</text>\n",
       "<polygon fill=\"none\" stroke=\"black\" points=\"16,-16 16,-41 96,-41 96,-16 16,-16\"/>\n",
       "<text text-anchor=\"start\" x=\"21\" y=\"-24.8\" font-family=\"Times,serif\" font-size=\"14.00\">SOMA_q0</text>\n",
       "<text text-anchor=\"start\" x=\"100\" y=\"-24.8\" font-family=\"Times,serif\" font-size=\"14.00\"> &#160;</text>\n",
       "<polygon fill=\"none\" stroke=\"black\" points=\"114,-16 114,-41 134,-41 134,-16 114,-16\"/>\n",
       "<text text-anchor=\"start\" x=\"119\" y=\"-24.8\" font-family=\"Times,serif\" font-size=\"14.00\"> &#160;</text>\n",
       "</g>\n",
       "<!-- snapshot&#45;&gt; -->\n",
       "<g id=\"edge4\" class=\"edge\">\n",
       "<title>snapshot&#45;&gt;</title>\n",
       "</g>\n",
       "</g>\n",
       "</svg>\n"
      ],
      "text/plain": [
       "<graphviz.graphs.Digraph at 0x7fd11c2ed0c0>"
      ]
     },
     "metadata": {},
     "output_type": "display_data"
    }
   ],
   "source": [
    "BLK,D,E = MT.default.values()\n",
    "\n",
    "Q     = {'SOMA','INICIO','qa'}\n",
    "Sigma = {'1','#'}\n",
    "Gamma = {'1','#', BLK}\n",
    "delta = {('SOMA','1'):('INICIO','1',E),('SOMA',BLK):('INICIO',BLK,E),\n",
    "         ('INICIO','1'):('qa','1',E),('INICIO',BLK):('qa',BLK,E)}\n",
    "q0 = 'SOMA'\n",
    "F = {'qa'}\n",
    "\n",
    "SOMA_INICIO = MT(Q,Sigma,Gamma,delta,q0,F).where({'SOMA':SOMA,'INICIO':INICIO})\n",
    "view.interactive(SOMA_INICIO)"
   ]
  }
 ],
 "metadata": {
  "celltoolbar": "Slideshow",
  "kernelspec": {
   "display_name": "Python 3 (ipykernel)",
   "language": "python",
   "name": "python3"
  },
  "language_info": {
   "codemirror_mode": {
    "name": "ipython",
    "version": 3
   },
   "file_extension": ".py",
   "mimetype": "text/x-python",
   "name": "python",
   "nbconvert_exporter": "python",
   "pygments_lexer": "ipython3",
   "version": "3.10.12"
  }
 },
 "nbformat": 4,
 "nbformat_minor": 2
}
