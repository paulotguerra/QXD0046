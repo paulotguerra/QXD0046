{
 "cells": [
  {
   "cell_type": "markdown",
   "metadata": {},
   "source": [
    "<a target=\"_blank\" href=\"https://colab.research.google.com/github/paulotguerra/QXD0046/blob/main/01.00-Maquinas-de-Turing.ipynb\">\n",
    "  <img src=\"https://colab.research.google.com/assets/colab-badge.svg\" alt=\"Open In Colab\"/>\n",
    "</a>"
   ]
  },
  {
   "cell_type": "markdown",
   "metadata": {},
   "source": [
    "## QXD0046 - Teoria da Computação\n",
    "# Revisão: Linguagens Formais e Autômatos\n",
    "**Professor**: Paulo de Tarso Guerra ([paulodetarso@ufc.br](mailto:paulodetarso@ufc.br))"
   ]
  },
  {
   "cell_type": "code",
   "execution_count": 1,
   "metadata": {},
   "outputs": [],
   "source": [
    "# Execute essa célula (`ctrl+enter` ou clicando no botão de play) para importar a implementação das classes diretamente do [GitHub](https://github.com/paulotguerra/QXD0046)\n",
    "\n",
    "![ -d teocomp ] || (git clone https://github.com/paulotguerra/QXD0046.git && cp -r QXD0046/teocomp . && rm -rf QXD0046)"
   ]
  },
  {
   "cell_type": "markdown",
   "metadata": {},
   "source": [
    "# Máquinas de Turing"
   ]
  },
  {
   "cell_type": "markdown",
   "metadata": {},
   "source": [
    "As **máquinas de Turing** (MT) são modelos de computação propostos Alan Turing como uma representação conceitual da dinâmica de execução de um computador perante uma determinada entrada. Elas buscam, por meio de um conjunto mínimo de operações, capturar a essência do mecanismo de computação realizado por computadores reais."
   ]
  },
  {
   "cell_type": "markdown",
   "metadata": {},
   "source": [
    "As máquinas de Turing operam sobre um dispositivo de memória ideal, ilimitado e irrestrito, pensado como uma fita com infinitas posições. A máquina interage com essa fita por meio de uma cabeça de fita que pode ler e escrever símbolos e movimentar-se sobre essa fita, uma posição por vez, para direita ou esquerda. A Figura 1 ilustra esse modelo."
   ]
  },
  {
   "cell_type": "markdown",
   "metadata": {},
   "source": [
    "**Figura 1**: Ilustração de uma Máquina de Turing.\n",
    "\n",
    "![image.png](data:image/png;base64,iVBORw0KGgoAAAANSUhEUgAAAdUAAAByCAIAAACKtdxCAAAV80lEQVR4Ae2de0wUVxfARwXk5bKACBErFa3aEmJtxQV51C0q+GqL1BYkCGaRYkUiKCUgT/thJVZbkRZRBN8VsVVAjaG+ECkVtBCxoikoEgU0PCywWbbseL/ESTeb5dF5LHd3ljN/mGE4955zf2f8uTuzOxIINiAABIAAENAGAUIbSSEnEAACQAAIIPAvnARAAAgAAe0QAP9qhztkBQJAAAiAf+EcAAJAAAhohwD4VzvcISsQAAJAAPwL5wAQAAJAQDsEhvRvTU3NRdhoEGhpadFO6yArEAACPCcwpH/9/f2tra19YRuWAEEQx48f5/k5AOUDASCgHQJD+vezzz47deqUdoriT9bAwEDwL3/aBZUCAd0iAP7l1A/wLyd8MBgIjG4C4F9O/Qf/csIHg4HA6CYA/uXUf/AvJ3wwGAiMbgLgX079B/9ywgeDgcDoJgD+5dR/8C8nfDAYCIxuAuBfTv0H/3LCB4OBwOgmAP7l1H/wLyd8MBgIjG4C4F9O/Qf/csIHg4HA6CYA/uXUf/AvJ3wwGAiMbgLgX079B/9ywgeDgcDoJsDVvyRJVldXp6WlhYSESCSS7Ozs9vZ2hFBnZ+fp06f7+vp0Fm9/f39NTU1xcfHRo0cbGhrY1Qn+ZccNRgEBIIDQ0P//EJ3nP1RWVnp6ek6fPj0jI+P333+vqanJyspauXLlxYsXExMTxWLxy5cvdZZye3t7RETE5MmTDQ0NT548ya5O8C87bjAKCAAB9v4lSfLkyZNCodDf3//FixeqKNva2gICAgwMDDw9PTXrX6lUeuzYsa6uLtV0HPcLCwvNzMzAvxwxwnAgAARYEGB5/eHq1atWVlYuLi5tbW0DszY2Nr711lsa929ra2tYWFhra+vAjKyPFBUVTZgwAfzLGiAMBAJAgDUBNv7t7Oz08vIyMjIa6tGLJEmmpKQsXLhQs69/b9y4sXDhQvAv62bDQCAABHSKABv/nj17dvz48W+++eajR4+GWsy1a9c++eQTDfq3u7v7008/dXZ2Bv8OxRyOAwEgwC8CjP2rUCg2bdpEEISPj49UKh1qtW1tbdnZ2TKZjAqQSqV79+4NDw+PjIwMCwvLyMjo7u6mfvXixYuoqKjFixd/8MEH5a+3uLi4DRs2hISEXLlyhXy9nTlzxsXFhSAIoVAYFBQkkUi2bt36/Pnzp0+fhoeHe3t7L1q06N69ewcPHpRIJNHR0c+ePfvPvFTAwOsPcrk8Pz8/NDQ0OjpaIpF8++23wywT7r9RGOFPIAAEWBBg7F+ZTLZ06VKCIEJDQ/v7++mkbG5uXr58eXx8PKVjuVyenp7u7e1NfepLLpeXl5eHhISYmJgkJCTs2bOnt7eXJMn09HRra+uKigqE0LNnz27fvu3u7j5z5syysrK7d+/W19fL5XKZTHb16lU/Pz+hUBgXF1dYWJicnEwQRGZmJkJo+LxU5Wr+7e7ulkgkYrG4ubkZIdTR0eHr6xscHNzb2zvoSgMDA3/44YfHsI08AYVCMWgL4CAQ4C8Bxv59+fKll5cXQRDh4eF0/CuTydauXTt37tznz58rMXV2drq7u/v5+fX09FAHT58+bWRk5Ofnp/x4Q3l5uUAg2LlzJ0mSCCGZTObj4zPo9Yfs7OyxY8euX79eJpPV19fv3r27qamJZl5V/5IkuXfvXjMzs6KiImWpBQUFQqHw/PnzyiOqO4GBgW5ubg6wjTABgiCofxFV4cM+EOA7Acb+7evrW7FiBUEQwcHBdPxbXV1taWm5bt061WCFQhEdHT1hwoSysjKKYGFhoZGR0a5du5RA//jjD6FQGB8fT73wGca/OTk548aNy83NVY5FCNHMq+rfjo4OV1dXBweHx48fK6e6f/++jY1NUlIS9c+A8ji1A9cf1ICM0I/29vbg3xFiC9NqkQBj/yoUitjYWIIgvL29h3pXjhCSSqVXrlzp6+vLy8sbN25cTEyM6vtHkiS//vprgiD27t1LLb6wsNDY2FjVoZR/4+Li6PjXxMSkpKRElSPNvKr+ffjwoa2trY2NTUxMTOK/W3R09IwZM7Zv365avzIR+FeJYkR3wL8jihcm1xYBxv5FCF26dMnU1NTe3v7hw4dD1f3kyZOvvvpKJpNlZWURBLFlyxZVf1GXdwmC2LFjB/W6kvLvoUOHlBMO71/qvhwVnJOTY25ufvnyZeVYhBDNvKr+ra+vnzhx4pw5cwb9ULPq5Mp98K8SxYjugH9HFC9Mri0CbPzb09OzYsUKAwOD7OzsoeouLS3ds2cPSZJFRUXGxsbr169Xu/4QFxdnaGh44sQJagam/r106dLRo0epsYP6l2ZeVf+2trY6Ozs7Ojo2NTUNtS614+BfNSAj9CP4d4TAwrTaJcDGvwih27dvT5kyZfbs2Y2NjQMX0NPTExsbW1dXhxBqbW2dM2eOp6en8sYaQqinp8fHx2fmzJlK0/2nf6nrzk5OTi0tLQih4uJipbsH9S/NvKr+VSgUcXFxZmZmpaWlqouqrq4+fPgwXP9VZYJ5H/yLGTikw0OApX8RQpcvX7a3t1+wYIHaVYjOzs6EhIQjR44ohXXu3Dk7O7ujR48qjxQWFk6aNEn163MnTpwwNDRUfUFdWVlpYWGhvHBMXXe2traura0lSXL//v3Xr1+nGGVmZpqYmFy4cEENGZ28hYWFJiYmhw8fpsY+ffrUzc1t4cKFlOURQl1dXXFxcbW1tWqTUz/C699BsWj8IPhX40hhQl0gwN6/CKGGhoY1a9bY2tqGhYUdOXKksLAwKSnJ19f31KlTqld7EUK3bt3y8fFZs2bNN998ExgY+OGHHyrt2dLS4ufnN2nSJIIgrKysli5devfu3YiIiKlTp44ZM0YgEIjF4srKSurzvGKx2MvLKyUlJSEhobu7+9GjR76+vpaWltRYNze3S5cuqWIdJm9bW9vq1avt7OwIgrCxsVm5ciX1rY329vaNGze6uLgkJCSkpqauW7fuxo0bqnOq7oN/VWmM3D74d+TYwsxaJMDJv1Tdra2tx44dS0tL+/rrr4uLi4f5UMTz589/++03+ne3BnLp7++vfb2pXk0eGKZ2hEVeqVR6+/btxsZG5Wt2tTmpH8G/g2LR+EHwr8aRwoS6QEAD/tWFZWirBvAvHvLgXzycIQtmAuBfTsDBv5zw0R4M/qWNCgL5RAD8y6lb4F9O+GgPBv/SRgWBfCIA/uXULfAvJ3y0B4N/aaOCQD4RAP9y6hb4lxM+2oPBv7RRQSCfCIB/OXUL/MsJH+3B4F/aqCCQTwTAv5y6Bf7lhI/2YPAvbVQQyCcC4F9O3QL/csJHezD4lzYqCOQTAfAvp26Bfznhoz0Y/EsbFQTyiQD4l1O3wL+c8NEeDP6ljQoC+UQA/MupW+BfTvhoDwb/0kYFgXwiMKR//f39CYIwgW1YAgRBqD7FjU+d51Wt4F9etQuKpUtgSP/K5XIpbDQIqD3pjS54iGNCAPzLhBbE8obAkP7lzQqg0FFAAPw7Cpo8GpcI/h2NXefdmsG/vGsZFEyHAPiXDiWI0TIB8K+WGwDpR4YA+HdkuMKsGiUA/tUoTphMVwiAf3WlE1DHMATAv8PAgV/xlwD4l7+90//K79275/V6MzIymj9/vpeXV0FBgf4vG1Y4agiAf0dNq/m5UA8PD+Lfzdra+u+//+bnOqBqIDAIAfDvIFDgkO4QuHjx4r/6JVJSUnSnMKgECHAnAP7lzhBmGEECCoXCzs6OUnBjY+MIZoKpgQB2AuBf7MghIUMCMTExBEG4u7szHAfhQEDXCYB/db1DUF9tbS1BEDk5OYACCOgZAfCvnjVUP5fz7rvvdnV16efaYFWjmAD4dxQ3nz9Lz8vL40+xUCkQoEsA/EuXlB7EPXjwQCQSfaCNbd68eXPnzmWd2dPTk/VYkUjk4eHh7u7OegbWA0Ui0bJly1xdXVnPwHqgSCRauXKlVtotEolmzZrl5ubGunjWA6dNmzZ9+nS14TU1NTr7lxf8q7Ot0XxhVVVVFhYW17SxUR9g0Ebma2+88cbYsWNPnTqFP/uCBQumTp2alpaGP3VAQMDs2bPXrl2LP/W2bdsMDAxyc3Pxp3ZwcJg1a5Zq3u3bt8+ZM+eff/7R/F8nTcwI/tUERZ7MUVVVNW/ePK0U6+DgYG5urpXUPj4+FhYWbW1t+LNv2rTJ0dGxrKwMf+qsrKy333774MGD+FOXlpaamJg0NDTgT+3q6rp48WK1vFZWVj///LPaQR35EfyrI43AUQb4FwdllRzgXxUYOHYH+vfAgQMuLi46+58kgH9xnBY6kgP8i7kR4F/MwNX8++TJExsbmz///BNzGfTTgX/ps+J9JPgXcwvBv5iBq/l3yZIlSUlJmGtglA78ywgXv4PBv5j7B/7FDFzNv0FBQZGRkZhrYJQO/MsIF7+Dwb+Y+wf+xQxczb8dHR2TJ08uLy/HXAb9dOBf+qx4Hwn+xdxC8C9m4Gr+RQgVFRXNmDFDKpViroRmOvAvTVD6EAb+xdxF8C9m4AP9S5KklZXV2bNnMVdCMx34lyYofQgD/2LuIvgXM/CB/t21a5dYLH716hXmSmimA//SBKUPYeBfzF0E/2IGrubfBw8eTJw48dGjR5jLoJ8O/EufFe8jwb+YWwj+xQxczb8LFixIT0/HXAOjdOBfRrj4HcwX/8pksqqqqnPnzh07duzp06ccoTP6/rFmU4N/OfaO6XA1/3755ZehoaFMJ8EZD/7FSVvLufji3+bm5qCgIGtrazMzs8uXL3Okxsi/mk0N/uXYO6bD1fzb29vr6Oh44cIFpvNgiwf/YkOt/UR88S9FKjMzE79/NZsa/Iv5pFfzL0Lo2rVrU6ZM0dmH94N/MZ8h2kzHwr99fX35+fkbN26MjIwMCAhIT0/v7u5msQYWzz/LyckxNzfH/PqXWpqmUrPz77Nnz9LS0jZu3Lhhw4bVq1cXFRWRJMmUOTz/jCIml8uFQmFJSQlTgHjiwb94OOtEFqb+JUly165dYWFhlHPb29sXLVokFotZPMsR/EvzDOjs7Fy9enVeXh7l3Js3b9rb26ekpPT399OcgQoD/1IcEhMTP/74Y0bocAaDf3HS1nIupv7t6ekRi8VGRkZnzpyhSj9z5oypqWl+fj7TlYB/aRKrqakRCoUzZ86kbjz29/dLJJIpU6YwfZwu+BchdOfOHVtb29bWVprw8YeBf/Ez11pGpv4lSbKkpCQ1NVV5BpeXlwsEgu3btzN9R8zav8XFxQcOHNi8eXN4ePiWLVvq6uqY4mN0/42anLr+wD01i+sPPT09u3fvzsvLk8vlCCGSJJOTky0sLCorKxktHPyLEJo7d+6ePXsYcaOCe3t7d+zYsXXr1hcvXgwcPvxv//rrr/Dw8NzcXDpvWcC/A/Hq7RGm/qVA9Pf3V1RUxMfHh4SEfP7554aGhqmpqXj8a2BgsGTJkitXrpCvt4KCAkdHx0OHDjF6nDY7/2okNQv/Usy7urpOnz79xRdfSCQSNzc3gUBQUVHB6LwE/yKE4uPjV61axYgbFVxbW2tpaWlsbFxUVDRw+PC/3b17N0EQ77zzTktLy8CxakfAv2pA9PlHFv6tqKh47733PDw8ysvLSZKsqKgQCATY/GtoaKj6P+iQJJmamioUCq9fv06/T+z8q5HULPwrl8v37ds3efLkiIiI5uZmasngX5rtVvv8g1wud3Jy+umnn2gOV4bJZLKcnJyMjIyXL18qDyp3hv9tc3NzUlLSL7/8QudVAvhXSVX/d5j6t76+ftq0aa6ursobbkr/SqXSx48f00fG7vqDsbGx2pNTbt68KRAIQkNDqbfndApg51+NpGbh37y8PCMjo23btlHvXkmSTElJofz74vVGZ8kIIXj9S4Gqrq62tbVVnsA06WELA/9iQ639REz9++OPP44ZM+b7779Xln7hwgVTU9PU1NSGhobk5GTl8f/c0ZR/Hzx4YGNj8/777w96YW7QMjTlXxapmfpXJpMtX77cyspKeZlboVBERUVR/i0oKCgsLBx0jQMPgn8pJlKpVCAQlJaWDkSkC0fAv7rQBUw1MPXv8ePHDQ0N4+LiqHdSUqk0ISHBwsIiNja2rq7uf//7H/26NeXfhoYGOzs7Z2dn5S3B/6xBU/5lkZqpf+VyeVBQkLm5+dWrV6l1NTY2Llu2TCAQ/Prrr4cPHz5//vx/rpcKAP9SHDZt2hQcHEwTGv4w8C9+5lrLyNS/Uqk0MTHR3t4+NjY2Pz9/69atxcXFycnJtra2a9asYXRHXlP+pW59LFmypLe3lyZHTfmXRWqm/kUINTY2+vr6Ojk5ZWZm7tu3LzY29tatW2Kx2NnZOSYmpr29neaqwb8IobKyMnt7+87OTprQ8IeBf/Ez11pGpv6lCu3u7q6srKyoqFB+862jo4P+5VdqEnb+HT9+vPKjx9Q8R44cMTY2zs7Opg+RnX81kpqFf6l1PX369Pr163V1ddRV4P7+/vb2dkafOQH/IoScnJz27dtH/1TBHwn+xc9caxnZ+Vcj5bLzr6GhoUQiUX55v6mpaf78+f7+/oPelR6qTnb+1Uhq1v4dai30j4N/EUI7d+5ctGgRfWj4I8G/+JlrLSO//JubmxsVFXXx4sXw8PCsrKzvvvtOLBanp6fTv/JAgWbhX02lBv9iPtfVPn+mUChEItH+/fsxl0E/HfiXPiveR/LLv0rcUqm0qqrq3r17dL5QpByl3GHhX+VYjqnBv0qSeHbU/IsQun//vpWVVVNTE54CmGYB/zIlxuN4nvqXI3Eu/uWYGvzLESDT4QP929XVNWHChBs3bjCdCk88+BcPZ53IAv7F3AbwL2bgA/27du3ayMhIzGXQTwf+pc+K95HgX8wtBP9iBq7m35KSkunTp0ulUsxl0E8H/qXPiveR4F/MLQT/Ygau5t9Zs2bp8s03hBD4F/MZos104F/M9MG/mIGr+Tc7O1skEtF5Dg7mOpXpwL9KFPq/A/7F3GPwL2bgav599eqVt7d3RkYG5jLopwP/0mfF+0jwL+YWgn8xA1fzL0KoqalJKBTev38fcyU004F/aYLShzDwL+Yugn8xAx/o37a2NoFAcOfOHcyV0EwH/qUJSh/CwL+Yuwj+xQx8oH+Dg4Pj4+Mxl0E/HfiXPiveR4J/MbcQ/IsZ+ED/enh46OyXL+DzD5hPDy2nq6qqIggiUxsb8XrTRuZMU1NTgiASExPxZ3dwcJg6dWpAQAD+1CKRaPbs2e7u7vhTr1q1ysDAYPPmzfhTW1pa2traquYdN24c+FfL3oH0FIEnT55EammLiIiQSCRaSh4ZHh6urdRazBsVFaWt7MuWLdNK6uXLl3/00UdqqRsaGnTWAHD9QWdbA4UBASCg5wTAv3reYFgeEAACOksA/KuzrYHCgAAQ0HMC4F89bzAsDwgAAZ0lAP7V2dZAYUAACOg5AfCvnjcYlgcEgIDOEgD/6mxroDAgAAT0nAD4V88bDMsDAkBAZwmAf3W2NVAYEAACek7g/xq2J3FaG5BFAAAAAElFTkSuQmCC)"
   ]
  },
  {
   "cell_type": "markdown",
   "metadata": {},
   "source": [
    "O controle é realizado por um sistema de transição de estados. Nele está descrito o que a máquina deve fazer quando em um determinado estado faz a leitura de um símbolo na fita. \n"
   ]
  },
  {
   "cell_type": "markdown",
   "metadata": {},
   "source": [
    "Assim como para os autômatos finitos, descrevemos as MT por meio de uma representação de círculos, representando estados, ligados por arestas rotuladas, que descrevem os elementos que motivam a transição de estados."
   ]
  },
  {
   "cell_type": "markdown",
   "metadata": {},
   "source": [
    "**Figura 2**: Exemplo de diagrama de estados de uma MT."
   ]
  },
  {
   "cell_type": "markdown",
   "metadata": {},
   "source": [
    "A figura acima representa uma MT com três estados, $q0$, $q1$ e $q2$. O autômato inicia no estado $q0$, indicado por uma seta sem origem em outro estado. Os rótulos das setas indicam os possíveis fatos motivadores de uma mudança de estado."
   ]
  },
  {
   "cell_type": "markdown",
   "metadata": {},
   "source": [
    "O rótulo é composto por três elementos\n",
    "\n",
    "$$\\langle\\mathtt{leitura}\\rangle \\rightarrow \\langle\\mathtt{escrita}\\rangle,\\langle\\mathtt{movimento}\\rangle$$\n",
    "\n",
    "de modo que a transição entre os estados $q0$ e $q1$\n",
    "\n",
    "$$~\\sqcup \\rightarrow a,\\text{E}~$$\n",
    "\n",
    "indica que ao ler o símbolo $\\sqcup$ no estado $q0$, será escrito o símbolo $a$ nesta posição, a cabeça de fita será movimentada para a posição a esquerda, e o estado interno da máquina será atualizado para $q1$."
   ]
  },
  {
   "cell_type": "markdown",
   "metadata": {},
   "source": [
    "A computação ocorre enquanto $\\delta$ for definida. Os estados em $F$ indica que a palavra deve ser *aceita*, caso contrário ela deve ser rejeitada *rejeitada*."
   ]
  },
  {
   "cell_type": "markdown",
   "metadata": {},
   "source": [
    "As máquinas de Turing são formalmente definidas como segue.\n",
    "\n",
    "**Definição 1**: Uma máquina de Turing é uma tupla $(Q, \\Sigma, \\Gamma, \\delta, q_0, F)$, onde\n",
    "1. $Q$ é um conjunto finito de símbolos de estado,\n",
    "1. $\\Sigma$ é um conjunto finito de símbolos de alfabeto, onde $\\sqcup \\not\\in \\Sigma$,\n",
    "1. $\\Gamma$ é um conjunto finito de símbolos de fita, onde $\\Sigma \\cup \\{\\sqcup\\} \\subseteq \\Gamma$,\n",
    "1. $\\delta : Q' \\times \\Gamma \\rightarrow Q \\times \\Gamma \\times \\{\\mathrm{D,E}\\}$ é a função de transição,\n",
    "1. $q_0 \\in Q$ é o estado inicial,\n",
    "1. $F \\subseteq Q$ é o conjunto de estados de aceitação\n",
    "\n",
    "onde $\\sqcup \\not\\in \\Sigma$ é o símbolo em branco e $Q' \\subseteq Q$.\n",
    "\n"
   ]
  },
  {
   "cell_type": "markdown",
   "metadata": {},
   "source": [
    "Podemos definir a MT ilustrada na Figura 2 formalmente como\n",
    "\n",
    "$$M = (\\{q_0,q_1, q_2\\}, \\{a,b\\}, \\{a,b,\\sqcup\\}, \\delta, q_0, \\{q_1\\})$$\n",
    "\n",
    "onde $\\delta(q_0,a)=q_1 $ e $\\delta(q_0,b)=q_2$."
   ]
  },
  {
   "cell_type": "markdown",
   "metadata": {},
   "source": [
    "Seja $C_i, C_j$ configurações de $M$, dizemos que $C_i$ **origina** $C_j$ se\n",
    "- $C_i = q_ibv$, $~C_j = q_jcv~$ e $~\\delta(q_i,b) = (q_j,c,\\mathrm{E})$, ou\n",
    "- $C_i = uq_ibv$, $~C_j = ucq_jv~$ e $~\\delta(q_i,b) = (q_j,c,\\mathrm{D})$, ou\n",
    "- $C_i = uaq_ibv$, $~C_j = uq_jacv$, $~\\delta(q_i,b) = (q_j,c,\\mathrm{E})$ e $a \\in \\Gamma$. "
   ]
  },
  {
   "cell_type": "markdown",
   "metadata": {},
   "source": [
    "Os itens acima descrevem formalmente o processo de mudanças de configuração ocasionado pelos movimentos da máquina de Turing, incluindo o caso especial de uma tentativa de movimento à esquerda na posição mais a esquerda da fita."
   ]
  },
  {
   "cell_type": "markdown",
   "metadata": {},
   "source": [
    "Seja $M = (Q, \\Sigma, \\Gamma, \\delta, q_0, q_a, q_r)$ uma MT e $w = w_1w_2...w_n$ uma cadeia sobre $\\Sigma$, dizemos que $M$ **aceita** $w$ se existe uma sequência de configurações $(C_0,C_1,...,C_n)$ tal que\n",
    "1. $C_0 = q_0w$,\n",
    "1. $C_{i} \\text{ origina } C_{i+1}$,\n",
    "1. $C_n = uqv \\text{ e } q = q_a$.\n",
    "\n",
    "Por exemplo, a MT $M$ ilustrada na Figura 2 aceita a cadeia $w = aa$, uma vez que a sequência $(q_0aa, aq_0a, aaq_0\\sqcup, aq_aa)$ satisfaz as condições acima."
   ]
  },
  {
   "cell_type": "markdown",
   "metadata": {},
   "source": [
    "### Implementação em Python"
   ]
  },
  {
   "cell_type": "markdown",
   "metadata": {},
   "source": [
    "## Implementação em Python\n",
    "\n",
    "Em nossa implementação, uma máquina de Turing é representada pela classe `MT`, cujo construtor segue a definição apresentada:\n",
    "\n",
    "`M = MT(Q,Sigma,Gamma,delta,q0,qa,qr)`\n",
    "\n",
    "A seguir temos o exemplo da MT da Figura 2. "
   ]
  },
  {
   "cell_type": "markdown",
   "metadata": {},
   "source": [
    "Os elementos `Q`, `Sigma` e `Gamma` são elementos do tipo `set()`. Os elementos `q0`, `qa` e `qr` devem ser elementos de `Q`. A função de transição `delta` é um elemento do tipo `dict()` cuja construção deve ter domínio e contradomínio como indicado na Definição 1.\n"
   ]
  },
  {
   "cell_type": "code",
   "execution_count": 10,
   "metadata": {},
   "outputs": [
    {
     "data": {
      "image/svg+xml": [
       "<?xml version=\"1.0\" encoding=\"UTF-8\" standalone=\"no\"?>\n",
       "<!DOCTYPE svg PUBLIC \"-//W3C//DTD SVG 1.1//EN\"\n",
       " \"http://www.w3.org/Graphics/SVG/1.1/DTD/svg11.dtd\">\n",
       "<!-- Generated by graphviz version 2.43.0 (0)\n",
       " -->\n",
       "<!-- Title: turing_machine Pages: 1 -->\n",
       "<svg width=\"236pt\" height=\"124pt\"\n",
       " viewBox=\"0.00 0.00 235.59 124.50\" xmlns=\"http://www.w3.org/2000/svg\" xmlns:xlink=\"http://www.w3.org/1999/xlink\">\n",
       "<g id=\"graph0\" class=\"graph\" transform=\"scale(1 1) rotate(0) translate(4 120.5)\">\n",
       "<title>turing_machine</title>\n",
       "<polygon fill=\"white\" stroke=\"transparent\" points=\"-4,4 -4,-120.5 231.59,-120.5 231.59,4 -4,4\"/>\n",
       "<g id=\"node1\" class=\"node\">\n",
       "<title></title>\n",
       "<ellipse fill=\"black\" stroke=\"black\" cx=\"1.8\" cy=\"-55.75\" rx=\"1.8\" ry=\"1.8\"/>\n",
       "</g>\n",
       "<!-- q0 -->\n",
       "<g id=\"node3\" class=\"node\">\n",
       "<title>q0</title>\n",
       "<ellipse fill=\"none\" stroke=\"black\" cx=\"63.35\" cy=\"-55.75\" rx=\"23\" ry=\"23\"/>\n",
       "<text text-anchor=\"middle\" x=\"63.35\" y=\"-52.05\" font-family=\"Times,serif\" font-size=\"14.00\">q0</text>\n",
       "</g>\n",
       "<!-- &#45;&gt;q0 -->\n",
       "<g id=\"edge1\" class=\"edge\">\n",
       "<title>&#45;&gt;q0</title>\n",
       "<path fill=\"none\" stroke=\"black\" d=\"M3.83,-55.75C7.23,-55.75 18.48,-55.75 30.22,-55.75\"/>\n",
       "<polygon fill=\"black\" stroke=\"black\" points=\"30.48,-59.25 40.48,-55.75 30.48,-52.25 30.48,-59.25\"/>\n",
       "</g>\n",
       "<!-- q1 -->\n",
       "<g id=\"node2\" class=\"node\">\n",
       "<title>q1</title>\n",
       "<ellipse fill=\"none\" stroke=\"black\" cx=\"200.84\" cy=\"-89.75\" rx=\"22.96\" ry=\"22.96\"/>\n",
       "<ellipse fill=\"none\" stroke=\"black\" cx=\"200.84\" cy=\"-89.75\" rx=\"27\" ry=\"27\"/>\n",
       "<text text-anchor=\"middle\" x=\"200.84\" y=\"-86.05\" font-family=\"Times,serif\" font-size=\"14.00\">q1</text>\n",
       "</g>\n",
       "<!-- q0&#45;&gt;q1 -->\n",
       "<g id=\"edge4\" class=\"edge\">\n",
       "<title>q0&#45;&gt;q1</title>\n",
       "<path fill=\"none\" stroke=\"black\" d=\"M85.52,-61.06C106.71,-66.38 139.7,-74.66 164.8,-80.95\"/>\n",
       "<polygon fill=\"black\" stroke=\"black\" points=\"164.12,-84.39 174.68,-83.43 165.83,-77.6 164.12,-84.39\"/>\n",
       "<text text-anchor=\"middle\" x=\"130.1\" y=\"-82.55\" font-family=\"Times,serif\" font-size=\"14.00\">⊔→⊔,E</text>\n",
       "</g>\n",
       "<!-- q0&#45;&gt;q0 -->\n",
       "<g id=\"edge2\" class=\"edge\">\n",
       "<title>q0&#45;&gt;q0</title>\n",
       "<path fill=\"none\" stroke=\"black\" d=\"M56,-77.55C55.19,-87.66 57.64,-96.5 63.35,-96.5 67,-96.5 69.32,-92.87 70.3,-87.6\"/>\n",
       "<polygon fill=\"black\" stroke=\"black\" points=\"73.8,-87.68 70.7,-77.55 66.81,-87.4 73.8,-87.68\"/>\n",
       "<text text-anchor=\"middle\" x=\"63.35\" y=\"-100.3\" font-family=\"Times,serif\" font-size=\"14.00\">a→⊔,D</text>\n",
       "</g>\n",
       "<!-- q2 -->\n",
       "<g id=\"node4\" class=\"node\">\n",
       "<title>q2</title>\n",
       "<ellipse fill=\"none\" stroke=\"black\" cx=\"200.84\" cy=\"-22.75\" rx=\"23\" ry=\"23\"/>\n",
       "<text text-anchor=\"middle\" x=\"200.84\" y=\"-19.05\" font-family=\"Times,serif\" font-size=\"14.00\">q2</text>\n",
       "</g>\n",
       "<!-- q0&#45;&gt;q2 -->\n",
       "<g id=\"edge3\" class=\"edge\">\n",
       "<title>q0&#45;&gt;q2</title>\n",
       "<path fill=\"none\" stroke=\"black\" d=\"M85.52,-50.59C107.76,-45.17 142.98,-36.6 168.46,-30.39\"/>\n",
       "<polygon fill=\"black\" stroke=\"black\" points=\"169.49,-33.74 178.37,-27.98 167.83,-26.94 169.49,-33.74\"/>\n",
       "<text text-anchor=\"middle\" x=\"130.1\" y=\"-49.55\" font-family=\"Times,serif\" font-size=\"14.00\">b→b,E</text>\n",
       "</g>\n",
       "</g>\n",
       "</svg>\n"
      ],
      "text/plain": [
       "<graphviz.graphs.Digraph at 0x7f885c741ba0>"
      ]
     },
     "metadata": {},
     "output_type": "display_data"
    }
   ],
   "source": [
    "from teocomp.automata import MT\n",
    "\n",
    "BLK = MT.default['blank']\n",
    "D = MT.default['right']\n",
    "E = MT.default['left']\n",
    "\n",
    "Q = {'q0','q1','q2'}\n",
    "Sigma = {'a','b'}\n",
    "Gamma = {'a','b',' '}\n",
    "delta = {('q0','a'):('q0',BLK,D),\n",
    "         ('q0','b'):('q2','b',E),\n",
    "         ('q0',BLK):('q1',BLK,E)}\n",
    "q0 = 'q0'\n",
    "F  = {'q1'}\n",
    "\n",
    "M = MT(Q,Sigma,Gamma,delta,q0,F)\n",
    "M"
   ]
  },
  {
   "cell_type": "markdown",
   "metadata": {},
   "source": [
    "Definida a máquina de Turing `M`, podemos usar a função `M.aceita(entrada)` para verificar a aceitação de cadeias, onde `entrada` deve ser composta por uma sequência de símbolos pertencentes a `Sigma`. A aceitação de uma palavra retornará o valor `True`."
   ]
  },
  {
   "cell_type": "code",
   "execution_count": 2,
   "metadata": {},
   "outputs": [
    {
     "data": {
      "text/plain": [
       "True"
      ]
     },
     "execution_count": 2,
     "metadata": {},
     "output_type": "execute_result"
    }
   ],
   "source": [
    "M.aceita(\"aaaa\")"
   ]
  },
  {
   "cell_type": "markdown",
   "metadata": {},
   "source": [
    "A rejeição de uma palavra retornará o valor `False`."
   ]
  },
  {
   "cell_type": "code",
   "execution_count": 11,
   "metadata": {},
   "outputs": [
    {
     "data": {
      "text/plain": [
       "False"
      ]
     },
     "execution_count": 11,
     "metadata": {},
     "output_type": "execute_result"
    }
   ],
   "source": [
    "M.aceita(\"aabb\")"
   ]
  },
  {
   "cell_type": "markdown",
   "metadata": {},
   "source": [
    "Você pode também realizar múltiplos testes utilizando listas com casos de teste:"
   ]
  },
  {
   "cell_type": "code",
   "execution_count": 12,
   "metadata": {},
   "outputs": [
    {
     "data": {
      "text/plain": [
       "[True, True, True, True, True, True, True, True]"
      ]
     },
     "execution_count": 12,
     "metadata": {},
     "output_type": "execute_result"
    }
   ],
   "source": [
    "testes = [(\"a\",True), (\"aa\",True), (\"aaa\",True), (\"\",True), (\"b\",False), (\"ab\",False), (\"aba\",False), (\"bbb\",False)]\n",
    "[M.aceita(entrada) == saida for entrada, saida in testes]"
   ]
  },
  {
   "cell_type": "markdown",
   "metadata": {},
   "source": [
    "Não é necessário que os conjuntos `Q`, `Sigma` e `Gamma` sejam do tipo `str`. Podemos assim utilizar algumas funções do Python para facilitar a definição de máquinas de Turing."
   ]
  },
  {
   "cell_type": "markdown",
   "metadata": {},
   "source": [
    " Definimos a seguir, uma MT $M$ que reconhece a linguagem $\\{w\\#w ~|~ w \\in \\{a,b\\}^*\\}$ utilizando alguns recursos da linguagem Python, como a função `range()`."
   ]
  },
  {
   "cell_type": "code",
   "execution_count": 14,
   "metadata": {},
   "outputs": [
    {
     "data": {
      "image/svg+xml": [
       "<?xml version=\"1.0\" encoding=\"UTF-8\" standalone=\"no\"?>\n",
       "<!DOCTYPE svg PUBLIC \"-//W3C//DTD SVG 1.1//EN\"\n",
       " \"http://www.w3.org/Graphics/SVG/1.1/DTD/svg11.dtd\">\n",
       "<!-- Generated by graphviz version 2.43.0 (0)\n",
       " -->\n",
       "<!-- Title: turing_machine Pages: 1 -->\n",
       "<svg width=\"758pt\" height=\"593pt\"\n",
       " viewBox=\"0.00 0.00 758.39 593.10\" xmlns=\"http://www.w3.org/2000/svg\" xmlns:xlink=\"http://www.w3.org/1999/xlink\">\n",
       "<g id=\"graph0\" class=\"graph\" transform=\"scale(1 1) rotate(0) translate(4 589.1)\">\n",
       "<title>turing_machine</title>\n",
       "<polygon fill=\"white\" stroke=\"transparent\" points=\"-4,4 -4,-589.1 754.39,-589.1 754.39,4 -4,4\"/>\n",
       "<g id=\"node1\" class=\"node\">\n",
       "<title></title>\n",
       "<ellipse fill=\"black\" stroke=\"black\" cx=\"1.8\" cy=\"-309.1\" rx=\"1.8\" ry=\"1.8\"/>\n",
       "</g>\n",
       "<!-- 1 -->\n",
       "<g id=\"node3\" class=\"node\">\n",
       "<title>1</title>\n",
       "<ellipse fill=\"none\" stroke=\"black\" cx=\"58.6\" cy=\"-309.1\" rx=\"18\" ry=\"18\"/>\n",
       "<text text-anchor=\"middle\" x=\"58.6\" y=\"-305.4\" font-family=\"Times,serif\" font-size=\"14.00\">1</text>\n",
       "</g>\n",
       "<!-- &#45;&gt;1 -->\n",
       "<g id=\"edge1\" class=\"edge\">\n",
       "<title>&#45;&gt;1</title>\n",
       "<path fill=\"none\" stroke=\"black\" d=\"M3.75,-309.1C7.11,-309.1 18.87,-309.1 30.55,-309.1\"/>\n",
       "<polygon fill=\"black\" stroke=\"black\" points=\"30.58,-312.6 40.58,-309.1 30.58,-305.6 30.58,-312.6\"/>\n",
       "</g>\n",
       "<!-- qa -->\n",
       "<g id=\"node2\" class=\"node\">\n",
       "<title>qa</title>\n",
       "<ellipse fill=\"none\" stroke=\"black\" cx=\"314.7\" cy=\"-26.1\" rx=\"22.18\" ry=\"22.18\"/>\n",
       "<ellipse fill=\"none\" stroke=\"black\" cx=\"314.7\" cy=\"-26.1\" rx=\"26.2\" ry=\"26.2\"/>\n",
       "<text text-anchor=\"middle\" x=\"314.7\" y=\"-22.4\" font-family=\"Times,serif\" font-size=\"14.00\">qa</text>\n",
       "</g>\n",
       "<!-- 2 -->\n",
       "<g id=\"node4\" class=\"node\">\n",
       "<title>2</title>\n",
       "<ellipse fill=\"none\" stroke=\"black\" cx=\"182.6\" cy=\"-390.1\" rx=\"18\" ry=\"18\"/>\n",
       "<text text-anchor=\"middle\" x=\"182.6\" y=\"-386.4\" font-family=\"Times,serif\" font-size=\"14.00\">2</text>\n",
       "</g>\n",
       "<!-- 1&#45;&gt;2 -->\n",
       "<g id=\"edge2\" class=\"edge\">\n",
       "<title>1&#45;&gt;2</title>\n",
       "<path fill=\"none\" stroke=\"black\" d=\"M74.07,-318.71C94.99,-332.59 133.86,-358.4 158.69,-374.89\"/>\n",
       "<polygon fill=\"black\" stroke=\"black\" points=\"156.88,-377.89 167.14,-380.5 160.75,-372.05 156.88,-377.89\"/>\n",
       "<text text-anchor=\"middle\" x=\"120.6\" y=\"-369.9\" font-family=\"Times,serif\" font-size=\"14.00\">a→x,D</text>\n",
       "</g>\n",
       "<!-- 3 -->\n",
       "<g id=\"node5\" class=\"node\">\n",
       "<title>3</title>\n",
       "<ellipse fill=\"none\" stroke=\"black\" cx=\"182.6\" cy=\"-215.1\" rx=\"18\" ry=\"18\"/>\n",
       "<text text-anchor=\"middle\" x=\"182.6\" y=\"-211.4\" font-family=\"Times,serif\" font-size=\"14.00\">3</text>\n",
       "</g>\n",
       "<!-- 1&#45;&gt;3 -->\n",
       "<g id=\"edge3\" class=\"edge\">\n",
       "<title>1&#45;&gt;3</title>\n",
       "<path fill=\"none\" stroke=\"black\" d=\"M72.77,-297.92C79.27,-292.47 87.28,-285.86 94.6,-280.1 116.17,-263.12 141.35,-244.42 159.06,-231.46\"/>\n",
       "<polygon fill=\"black\" stroke=\"black\" points=\"161.56,-233.97 167.57,-225.24 157.43,-228.31 161.56,-233.97\"/>\n",
       "<text text-anchor=\"middle\" x=\"120.6\" y=\"-283.9\" font-family=\"Times,serif\" font-size=\"14.00\">b→x,D</text>\n",
       "</g>\n",
       "<!-- 8 -->\n",
       "<g id=\"node10\" class=\"node\">\n",
       "<title>8</title>\n",
       "<ellipse fill=\"none\" stroke=\"black\" cx=\"182.6\" cy=\"-80.1\" rx=\"18\" ry=\"18\"/>\n",
       "<text text-anchor=\"middle\" x=\"182.6\" y=\"-76.4\" font-family=\"Times,serif\" font-size=\"14.00\">8</text>\n",
       "</g>\n",
       "<!-- 1&#45;&gt;8 -->\n",
       "<g id=\"edge8\" class=\"edge\">\n",
       "<title>1&#45;&gt;8</title>\n",
       "<path fill=\"none\" stroke=\"black\" d=\"M65.38,-292.38C71.75,-274.59 82.67,-245.8 94.6,-222.1 116.55,-178.47 147.41,-130.6 165.86,-103.07\"/>\n",
       "<polygon fill=\"black\" stroke=\"black\" points=\"168.92,-104.8 171.62,-94.55 163.12,-100.88 168.92,-104.8\"/>\n",
       "<text text-anchor=\"middle\" x=\"120.6\" y=\"-225.9\" font-family=\"Times,serif\" font-size=\"14.00\">#→#,D</text>\n",
       "</g>\n",
       "<!-- qr -->\n",
       "<g id=\"node11\" class=\"node\">\n",
       "<title>qr</title>\n",
       "<ellipse fill=\"none\" stroke=\"black\" cx=\"729.59\" cy=\"-368.1\" rx=\"20.6\" ry=\"20.6\"/>\n",
       "<text text-anchor=\"middle\" x=\"729.59\" y=\"-364.4\" font-family=\"Times,serif\" font-size=\"14.00\">qr</text>\n",
       "</g>\n",
       "<!-- 1&#45;&gt;qr -->\n",
       "<g id=\"edge23\" class=\"edge\">\n",
       "<title>1&#45;&gt;qr</title>\n",
       "<path fill=\"none\" stroke=\"black\" d=\"M60.16,-327.19C62.95,-384 79.82,-555.1 181.6,-555.1 181.6,-555.1 181.6,-555.1 595.8,-555.1 671.76,-555.1 708.26,-451.24 721.92,-398.32\"/>\n",
       "<polygon fill=\"black\" stroke=\"black\" points=\"725.36,-399.01 724.35,-388.47 718.56,-397.34 725.36,-399.01\"/>\n",
       "<text text-anchor=\"middle\" x=\"384.8\" y=\"-573.9\" font-family=\"Times,serif\" font-size=\"14.00\">⊔→⊔,D</text>\n",
       "<text text-anchor=\"middle\" x=\"384.8\" y=\"-558.9\" font-family=\"Times,serif\" font-size=\"14.00\">x→x,D</text>\n",
       "</g>\n",
       "<!-- 2&#45;&gt;2 -->\n",
       "<g id=\"edge6\" class=\"edge\">\n",
       "<title>2&#45;&gt;2</title>\n",
       "<path fill=\"none\" stroke=\"black\" d=\"M172.23,-404.89C168.85,-415.51 172.31,-426.1 182.6,-426.1 189.52,-426.1 193.35,-421.32 194.09,-414.96\"/>\n",
       "<polygon fill=\"black\" stroke=\"black\" points=\"197.55,-414.44 192.97,-404.89 190.6,-415.21 197.55,-414.44\"/>\n",
       "<text text-anchor=\"middle\" x=\"182.6\" y=\"-444.9\" font-family=\"Times,serif\" font-size=\"14.00\">a→a,D</text>\n",
       "<text text-anchor=\"middle\" x=\"182.6\" y=\"-429.9\" font-family=\"Times,serif\" font-size=\"14.00\">b→b,D</text>\n",
       "</g>\n",
       "<!-- 4 -->\n",
       "<g id=\"node6\" class=\"node\">\n",
       "<title>4</title>\n",
       "<ellipse fill=\"none\" stroke=\"black\" cx=\"314.7\" cy=\"-390.1\" rx=\"18\" ry=\"18\"/>\n",
       "<text text-anchor=\"middle\" x=\"314.7\" y=\"-386.4\" font-family=\"Times,serif\" font-size=\"14.00\">4</text>\n",
       "</g>\n",
       "<!-- 2&#45;&gt;4 -->\n",
       "<g id=\"edge10\" class=\"edge\">\n",
       "<title>2&#45;&gt;4</title>\n",
       "<path fill=\"none\" stroke=\"black\" d=\"M200.61,-390.1C222.42,-390.1 260.53,-390.1 286.42,-390.1\"/>\n",
       "<polygon fill=\"black\" stroke=\"black\" points=\"286.69,-393.6 296.69,-390.1 286.69,-386.6 286.69,-393.6\"/>\n",
       "<text text-anchor=\"middle\" x=\"244.6\" y=\"-393.9\" font-family=\"Times,serif\" font-size=\"14.00\">#→#,D</text>\n",
       "</g>\n",
       "<!-- 2&#45;&gt;qr -->\n",
       "<g id=\"edge24\" class=\"edge\">\n",
       "<title>2&#45;&gt;qr</title>\n",
       "<path fill=\"none\" stroke=\"black\" d=\"M192.53,-405.43C211.04,-435.01 256.67,-497.1 313.7,-497.1 313.7,-497.1 313.7,-497.1 595.8,-497.1 653.43,-497.1 695.48,-433.81 715.5,-395.9\"/>\n",
       "<polygon fill=\"black\" stroke=\"black\" points=\"718.68,-397.35 720.11,-386.86 712.45,-394.17 718.68,-397.35\"/>\n",
       "<text text-anchor=\"middle\" x=\"454.8\" y=\"-515.9\" font-family=\"Times,serif\" font-size=\"14.00\">⊔→⊔,D</text>\n",
       "<text text-anchor=\"middle\" x=\"454.8\" y=\"-500.9\" font-family=\"Times,serif\" font-size=\"14.00\">x→x,D</text>\n",
       "</g>\n",
       "<!-- 3&#45;&gt;3 -->\n",
       "<g id=\"edge7\" class=\"edge\">\n",
       "<title>3&#45;&gt;3</title>\n",
       "<path fill=\"none\" stroke=\"black\" d=\"M172.23,-229.89C168.85,-240.51 172.31,-251.1 182.6,-251.1 189.52,-251.1 193.35,-246.32 194.09,-239.96\"/>\n",
       "<polygon fill=\"black\" stroke=\"black\" points=\"197.55,-239.44 192.97,-229.89 190.6,-240.21 197.55,-239.44\"/>\n",
       "<text text-anchor=\"middle\" x=\"182.6\" y=\"-269.9\" font-family=\"Times,serif\" font-size=\"14.00\">a→a,D</text>\n",
       "<text text-anchor=\"middle\" x=\"182.6\" y=\"-254.9\" font-family=\"Times,serif\" font-size=\"14.00\">b→b,D</text>\n",
       "</g>\n",
       "<!-- 5 -->\n",
       "<g id=\"node7\" class=\"node\">\n",
       "<title>5</title>\n",
       "<ellipse fill=\"none\" stroke=\"black\" cx=\"314.7\" cy=\"-222.1\" rx=\"18\" ry=\"18\"/>\n",
       "<text text-anchor=\"middle\" x=\"314.7\" y=\"-218.4\" font-family=\"Times,serif\" font-size=\"14.00\">5</text>\n",
       "</g>\n",
       "<!-- 3&#45;&gt;5 -->\n",
       "<g id=\"edge11\" class=\"edge\">\n",
       "<title>3&#45;&gt;5</title>\n",
       "<path fill=\"none\" stroke=\"black\" d=\"M200.61,-216.01C222.42,-217.19 260.53,-219.24 286.42,-220.63\"/>\n",
       "<polygon fill=\"black\" stroke=\"black\" points=\"286.51,-224.14 296.69,-221.18 286.89,-217.15 286.51,-224.14\"/>\n",
       "<text text-anchor=\"middle\" x=\"244.6\" y=\"-223.9\" font-family=\"Times,serif\" font-size=\"14.00\">#→#,D</text>\n",
       "</g>\n",
       "<!-- 3&#45;&gt;qr -->\n",
       "<g id=\"edge25\" class=\"edge\">\n",
       "<title>3&#45;&gt;qr</title>\n",
       "<path fill=\"none\" stroke=\"black\" d=\"M199.17,-207.21C223.13,-195.81 270.78,-176.1 313.7,-176.1 313.7,-176.1 313.7,-176.1 595.8,-176.1 673.47,-176.1 709.27,-283.7 722.36,-337.8\"/>\n",
       "<polygon fill=\"black\" stroke=\"black\" points=\"718.95,-338.6 724.62,-347.55 725.77,-337.02 718.95,-338.6\"/>\n",
       "<text text-anchor=\"middle\" x=\"454.8\" y=\"-194.9\" font-family=\"Times,serif\" font-size=\"14.00\">⊔→⊔,D</text>\n",
       "<text text-anchor=\"middle\" x=\"454.8\" y=\"-179.9\" font-family=\"Times,serif\" font-size=\"14.00\">x→x,D</text>\n",
       "</g>\n",
       "<!-- 4&#45;&gt;4 -->\n",
       "<g id=\"edge14\" class=\"edge\">\n",
       "<title>4&#45;&gt;4</title>\n",
       "<path fill=\"none\" stroke=\"black\" d=\"M303.27,-404.14C298.99,-415.01 302.8,-426.1 314.7,-426.1 322.88,-426.1 327.23,-420.86 327.77,-414.05\"/>\n",
       "<polygon fill=\"black\" stroke=\"black\" points=\"331.21,-413.43 326.13,-404.14 324.31,-414.58 331.21,-413.43\"/>\n",
       "<text text-anchor=\"middle\" x=\"314.7\" y=\"-429.9\" font-family=\"Times,serif\" font-size=\"14.00\">x→x,D</text>\n",
       "</g>\n",
       "<!-- 6 -->\n",
       "<g id=\"node8\" class=\"node\">\n",
       "<title>6</title>\n",
       "<ellipse fill=\"none\" stroke=\"black\" cx=\"454.8\" cy=\"-340.1\" rx=\"18\" ry=\"18\"/>\n",
       "<text text-anchor=\"middle\" x=\"454.8\" y=\"-336.4\" font-family=\"Times,serif\" font-size=\"14.00\">6</text>\n",
       "</g>\n",
       "<!-- 4&#45;&gt;6 -->\n",
       "<g id=\"edge17\" class=\"edge\">\n",
       "<title>4&#45;&gt;6</title>\n",
       "<path fill=\"none\" stroke=\"black\" d=\"M331.81,-384.26C355.38,-375.73 399.53,-359.75 427.75,-349.53\"/>\n",
       "<polygon fill=\"black\" stroke=\"black\" points=\"429.15,-352.74 437.36,-346.05 426.76,-346.16 429.15,-352.74\"/>\n",
       "<text text-anchor=\"middle\" x=\"384.8\" y=\"-376.9\" font-family=\"Times,serif\" font-size=\"14.00\">a→x,E</text>\n",
       "</g>\n",
       "<!-- 4&#45;&gt;qr -->\n",
       "<g id=\"edge19\" class=\"edge\">\n",
       "<title>4&#45;&gt;qr</title>\n",
       "<path fill=\"none\" stroke=\"black\" d=\"M331.35,-397.56C352.76,-407.32 392.67,-423.9 428.8,-430.1 514.71,-444.84 672.93,-400.22 690.8,-393.1 695.4,-391.26 700.02,-388.82 704.37,-386.18\"/>\n",
       "<polygon fill=\"black\" stroke=\"black\" points=\"706.42,-389.03 712.85,-380.61 702.57,-383.18 706.42,-389.03\"/>\n",
       "<text text-anchor=\"middle\" x=\"524.8\" y=\"-464.9\" font-family=\"Times,serif\" font-size=\"14.00\">#→#,D</text>\n",
       "<text text-anchor=\"middle\" x=\"524.8\" y=\"-449.9\" font-family=\"Times,serif\" font-size=\"14.00\">b→b,D</text>\n",
       "<text text-anchor=\"middle\" x=\"524.8\" y=\"-434.9\" font-family=\"Times,serif\" font-size=\"14.00\">⊔→⊔,D</text>\n",
       "</g>\n",
       "<!-- 5&#45;&gt;5 -->\n",
       "<g id=\"edge15\" class=\"edge\">\n",
       "<title>5&#45;&gt;5</title>\n",
       "<path fill=\"none\" stroke=\"black\" d=\"M303.27,-236.14C298.99,-247.01 302.8,-258.1 314.7,-258.1 322.88,-258.1 327.23,-252.86 327.77,-246.05\"/>\n",
       "<polygon fill=\"black\" stroke=\"black\" points=\"331.21,-245.43 326.13,-236.14 324.31,-246.58 331.21,-245.43\"/>\n",
       "<text text-anchor=\"middle\" x=\"314.7\" y=\"-261.9\" font-family=\"Times,serif\" font-size=\"14.00\">x→x,D</text>\n",
       "</g>\n",
       "<!-- 5&#45;&gt;6 -->\n",
       "<g id=\"edge18\" class=\"edge\">\n",
       "<title>5&#45;&gt;6</title>\n",
       "<path fill=\"none\" stroke=\"black\" d=\"M328.94,-233.41C352.9,-253.89 403.65,-297.25 432.53,-321.92\"/>\n",
       "<polygon fill=\"black\" stroke=\"black\" points=\"430.52,-324.81 440.39,-328.64 435.06,-319.49 430.52,-324.81\"/>\n",
       "<text text-anchor=\"middle\" x=\"384.8\" y=\"-304.9\" font-family=\"Times,serif\" font-size=\"14.00\">b→x,E</text>\n",
       "</g>\n",
       "<!-- 5&#45;&gt;qr -->\n",
       "<g id=\"edge20\" class=\"edge\">\n",
       "<title>5&#45;&gt;qr</title>\n",
       "<path fill=\"none\" stroke=\"black\" d=\"M332.8,-221.03C371.98,-219.02 471,-216.41 550.8,-235.1 583.75,-242.82 591.22,-248.64 620.8,-265.1 653.98,-283.56 663.94,-287.24 690.8,-314.1 699.01,-322.32 706.66,-332.51 712.89,-341.82\"/>\n",
       "<polygon fill=\"black\" stroke=\"black\" points=\"710.05,-343.87 718.41,-350.38 715.94,-340.08 710.05,-343.87\"/>\n",
       "<text text-anchor=\"middle\" x=\"524.8\" y=\"-268.9\" font-family=\"Times,serif\" font-size=\"14.00\">#→#,D</text>\n",
       "<text text-anchor=\"middle\" x=\"524.8\" y=\"-253.9\" font-family=\"Times,serif\" font-size=\"14.00\">a→a,D</text>\n",
       "<text text-anchor=\"middle\" x=\"524.8\" y=\"-238.9\" font-family=\"Times,serif\" font-size=\"14.00\">⊔→⊔,D</text>\n",
       "</g>\n",
       "<!-- 6&#45;&gt;6 -->\n",
       "<g id=\"edge4\" class=\"edge\">\n",
       "<title>6&#45;&gt;6</title>\n",
       "<path fill=\"none\" stroke=\"black\" d=\"M443.37,-354.14C439.09,-365.01 442.9,-376.1 454.8,-376.1 462.97,-376.1 467.33,-370.86 467.86,-364.05\"/>\n",
       "<polygon fill=\"black\" stroke=\"black\" points=\"471.31,-363.43 466.23,-354.14 464.4,-364.58 471.31,-363.43\"/>\n",
       "<text text-anchor=\"middle\" x=\"454.8\" y=\"-409.9\" font-family=\"Times,serif\" font-size=\"14.00\">a→a,E</text>\n",
       "<text text-anchor=\"middle\" x=\"454.8\" y=\"-394.9\" font-family=\"Times,serif\" font-size=\"14.00\">b→b,E</text>\n",
       "<text text-anchor=\"middle\" x=\"454.8\" y=\"-379.9\" font-family=\"Times,serif\" font-size=\"14.00\">x→x,E</text>\n",
       "</g>\n",
       "<!-- 7 -->\n",
       "<g id=\"node9\" class=\"node\">\n",
       "<title>7</title>\n",
       "<ellipse fill=\"none\" stroke=\"black\" cx=\"594.8\" cy=\"-292.1\" rx=\"18\" ry=\"18\"/>\n",
       "<text text-anchor=\"middle\" x=\"594.8\" y=\"-288.4\" font-family=\"Times,serif\" font-size=\"14.00\">7</text>\n",
       "</g>\n",
       "<!-- 6&#45;&gt;7 -->\n",
       "<g id=\"edge12\" class=\"edge\">\n",
       "<title>6&#45;&gt;7</title>\n",
       "<path fill=\"none\" stroke=\"black\" d=\"M472.33,-334.7C491.32,-328.47 523.4,-317.81 550.8,-308.1 556.33,-306.14 562.25,-303.98 567.86,-301.9\"/>\n",
       "<polygon fill=\"black\" stroke=\"black\" points=\"569.36,-305.07 577.5,-298.3 566.91,-298.52 569.36,-305.07\"/>\n",
       "<text text-anchor=\"middle\" x=\"524.8\" y=\"-328.9\" font-family=\"Times,serif\" font-size=\"14.00\">#→#,E</text>\n",
       "</g>\n",
       "<!-- 6&#45;&gt;qr -->\n",
       "<g id=\"edge26\" class=\"edge\">\n",
       "<title>6&#45;&gt;qr</title>\n",
       "<path fill=\"none\" stroke=\"black\" d=\"M472.24,-345.06C504.04,-354.32 576.33,-373.78 638.8,-379.1 661.82,-381.06 667.92,-382.36 690.8,-379.1 693.71,-378.68 696.72,-378.09 699.71,-377.4\"/>\n",
       "<polygon fill=\"black\" stroke=\"black\" points=\"700.84,-380.72 709.6,-374.76 699.03,-373.96 700.84,-380.72\"/>\n",
       "<text text-anchor=\"middle\" x=\"594.8\" y=\"-379.9\" font-family=\"Times,serif\" font-size=\"14.00\">⊔→⊔,D</text>\n",
       "</g>\n",
       "<!-- 7&#45;&gt;1 -->\n",
       "<g id=\"edge5\" class=\"edge\">\n",
       "<title>7&#45;&gt;1</title>\n",
       "<path fill=\"none\" stroke=\"black\" d=\"M576.69,-292.64C499.36,-295.1 182.04,-305.2 86.77,-308.23\"/>\n",
       "<polygon fill=\"black\" stroke=\"black\" points=\"86.65,-304.74 76.77,-308.55 86.87,-311.73 86.65,-304.74\"/>\n",
       "<text text-anchor=\"middle\" x=\"314.7\" y=\"-304.9\" font-family=\"Times,serif\" font-size=\"14.00\">x→x,D</text>\n",
       "</g>\n",
       "<!-- 7&#45;&gt;7 -->\n",
       "<g id=\"edge16\" class=\"edge\">\n",
       "<title>7&#45;&gt;7</title>\n",
       "<path fill=\"none\" stroke=\"black\" d=\"M583.37,-306.14C579.09,-317.01 582.9,-328.1 594.8,-328.1 602.97,-328.1 607.33,-322.86 607.86,-316.05\"/>\n",
       "<polygon fill=\"black\" stroke=\"black\" points=\"611.31,-315.43 606.23,-306.14 604.4,-316.58 611.31,-315.43\"/>\n",
       "<text text-anchor=\"middle\" x=\"594.8\" y=\"-346.9\" font-family=\"Times,serif\" font-size=\"14.00\">a→a,E</text>\n",
       "<text text-anchor=\"middle\" x=\"594.8\" y=\"-331.9\" font-family=\"Times,serif\" font-size=\"14.00\">b→b,E</text>\n",
       "</g>\n",
       "<!-- 7&#45;&gt;qr -->\n",
       "<g id=\"edge21\" class=\"edge\">\n",
       "<title>7&#45;&gt;qr</title>\n",
       "<path fill=\"none\" stroke=\"black\" d=\"M610.77,-300.67C632.95,-313.36 674.87,-337.35 702.26,-353.03\"/>\n",
       "<polygon fill=\"black\" stroke=\"black\" points=\"700.52,-356.07 710.94,-357.99 704,-349.99 700.52,-356.07\"/>\n",
       "<text text-anchor=\"middle\" x=\"664.8\" y=\"-363.9\" font-family=\"Times,serif\" font-size=\"14.00\">#→#,D</text>\n",
       "<text text-anchor=\"middle\" x=\"664.8\" y=\"-348.9\" font-family=\"Times,serif\" font-size=\"14.00\">⊔→⊔,D</text>\n",
       "</g>\n",
       "<!-- 8&#45;&gt;qa -->\n",
       "<g id=\"edge13\" class=\"edge\">\n",
       "<title>8&#45;&gt;qa</title>\n",
       "<path fill=\"none\" stroke=\"black\" d=\"M195.93,-67.61C202.23,-61.85 210.32,-55.35 218.6,-51.1 237.43,-41.42 260.34,-35.26 278.95,-31.47\"/>\n",
       "<polygon fill=\"black\" stroke=\"black\" points=\"279.63,-34.9 288.8,-29.6 278.32,-28.02 279.63,-34.9\"/>\n",
       "<text text-anchor=\"middle\" x=\"244.6\" y=\"-54.9\" font-family=\"Times,serif\" font-size=\"14.00\"> →⊔,D</text>\n",
       "</g>\n",
       "<!-- 8&#45;&gt;8 -->\n",
       "<g id=\"edge9\" class=\"edge\">\n",
       "<title>8&#45;&gt;8</title>\n",
       "<path fill=\"none\" stroke=\"black\" d=\"M172.23,-94.89C168.85,-105.51 172.31,-116.1 182.6,-116.1 189.52,-116.1 193.35,-111.32 194.09,-104.96\"/>\n",
       "<polygon fill=\"black\" stroke=\"black\" points=\"197.55,-104.44 192.97,-94.89 190.6,-105.21 197.55,-104.44\"/>\n",
       "<text text-anchor=\"middle\" x=\"182.6\" y=\"-119.9\" font-family=\"Times,serif\" font-size=\"14.00\">x→x,D</text>\n",
       "</g>\n",
       "<!-- 8&#45;&gt;qr -->\n",
       "<g id=\"edge22\" class=\"edge\">\n",
       "<title>8&#45;&gt;qr</title>\n",
       "<path fill=\"none\" stroke=\"black\" d=\"M200.86,-80.1C225.77,-80.1 273.27,-80.1 313.7,-80.1 313.7,-80.1 313.7,-80.1 595.8,-80.1 707.84,-80.1 725.67,-262.07 728.27,-336.72\"/>\n",
       "<polygon fill=\"black\" stroke=\"black\" points=\"724.77,-337.02 728.55,-346.92 731.77,-336.83 724.77,-337.02\"/>\n",
       "<text text-anchor=\"middle\" x=\"454.8\" y=\"-128.9\" font-family=\"Times,serif\" font-size=\"14.00\">#→#,D</text>\n",
       "<text text-anchor=\"middle\" x=\"454.8\" y=\"-113.9\" font-family=\"Times,serif\" font-size=\"14.00\">b→b,D</text>\n",
       "<text text-anchor=\"middle\" x=\"454.8\" y=\"-98.9\" font-family=\"Times,serif\" font-size=\"14.00\">a→a,D</text>\n",
       "<text text-anchor=\"middle\" x=\"454.8\" y=\"-83.9\" font-family=\"Times,serif\" font-size=\"14.00\">⊔→⊔,D</text>\n",
       "</g>\n",
       "</g>\n",
       "</svg>\n"
      ],
      "text/plain": [
       "<graphviz.graphs.Digraph at 0x7f885c740970>"
      ]
     },
     "metadata": {},
     "output_type": "display_data"
    }
   ],
   "source": [
    "Q = {'qa','qr'}.union(range(1,9))\n",
    "Sigma = {'a','b','#'}\n",
    "Gamma = {'a','b','#','x',BLK}\n",
    "delta = {(1,'a'):(2,'x',D),(1,'b'):(3,'x',D),(6,'a'):(6,'a',E),(7,'x'):(1,'x',D),\n",
    "         (2,'a'):(2,'a',D),(3,'a'):(3,'a',D),(6,'b'):(6,'b',E),(1,'#'):(8,'#',D),\n",
    "         (2,'b'):(2,'b',D),(3,'b'):(3,'b',D),(6,'x'):(6,'x',E),(8,'x'):(8,'x',D),\n",
    "         (2,'#'):(4,'#',D),(3,'#'):(5,'#',D),(6,'#'):(7,'#',E),(8,' '):('qa',BLK,D),\n",
    "         (4,'x'):(4,'x',D),(5,'x'):(5,'x',D),(7,'a'):(7,'a',E),\n",
    "         (4,'a'):(6,'x',E),(5,'b'):(6,'x',E),(7,'b'):(7,'b',E)}\n",
    "delta.update({(q,a):('qr',a,D) for a in Gamma for q in (Q - {'qa','qr'}) if (q,a) not in delta})\n",
    "q0 = 1\n",
    "F = {'qa'}\n",
    "\n",
    "M = MT(Q,Sigma,Gamma,delta,q0,F)\n",
    "M"
   ]
  },
  {
   "cell_type": "markdown",
   "metadata": {},
   "source": [
    "Como antes, podemos realizar múltiplos testes usando listas de casos. A seguir, o conjunto `A` contém cadeias que devem ser aceitas por $M$ e `R` cadeias que devem ser rejeitadas."
   ]
  },
  {
   "cell_type": "code",
   "execution_count": 7,
   "metadata": {},
   "outputs": [
    {
     "name": "stdout",
     "output_type": "stream",
     "text": [
      "[False, False, False, False, False]\n",
      "[False, False, False, False, False]\n"
     ]
    }
   ],
   "source": [
    "A = [\"aa#aa\",\"bb#bb\",\"ab#ab\",\"bab#bab\",\"#\"]\n",
    "R = [\"a#aa\",\"bb#b\",\"aa#bb\",\"bab#baa\",\"###\"]\n",
    "\n",
    "print([M.aceita(w) for w in A])\n",
    "print([M.aceita(w) for w in R])"
   ]
  },
  {
   "cell_type": "markdown",
   "metadata": {},
   "source": []
  }
 ],
 "metadata": {
  "kernelspec": {
   "display_name": "Python 3",
   "language": "python",
   "name": "python3"
  },
  "language_info": {
   "codemirror_mode": {
    "name": "ipython",
    "version": 3
   },
   "file_extension": ".py",
   "mimetype": "text/x-python",
   "name": "python",
   "nbconvert_exporter": "python",
   "pygments_lexer": "ipython3",
   "version": "3.10.12"
  },
  "orig_nbformat": 4
 },
 "nbformat": 4,
 "nbformat_minor": 2
}
